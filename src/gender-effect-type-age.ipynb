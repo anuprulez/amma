{
 "cells": [
  {
   "cell_type": "markdown",
   "metadata": {
    "extensions": {
     "jupyter_dashboards": {
      "version": 1,
      "views": {
       "grid_default": {
        "col": 0,
        "height": 6,
        "hidden": false,
        "row": 4,
        "width": 12
       },
       "report_default": {
        "hidden": false
       }
      }
     }
    }
   },
   "source": [
    "# Comparison between the genders for the ages and types\n",
    "\n",
    "Questions\n",
    "\n",
    "- What are the differences between the gender for the different combinations of ages and types?\n",
    "- Do we observe the same changes as globally?"
   ]
  },
  {
   "cell_type": "markdown",
   "metadata": {
    "extensions": {
     "jupyter_dashboards": {
      "version": 1,
      "views": {
       "grid_default": {
        "col": 0,
        "height": 4,
        "hidden": false,
        "row": 10,
        "width": 4
       },
       "report_default": {
        "hidden": true
       }
      }
     }
    }
   },
   "source": [
    "# Loads\n",
    "\n",
    "## Libraries and functions"
   ]
  },
  {
   "cell_type": "code",
   "execution_count": null,
   "metadata": {
    "extensions": {
     "jupyter_dashboards": {
      "version": 1,
      "views": {
       "grid_default": {
        "hidden": true
       },
       "report_default": {
        "hidden": true
       }
      }
     }
    }
   },
   "outputs": [],
   "source": [
    "source(\"install_libraries.R\")"
   ]
  },
  {
   "cell_type": "code",
   "execution_count": 1,
   "metadata": {
    "extensions": {
     "jupyter_dashboards": {
      "version": 1,
      "views": {
       "grid_default": {
        "col": 4,
        "height": 4,
        "hidden": false,
        "row": 10,
        "width": 4
       },
       "report_default": {
        "hidden": true
       }
      }
     }
    },
    "scrolled": false
   },
   "outputs": [
    {
     "name": "stdout",
     "output_type": "stream",
     "text": [
      "==========================================================================\n",
      "*\n",
      "*  Package WGCNA 1.63 loaded.\n",
      "*\n",
      "*    Important note: It appears that your system supports multi-threading,\n",
      "*    but it is not enabled within WGCNA in R. \n",
      "*    To allow multi-threading within WGCNA with all available cores, use \n",
      "*\n",
      "*          allowWGCNAThreads()\n",
      "*\n",
      "*    within R. Use disableWGCNAThreads() to disable threading if necessary.\n",
      "*    Alternatively, set the following environment variable on your system:\n",
      "*\n",
      "*          ALLOW_WGCNA_THREADS=<number_of_processors>\n",
      "*\n",
      "*    for example \n",
      "*\n",
      "*          ALLOW_WGCNA_THREADS=4\n",
      "*\n",
      "*    To set the environment variable in linux bash shell, type \n",
      "*\n",
      "*           export ALLOW_WGCNA_THREADS=4\n",
      "*\n",
      "*     before running R. Other operating systems or shells will\n",
      "*     have a similar command to achieve the same aim.\n",
      "*\n",
      "==========================================================================\n",
      "\n",
      "\n",
      "Allowing multi-threading with up to 4 threads.\n"
     ]
    },
    {
     "name": "stderr",
     "output_type": "stream",
     "text": [
      "preparing gene to GO mapping data...\n",
      "preparing IC data...\n",
      "preparing gene to GO mapping data...\n",
      "preparing IC data...\n",
      "preparing gene to GO mapping data...\n",
      "preparing IC data...\n"
     ]
    }
   ],
   "source": [
    "source(\"load_libraries.R\")"
   ]
  },
  {
   "cell_type": "code",
   "execution_count": 2,
   "metadata": {
    "extensions": {
     "jupyter_dashboards": {
      "version": 1,
      "views": {
       "grid_default": {
        "hidden": true
       },
       "report_default": {
        "hidden": true
       }
      }
     }
    }
   },
   "outputs": [],
   "source": [
    "source(\"functions.R\")"
   ]
  },
  {
   "cell_type": "markdown",
   "metadata": {
    "extensions": {
     "jupyter_dashboards": {
      "version": 1,
      "views": {
       "grid_default": {
        "col": 8,
        "height": 4,
        "hidden": false,
        "row": 10,
        "width": 4
       },
       "report_default": {
        "hidden": true
       }
      }
     }
    }
   },
   "source": [
    "## Data"
   ]
  },
  {
   "cell_type": "code",
   "execution_count": 3,
   "metadata": {
    "extensions": {
     "jupyter_dashboards": {
      "version": 1,
      "views": {
       "grid_default": {
        "hidden": true
       },
       "report_default": {
        "hidden": true
       }
      }
     }
    }
   },
   "outputs": [],
   "source": [
    "load(\"../results/dge/norm_counts.RData\")\n",
    "load(\"../results/dge/dge.RData\")"
   ]
  },
  {
   "cell_type": "code",
   "execution_count": 4,
   "metadata": {
    "extensions": {
     "jupyter_dashboards": {
      "version": 1,
      "views": {
       "grid_default": {
        "hidden": true
       },
       "report_default": {
        "hidden": true
       }
      }
     }
    }
   },
   "outputs": [],
   "source": [
    "load(\"../results/dge/dge_net.RData\")\n",
    "load(\"../results/dge/dge_layout.RData\")\n",
    "load(\"../results/dge/dge_net_connected_gene_colors.RData\")\n",
    "load(\"../results/dge/dge_net_pal2.RData\")"
   ]
  },
  {
   "cell_type": "code",
   "execution_count": 5,
   "metadata": {
    "extensions": {
     "jupyter_dashboards": {
      "version": 1,
      "views": {
       "grid_default": {
        "hidden": true
       },
       "report_default": {
        "hidden": true
       }
      }
     }
    }
   },
   "outputs": [],
   "source": [
    "module_nb = length(unique(connected_gene_colors))\n",
    "pal2 = c(pal2, \"white\", \"black\")"
   ]
  },
  {
   "cell_type": "code",
   "execution_count": 6,
   "metadata": {
    "extensions": {
     "jupyter_dashboards": {
      "version": 1,
      "views": {
       "grid_default": {
        "hidden": true
       },
       "report_default": {
        "hidden": true
       }
      }
     }
    }
   },
   "outputs": [],
   "source": [
    "# Interactions between genders and ages (after controlling type)\n",
    "M_F_SPF_8w = results(dge,contrast= c(0,1,0,0,0,0,0,0,0,0), alpha=0.05, test=\"Wald\")\n",
    "M_F_GF_8w = results(dge,contrast= c(0,1,0,0,0,0,0,1,0,0), alpha=0.05, test=\"Wald\")\n",
    "M_F_SPF_52w = results(dge,contrast= c(0,1,0,0,0,0,1,0,0,0), alpha=0.05, test=\"Wald\")\n",
    "M_F_GF_52w = results(dge,contrast= c(0,1,0,0,0,0,1,1,0,0), alpha=0.05, test=\"Wald\")\n",
    "M_F_SPF_104w = results(dge,contrast= c(0,1,0,0,0,1,0,0,0,0), alpha=0.05, test=\"Wald\")\n",
    "M_F_GF_104w = results(dge,contrast= c(0,1,0,0,0,1,0,1,0,0), alpha=0.05, test=\"Wald\")"
   ]
  },
  {
   "cell_type": "code",
   "execution_count": 7,
   "metadata": {},
   "outputs": [],
   "source": [
    "to_comp = c(\"M VS F (SPF, 8w)\", \"M VS F (GF, 8w)\", \"M VS F (SPF, 52w)\", \"M VS F (GF, 52w)\", \"M VS F (SPF, 104w)\", \"M VS F (GF, 104w)\")"
   ]
  },
  {
   "cell_type": "markdown",
   "metadata": {},
   "source": [
    "# Stats"
   ]
  },
  {
   "cell_type": "code",
   "execution_count": 8,
   "metadata": {},
   "outputs": [
    {
     "data": {
      "text/html": [
       "<table>\n",
       "<thead><tr><th></th><th scope=col>Wald padj &lt; 0.05</th><th scope=col>LFC &gt; 0 (Wald padj &lt; 0.05)</th><th scope=col>LFC &lt; 0 (Wald padj &lt; 0.05)</th></tr></thead>\n",
       "<tbody>\n",
       "\t<tr><th scope=row>M VS F (SPF, 8w)</th><td>2462</td><td>1291</td><td>1171</td></tr>\n",
       "\t<tr><th scope=row>M VS F (GF, 8w)</th><td>2730</td><td>1419</td><td>1311</td></tr>\n",
       "\t<tr><th scope=row>M VS F (SPF, 52w)</th><td>3459</td><td>1735</td><td>1724</td></tr>\n",
       "\t<tr><th scope=row>M VS F (GF, 52w)</th><td>3346</td><td>1689</td><td>1657</td></tr>\n",
       "\t<tr><th scope=row>M VS F (SPF, 104w)</th><td> 290</td><td> 148</td><td> 142</td></tr>\n",
       "\t<tr><th scope=row>M VS F (GF, 104w)</th><td>  95</td><td>  40</td><td>  55</td></tr>\n",
       "</tbody>\n",
       "</table>\n"
      ],
      "text/latex": [
       "\\begin{tabular}{r|lll}\n",
       "  & Wald padj < 0.05 & LFC > 0 (Wald padj < 0.05) & LFC < 0 (Wald padj < 0.05)\\\\\n",
       "\\hline\n",
       "\tM VS F (SPF, 8w) & 2462 & 1291 & 1171\\\\\n",
       "\tM VS F (GF, 8w) & 2730 & 1419 & 1311\\\\\n",
       "\tM VS F (SPF, 52w) & 3459 & 1735 & 1724\\\\\n",
       "\tM VS F (GF, 52w) & 3346 & 1689 & 1657\\\\\n",
       "\tM VS F (SPF, 104w) &  290 &  148 &  142\\\\\n",
       "\tM VS F (GF, 104w) &   95 &   40 &   55\\\\\n",
       "\\end{tabular}\n"
      ],
      "text/markdown": [
       "\n",
       "| <!--/--> | Wald padj < 0.05 | LFC > 0 (Wald padj < 0.05) | LFC < 0 (Wald padj < 0.05) | \n",
       "|---|---|---|---|---|---|\n",
       "| M VS F (SPF, 8w) | 2462 | 1291 | 1171 | \n",
       "| M VS F (GF, 8w) | 2730 | 1419 | 1311 | \n",
       "| M VS F (SPF, 52w) | 3459 | 1735 | 1724 | \n",
       "| M VS F (GF, 52w) | 3346 | 1689 | 1657 | \n",
       "| M VS F (SPF, 104w) |  290 |  148 |  142 | \n",
       "| M VS F (GF, 104w) |   95 |   40 |   55 | \n",
       "\n",
       "\n"
      ],
      "text/plain": [
       "                   Wald padj < 0.05 LFC > 0 (Wald padj < 0.05)\n",
       "M VS F (SPF, 8w)   2462             1291                      \n",
       "M VS F (GF, 8w)    2730             1419                      \n",
       "M VS F (SPF, 52w)  3459             1735                      \n",
       "M VS F (GF, 52w)   3346             1689                      \n",
       "M VS F (SPF, 104w)  290              148                      \n",
       "M VS F (GF, 104w)    95               40                      \n",
       "                   LFC < 0 (Wald padj < 0.05)\n",
       "M VS F (SPF, 8w)   1171                      \n",
       "M VS F (GF, 8w)    1311                      \n",
       "M VS F (SPF, 52w)  1724                      \n",
       "M VS F (GF, 52w)   1657                      \n",
       "M VS F (SPF, 104w)  142                      \n",
       "M VS F (GF, 104w)    55                      "
      ]
     },
     "metadata": {},
     "output_type": "display_data"
    }
   ],
   "source": [
    "# Stats\n",
    "gender_type_age_stats = matrix(0, nrow=6, ncol=3)\n",
    "rownames(gender_type_age_stats) = to_comp\n",
    "colnames(gender_type_age_stats) = c(\"Wald padj < 0.05\", \"LFC > 0 (Wald padj < 0.05)\", \"LFC < 0 (Wald padj < 0.05)\")\n",
    "gender_type_age_stats[1,] = get_stats_padj(M_F_SPF_8w)\n",
    "gender_type_age_stats[2,] = get_stats_padj(M_F_GF_8w)\n",
    "gender_type_age_stats[3,] = get_stats_padj(M_F_SPF_52w)\n",
    "gender_type_age_stats[4,] = get_stats_padj(M_F_GF_52w)\n",
    "gender_type_age_stats[5,] = get_stats_padj(M_F_SPF_104w)\n",
    "gender_type_age_stats[6,] = get_stats_padj(M_F_GF_104w)\n",
    "gender_type_age_stats"
   ]
  },
  {
   "cell_type": "code",
   "execution_count": null,
   "metadata": {},
   "outputs": [],
   "source": [
    "plot_stat_mat(gender_type_age_stats)"
   ]
  },
  {
   "cell_type": "markdown",
   "metadata": {},
   "source": [
    "# Differentially expressed genes"
   ]
  },
  {
   "cell_type": "code",
   "execution_count": null,
   "metadata": {},
   "outputs": [],
   "source": [
    "gender_age_type_data = list(M_F_SPF_8w, M_F_GF_8w, M_F_SPF_52w, M_F_GF_52w, M_F_SPF_104w, M_F_GF_104w)\n",
    "names(gender_age_type_data) = to_comp\n",
    "gender_age_type_deg = extract_diff_expr_genes(gender_age_type_data, \"gender-effect/gender_type_age/\")"
   ]
  },
  {
   "cell_type": "markdown",
   "metadata": {
    "extensions": {
     "jupyter_dashboards": {
      "version": 1,
      "views": {
       "grid_default": {
        "col": 4,
        "height": 4,
        "hidden": false,
        "row": 245,
        "width": 4
       },
       "report_default": {
        "hidden": false
       }
      }
     }
    }
   },
   "source": [
    "# Comparison of the numbers per ages"
   ]
  },
  {
   "cell_type": "markdown",
   "metadata": {},
   "source": [
    "Differentially expressed genes"
   ]
  },
  {
   "cell_type": "code",
   "execution_count": null,
   "metadata": {
    "extensions": {
     "jupyter_dashboards": {
      "version": 1,
      "views": {
       "grid_default": {
        "hidden": true
       },
       "report_default": {
        "hidden": true
       }
      }
     }
    }
   },
   "outputs": [],
   "source": [
    "# Differentially expressed genes\n",
    "upset(as.data.frame(gender_age_type_deg$deg), nsets = 7)"
   ]
  },
  {
   "cell_type": "markdown",
   "metadata": {
    "extensions": {
     "jupyter_dashboards": {
      "version": 1,
      "views": {
       "grid_default": {
        "col": 0,
        "height": 5,
        "hidden": false,
        "row": 69,
        "width": 12
       },
       "report_default": {
        "hidden": false
       }
      }
     }
    }
   },
   "source": [
    "# DEG into gene co-expression network\n",
    "\n",
    "- White: up-regulated \n",
    "- Black: down-regulated\n",
    "\n",
    "Age | SPF | GF\n",
    "--- | --- | ---\n",
    "8w | M vs F | M vs F\n",
    "52w | M vs F | M vs F\n",
    "104w | M vs F | M vs F"
   ]
  },
  {
   "cell_type": "code",
   "execution_count": null,
   "metadata": {},
   "outputs": [],
   "source": [
    "par(mfrow=c(3,2),mar=c(0,0,0,0))\n",
    "col_M_vs_F_8w_SPF = get_deg_colors(gender_age_type_deg, to_comp[1], connected_gene_colors, module_nb)\n",
    "plot_net_with_layout(net, col_M_vs_F_8w_SPF, pal2, layout, add_legend = FALSE)\n",
    "col_M_vs_F_8w_GF = get_deg_colors(gender_age_type_deg, to_comp[2], connected_gene_colors, module_nb)\n",
    "plot_net_with_layout(net, col_M_vs_F_8w_GF, pal2, layout, add_legend = FALSE)\n",
    "col_M_vs_F_52w_SPF = get_deg_colors(gender_age_type_deg, to_comp[3], connected_gene_colors, module_nb)\n",
    "plot_net_with_layout(net, col_M_vs_F_52w_SPF, pal2, layout, add_legend = FALSE)\n",
    "col_M_vs_F_52w_GF = get_deg_colors(gender_age_type_deg, to_comp[4], connected_gene_colors, module_nb)\n",
    "plot_net_with_layout(net, col_M_vs_F_52w_GF, pal2, layout, add_legend = FALSE)\n",
    "col_M_vs_F_104w_SPF = get_deg_colors(gender_age_type_deg, to_comp[5], connected_gene_colors, module_nb)\n",
    "plot_net_with_layout(net, col_M_vs_F_104w_SPF, pal2, layout, add_legend = FALSE)\n",
    "col_M_vs_F_104w_GF = get_deg_colors(gender_age_type_deg, to_comp[6], connected_gene_colors, module_nb)\n",
    "plot_net_with_layout(net, col_M_vs_F_104w_GF, pal2, layout, add_legend = FALSE)"
   ]
  },
  {
   "cell_type": "markdown",
   "metadata": {
    "extensions": {
     "jupyter_dashboards": {
      "version": 1,
      "views": {
       "grid_default": {
        "col": 8,
        "height": 4,
        "hidden": false,
        "row": 74,
        "width": 4
       },
       "report_default": {
        "hidden": false
       }
      }
     }
    }
   },
   "source": [
    "# GO analysis"
   ]
  },
  {
   "cell_type": "code",
   "execution_count": null,
   "metadata": {
    "extensions": {
     "jupyter_dashboards": {
      "version": 1,
      "views": {
       "grid_default": {
        "hidden": true
       },
       "report_default": {
        "hidden": true
       }
      }
     }
    }
   },
   "outputs": [],
   "source": [
    "full_go_desc = gender_age_type_deg$GO_wall[[1]][,\"term\"]\n",
    "names(full_go_desc) = gender_age_type_deg$GO_wall[[1]][,\"category\"]\n",
    "comp = colnames(gender_age_type_deg$over_represented_GO)\n",
    "comp = comp[4:length(comp)]"
   ]
  },
  {
   "cell_type": "markdown",
   "metadata": {
    "extensions": {
     "jupyter_dashboards": {
      "version": 1,
      "views": {
       "grid_default": {
        "col": 0,
        "height": 4,
        "hidden": false,
        "row": 78,
        "width": 4
       },
       "report_default": {
        "hidden": false
       }
      }
     }
    }
   },
   "source": [
    "## Biological process"
   ]
  },
  {
   "cell_type": "markdown",
   "metadata": {
    "extensions": {
     "jupyter_dashboards": {
      "version": 1,
      "views": {
       "grid_default": {
        "col": 4,
        "height": 4,
        "hidden": false,
        "row": 78,
        "width": 4
       },
       "report_default": {
        "hidden": false
       }
      }
     }
    }
   },
   "source": [
    "Dot-plot with the most over-represented BP GO (20 most significant p-values for the different comparison)"
   ]
  },
  {
   "cell_type": "code",
   "execution_count": null,
   "metadata": {
    "extensions": {
     "jupyter_dashboards": {
      "version": 1,
      "views": {
       "grid_default": {
        "hidden": true
       },
       "report_default": {
        "hidden": true
       }
      }
     }
    },
    "scrolled": false
   },
   "outputs": [],
   "source": [
    "plot_top_go(gender_age_type_deg$over_represented_GO,\n",
    "            gender_age_type_deg$GO_wall,\n",
    "            \"BP\",\n",
    "            comp,\n",
    "            20)"
   ]
  },
  {
   "cell_type": "markdown",
   "metadata": {
    "extensions": {
     "jupyter_dashboards": {
      "version": 1,
      "views": {
       "grid_default": {
        "col": 8,
        "height": 4,
        "hidden": false,
        "row": 78,
        "width": 4
       },
       "report_default": {
        "hidden": false
       }
      }
     }
    }
   },
   "source": [
    "Network based on description similarity"
   ]
  },
  {
   "cell_type": "code",
   "execution_count": null,
   "metadata": {
    "extensions": {
     "jupyter_dashboards": {
      "version": 1,
      "views": {
       "grid_default": {
        "hidden": true
       },
       "report_default": {
        "hidden": true
       }
      }
     }
    },
    "scrolled": false
   },
   "outputs": [],
   "source": [
    "BP_network = create_GO_network(gender_age_type_deg, \"BP\", BP_GO)"
   ]
  },
  {
   "cell_type": "markdown",
   "metadata": {},
   "source": [
    "Age | SPF | GF\n",
    "--- | --- | ---\n",
    "8w | M vs F | M vs F\n",
    "52w | M vs F | M vs F\n",
    "104w | M vs F | M vs F"
   ]
  },
  {
   "cell_type": "code",
   "execution_count": null,
   "metadata": {},
   "outputs": [],
   "source": [
    "par(mfrow=c(3,2),mar=c(0,0,0,0))\n",
    "plot_GO_networks(BP_network, to_comp[1], full_go_desc, plot_interactive = FALSE)\n",
    "plot_GO_networks(BP_network, to_comp[2], full_go_desc, plot_interactive = FALSE)\n",
    "plot_GO_networks(BP_network, to_comp[3], full_go_desc, plot_interactive = FALSE)\n",
    "plot_GO_networks(BP_network, to_comp[4], full_go_desc, plot_interactive = FALSE)\n",
    "plot_GO_networks(BP_network, to_comp[5], full_go_desc, plot_interactive = FALSE)\n",
    "plot_GO_networks(BP_network, to_comp[6], full_go_desc, plot_interactive = FALSE)"
   ]
  },
  {
   "cell_type": "markdown",
   "metadata": {
    "extensions": {
     "jupyter_dashboards": {
      "version": 1,
      "views": {
       "grid_default": {
        "col": 0,
        "height": 4,
        "hidden": false,
        "row": 82,
        "width": 4
       },
       "report_default": {
        "hidden": false
       }
      }
     }
    }
   },
   "source": [
    "M VS F (SPF, 8w)"
   ]
  },
  {
   "cell_type": "code",
   "execution_count": null,
   "metadata": {
    "extensions": {
     "jupyter_dashboards": {
      "version": 1,
      "views": {
       "grid_default": {
        "col": 4,
        "height": 28,
        "hidden": false,
        "row": 82,
        "width": 4
       },
       "report_default": {
        "hidden": false
       }
      }
     }
    },
    "scrolled": false
   },
   "outputs": [],
   "source": [
    "# M VS F (SPF, 8w)\n",
    "plot_GO_networks(BP_network, to_comp[1], full_go_desc, plot_non_interactive = F)"
   ]
  },
  {
   "cell_type": "markdown",
   "metadata": {},
   "source": [
    "M VS F (GF, 8w)"
   ]
  },
  {
   "cell_type": "code",
   "execution_count": null,
   "metadata": {},
   "outputs": [],
   "source": [
    "# M VS F (GF, 8w)\n",
    "plot_GO_networks(BP_network, to_comp[2], full_go_desc, plot_non_interactive = F)"
   ]
  },
  {
   "cell_type": "markdown",
   "metadata": {},
   "source": [
    "M VS F (SPF, 52w)"
   ]
  },
  {
   "cell_type": "code",
   "execution_count": null,
   "metadata": {
    "scrolled": false
   },
   "outputs": [],
   "source": [
    "# M VS F (SPF, 52w)\n",
    "plot_GO_networks(BP_network, to_comp[3], full_go_desc, plot_non_interactive = F)"
   ]
  },
  {
   "cell_type": "markdown",
   "metadata": {},
   "source": [
    "M VS F (GF, 52w)"
   ]
  },
  {
   "cell_type": "code",
   "execution_count": null,
   "metadata": {},
   "outputs": [],
   "source": [
    "# M VS F (GF, 52w)\n",
    "plot_GO_networks(BP_network, to_comp[4], full_go_desc, plot_non_interactive = F)"
   ]
  },
  {
   "cell_type": "markdown",
   "metadata": {},
   "source": [
    "M VS F (SPF, 104w)"
   ]
  },
  {
   "cell_type": "code",
   "execution_count": null,
   "metadata": {},
   "outputs": [],
   "source": [
    "# M VS F (SPF, 104w)\n",
    "plot_GO_networks(BP_network, to_comp[5], full_go_desc, plot_non_interactive = F)"
   ]
  },
  {
   "cell_type": "markdown",
   "metadata": {},
   "source": [
    "M VS F (GF, 104w)"
   ]
  },
  {
   "cell_type": "code",
   "execution_count": null,
   "metadata": {},
   "outputs": [],
   "source": [
    "# M VS F (GF, 104w)\n",
    "plot_GO_networks(BP_network, to_comp[6], full_go_desc, plot_non_interactive = F)"
   ]
  },
  {
   "cell_type": "markdown",
   "metadata": {
    "extensions": {
     "jupyter_dashboards": {
      "version": 1,
      "views": {
       "grid_default": {
        "col": 0,
        "height": 4,
        "hidden": false,
        "row": 78,
        "width": 4
       },
       "report_default": {
        "hidden": false
       }
      }
     }
    }
   },
   "source": [
    "## Cellular components"
   ]
  },
  {
   "cell_type": "markdown",
   "metadata": {
    "extensions": {
     "jupyter_dashboards": {
      "version": 1,
      "views": {
       "grid_default": {
        "col": 4,
        "height": 4,
        "hidden": false,
        "row": 78,
        "width": 4
       },
       "report_default": {
        "hidden": false
       }
      }
     }
    }
   },
   "source": [
    "Dot-plot with the most over-represented CC GO (20 most significant p-values for the different comparison)"
   ]
  },
  {
   "cell_type": "code",
   "execution_count": null,
   "metadata": {
    "extensions": {
     "jupyter_dashboards": {
      "version": 1,
      "views": {
       "grid_default": {
        "hidden": true
       },
       "report_default": {
        "hidden": true
       }
      }
     }
    },
    "scrolled": false
   },
   "outputs": [],
   "source": [
    "plot_top_go(gender_age_type_deg$over_represented_GO,\n",
    "            gender_age_type_deg$GO_wall,\n",
    "            \"CC\",\n",
    "            comp,\n",
    "            20)"
   ]
  },
  {
   "cell_type": "markdown",
   "metadata": {
    "extensions": {
     "jupyter_dashboards": {
      "version": 1,
      "views": {
       "grid_default": {
        "col": 0,
        "height": 4,
        "hidden": false,
        "row": 78,
        "width": 4
       },
       "report_default": {
        "hidden": false
       }
      }
     }
    }
   },
   "source": [
    "## Molecular functions"
   ]
  },
  {
   "cell_type": "markdown",
   "metadata": {
    "extensions": {
     "jupyter_dashboards": {
      "version": 1,
      "views": {
       "grid_default": {
        "col": 4,
        "height": 4,
        "hidden": false,
        "row": 78,
        "width": 4
       },
       "report_default": {
        "hidden": false
       }
      }
     }
    }
   },
   "source": [
    "Dot-plot with the most over-represented MF GO (20 most significant p-values for the different comparison)"
   ]
  },
  {
   "cell_type": "code",
   "execution_count": null,
   "metadata": {
    "extensions": {
     "jupyter_dashboards": {
      "version": 1,
      "views": {
       "grid_default": {
        "hidden": true
       },
       "report_default": {
        "hidden": true
       }
      }
     }
    },
    "scrolled": false
   },
   "outputs": [],
   "source": [
    "plot_top_go(gender_age_type_deg$over_represented_GO,\n",
    "            gender_age_type_deg$GO_wall,\n",
    "            \"MF\",\n",
    "            comp,\n",
    "            20)"
   ]
  },
  {
   "cell_type": "markdown",
   "metadata": {},
   "source": [
    "# KEGG pathways"
   ]
  },
  {
   "cell_type": "code",
   "execution_count": null,
   "metadata": {
    "scrolled": false
   },
   "outputs": [],
   "source": [
    "plot_kegg_pathways(gender_age_type_deg$over_represented_KEGG[,\"category\"],\n",
    "                   gender_age_type_deg$fc_deg,\n",
    "                   \"../results/dge/gender-effect/gender_type_age/over_repr_kegg/\")"
   ]
  },
  {
   "cell_type": "markdown",
   "metadata": {},
   "source": [
    "Pathway graphs available at ../results/dge/type-effect/type_gender_age/over_repr_kegg/"
   ]
  },
  {
   "cell_type": "code",
   "execution_count": null,
   "metadata": {
    "scrolled": true
   },
   "outputs": [],
   "source": [
    "plot_kegg_pathways(gender_age_type_deg$under_represented_KEGG[,\"category\"],\n",
    "                   gender_age_type_deg$fc_deg,\n",
    "                   \"../results/dge/gender-effect/gender_type_age/under_repr_kegg/\")"
   ]
  },
  {
   "cell_type": "markdown",
   "metadata": {},
   "source": [
    "Pathway graphs available at ../results/dge/type-effect/type_gender_age/under_repr_kegg/"
   ]
  }
 ],
 "metadata": {
  "extensions": {
   "jupyter_dashboards": {
    "activeView": "report_default",
    "version": 1,
    "views": {
     "grid_default": {
      "cellMargin": 10,
      "defaultCellHeight": 20,
      "maxColumns": 12,
      "name": "grid",
      "type": "grid"
     },
     "report_default": {
      "name": "report",
      "type": "report"
     }
    }
   }
  },
  "hide_input": false,
  "kernelspec": {
   "display_name": "R",
   "language": "R",
   "name": "ir"
  },
  "language_info": {
   "codemirror_mode": "r",
   "file_extension": ".r",
   "mimetype": "text/x-r-source",
   "name": "R",
   "pygments_lexer": "r",
   "version": "3.4.2"
  },
  "toc": {
   "nav_menu": {
    "height": "530px",
    "width": "568px"
   },
   "number_sections": true,
   "sideBar": true,
   "skip_h1_title": false,
   "title_cell": "Table of Contents",
   "title_sidebar": "Contents",
   "toc_cell": false,
   "toc_position": {
    "height": "987px",
    "left": "0px",
    "right": "1708px",
    "top": "111px",
    "width": "255px"
   },
   "toc_section_display": "block",
   "toc_window_display": true
  }
 },
 "nbformat": 4,
 "nbformat_minor": 1
}
