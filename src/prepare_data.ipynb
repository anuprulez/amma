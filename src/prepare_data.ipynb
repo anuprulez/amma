{
 "cells": [
  {
   "cell_type": "code",
   "execution_count": 6,
   "metadata": {
    "scrolled": false
   },
   "outputs": [
    {
     "name": "stderr",
     "output_type": "stream",
     "text": [
      "Warning message in is.na(x[[i]]):\n",
      "“is.na() applied to non-(list or vector) of type 'environment'”Warning message in rsqlite_fetch(res@ptr, n = n):\n",
      "“Don't need to call dbFetch() for statements, only for queries”"
     ]
    },
    {
     "name": "stdout",
     "output_type": "stream",
     "text": [
      "==========================================================================\n",
      "*\n",
      "*  Package WGCNA 1.63 loaded.\n",
      "*\n",
      "*    Important note: It appears that your system supports multi-threading,\n",
      "*    but it is not enabled within WGCNA in R. \n",
      "*    To allow multi-threading within WGCNA with all available cores, use \n",
      "*\n",
      "*          allowWGCNAThreads()\n",
      "*\n",
      "*    within R. Use disableWGCNAThreads() to disable threading if necessary.\n",
      "*    Alternatively, set the following environment variable on your system:\n",
      "*\n",
      "*          ALLOW_WGCNA_THREADS=<number_of_processors>\n",
      "*\n",
      "*    for example \n",
      "*\n",
      "*          ALLOW_WGCNA_THREADS=4\n",
      "*\n",
      "*    To set the environment variable in linux bash shell, type \n",
      "*\n",
      "*           export ALLOW_WGCNA_THREADS=4\n",
      "*\n",
      "*     before running R. Other operating systems or shells will\n",
      "*     have a similar command to achieve the same aim.\n",
      "*\n",
      "==========================================================================\n",
      "\n",
      "\n",
      "Allowing multi-threading with up to 4 threads.\n",
      "[1] \"preparing gene to GO mapping data...\"\n",
      "[1] \"preparing IC data...\"\n",
      "[1] \"preparing gene to GO mapping data...\"\n",
      "[1] \"preparing IC data...\"\n",
      "[1] \"preparing gene to GO mapping data...\"\n",
      "[1] \"preparing IC data...\"\n"
     ]
    }
   ],
   "source": [
    "source(\"load_libraries.R\")"
   ]
  },
  {
   "cell_type": "code",
   "execution_count": 7,
   "metadata": {},
   "outputs": [],
   "source": [
    "source(\"functions.R\")"
   ]
  },
  {
   "cell_type": "markdown",
   "metadata": {},
   "source": [
    "Load the gene length"
   ]
  },
  {
   "cell_type": "code",
   "execution_count": 1,
   "metadata": {},
   "outputs": [],
   "source": [
    "gene_length = read.table(\"../data/gene_length.tabular\", h = F, row.names = 1)\n",
    "save(gene_length, file=\"../results/dge/gene_length.RData\")"
   ]
  },
  {
   "cell_type": "markdown",
   "metadata": {},
   "source": [
    "Load the count table"
   ]
  },
  {
   "cell_type": "code",
   "execution_count": 2,
   "metadata": {},
   "outputs": [],
   "source": [
    "counts = read.table(\"../data/counts.tabular\", sep=\"\\t\", header = 1, row.names=1)"
   ]
  },
  {
   "cell_type": "markdown",
   "metadata": {},
   "source": [
    "Remove the columns with spurious data:\n",
    "- SPF_8w_F_2_2: low mapping rate (70.9%) and assignment rate (31.3%)\n",
    "- SPF_8w_F_5_2: low assignment rate (53.5%)\n",
    "- SPF_8w_M_1_2: low number of assigned reads (14.4)\n",
    "- SPF_52w_F_1_2 ?"
   ]
  },
  {
   "cell_type": "code",
   "execution_count": 3,
   "metadata": {},
   "outputs": [],
   "source": [
    "to_remove = c(\"SPF_8w_F_2_2\", \"SPF_8w_F_5_2\", \"SPF_8w_M_1_2\")\n",
    "counts = counts[,!names(counts) %in% to_remove]"
   ]
  },
  {
   "cell_type": "markdown",
   "metadata": {},
   "source": [
    "Remove the rows with only zeros"
   ]
  },
  {
   "cell_type": "code",
   "execution_count": 4,
   "metadata": {},
   "outputs": [
    {
     "data": {
      "text/html": [
       "24421"
      ],
      "text/latex": [
       "24421"
      ],
      "text/markdown": [
       "24421"
      ],
      "text/plain": [
       "[1] 24421"
      ]
     },
     "metadata": {},
     "output_type": "display_data"
    },
    {
     "data": {
      "text/html": [
       "19694"
      ],
      "text/latex": [
       "19694"
      ],
      "text/markdown": [
       "19694"
      ],
      "text/plain": [
       "[1] 19694"
      ]
     },
     "metadata": {},
     "output_type": "display_data"
    }
   ],
   "source": [
    "nrow(counts)\n",
    "counts = counts[ rowSums(counts) > 1, ]\n",
    "nrow(counts)"
   ]
  },
  {
   "cell_type": "markdown",
   "metadata": {},
   "source": [
    "Rename the genes to be sure there is a map with Entre Gene Identifeies"
   ]
  },
  {
   "cell_type": "code",
   "execution_count": 8,
   "metadata": {},
   "outputs": [
    {
     "data": {
      "text/html": [
       "<dl>\n",
       "\t<dt>$Pzp</dt>\n",
       "\t\t<dd><strong>$`11287`</strong> = 'pregnancy zone protein'</dd>\n",
       "\t<dt>$Aanat</dt>\n",
       "\t\t<dd><strong>$`11298`</strong> = 'arylalkylamine N-acetyltransferase'</dd>\n",
       "\t<dt>$Aatk</dt>\n",
       "\t\t<dd><strong>$`11302`</strong> = 'apoptosis-associated tyrosine kinase'</dd>\n",
       "\t<dt>$Abca1</dt>\n",
       "\t\t<dd><strong>$`11303`</strong> = 'ATP-binding cassette, sub-family A (ABC1), member 1'</dd>\n",
       "\t<dt>$Abca4</dt>\n",
       "\t\t<dd><strong>$`11304`</strong> = 'ATP-binding cassette, sub-family A (ABC1), member 4'</dd>\n",
       "\t<dt>$Abca2</dt>\n",
       "\t\t<dd><strong>$`11305`</strong> = 'ATP-binding cassette, sub-family A (ABC1), member 2'</dd>\n",
       "</dl>\n"
      ],
      "text/latex": [
       "\\begin{description}\n",
       "\\item[\\$Pzp] \\textbf{\\$`11287`} = 'pregnancy zone protein'\n",
       "\\item[\\$Aanat] \\textbf{\\$`11298`} = 'arylalkylamine N-acetyltransferase'\n",
       "\\item[\\$Aatk] \\textbf{\\$`11302`} = 'apoptosis-associated tyrosine kinase'\n",
       "\\item[\\$Abca1] \\textbf{\\$`11303`} = 'ATP-binding cassette, sub-family A (ABC1), member 1'\n",
       "\\item[\\$Abca4] \\textbf{\\$`11304`} = 'ATP-binding cassette, sub-family A (ABC1), member 4'\n",
       "\\item[\\$Abca2] \\textbf{\\$`11305`} = 'ATP-binding cassette, sub-family A (ABC1), member 2'\n",
       "\\end{description}\n"
      ],
      "text/markdown": [
       "$Pzp\n",
       ":   **$`11287`** = 'pregnancy zone protein'\n",
       "$Aanat\n",
       ":   **$`11298`** = 'arylalkylamine N-acetyltransferase'\n",
       "$Aatk\n",
       ":   **$`11302`** = 'apoptosis-associated tyrosine kinase'\n",
       "$Abca1\n",
       ":   **$`11303`** = 'ATP-binding cassette, sub-family A (ABC1), member 1'\n",
       "$Abca4\n",
       ":   **$`11304`** = 'ATP-binding cassette, sub-family A (ABC1), member 4'\n",
       "$Abca2\n",
       ":   **$`11305`** = 'ATP-binding cassette, sub-family A (ABC1), member 2'\n",
       "\n",
       "\n"
      ],
      "text/plain": [
       "$Pzp\n",
       "$Pzp$`11287`\n",
       "[1] \"pregnancy zone protein\"\n",
       "\n",
       "\n",
       "$Aanat\n",
       "$Aanat$`11298`\n",
       "[1] \"arylalkylamine N-acetyltransferase\"\n",
       "\n",
       "\n",
       "$Aatk\n",
       "$Aatk$`11302`\n",
       "[1] \"apoptosis-associated tyrosine kinase\"\n",
       "\n",
       "\n",
       "$Abca1\n",
       "$Abca1$`11303`\n",
       "[1] \"ATP-binding cassette, sub-family A (ABC1), member 1\"\n",
       "\n",
       "\n",
       "$Abca4\n",
       "$Abca4$`11304`\n",
       "[1] \"ATP-binding cassette, sub-family A (ABC1), member 4\"\n",
       "\n",
       "\n",
       "$Abca2\n",
       "$Abca2$`11305`\n",
       "[1] \"ATP-binding cassette, sub-family A (ABC1), member 2\"\n",
       "\n"
      ]
     },
     "metadata": {},
     "output_type": "display_data"
    }
   ],
   "source": [
    "# Map between Entrez Gene Identifiers and Gene Names (and description) \n",
    "eg2name = get_list(org.Mm.egGENENAME)\n",
    "# Map between Gene Symbols and Entrez Gene Identifiers\n",
    "symbol2eg = get_list(org.Mm.egSYMBOL2EG)\n",
    "# Map between RefSeq and Entrez Gene Identifiers\n",
    "refseq2eg = get_list(org.Mm.egREFSEQ2EG)\n",
    "# Map between Gene Symbols and Gene Names (and description)\n",
    "symbol2name = sapply(names(symbol2eg), function(x) return(eg2name[symbol2eg[[x]]]))\n",
    "head(symbol2name)\n",
    "# Map between Entrez Gene Identifiers and KEGG pathways\n",
    "eg2kegg=as.list(org.Mm.egPATH)"
   ]
  },
  {
   "cell_type": "code",
   "execution_count": 9,
   "metadata": {},
   "outputs": [
    {
     "data": {
      "text/html": [
       "231"
      ],
      "text/latex": [
       "231"
      ],
      "text/markdown": [
       "231"
      ],
      "text/plain": [
       "[1] 231"
      ]
     },
     "metadata": {},
     "output_type": "display_data"
    }
   ],
   "source": [
    "# get refseq ids for genes\n",
    "refseq = sapply(rownames(counts), function(x) return(symbol2eg[[x]])) \n",
    "length(refseq[sapply(refseq, is.null)])\n",
    "to_change = names(refseq[sapply(refseq, is.null)])"
   ]
  },
  {
   "cell_type": "code",
   "execution_count": 10,
   "metadata": {},
   "outputs": [],
   "source": [
    "changes = sapply(to_change, search_name)"
   ]
  },
  {
   "cell_type": "code",
   "execution_count": 11,
   "metadata": {},
   "outputs": [],
   "source": [
    "doubled = sapply(names(changes), function(x) return(length(changes[[x]])>1))\n",
    "single = changes[!doubled]\n",
    "duplicated = single %in% rownames(counts)\n",
    "non_duplicated = single[!duplicated]\n",
    "duplicated_2 = duplicated(non_duplicated)\n",
    "replacements = non_duplicated[!duplicated_2]"
   ]
  },
  {
   "cell_type": "code",
   "execution_count": 12,
   "metadata": {
    "scrolled": true
   },
   "outputs": [
    {
     "data": {
      "text/html": [
       "<dl class=dl-horizontal>\n",
       "\t<dt>0610005C13Rik</dt>\n",
       "\t\t<dd>'0610005C13Rik'</dd>\n",
       "\t<dt>0610007P14Rik</dt>\n",
       "\t\t<dd>'0610007P14Rik'</dd>\n",
       "\t<dt>0610009B22Rik</dt>\n",
       "\t\t<dd>'0610009B22Rik'</dd>\n",
       "\t<dt>0610009L18Rik</dt>\n",
       "\t\t<dd>'0610009L18Rik'</dd>\n",
       "\t<dt>0610009O20Rik</dt>\n",
       "\t\t<dd>'0610009O20Rik'</dd>\n",
       "\t<dt>0610010F05Rik</dt>\n",
       "\t\t<dd>'0610010F05Rik'</dd>\n",
       "</dl>\n"
      ],
      "text/latex": [
       "\\begin{description*}\n",
       "\\item[0610005C13Rik] '0610005C13Rik'\n",
       "\\item[0610007P14Rik] '0610007P14Rik'\n",
       "\\item[0610009B22Rik] '0610009B22Rik'\n",
       "\\item[0610009L18Rik] '0610009L18Rik'\n",
       "\\item[0610009O20Rik] '0610009O20Rik'\n",
       "\\item[0610010F05Rik] '0610010F05Rik'\n",
       "\\end{description*}\n"
      ],
      "text/markdown": [
       "0610005C13Rik\n",
       ":   '0610005C13Rik'0610007P14Rik\n",
       ":   '0610007P14Rik'0610009B22Rik\n",
       ":   '0610009B22Rik'0610009L18Rik\n",
       ":   '0610009L18Rik'0610009O20Rik\n",
       ":   '0610009O20Rik'0610010F05Rik\n",
       ":   '0610010F05Rik'\n",
       "\n"
      ],
      "text/plain": [
       "  0610005C13Rik   0610007P14Rik   0610009B22Rik   0610009L18Rik   0610009O20Rik \n",
       "\"0610005C13Rik\" \"0610007P14Rik\" \"0610009B22Rik\" \"0610009L18Rik\" \"0610009O20Rik\" \n",
       "  0610010F05Rik \n",
       "\"0610010F05Rik\" "
      ]
     },
     "metadata": {},
     "output_type": "display_data"
    }
   ],
   "source": [
    "# Fix name of the some genes (identified if no Entrez id found for them and with new names found)\n",
    "replacements = unlist(replacements)\n",
    "#rownames(counts)[rownames(counts) == \"1700112E06Rik\"] = \"Lrmda\"\n",
    "new_names = rownames(counts)\n",
    "names(new_names) = rownames(counts)\n",
    "new_names[names(replacements)] = replacements\n",
    "head(new_names)"
   ]
  },
  {
   "cell_type": "code",
   "execution_count": 13,
   "metadata": {},
   "outputs": [],
   "source": [
    "gene_length = gene_length[rownames(counts),]\n",
    "rownames(counts) = new_names\n",
    "names(gene_length) = new_names\n",
    "save(counts, file=\"../results/dge/prepared_counts.RData\")"
   ]
  },
  {
   "cell_type": "code",
   "execution_count": 14,
   "metadata": {},
   "outputs": [
    {
     "data": {
      "text/html": [
       "28"
      ],
      "text/latex": [
       "28"
      ],
      "text/markdown": [
       "28"
      ],
      "text/plain": [
       "[1] 28"
      ]
     },
     "metadata": {},
     "output_type": "display_data"
    }
   ],
   "source": [
    "refseq_check = sapply(rownames(counts), function(x) return(symbol2eg[[x]])) \n",
    "length(refseq[sapply(refseq_check, is.null)])"
   ]
  },
  {
   "cell_type": "markdown",
   "metadata": {},
   "source": [
    "Extract the metadata"
   ]
  },
  {
   "cell_type": "code",
   "execution_count": 15,
   "metadata": {},
   "outputs": [
    {
     "data": {
      "text/html": [
       "<table>\n",
       "<thead><tr><th></th><th scope=col>Sample.name.prefix</th><th scope=col>Group</th><th scope=col>Age</th><th scope=col>Gender</th><th scope=col>Project.id</th><th scope=col>Lane</th><th scope=col>Replicate</th><th scope=col>Name.in.project</th><th scope=col>X..Reads</th></tr></thead>\n",
       "<tbody>\n",
       "\t<tr><th scope=row>GF_52w_M_1</th><td>GF_52w_M           </td><td>GF                 </td><td>52w                </td><td>M                  </td><td>Project_148        </td><td>2                  </td><td>1                  </td><td>Sample_Mg_GF1_old  </td><td>35,713,942.00      </td></tr>\n",
       "\t<tr><th scope=row>GF_8w_M_1</th><td>GF_8w_M            </td><td>GF                 </td><td>8w                 </td><td>M                  </td><td>Project_148        </td><td>2                  </td><td>1                  </td><td>Sample_Mg_GF1_young</td><td>25,919,398.00      </td></tr>\n",
       "\t<tr><th scope=row>GF_52w_M_2</th><td>GF_52w_M           </td><td>GF                 </td><td>52w                </td><td>M                  </td><td>Project_148        </td><td>2                  </td><td>2                  </td><td>Sample_Mg_GF2_old  </td><td>29,752,263.00      </td></tr>\n",
       "\t<tr><th scope=row>GF_8w_M_2</th><td>GF_8w_M            </td><td>GF                 </td><td>8w                 </td><td>M                  </td><td>Project_148        </td><td>2                  </td><td>2                  </td><td>Sample_Mg_GF2_young</td><td>24,133,081.00      </td></tr>\n",
       "\t<tr><th scope=row>GF_52w_M_3</th><td>GF_52w_M           </td><td>GF                 </td><td>52w                </td><td>M                  </td><td>Project_148        </td><td>3                  </td><td>3                  </td><td>Sample_Mg_GF3_old  </td><td>26,395,568.00      </td></tr>\n",
       "\t<tr><th scope=row>GF_8w_M_3</th><td>GF_8w_M            </td><td>GF                 </td><td>8w                 </td><td>M                  </td><td>Project_148        </td><td>1                  </td><td>3                  </td><td>Sample_Mg_GF3_young</td><td>33,992,780.00      </td></tr>\n",
       "</tbody>\n",
       "</table>\n"
      ],
      "text/latex": [
       "\\begin{tabular}{r|lllllllll}\n",
       "  & Sample.name.prefix & Group & Age & Gender & Project.id & Lane & Replicate & Name.in.project & X..Reads\\\\\n",
       "\\hline\n",
       "\tGF\\_52w\\_M\\_1 & GF\\_52w\\_M              & GF                        & 52w                       & M                         & Project\\_148             & 2                         & 1                         & Sample\\_Mg\\_GF1\\_old   & 35,713,942.00            \\\\\n",
       "\tGF\\_8w\\_M\\_1 & GF\\_8w\\_M               & GF                        & 8w                        & M                         & Project\\_148             & 2                         & 1                         & Sample\\_Mg\\_GF1\\_young & 25,919,398.00            \\\\\n",
       "\tGF\\_52w\\_M\\_2 & GF\\_52w\\_M              & GF                        & 52w                       & M                         & Project\\_148             & 2                         & 2                         & Sample\\_Mg\\_GF2\\_old   & 29,752,263.00            \\\\\n",
       "\tGF\\_8w\\_M\\_2 & GF\\_8w\\_M               & GF                        & 8w                        & M                         & Project\\_148             & 2                         & 2                         & Sample\\_Mg\\_GF2\\_young & 24,133,081.00            \\\\\n",
       "\tGF\\_52w\\_M\\_3 & GF\\_52w\\_M              & GF                        & 52w                       & M                         & Project\\_148             & 3                         & 3                         & Sample\\_Mg\\_GF3\\_old   & 26,395,568.00            \\\\\n",
       "\tGF\\_8w\\_M\\_3 & GF\\_8w\\_M               & GF                        & 8w                        & M                         & Project\\_148             & 1                         & 3                         & Sample\\_Mg\\_GF3\\_young & 33,992,780.00            \\\\\n",
       "\\end{tabular}\n"
      ],
      "text/markdown": [
       "\n",
       "| <!--/--> | Sample.name.prefix | Group | Age | Gender | Project.id | Lane | Replicate | Name.in.project | X..Reads | \n",
       "|---|---|---|---|---|---|\n",
       "| GF_52w_M_1 | GF_52w_M            | GF                  | 52w                 | M                   | Project_148         | 2                   | 1                   | Sample_Mg_GF1_old   | 35,713,942.00       | \n",
       "| GF_8w_M_1 | GF_8w_M             | GF                  | 8w                  | M                   | Project_148         | 2                   | 1                   | Sample_Mg_GF1_young | 25,919,398.00       | \n",
       "| GF_52w_M_2 | GF_52w_M            | GF                  | 52w                 | M                   | Project_148         | 2                   | 2                   | Sample_Mg_GF2_old   | 29,752,263.00       | \n",
       "| GF_8w_M_2 | GF_8w_M             | GF                  | 8w                  | M                   | Project_148         | 2                   | 2                   | Sample_Mg_GF2_young | 24,133,081.00       | \n",
       "| GF_52w_M_3 | GF_52w_M            | GF                  | 52w                 | M                   | Project_148         | 3                   | 3                   | Sample_Mg_GF3_old   | 26,395,568.00       | \n",
       "| GF_8w_M_3 | GF_8w_M             | GF                  | 8w                  | M                   | Project_148         | 1                   | 3                   | Sample_Mg_GF3_young | 33,992,780.00       | \n",
       "\n",
       "\n"
      ],
      "text/plain": [
       "           Sample.name.prefix Group Age Gender Project.id  Lane Replicate\n",
       "GF_52w_M_1 GF_52w_M           GF    52w M      Project_148 2    1        \n",
       "GF_8w_M_1  GF_8w_M            GF    8w  M      Project_148 2    1        \n",
       "GF_52w_M_2 GF_52w_M           GF    52w M      Project_148 2    2        \n",
       "GF_8w_M_2  GF_8w_M            GF    8w  M      Project_148 2    2        \n",
       "GF_52w_M_3 GF_52w_M           GF    52w M      Project_148 3    3        \n",
       "GF_8w_M_3  GF_8w_M            GF    8w  M      Project_148 1    3        \n",
       "           Name.in.project     X..Reads     \n",
       "GF_52w_M_1 Sample_Mg_GF1_old   35,713,942.00\n",
       "GF_8w_M_1  Sample_Mg_GF1_young 25,919,398.00\n",
       "GF_52w_M_2 Sample_Mg_GF2_old   29,752,263.00\n",
       "GF_8w_M_2  Sample_Mg_GF2_young 24,133,081.00\n",
       "GF_52w_M_3 Sample_Mg_GF3_old   26,395,568.00\n",
       "GF_8w_M_3  Sample_Mg_GF3_young 33,992,780.00"
      ]
     },
     "metadata": {},
     "output_type": "display_data"
    }
   ],
   "source": [
    "file_desc = read.csv(\"../data/file_description.csv\", row.names = 1)\n",
    "file_desc = head(file_desc,-6)\n",
    "file_desc = file_desc[!rownames(file_desc) %in% c(\"SPF_8w_F_2\"), ]\n",
    "file_desc$\"Lane\" = gsub(\" & \", \"_\",file_desc$\"Lane\")\n",
    "file_desc$\"Lane\" = gsub(\" \", \"1\",file_desc$\"Lane\")\n",
    "head(file_desc)"
   ]
  },
  {
   "cell_type": "code",
   "execution_count": 16,
   "metadata": {
    "scrolled": false
   },
   "outputs": [
    {
     "data": {
      "text/html": [
       "<table>\n",
       "<thead><tr><th></th><th scope=col>type</th><th scope=col>age</th><th scope=col>gender</th><th scope=col>project</th></tr></thead>\n",
       "<tbody>\n",
       "\t<tr><th scope=row>GF_104w_F_1_2</th><td>GF  </td><td>104w</td><td>F   </td><td>S264</td></tr>\n",
       "\t<tr><th scope=row>GF_104w_F_2_2</th><td>GF  </td><td>104w</td><td>F   </td><td>S264</td></tr>\n",
       "\t<tr><th scope=row>GF_104w_F_3_2</th><td>GF  </td><td>104w</td><td>F   </td><td>S264</td></tr>\n",
       "\t<tr><th scope=row>GF_104w_M_1_2</th><td>GF  </td><td>104w</td><td>M   </td><td>S264</td></tr>\n",
       "\t<tr><th scope=row>GF_104w_M_2_2</th><td>GF  </td><td>104w</td><td>M   </td><td>S264</td></tr>\n",
       "\t<tr><th scope=row>GF_52w_M_1_2</th><td>GF  </td><td>52w </td><td>M   </td><td>S148</td></tr>\n",
       "\t<tr><th scope=row>GF_52w_M_2_2</th><td>GF  </td><td>52w </td><td>M   </td><td>S148</td></tr>\n",
       "\t<tr><th scope=row>GF_52w_M_3_2</th><td>GF  </td><td>52w </td><td>M   </td><td>S148</td></tr>\n",
       "\t<tr><th scope=row>GF_52w_M_4_2</th><td>GF  </td><td>52w </td><td>M   </td><td>S148</td></tr>\n",
       "\t<tr><th scope=row>GF_8w_M_1_2</th><td>GF  </td><td>8w  </td><td>M   </td><td>S148</td></tr>\n",
       "\t<tr><th scope=row>GF_8w_M_2_2</th><td>GF  </td><td>8w  </td><td>M   </td><td>S148</td></tr>\n",
       "\t<tr><th scope=row>GF_8w_M_3_2</th><td>GF  </td><td>8w  </td><td>M   </td><td>S148</td></tr>\n",
       "\t<tr><th scope=row>GF_8w_M_4_2</th><td>GF  </td><td>8w  </td><td>M   </td><td>S148</td></tr>\n",
       "\t<tr><th scope=row>SPF_104w_F_1_2</th><td>SPF </td><td>104w</td><td>F   </td><td>S174</td></tr>\n",
       "\t<tr><th scope=row>SPF_104w_F_2_2</th><td>SPF </td><td>104w</td><td>F   </td><td>S174</td></tr>\n",
       "\t<tr><th scope=row>SPF_104w_F_3_2</th><td>SPF </td><td>104w</td><td>F   </td><td>S174</td></tr>\n",
       "\t<tr><th scope=row>SPF_104w_M_1_2</th><td>SPF </td><td>104w</td><td>M   </td><td>S174</td></tr>\n",
       "\t<tr><th scope=row>SPF_104w_M_2_2</th><td>SPF </td><td>104w</td><td>M   </td><td>S174</td></tr>\n",
       "\t<tr><th scope=row>SPF_104w_M_3_2</th><td>SPF </td><td>104w</td><td>M   </td><td>S174</td></tr>\n",
       "\t<tr><th scope=row>SPF_104w_M_4_2</th><td>SPF </td><td>104w</td><td>M   </td><td>S174</td></tr>\n",
       "\t<tr><th scope=row>SPF_52w_M_1_2</th><td>SPF </td><td>52w </td><td>M   </td><td>S148</td></tr>\n",
       "\t<tr><th scope=row>SPF_52w_M_2_2</th><td>SPF </td><td>52w </td><td>M   </td><td>S148</td></tr>\n",
       "\t<tr><th scope=row>SPF_52w_M_3_2</th><td>SPF </td><td>52w </td><td>M   </td><td>S148</td></tr>\n",
       "\t<tr><th scope=row>SPF_52w_M_4_2</th><td>SPF </td><td>52w </td><td>M   </td><td>S148</td></tr>\n",
       "\t<tr><th scope=row>SPF_52w_M_5_2</th><td>SPF </td><td>52w </td><td>M   </td><td>S148</td></tr>\n",
       "\t<tr><th scope=row>SPF_8w_M_2_2</th><td>SPF </td><td>8w  </td><td>M   </td><td>S148</td></tr>\n",
       "\t<tr><th scope=row>SPF_8w_M_3_2</th><td>SPF </td><td>8w  </td><td>M   </td><td>S148</td></tr>\n",
       "\t<tr><th scope=row>SPF_8w_M_4_2</th><td>SPF </td><td>8w  </td><td>M   </td><td>S148</td></tr>\n",
       "\t<tr><th scope=row>GF_52w_F_1_2</th><td>GF  </td><td>52w </td><td>F   </td><td>S178</td></tr>\n",
       "\t<tr><th scope=row>GF_52w_F_2_2</th><td>GF  </td><td>52w </td><td>F   </td><td>S178</td></tr>\n",
       "\t<tr><th scope=row>⋮</th><td>⋮</td><td>⋮</td><td>⋮</td><td>⋮</td></tr>\n",
       "\t<tr><th scope=row>GF_52w_F_4_2</th><td>GF  </td><td>52w </td><td>F   </td><td>S178</td></tr>\n",
       "\t<tr><th scope=row>GF_52w_F_5_2</th><td>GF  </td><td>52w </td><td>F   </td><td>S178</td></tr>\n",
       "\t<tr><th scope=row>GF_52w_F_6_2</th><td>GF  </td><td>52w </td><td>F   </td><td>S178</td></tr>\n",
       "\t<tr><th scope=row>SPF_52w_F_1_2</th><td>SPF </td><td>52w </td><td>F   </td><td>S178</td></tr>\n",
       "\t<tr><th scope=row>SPF_52w_F_2_2</th><td>SPF </td><td>52w </td><td>F   </td><td>S178</td></tr>\n",
       "\t<tr><th scope=row>SPF_52w_F_3_2</th><td>SPF </td><td>52w </td><td>F   </td><td>S178</td></tr>\n",
       "\t<tr><th scope=row>SPF_52w_F_4_2</th><td>SPF </td><td>52w </td><td>F   </td><td>S178</td></tr>\n",
       "\t<tr><th scope=row>SPF_52w_F_5_2</th><td>SPF </td><td>52w </td><td>F   </td><td>S178</td></tr>\n",
       "\t<tr><th scope=row>SPF_52w_F_6_2</th><td>SPF </td><td>52w </td><td>F   </td><td>S178</td></tr>\n",
       "\t<tr><th scope=row>SPF_104w_M_5_2</th><td>SPF </td><td>104w</td><td>M   </td><td>S198</td></tr>\n",
       "\t<tr><th scope=row>SPF_104w_M_6_2</th><td>SPF </td><td>104w</td><td>M   </td><td>S198</td></tr>\n",
       "\t<tr><th scope=row>SPF_104w_M_7_2</th><td>SPF </td><td>104w</td><td>M   </td><td>S198</td></tr>\n",
       "\t<tr><th scope=row>SPF_104w_M_8_2</th><td>SPF </td><td>104w</td><td>M   </td><td>S198</td></tr>\n",
       "\t<tr><th scope=row>SPF_104w_M_9_2</th><td>SPF </td><td>104w</td><td>M   </td><td>S198</td></tr>\n",
       "\t<tr><th scope=row>SPF_104w_M_10_2</th><td>SPF </td><td>104w</td><td>M   </td><td>S198</td></tr>\n",
       "\t<tr><th scope=row>SPF_104w_M_11_2</th><td>SPF </td><td>104w</td><td>M   </td><td>S198</td></tr>\n",
       "\t<tr><th scope=row>SPF_104w_M_12_2</th><td>SPF </td><td>104w</td><td>M   </td><td>S198</td></tr>\n",
       "\t<tr><th scope=row>SPF_104w_M_13_2</th><td>SPF </td><td>104w</td><td>M   </td><td>S198</td></tr>\n",
       "\t<tr><th scope=row>SPF_104w_M_14_2</th><td>SPF </td><td>104w</td><td>M   </td><td>S198</td></tr>\n",
       "\t<tr><th scope=row>SPF_8w_F_1_2</th><td>SPF </td><td>8w  </td><td>F   </td><td>S225</td></tr>\n",
       "\t<tr><th scope=row>SPF_8w_F_3_2</th><td>SPF </td><td>8w  </td><td>F   </td><td>S225</td></tr>\n",
       "\t<tr><th scope=row>SPF_8w_F_4_2</th><td>SPF </td><td>8w  </td><td>F   </td><td>S225</td></tr>\n",
       "\t<tr><th scope=row>GF_8w_F_1_2</th><td>GF  </td><td>8w  </td><td>F   </td><td>S225</td></tr>\n",
       "\t<tr><th scope=row>GF_8w_F_2_2</th><td>GF  </td><td>8w  </td><td>F   </td><td>S225</td></tr>\n",
       "\t<tr><th scope=row>GF_8w_F_3_2</th><td>GF  </td><td>8w  </td><td>F   </td><td>S225</td></tr>\n",
       "\t<tr><th scope=row>GF_8w_F_4_2</th><td>GF  </td><td>8w  </td><td>F   </td><td>S225</td></tr>\n",
       "\t<tr><th scope=row>GF_8w_F_5_2</th><td>GF  </td><td>8w  </td><td>F   </td><td>S225</td></tr>\n",
       "\t<tr><th scope=row>GF_104w_M_3_2</th><td>GF  </td><td>104w</td><td>M   </td><td>S288</td></tr>\n",
       "\t<tr><th scope=row>GF_104w_M_5_2</th><td>GF  </td><td>104w</td><td>M   </td><td>S288</td></tr>\n",
       "\t<tr><th scope=row>GF_104w_M_4_2</th><td>GF  </td><td>104w</td><td>M   </td><td>S288</td></tr>\n",
       "</tbody>\n",
       "</table>\n"
      ],
      "text/latex": [
       "\\begin{tabular}{r|llll}\n",
       "  & type & age & gender & project\\\\\n",
       "\\hline\n",
       "\tGF\\_104w\\_F\\_1\\_2 & GF   & 104w & F    & S264\\\\\n",
       "\tGF\\_104w\\_F\\_2\\_2 & GF   & 104w & F    & S264\\\\\n",
       "\tGF\\_104w\\_F\\_3\\_2 & GF   & 104w & F    & S264\\\\\n",
       "\tGF\\_104w\\_M\\_1\\_2 & GF   & 104w & M    & S264\\\\\n",
       "\tGF\\_104w\\_M\\_2\\_2 & GF   & 104w & M    & S264\\\\\n",
       "\tGF\\_52w\\_M\\_1\\_2 & GF   & 52w  & M    & S148\\\\\n",
       "\tGF\\_52w\\_M\\_2\\_2 & GF   & 52w  & M    & S148\\\\\n",
       "\tGF\\_52w\\_M\\_3\\_2 & GF   & 52w  & M    & S148\\\\\n",
       "\tGF\\_52w\\_M\\_4\\_2 & GF   & 52w  & M    & S148\\\\\n",
       "\tGF\\_8w\\_M\\_1\\_2 & GF   & 8w   & M    & S148\\\\\n",
       "\tGF\\_8w\\_M\\_2\\_2 & GF   & 8w   & M    & S148\\\\\n",
       "\tGF\\_8w\\_M\\_3\\_2 & GF   & 8w   & M    & S148\\\\\n",
       "\tGF\\_8w\\_M\\_4\\_2 & GF   & 8w   & M    & S148\\\\\n",
       "\tSPF\\_104w\\_F\\_1\\_2 & SPF  & 104w & F    & S174\\\\\n",
       "\tSPF\\_104w\\_F\\_2\\_2 & SPF  & 104w & F    & S174\\\\\n",
       "\tSPF\\_104w\\_F\\_3\\_2 & SPF  & 104w & F    & S174\\\\\n",
       "\tSPF\\_104w\\_M\\_1\\_2 & SPF  & 104w & M    & S174\\\\\n",
       "\tSPF\\_104w\\_M\\_2\\_2 & SPF  & 104w & M    & S174\\\\\n",
       "\tSPF\\_104w\\_M\\_3\\_2 & SPF  & 104w & M    & S174\\\\\n",
       "\tSPF\\_104w\\_M\\_4\\_2 & SPF  & 104w & M    & S174\\\\\n",
       "\tSPF\\_52w\\_M\\_1\\_2 & SPF  & 52w  & M    & S148\\\\\n",
       "\tSPF\\_52w\\_M\\_2\\_2 & SPF  & 52w  & M    & S148\\\\\n",
       "\tSPF\\_52w\\_M\\_3\\_2 & SPF  & 52w  & M    & S148\\\\\n",
       "\tSPF\\_52w\\_M\\_4\\_2 & SPF  & 52w  & M    & S148\\\\\n",
       "\tSPF\\_52w\\_M\\_5\\_2 & SPF  & 52w  & M    & S148\\\\\n",
       "\tSPF\\_8w\\_M\\_2\\_2 & SPF  & 8w   & M    & S148\\\\\n",
       "\tSPF\\_8w\\_M\\_3\\_2 & SPF  & 8w   & M    & S148\\\\\n",
       "\tSPF\\_8w\\_M\\_4\\_2 & SPF  & 8w   & M    & S148\\\\\n",
       "\tGF\\_52w\\_F\\_1\\_2 & GF   & 52w  & F    & S178\\\\\n",
       "\tGF\\_52w\\_F\\_2\\_2 & GF   & 52w  & F    & S178\\\\\n",
       "\t⋮ & ⋮ & ⋮ & ⋮ & ⋮\\\\\n",
       "\tGF\\_52w\\_F\\_4\\_2 & GF   & 52w  & F    & S178\\\\\n",
       "\tGF\\_52w\\_F\\_5\\_2 & GF   & 52w  & F    & S178\\\\\n",
       "\tGF\\_52w\\_F\\_6\\_2 & GF   & 52w  & F    & S178\\\\\n",
       "\tSPF\\_52w\\_F\\_1\\_2 & SPF  & 52w  & F    & S178\\\\\n",
       "\tSPF\\_52w\\_F\\_2\\_2 & SPF  & 52w  & F    & S178\\\\\n",
       "\tSPF\\_52w\\_F\\_3\\_2 & SPF  & 52w  & F    & S178\\\\\n",
       "\tSPF\\_52w\\_F\\_4\\_2 & SPF  & 52w  & F    & S178\\\\\n",
       "\tSPF\\_52w\\_F\\_5\\_2 & SPF  & 52w  & F    & S178\\\\\n",
       "\tSPF\\_52w\\_F\\_6\\_2 & SPF  & 52w  & F    & S178\\\\\n",
       "\tSPF\\_104w\\_M\\_5\\_2 & SPF  & 104w & M    & S198\\\\\n",
       "\tSPF\\_104w\\_M\\_6\\_2 & SPF  & 104w & M    & S198\\\\\n",
       "\tSPF\\_104w\\_M\\_7\\_2 & SPF  & 104w & M    & S198\\\\\n",
       "\tSPF\\_104w\\_M\\_8\\_2 & SPF  & 104w & M    & S198\\\\\n",
       "\tSPF\\_104w\\_M\\_9\\_2 & SPF  & 104w & M    & S198\\\\\n",
       "\tSPF\\_104w\\_M\\_10\\_2 & SPF  & 104w & M    & S198\\\\\n",
       "\tSPF\\_104w\\_M\\_11\\_2 & SPF  & 104w & M    & S198\\\\\n",
       "\tSPF\\_104w\\_M\\_12\\_2 & SPF  & 104w & M    & S198\\\\\n",
       "\tSPF\\_104w\\_M\\_13\\_2 & SPF  & 104w & M    & S198\\\\\n",
       "\tSPF\\_104w\\_M\\_14\\_2 & SPF  & 104w & M    & S198\\\\\n",
       "\tSPF\\_8w\\_F\\_1\\_2 & SPF  & 8w   & F    & S225\\\\\n",
       "\tSPF\\_8w\\_F\\_3\\_2 & SPF  & 8w   & F    & S225\\\\\n",
       "\tSPF\\_8w\\_F\\_4\\_2 & SPF  & 8w   & F    & S225\\\\\n",
       "\tGF\\_8w\\_F\\_1\\_2 & GF   & 8w   & F    & S225\\\\\n",
       "\tGF\\_8w\\_F\\_2\\_2 & GF   & 8w   & F    & S225\\\\\n",
       "\tGF\\_8w\\_F\\_3\\_2 & GF   & 8w   & F    & S225\\\\\n",
       "\tGF\\_8w\\_F\\_4\\_2 & GF   & 8w   & F    & S225\\\\\n",
       "\tGF\\_8w\\_F\\_5\\_2 & GF   & 8w   & F    & S225\\\\\n",
       "\tGF\\_104w\\_M\\_3\\_2 & GF   & 104w & M    & S288\\\\\n",
       "\tGF\\_104w\\_M\\_5\\_2 & GF   & 104w & M    & S288\\\\\n",
       "\tGF\\_104w\\_M\\_4\\_2 & GF   & 104w & M    & S288\\\\\n",
       "\\end{tabular}\n"
      ],
      "text/markdown": [
       "\n",
       "| <!--/--> | type | age | gender | project | \n",
       "|---|---|---|---|---|---|---|---|---|---|---|---|---|---|---|---|---|---|---|---|---|---|---|---|---|---|---|---|---|---|---|---|---|---|---|---|---|---|---|---|---|---|---|---|---|---|---|---|---|---|---|---|---|---|---|---|---|---|---|---|---|\n",
       "| GF_104w_F_1_2 | GF   | 104w | F    | S264 | \n",
       "| GF_104w_F_2_2 | GF   | 104w | F    | S264 | \n",
       "| GF_104w_F_3_2 | GF   | 104w | F    | S264 | \n",
       "| GF_104w_M_1_2 | GF   | 104w | M    | S264 | \n",
       "| GF_104w_M_2_2 | GF   | 104w | M    | S264 | \n",
       "| GF_52w_M_1_2 | GF   | 52w  | M    | S148 | \n",
       "| GF_52w_M_2_2 | GF   | 52w  | M    | S148 | \n",
       "| GF_52w_M_3_2 | GF   | 52w  | M    | S148 | \n",
       "| GF_52w_M_4_2 | GF   | 52w  | M    | S148 | \n",
       "| GF_8w_M_1_2 | GF   | 8w   | M    | S148 | \n",
       "| GF_8w_M_2_2 | GF   | 8w   | M    | S148 | \n",
       "| GF_8w_M_3_2 | GF   | 8w   | M    | S148 | \n",
       "| GF_8w_M_4_2 | GF   | 8w   | M    | S148 | \n",
       "| SPF_104w_F_1_2 | SPF  | 104w | F    | S174 | \n",
       "| SPF_104w_F_2_2 | SPF  | 104w | F    | S174 | \n",
       "| SPF_104w_F_3_2 | SPF  | 104w | F    | S174 | \n",
       "| SPF_104w_M_1_2 | SPF  | 104w | M    | S174 | \n",
       "| SPF_104w_M_2_2 | SPF  | 104w | M    | S174 | \n",
       "| SPF_104w_M_3_2 | SPF  | 104w | M    | S174 | \n",
       "| SPF_104w_M_4_2 | SPF  | 104w | M    | S174 | \n",
       "| SPF_52w_M_1_2 | SPF  | 52w  | M    | S148 | \n",
       "| SPF_52w_M_2_2 | SPF  | 52w  | M    | S148 | \n",
       "| SPF_52w_M_3_2 | SPF  | 52w  | M    | S148 | \n",
       "| SPF_52w_M_4_2 | SPF  | 52w  | M    | S148 | \n",
       "| SPF_52w_M_5_2 | SPF  | 52w  | M    | S148 | \n",
       "| SPF_8w_M_2_2 | SPF  | 8w   | M    | S148 | \n",
       "| SPF_8w_M_3_2 | SPF  | 8w   | M    | S148 | \n",
       "| SPF_8w_M_4_2 | SPF  | 8w   | M    | S148 | \n",
       "| GF_52w_F_1_2 | GF   | 52w  | F    | S178 | \n",
       "| GF_52w_F_2_2 | GF   | 52w  | F    | S178 | \n",
       "| ⋮ | ⋮ | ⋮ | ⋮ | ⋮ | \n",
       "| GF_52w_F_4_2 | GF   | 52w  | F    | S178 | \n",
       "| GF_52w_F_5_2 | GF   | 52w  | F    | S178 | \n",
       "| GF_52w_F_6_2 | GF   | 52w  | F    | S178 | \n",
       "| SPF_52w_F_1_2 | SPF  | 52w  | F    | S178 | \n",
       "| SPF_52w_F_2_2 | SPF  | 52w  | F    | S178 | \n",
       "| SPF_52w_F_3_2 | SPF  | 52w  | F    | S178 | \n",
       "| SPF_52w_F_4_2 | SPF  | 52w  | F    | S178 | \n",
       "| SPF_52w_F_5_2 | SPF  | 52w  | F    | S178 | \n",
       "| SPF_52w_F_6_2 | SPF  | 52w  | F    | S178 | \n",
       "| SPF_104w_M_5_2 | SPF  | 104w | M    | S198 | \n",
       "| SPF_104w_M_6_2 | SPF  | 104w | M    | S198 | \n",
       "| SPF_104w_M_7_2 | SPF  | 104w | M    | S198 | \n",
       "| SPF_104w_M_8_2 | SPF  | 104w | M    | S198 | \n",
       "| SPF_104w_M_9_2 | SPF  | 104w | M    | S198 | \n",
       "| SPF_104w_M_10_2 | SPF  | 104w | M    | S198 | \n",
       "| SPF_104w_M_11_2 | SPF  | 104w | M    | S198 | \n",
       "| SPF_104w_M_12_2 | SPF  | 104w | M    | S198 | \n",
       "| SPF_104w_M_13_2 | SPF  | 104w | M    | S198 | \n",
       "| SPF_104w_M_14_2 | SPF  | 104w | M    | S198 | \n",
       "| SPF_8w_F_1_2 | SPF  | 8w   | F    | S225 | \n",
       "| SPF_8w_F_3_2 | SPF  | 8w   | F    | S225 | \n",
       "| SPF_8w_F_4_2 | SPF  | 8w   | F    | S225 | \n",
       "| GF_8w_F_1_2 | GF   | 8w   | F    | S225 | \n",
       "| GF_8w_F_2_2 | GF   | 8w   | F    | S225 | \n",
       "| GF_8w_F_3_2 | GF   | 8w   | F    | S225 | \n",
       "| GF_8w_F_4_2 | GF   | 8w   | F    | S225 | \n",
       "| GF_8w_F_5_2 | GF   | 8w   | F    | S225 | \n",
       "| GF_104w_M_3_2 | GF   | 104w | M    | S288 | \n",
       "| GF_104w_M_5_2 | GF   | 104w | M    | S288 | \n",
       "| GF_104w_M_4_2 | GF   | 104w | M    | S288 | \n",
       "\n",
       "\n"
      ],
      "text/plain": [
       "                type age  gender project\n",
       "GF_104w_F_1_2   GF   104w F      S264   \n",
       "GF_104w_F_2_2   GF   104w F      S264   \n",
       "GF_104w_F_3_2   GF   104w F      S264   \n",
       "GF_104w_M_1_2   GF   104w M      S264   \n",
       "GF_104w_M_2_2   GF   104w M      S264   \n",
       "GF_52w_M_1_2    GF   52w  M      S148   \n",
       "GF_52w_M_2_2    GF   52w  M      S148   \n",
       "GF_52w_M_3_2    GF   52w  M      S148   \n",
       "GF_52w_M_4_2    GF   52w  M      S148   \n",
       "GF_8w_M_1_2     GF   8w   M      S148   \n",
       "GF_8w_M_2_2     GF   8w   M      S148   \n",
       "GF_8w_M_3_2     GF   8w   M      S148   \n",
       "GF_8w_M_4_2     GF   8w   M      S148   \n",
       "SPF_104w_F_1_2  SPF  104w F      S174   \n",
       "SPF_104w_F_2_2  SPF  104w F      S174   \n",
       "SPF_104w_F_3_2  SPF  104w F      S174   \n",
       "SPF_104w_M_1_2  SPF  104w M      S174   \n",
       "SPF_104w_M_2_2  SPF  104w M      S174   \n",
       "SPF_104w_M_3_2  SPF  104w M      S174   \n",
       "SPF_104w_M_4_2  SPF  104w M      S174   \n",
       "SPF_52w_M_1_2   SPF  52w  M      S148   \n",
       "SPF_52w_M_2_2   SPF  52w  M      S148   \n",
       "SPF_52w_M_3_2   SPF  52w  M      S148   \n",
       "SPF_52w_M_4_2   SPF  52w  M      S148   \n",
       "SPF_52w_M_5_2   SPF  52w  M      S148   \n",
       "SPF_8w_M_2_2    SPF  8w   M      S148   \n",
       "SPF_8w_M_3_2    SPF  8w   M      S148   \n",
       "SPF_8w_M_4_2    SPF  8w   M      S148   \n",
       "GF_52w_F_1_2    GF   52w  F      S178   \n",
       "GF_52w_F_2_2    GF   52w  F      S178   \n",
       "⋮               ⋮    ⋮    ⋮      ⋮      \n",
       "GF_52w_F_4_2    GF   52w  F      S178   \n",
       "GF_52w_F_5_2    GF   52w  F      S178   \n",
       "GF_52w_F_6_2    GF   52w  F      S178   \n",
       "SPF_52w_F_1_2   SPF  52w  F      S178   \n",
       "SPF_52w_F_2_2   SPF  52w  F      S178   \n",
       "SPF_52w_F_3_2   SPF  52w  F      S178   \n",
       "SPF_52w_F_4_2   SPF  52w  F      S178   \n",
       "SPF_52w_F_5_2   SPF  52w  F      S178   \n",
       "SPF_52w_F_6_2   SPF  52w  F      S178   \n",
       "SPF_104w_M_5_2  SPF  104w M      S198   \n",
       "SPF_104w_M_6_2  SPF  104w M      S198   \n",
       "SPF_104w_M_7_2  SPF  104w M      S198   \n",
       "SPF_104w_M_8_2  SPF  104w M      S198   \n",
       "SPF_104w_M_9_2  SPF  104w M      S198   \n",
       "SPF_104w_M_10_2 SPF  104w M      S198   \n",
       "SPF_104w_M_11_2 SPF  104w M      S198   \n",
       "SPF_104w_M_12_2 SPF  104w M      S198   \n",
       "SPF_104w_M_13_2 SPF  104w M      S198   \n",
       "SPF_104w_M_14_2 SPF  104w M      S198   \n",
       "SPF_8w_F_1_2    SPF  8w   F      S225   \n",
       "SPF_8w_F_3_2    SPF  8w   F      S225   \n",
       "SPF_8w_F_4_2    SPF  8w   F      S225   \n",
       "GF_8w_F_1_2     GF   8w   F      S225   \n",
       "GF_8w_F_2_2     GF   8w   F      S225   \n",
       "GF_8w_F_3_2     GF   8w   F      S225   \n",
       "GF_8w_F_4_2     GF   8w   F      S225   \n",
       "GF_8w_F_5_2     GF   8w   F      S225   \n",
       "GF_104w_M_3_2   GF   104w M      S288   \n",
       "GF_104w_M_5_2   GF   104w M      S288   \n",
       "GF_104w_M_4_2   GF   104w M      S288   "
      ]
     },
     "metadata": {},
     "output_type": "display_data"
    }
   ],
   "source": [
    "metadata = t(sapply(sapply(colnames(counts), strsplit, split = \"_\"), unlist))\n",
    "short_names = paste(metadata[,1], metadata[,2], metadata[,3], metadata[,4], sep =\"_\")\n",
    "names(short_names) = rownames(metadata)\n",
    "metadata = metadata[,-5]\n",
    "colnames(metadata) = c(\"type\", \"age\", \"gender\", \"replicate\")\n",
    "metadata = as.data.frame(metadata)\n",
    "metadata$replicate <- NULL\n",
    "metadata$project = paste(unlist(file_desc[short_names,'Project.id']))\n",
    "metadata$project = gsub(\"Project_\", \"\", metadata$project)\n",
    "metadata$project[metadata$project == '148'] = 'S148'\n",
    "metadata"
   ]
  },
  {
   "cell_type": "code",
   "execution_count": 17,
   "metadata": {},
   "outputs": [],
   "source": [
    "save(metadata, file=\"../results/dge/metadata.RData\")"
   ]
  }
 ],
 "metadata": {
  "hide_input": false,
  "kernelspec": {
   "display_name": "R",
   "language": "R",
   "name": "ir"
  },
  "language_info": {
   "codemirror_mode": "r",
   "file_extension": ".r",
   "mimetype": "text/x-r-source",
   "name": "R",
   "pygments_lexer": "r",
   "version": "3.4.3"
  },
  "toc": {
   "nav_menu": {},
   "number_sections": true,
   "sideBar": true,
   "skip_h1_title": false,
   "title_cell": "Table of Contents",
   "title_sidebar": "Contents",
   "toc_cell": false,
   "toc_position": {},
   "toc_section_display": true,
   "toc_window_display": false
  }
 },
 "nbformat": 4,
 "nbformat_minor": 2
}
