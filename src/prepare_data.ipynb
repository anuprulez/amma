{
 "cells": [
  {
   "cell_type": "markdown",
   "metadata": {},
   "source": [
    "Prepare the data\n",
    "- Remove the columns with spurious data:\n",
    "- Remove the rows with only zeros\n",
    "- Rename the genes to be sure there is a map with Entrez Gene Identifers\n",
    "- Rename ages\n",
    "- Extract the metadata\n",
    "- Export the counts and metadata\n",
    "\n",
    "*Generated from a Jupyter Notebook - [Sources](https://github.com/bebatut/neuromac_GF_mices/blob/master/src/prepare_data.ipynb)*"
   ]
  },
  {
   "cell_type": "markdown",
   "metadata": {},
   "source": [
    "# Load"
   ]
  },
  {
   "cell_type": "code",
   "execution_count": 1,
   "metadata": {
    "scrolled": false
   },
   "outputs": [
    {
     "name": "stderr",
     "output_type": "stream",
     "text": [
      "Warning message in is.na(x[[i]]):\n",
      "“is.na() applied to non-(list or vector) of type 'environment'”Warning message in rsqlite_fetch(res@ptr, n = n):\n",
      "“Don't need to call dbFetch() for statements, only for queries”"
     ]
    },
    {
     "name": "stdout",
     "output_type": "stream",
     "text": [
      "==========================================================================\n",
      "*\n",
      "*  Package WGCNA 1.63 loaded.\n",
      "*\n",
      "*    Important note: It appears that your system supports multi-threading,\n",
      "*    but it is not enabled within WGCNA in R. \n",
      "*    To allow multi-threading within WGCNA with all available cores, use \n",
      "*\n",
      "*          allowWGCNAThreads()\n",
      "*\n",
      "*    within R. Use disableWGCNAThreads() to disable threading if necessary.\n",
      "*    Alternatively, set the following environment variable on your system:\n",
      "*\n",
      "*          ALLOW_WGCNA_THREADS=<number_of_processors>\n",
      "*\n",
      "*    for example \n",
      "*\n",
      "*          ALLOW_WGCNA_THREADS=4\n",
      "*\n",
      "*    To set the environment variable in linux bash shell, type \n",
      "*\n",
      "*           export ALLOW_WGCNA_THREADS=4\n",
      "*\n",
      "*     before running R. Other operating systems or shells will\n",
      "*     have a similar command to achieve the same aim.\n",
      "*\n",
      "==========================================================================\n",
      "\n",
      "\n",
      "Allowing multi-threading with up to 4 threads.\n",
      "[1] \"preparing gene to GO mapping data...\"\n",
      "[1] \"preparing IC data...\"\n",
      "[1] \"preparing gene to GO mapping data...\"\n",
      "[1] \"preparing IC data...\"\n",
      "[1] \"preparing gene to GO mapping data...\"\n",
      "[1] \"preparing IC data...\"\n"
     ]
    }
   ],
   "source": [
    "source(\"load_libraries.R\")"
   ]
  },
  {
   "cell_type": "code",
   "execution_count": 2,
   "metadata": {},
   "outputs": [],
   "source": [
    "source(\"functions.R\")"
   ]
  },
  {
   "cell_type": "markdown",
   "metadata": {},
   "source": [
    "Load the gene length"
   ]
  },
  {
   "cell_type": "code",
   "execution_count": 3,
   "metadata": {},
   "outputs": [],
   "source": [
    "gene_length = read.table(\"../data/gene_length.tabular\", h = F, row.names = 1)\n",
    "save(gene_length, file=\"../results/dge/gene_length.RData\")"
   ]
  },
  {
   "cell_type": "markdown",
   "metadata": {},
   "source": [
    "Load the count table"
   ]
  },
  {
   "cell_type": "code",
   "execution_count": 4,
   "metadata": {},
   "outputs": [
    {
     "data": {
      "text/html": [
       "<ol class=list-inline>\n",
       "\t<li>24421</li>\n",
       "\t<li>64</li>\n",
       "</ol>\n"
      ],
      "text/latex": [
       "\\begin{enumerate*}\n",
       "\\item 24421\n",
       "\\item 64\n",
       "\\end{enumerate*}\n"
      ],
      "text/markdown": [
       "1. 24421\n",
       "2. 64\n",
       "\n",
       "\n"
      ],
      "text/plain": [
       "[1] 24421    64"
      ]
     },
     "metadata": {},
     "output_type": "display_data"
    }
   ],
   "source": [
    "counts = read.table(\"../data/counts.tabular\", sep=\"\\t\", header = 1, row.names=1)\n",
    "dim(counts)"
   ]
  },
  {
   "cell_type": "markdown",
   "metadata": {},
   "source": [
    "# Remove spurious data"
   ]
  },
  {
   "cell_type": "markdown",
   "metadata": {},
   "source": [
    "Remove the columns with spurious data:\n",
    "- SPF_8w_F_2_2: low mapping rate (70.9%) and assignment rate (31.3%)\n",
    "- SPF_8w_F_5_2: low assignment rate (53.5%)\n",
    "- SPF_8w_M_1_2: low number of assigned reads (14.4)"
   ]
  },
  {
   "cell_type": "code",
   "execution_count": 5,
   "metadata": {},
   "outputs": [],
   "source": [
    "to_remove = c(\"SPF_8w_F_2_2\", \"SPF_8w_F_5_2\", \"SPF_8w_M_1_2\")\n",
    "counts = counts[,!names(counts) %in% to_remove]"
   ]
  },
  {
   "cell_type": "markdown",
   "metadata": {},
   "source": [
    "Remove the rows with only zeros (printed: before / after)"
   ]
  },
  {
   "cell_type": "code",
   "execution_count": 6,
   "metadata": {
    "scrolled": true
   },
   "outputs": [
    {
     "data": {
      "text/html": [
       "24421"
      ],
      "text/latex": [
       "24421"
      ],
      "text/markdown": [
       "24421"
      ],
      "text/plain": [
       "[1] 24421"
      ]
     },
     "metadata": {},
     "output_type": "display_data"
    },
    {
     "data": {
      "text/html": [
       "19694"
      ],
      "text/latex": [
       "19694"
      ],
      "text/markdown": [
       "19694"
      ],
      "text/plain": [
       "[1] 19694"
      ]
     },
     "metadata": {},
     "output_type": "display_data"
    }
   ],
   "source": [
    "nrow(counts)\n",
    "counts = counts[ rowSums(counts) > 1, ]\n",
    "nrow(counts)"
   ]
  },
  {
   "cell_type": "markdown",
   "metadata": {},
   "source": [
    "# Check and clean genes names"
   ]
  },
  {
   "cell_type": "markdown",
   "metadata": {},
   "source": [
    "Rename the genes to be sure there is a map with Entrez Gene Identifers:\n",
    "1. Extract mapping between \n",
    "    - Entrez Gene Identifiers and Gene Names (and description) \n",
    "    - Gene Symbols and Entrez Gene Identifiers\n",
    "    - RefSeq and Entrez Gene Identifiers\n",
    "    - Gene Symbols and Gene Names (and description)\n",
    "    - Entrez Gene Identifiers and KEGG pathways\n",
    "2. Get RefSeq ids for genes in count table\n",
    "3. Get genes without RefSeq ids (printed: number of them that will need to be changed)\n",
    "4. Search on Entrez the correct name of the genes without RefSeq ids\n",
    "5. Clean the new names to keep only the ones with one new names, that are not already in the count table,\n",
    "6. Apply them to the counts\n",
    "7. Check the new number of genes without RefSeq ids"
   ]
  },
  {
   "cell_type": "code",
   "execution_count": 7,
   "metadata": {
    "scrolled": true
   },
   "outputs": [
    {
     "data": {
      "text/html": [
       "231"
      ],
      "text/latex": [
       "231"
      ],
      "text/markdown": [
       "231"
      ],
      "text/plain": [
       "[1] 231"
      ]
     },
     "metadata": {},
     "output_type": "display_data"
    },
    {
     "data": {
      "text/html": [
       "<dl class=dl-horizontal>\n",
       "\t<dt>0610005C13Rik</dt>\n",
       "\t\t<dd>'0610005C13Rik'</dd>\n",
       "\t<dt>0610007P14Rik</dt>\n",
       "\t\t<dd>'0610007P14Rik'</dd>\n",
       "\t<dt>0610009B22Rik</dt>\n",
       "\t\t<dd>'0610009B22Rik'</dd>\n",
       "\t<dt>0610009L18Rik</dt>\n",
       "\t\t<dd>'0610009L18Rik'</dd>\n",
       "\t<dt>0610009O20Rik</dt>\n",
       "\t\t<dd>'0610009O20Rik'</dd>\n",
       "\t<dt>0610010F05Rik</dt>\n",
       "\t\t<dd>'0610010F05Rik'</dd>\n",
       "</dl>\n"
      ],
      "text/latex": [
       "\\begin{description*}\n",
       "\\item[0610005C13Rik] '0610005C13Rik'\n",
       "\\item[0610007P14Rik] '0610007P14Rik'\n",
       "\\item[0610009B22Rik] '0610009B22Rik'\n",
       "\\item[0610009L18Rik] '0610009L18Rik'\n",
       "\\item[0610009O20Rik] '0610009O20Rik'\n",
       "\\item[0610010F05Rik] '0610010F05Rik'\n",
       "\\end{description*}\n"
      ],
      "text/markdown": [
       "0610005C13Rik\n",
       ":   '0610005C13Rik'0610007P14Rik\n",
       ":   '0610007P14Rik'0610009B22Rik\n",
       ":   '0610009B22Rik'0610009L18Rik\n",
       ":   '0610009L18Rik'0610009O20Rik\n",
       ":   '0610009O20Rik'0610010F05Rik\n",
       ":   '0610010F05Rik'\n",
       "\n"
      ],
      "text/plain": [
       "  0610005C13Rik   0610007P14Rik   0610009B22Rik   0610009L18Rik   0610009O20Rik \n",
       "\"0610005C13Rik\" \"0610007P14Rik\" \"0610009B22Rik\" \"0610009L18Rik\" \"0610009O20Rik\" \n",
       "  0610010F05Rik \n",
       "\"0610010F05Rik\" "
      ]
     },
     "metadata": {},
     "output_type": "display_data"
    },
    {
     "data": {
      "text/html": [
       "29"
      ],
      "text/latex": [
       "29"
      ],
      "text/markdown": [
       "29"
      ],
      "text/plain": [
       "[1] 29"
      ]
     },
     "metadata": {},
     "output_type": "display_data"
    }
   ],
   "source": [
    "# Extract mapping between Entrez Gene Identifiers and Gene Names (and description) \n",
    "eg2name = get_list(org.Mm.egGENENAME)\n",
    "# Extract mapping between Gene Symbols and Entrez Gene Identifiers\n",
    "symbol2eg = get_list(org.Mm.egSYMBOL2EG)\n",
    "# Extract mapping between RefSeq and Entrez Gene Identifiers\n",
    "refseq2eg = get_list(org.Mm.egREFSEQ2EG)\n",
    "# Extract mapping between Gene Symbols and Gene Names (and description)\n",
    "symbol2name = sapply(names(symbol2eg), function(x) return(eg2name[symbol2eg[[x]]]))\n",
    "# Extract mapping between Entrez Gene Identifiers and KEGG pathways\n",
    "eg2kegg=as.list(org.Mm.egPATH)\n",
    "# Get refseq ids for genes\n",
    "refseq = sapply(rownames(counts), function(x) return(symbol2eg[[x]])) \n",
    "# Extract names of genes with no RefSeq ids\n",
    "to_change = names(refseq[sapply(refseq, is.null)])\n",
    "length(to_change)\n",
    "# Search on Entrez the correct name\n",
    "search_name = function(name){\n",
    "    search = entrez_search(db=\"gene\",term=name)\n",
    "    names = c()\n",
    "    for(id in search$ids){\n",
    "        sum = entrez_summary(db=\"gene\", id=id)\n",
    "        if(sum$organism$scientificname == 'Mus musculus' & grepl(name,sum$otheraliases)){\n",
    "            names = c(names, sum$name)\n",
    "        }\n",
    "    }\n",
    "    return(names)\n",
    "}\n",
    "changes = sapply(to_change, search_name)\n",
    "# Clean the new names\n",
    "doubled = sapply(names(changes), function(x) return(length(changes[[x]])>1))\n",
    "single = changes[!doubled]\n",
    "duplicated = single %in% rownames(counts)\n",
    "non_duplicated = single[!duplicated]\n",
    "duplicated_2 = duplicated(non_duplicated)\n",
    "replacements = non_duplicated[!duplicated_2]\n",
    "# Replace the names\n",
    "replacements = unlist(replacements)\n",
    "new_names = rownames(counts)\n",
    "names(new_names) = rownames(counts)\n",
    "new_names[names(replacements)] = replacements\n",
    "head(new_names)\n",
    "rownames(counts) = new_names\n",
    "# Check the new number of genes without RefSeq ids\n",
    "refseq_check = sapply(rownames(counts), function(x) return(symbol2eg[[x]])) \n",
    "length(refseq[sapply(refseq_check, is.null)])"
   ]
  },
  {
   "cell_type": "markdown",
   "metadata": {},
   "source": [
    "# Order the data"
   ]
  },
  {
   "cell_type": "markdown",
   "metadata": {},
   "source": [
    "Reorder the columns and save the counts object"
   ]
  },
  {
   "cell_type": "code",
   "execution_count": 8,
   "metadata": {},
   "outputs": [
    {
     "data": {
      "text/html": [
       "<table>\n",
       "<thead><tr><th></th><th scope=col>GF_104w_F_1_2</th><th scope=col>GF_104w_F_2_2</th><th scope=col>GF_104w_F_3_2</th><th scope=col>GF_104w_M_1_2</th><th scope=col>GF_104w_M_2_2</th><th scope=col>GF_52w_M_1_2</th><th scope=col>GF_52w_M_2_2</th><th scope=col>GF_52w_M_3_2</th><th scope=col>GF_52w_M_4_2</th><th scope=col>GF_8w_M_1_2</th><th scope=col>⋯</th><th scope=col>SPF_8w_F_3_2</th><th scope=col>SPF_8w_F_4_2</th><th scope=col>GF_8w_F_1_2</th><th scope=col>GF_8w_F_2_2</th><th scope=col>GF_8w_F_3_2</th><th scope=col>GF_8w_F_4_2</th><th scope=col>GF_8w_F_5_2</th><th scope=col>GF_104w_M_3_2</th><th scope=col>GF_104w_M_5_2</th><th scope=col>GF_104w_M_4_2</th></tr></thead>\n",
       "<tbody>\n",
       "\t<tr><th scope=row>0610005C13Rik</th><td>   0</td><td>   0</td><td>   0</td><td>   2</td><td>   2</td><td>   1</td><td>  5 </td><td>  5 </td><td>  10</td><td>  7 </td><td>⋯   </td><td>   2</td><td>  2 </td><td> 17 </td><td>  0 </td><td>   2</td><td>  5 </td><td>  0 </td><td>  1 </td><td>  1 </td><td>  1 </td></tr>\n",
       "\t<tr><th scope=row>0610007P14Rik</th><td> 954</td><td> 704</td><td> 999</td><td>1002</td><td>1577</td><td> 604</td><td>537 </td><td>459 </td><td>1021</td><td>499 </td><td>⋯   </td><td> 705</td><td>698 </td><td>837 </td><td>627 </td><td> 605</td><td>563 </td><td>631 </td><td>394 </td><td>570 </td><td>496 </td></tr>\n",
       "\t<tr><th scope=row>0610009B22Rik</th><td>1122</td><td>1098</td><td>1296</td><td>1385</td><td>2475</td><td>1234</td><td>887 </td><td>907 </td><td>1214</td><td>784 </td><td>⋯   </td><td>1103</td><td>996 </td><td>969 </td><td>938 </td><td>1128</td><td>911 </td><td>853 </td><td>551 </td><td>772 </td><td>522 </td></tr>\n",
       "\t<tr><th scope=row>0610009L18Rik</th><td>  31</td><td>  34</td><td>  20</td><td>  23</td><td>  61</td><td>  38</td><td> 27 </td><td> 20 </td><td>   6</td><td> 51 </td><td>⋯   </td><td>  43</td><td> 79 </td><td> 45 </td><td> 18 </td><td>  11</td><td> 43 </td><td> 19 </td><td> 20 </td><td> 22 </td><td> 26 </td></tr>\n",
       "\t<tr><th scope=row>0610009O20Rik</th><td> 239</td><td> 262</td><td> 292</td><td> 256</td><td> 432</td><td> 356</td><td>354 </td><td>353 </td><td> 428</td><td>298 </td><td>⋯   </td><td> 239</td><td>175 </td><td>216 </td><td>146 </td><td> 268</td><td>289 </td><td>210 </td><td>269 </td><td>351 </td><td>263 </td></tr>\n",
       "\t<tr><th scope=row>0610010F05Rik</th><td> 452</td><td> 433</td><td> 317</td><td> 315</td><td> 483</td><td> 466</td><td>411 </td><td>347 </td><td> 495</td><td>284 </td><td>⋯   </td><td> 365</td><td>228 </td><td>505 </td><td>368 </td><td> 402</td><td>502 </td><td>251 </td><td>412 </td><td>540 </td><td>207 </td></tr>\n",
       "</tbody>\n",
       "</table>\n"
      ],
      "text/latex": [
       "\\begin{tabular}{r|lllllllllllllllllllllllllllllllllllllllllllllllllllllllllllll}\n",
       "  & GF\\_104w\\_F\\_1\\_2 & GF\\_104w\\_F\\_2\\_2 & GF\\_104w\\_F\\_3\\_2 & GF\\_104w\\_M\\_1\\_2 & GF\\_104w\\_M\\_2\\_2 & GF\\_52w\\_M\\_1\\_2 & GF\\_52w\\_M\\_2\\_2 & GF\\_52w\\_M\\_3\\_2 & GF\\_52w\\_M\\_4\\_2 & GF\\_8w\\_M\\_1\\_2 & ⋯ & SPF\\_8w\\_F\\_3\\_2 & SPF\\_8w\\_F\\_4\\_2 & GF\\_8w\\_F\\_1\\_2 & GF\\_8w\\_F\\_2\\_2 & GF\\_8w\\_F\\_3\\_2 & GF\\_8w\\_F\\_4\\_2 & GF\\_8w\\_F\\_5\\_2 & GF\\_104w\\_M\\_3\\_2 & GF\\_104w\\_M\\_5\\_2 & GF\\_104w\\_M\\_4\\_2\\\\\n",
       "\\hline\n",
       "\t0610005C13Rik &    0 &    0 &    0 &    2 &    2 &    1 &   5  &   5  &   10 &   7  & ⋯    &    2 &   2  &  17  &   0  &    2 &   5  &   0  &   1  &   1  &   1 \\\\\n",
       "\t0610007P14Rik &  954 &  704 &  999 & 1002 & 1577 &  604 & 537  & 459  & 1021 & 499  & ⋯    &  705 & 698  & 837  & 627  &  605 & 563  & 631  & 394  & 570  & 496 \\\\\n",
       "\t0610009B22Rik & 1122 & 1098 & 1296 & 1385 & 2475 & 1234 & 887  & 907  & 1214 & 784  & ⋯    & 1103 & 996  & 969  & 938  & 1128 & 911  & 853  & 551  & 772  & 522 \\\\\n",
       "\t0610009L18Rik &   31 &   34 &   20 &   23 &   61 &   38 &  27  &  20  &    6 &  51  & ⋯    &   43 &  79  &  45  &  18  &   11 &  43  &  19  &  20  &  22  &  26 \\\\\n",
       "\t0610009O20Rik &  239 &  262 &  292 &  256 &  432 &  356 & 354  & 353  &  428 & 298  & ⋯    &  239 & 175  & 216  & 146  &  268 & 289  & 210  & 269  & 351  & 263 \\\\\n",
       "\t0610010F05Rik &  452 &  433 &  317 &  315 &  483 &  466 & 411  & 347  &  495 & 284  & ⋯    &  365 & 228  & 505  & 368  &  402 & 502  & 251  & 412  & 540  & 207 \\\\\n",
       "\\end{tabular}\n"
      ],
      "text/markdown": [
       "\n",
       "| <!--/--> | GF_104w_F_1_2 | GF_104w_F_2_2 | GF_104w_F_3_2 | GF_104w_M_1_2 | GF_104w_M_2_2 | GF_52w_M_1_2 | GF_52w_M_2_2 | GF_52w_M_3_2 | GF_52w_M_4_2 | GF_8w_M_1_2 | ⋯ | SPF_8w_F_3_2 | SPF_8w_F_4_2 | GF_8w_F_1_2 | GF_8w_F_2_2 | GF_8w_F_3_2 | GF_8w_F_4_2 | GF_8w_F_5_2 | GF_104w_M_3_2 | GF_104w_M_5_2 | GF_104w_M_4_2 | \n",
       "|---|---|---|---|---|---|\n",
       "| 0610005C13Rik |    0 |    0 |    0 |    2 |    2 |    1 |   5  |   5  |   10 |   7  | ⋯    |    2 |   2  |  17  |   0  |    2 |   5  |   0  |   1  |   1  |   1  | \n",
       "| 0610007P14Rik |  954 |  704 |  999 | 1002 | 1577 |  604 | 537  | 459  | 1021 | 499  | ⋯    |  705 | 698  | 837  | 627  |  605 | 563  | 631  | 394  | 570  | 496  | \n",
       "| 0610009B22Rik | 1122 | 1098 | 1296 | 1385 | 2475 | 1234 | 887  | 907  | 1214 | 784  | ⋯    | 1103 | 996  | 969  | 938  | 1128 | 911  | 853  | 551  | 772  | 522  | \n",
       "| 0610009L18Rik |   31 |   34 |   20 |   23 |   61 |   38 |  27  |  20  |    6 |  51  | ⋯    |   43 |  79  |  45  |  18  |   11 |  43  |  19  |  20  |  22  |  26  | \n",
       "| 0610009O20Rik |  239 |  262 |  292 |  256 |  432 |  356 | 354  | 353  |  428 | 298  | ⋯    |  239 | 175  | 216  | 146  |  268 | 289  | 210  | 269  | 351  | 263  | \n",
       "| 0610010F05Rik |  452 |  433 |  317 |  315 |  483 |  466 | 411  | 347  |  495 | 284  | ⋯    |  365 | 228  | 505  | 368  |  402 | 502  | 251  | 412  | 540  | 207  | \n",
       "\n",
       "\n"
      ],
      "text/plain": [
       "              GF_104w_F_1_2 GF_104w_F_2_2 GF_104w_F_3_2 GF_104w_M_1_2\n",
       "0610005C13Rik    0             0             0             2         \n",
       "0610007P14Rik  954           704           999          1002         \n",
       "0610009B22Rik 1122          1098          1296          1385         \n",
       "0610009L18Rik   31            34            20            23         \n",
       "0610009O20Rik  239           262           292           256         \n",
       "0610010F05Rik  452           433           317           315         \n",
       "              GF_104w_M_2_2 GF_52w_M_1_2 GF_52w_M_2_2 GF_52w_M_3_2 GF_52w_M_4_2\n",
       "0610005C13Rik    2             1           5            5            10        \n",
       "0610007P14Rik 1577           604         537          459          1021        \n",
       "0610009B22Rik 2475          1234         887          907          1214        \n",
       "0610009L18Rik   61            38          27           20             6        \n",
       "0610009O20Rik  432           356         354          353           428        \n",
       "0610010F05Rik  483           466         411          347           495        \n",
       "              GF_8w_M_1_2 ⋯ SPF_8w_F_3_2 SPF_8w_F_4_2 GF_8w_F_1_2 GF_8w_F_2_2\n",
       "0610005C13Rik   7         ⋯    2           2           17           0        \n",
       "0610007P14Rik 499         ⋯  705         698          837         627        \n",
       "0610009B22Rik 784         ⋯ 1103         996          969         938        \n",
       "0610009L18Rik  51         ⋯   43          79           45          18        \n",
       "0610009O20Rik 298         ⋯  239         175          216         146        \n",
       "0610010F05Rik 284         ⋯  365         228          505         368        \n",
       "              GF_8w_F_3_2 GF_8w_F_4_2 GF_8w_F_5_2 GF_104w_M_3_2 GF_104w_M_5_2\n",
       "0610005C13Rik    2          5           0           1             1          \n",
       "0610007P14Rik  605        563         631         394           570          \n",
       "0610009B22Rik 1128        911         853         551           772          \n",
       "0610009L18Rik   11         43          19          20            22          \n",
       "0610009O20Rik  268        289         210         269           351          \n",
       "0610010F05Rik  402        502         251         412           540          \n",
       "              GF_104w_M_4_2\n",
       "0610005C13Rik   1          \n",
       "0610007P14Rik 496          \n",
       "0610009B22Rik 522          \n",
       "0610009L18Rik  26          \n",
       "0610009O20Rik 263          \n",
       "0610010F05Rik 207          "
      ]
     },
     "metadata": {},
     "output_type": "display_data"
    },
    {
     "data": {
      "text/html": [
       "<table>\n",
       "<thead><tr><th></th><th scope=col>GF_104w_F_1_2</th><th scope=col>GF_104w_F_2_2</th><th scope=col>GF_104w_F_3_2</th><th scope=col>GF_104w_M_1_2</th><th scope=col>GF_104w_M_2_2</th><th scope=col>GF_104w_M_3_2</th><th scope=col>GF_104w_M_4_2</th><th scope=col>GF_104w_M_5_2</th><th scope=col>GF_52w_F_1_2</th><th scope=col>GF_52w_F_2_2</th><th scope=col>⋯</th><th scope=col>SPF_52w_M_2_2</th><th scope=col>SPF_52w_M_3_2</th><th scope=col>SPF_52w_M_4_2</th><th scope=col>SPF_52w_M_5_2</th><th scope=col>SPF_8w_F_1_2</th><th scope=col>SPF_8w_F_3_2</th><th scope=col>SPF_8w_F_4_2</th><th scope=col>SPF_8w_M_2_2</th><th scope=col>SPF_8w_M_3_2</th><th scope=col>SPF_8w_M_4_2</th></tr></thead>\n",
       "<tbody>\n",
       "\t<tr><th scope=row>0610005C13Rik</th><td>   0</td><td>   0</td><td>   0</td><td>   2</td><td>   2</td><td>  1 </td><td>  1 </td><td>  1 </td><td>   5</td><td>   2</td><td>⋯   </td><td>   9</td><td>   0</td><td>   3</td><td>   9</td><td>   3</td><td>   2</td><td>  2 </td><td>  9 </td><td>  8 </td><td>   4</td></tr>\n",
       "\t<tr><th scope=row>0610007P14Rik</th><td> 954</td><td> 704</td><td> 999</td><td>1002</td><td>1577</td><td>394 </td><td>496 </td><td>570 </td><td> 697</td><td> 701</td><td>⋯   </td><td> 919</td><td> 604</td><td> 767</td><td> 760</td><td> 654</td><td> 705</td><td>698 </td><td>615 </td><td>648 </td><td> 745</td></tr>\n",
       "\t<tr><th scope=row>0610009B22Rik</th><td>1122</td><td>1098</td><td>1296</td><td>1385</td><td>2475</td><td>551 </td><td>522 </td><td>772 </td><td>1092</td><td>1257</td><td>⋯   </td><td>1485</td><td>1102</td><td>1252</td><td>1137</td><td>1087</td><td>1103</td><td>996 </td><td>985 </td><td>941 </td><td>1063</td></tr>\n",
       "\t<tr><th scope=row>0610009L18Rik</th><td>  31</td><td>  34</td><td>  20</td><td>  23</td><td>  61</td><td> 20 </td><td> 26 </td><td> 22 </td><td>  27</td><td>  38</td><td>⋯   </td><td>  84</td><td>  47</td><td>  53</td><td>  60</td><td>  36</td><td>  43</td><td> 79 </td><td> 27 </td><td> 55 </td><td>  76</td></tr>\n",
       "\t<tr><th scope=row>0610009O20Rik</th><td> 239</td><td> 262</td><td> 292</td><td> 256</td><td> 432</td><td>269 </td><td>263 </td><td>351 </td><td> 309</td><td> 330</td><td>⋯   </td><td> 646</td><td> 422</td><td> 428</td><td> 352</td><td> 235</td><td> 239</td><td>175 </td><td>493 </td><td>348 </td><td> 429</td></tr>\n",
       "\t<tr><th scope=row>0610010F05Rik</th><td> 452</td><td> 433</td><td> 317</td><td> 315</td><td> 483</td><td>412 </td><td>207 </td><td>540 </td><td> 338</td><td> 373</td><td>⋯   </td><td> 531</td><td> 361</td><td> 467</td><td> 466</td><td> 292</td><td> 365</td><td>228 </td><td>313 </td><td>303 </td><td> 355</td></tr>\n",
       "</tbody>\n",
       "</table>\n"
      ],
      "text/latex": [
       "\\begin{tabular}{r|lllllllllllllllllllllllllllllllllllllllllllllllllllllllllllll}\n",
       "  & GF\\_104w\\_F\\_1\\_2 & GF\\_104w\\_F\\_2\\_2 & GF\\_104w\\_F\\_3\\_2 & GF\\_104w\\_M\\_1\\_2 & GF\\_104w\\_M\\_2\\_2 & GF\\_104w\\_M\\_3\\_2 & GF\\_104w\\_M\\_4\\_2 & GF\\_104w\\_M\\_5\\_2 & GF\\_52w\\_F\\_1\\_2 & GF\\_52w\\_F\\_2\\_2 & ⋯ & SPF\\_52w\\_M\\_2\\_2 & SPF\\_52w\\_M\\_3\\_2 & SPF\\_52w\\_M\\_4\\_2 & SPF\\_52w\\_M\\_5\\_2 & SPF\\_8w\\_F\\_1\\_2 & SPF\\_8w\\_F\\_3\\_2 & SPF\\_8w\\_F\\_4\\_2 & SPF\\_8w\\_M\\_2\\_2 & SPF\\_8w\\_M\\_3\\_2 & SPF\\_8w\\_M\\_4\\_2\\\\\n",
       "\\hline\n",
       "\t0610005C13Rik &    0 &    0 &    0 &    2 &    2 &   1  &   1  &   1  &    5 &    2 & ⋯    &    9 &    0 &    3 &    9 &    3 &    2 &   2  &   9  &   8  &    4\\\\\n",
       "\t0610007P14Rik &  954 &  704 &  999 & 1002 & 1577 & 394  & 496  & 570  &  697 &  701 & ⋯    &  919 &  604 &  767 &  760 &  654 &  705 & 698  & 615  & 648  &  745\\\\\n",
       "\t0610009B22Rik & 1122 & 1098 & 1296 & 1385 & 2475 & 551  & 522  & 772  & 1092 & 1257 & ⋯    & 1485 & 1102 & 1252 & 1137 & 1087 & 1103 & 996  & 985  & 941  & 1063\\\\\n",
       "\t0610009L18Rik &   31 &   34 &   20 &   23 &   61 &  20  &  26  &  22  &   27 &   38 & ⋯    &   84 &   47 &   53 &   60 &   36 &   43 &  79  &  27  &  55  &   76\\\\\n",
       "\t0610009O20Rik &  239 &  262 &  292 &  256 &  432 & 269  & 263  & 351  &  309 &  330 & ⋯    &  646 &  422 &  428 &  352 &  235 &  239 & 175  & 493  & 348  &  429\\\\\n",
       "\t0610010F05Rik &  452 &  433 &  317 &  315 &  483 & 412  & 207  & 540  &  338 &  373 & ⋯    &  531 &  361 &  467 &  466 &  292 &  365 & 228  & 313  & 303  &  355\\\\\n",
       "\\end{tabular}\n"
      ],
      "text/markdown": [
       "\n",
       "| <!--/--> | GF_104w_F_1_2 | GF_104w_F_2_2 | GF_104w_F_3_2 | GF_104w_M_1_2 | GF_104w_M_2_2 | GF_104w_M_3_2 | GF_104w_M_4_2 | GF_104w_M_5_2 | GF_52w_F_1_2 | GF_52w_F_2_2 | ⋯ | SPF_52w_M_2_2 | SPF_52w_M_3_2 | SPF_52w_M_4_2 | SPF_52w_M_5_2 | SPF_8w_F_1_2 | SPF_8w_F_3_2 | SPF_8w_F_4_2 | SPF_8w_M_2_2 | SPF_8w_M_3_2 | SPF_8w_M_4_2 | \n",
       "|---|---|---|---|---|---|\n",
       "| 0610005C13Rik |    0 |    0 |    0 |    2 |    2 |   1  |   1  |   1  |    5 |    2 | ⋯    |    9 |    0 |    3 |    9 |    3 |    2 |   2  |   9  |   8  |    4 | \n",
       "| 0610007P14Rik |  954 |  704 |  999 | 1002 | 1577 | 394  | 496  | 570  |  697 |  701 | ⋯    |  919 |  604 |  767 |  760 |  654 |  705 | 698  | 615  | 648  |  745 | \n",
       "| 0610009B22Rik | 1122 | 1098 | 1296 | 1385 | 2475 | 551  | 522  | 772  | 1092 | 1257 | ⋯    | 1485 | 1102 | 1252 | 1137 | 1087 | 1103 | 996  | 985  | 941  | 1063 | \n",
       "| 0610009L18Rik |   31 |   34 |   20 |   23 |   61 |  20  |  26  |  22  |   27 |   38 | ⋯    |   84 |   47 |   53 |   60 |   36 |   43 |  79  |  27  |  55  |   76 | \n",
       "| 0610009O20Rik |  239 |  262 |  292 |  256 |  432 | 269  | 263  | 351  |  309 |  330 | ⋯    |  646 |  422 |  428 |  352 |  235 |  239 | 175  | 493  | 348  |  429 | \n",
       "| 0610010F05Rik |  452 |  433 |  317 |  315 |  483 | 412  | 207  | 540  |  338 |  373 | ⋯    |  531 |  361 |  467 |  466 |  292 |  365 | 228  | 313  | 303  |  355 | \n",
       "\n",
       "\n"
      ],
      "text/plain": [
       "              GF_104w_F_1_2 GF_104w_F_2_2 GF_104w_F_3_2 GF_104w_M_1_2\n",
       "0610005C13Rik    0             0             0             2         \n",
       "0610007P14Rik  954           704           999          1002         \n",
       "0610009B22Rik 1122          1098          1296          1385         \n",
       "0610009L18Rik   31            34            20            23         \n",
       "0610009O20Rik  239           262           292           256         \n",
       "0610010F05Rik  452           433           317           315         \n",
       "              GF_104w_M_2_2 GF_104w_M_3_2 GF_104w_M_4_2 GF_104w_M_5_2\n",
       "0610005C13Rik    2            1             1             1          \n",
       "0610007P14Rik 1577          394           496           570          \n",
       "0610009B22Rik 2475          551           522           772          \n",
       "0610009L18Rik   61           20            26            22          \n",
       "0610009O20Rik  432          269           263           351          \n",
       "0610010F05Rik  483          412           207           540          \n",
       "              GF_52w_F_1_2 GF_52w_F_2_2 ⋯ SPF_52w_M_2_2 SPF_52w_M_3_2\n",
       "0610005C13Rik    5            2         ⋯    9             0         \n",
       "0610007P14Rik  697          701         ⋯  919           604         \n",
       "0610009B22Rik 1092         1257         ⋯ 1485          1102         \n",
       "0610009L18Rik   27           38         ⋯   84            47         \n",
       "0610009O20Rik  309          330         ⋯  646           422         \n",
       "0610010F05Rik  338          373         ⋯  531           361         \n",
       "              SPF_52w_M_4_2 SPF_52w_M_5_2 SPF_8w_F_1_2 SPF_8w_F_3_2\n",
       "0610005C13Rik    3             9             3            2        \n",
       "0610007P14Rik  767           760           654          705        \n",
       "0610009B22Rik 1252          1137          1087         1103        \n",
       "0610009L18Rik   53            60            36           43        \n",
       "0610009O20Rik  428           352           235          239        \n",
       "0610010F05Rik  467           466           292          365        \n",
       "              SPF_8w_F_4_2 SPF_8w_M_2_2 SPF_8w_M_3_2 SPF_8w_M_4_2\n",
       "0610005C13Rik   2            9            8             4        \n",
       "0610007P14Rik 698          615          648           745        \n",
       "0610009B22Rik 996          985          941          1063        \n",
       "0610009L18Rik  79           27           55            76        \n",
       "0610009O20Rik 175          493          348           429        \n",
       "0610010F05Rik 228          313          303           355        "
      ]
     },
     "metadata": {},
     "output_type": "display_data"
    }
   ],
   "source": [
    "head(counts)\n",
    "counts = counts %>%\n",
    "         rownames_to_column('gene_names') %>%\n",
    "         select(sort(current_vars())) %>%\n",
    "         column_to_rownames('gene_names')\n",
    "head(counts)\n",
    "save(counts, file=\"../results/dge/prepared_counts.RData\")"
   ]
  },
  {
   "cell_type": "markdown",
   "metadata": {},
   "source": [
    "Load the gene length, keep the ones in count table and rename the gene names "
   ]
  },
  {
   "cell_type": "code",
   "execution_count": 9,
   "metadata": {},
   "outputs": [],
   "source": [
    "gene_length = read.table(\"../data/gene_length.tabular\", h = F, row.names = 1)\n",
    "gene_length = gene_length[rownames(counts),]\n",
    "names(gene_length) = new_names\n",
    "save(gene_length, file=\"../results/dge/gene_length.RData\")"
   ]
  },
  {
   "cell_type": "markdown",
   "metadata": {},
   "source": [
    "# Extract metadata"
   ]
  },
  {
   "cell_type": "markdown",
   "metadata": {},
   "source": [
    "Extract the description of the samples"
   ]
  },
  {
   "cell_type": "code",
   "execution_count": 10,
   "metadata": {
    "scrolled": true
   },
   "outputs": [
    {
     "data": {
      "text/html": [
       "<ol class=list-inline>\n",
       "\t<li>64</li>\n",
       "\t<li>10</li>\n",
       "</ol>\n"
      ],
      "text/latex": [
       "\\begin{enumerate*}\n",
       "\\item 64\n",
       "\\item 10\n",
       "\\end{enumerate*}\n"
      ],
      "text/markdown": [
       "1. 64\n",
       "2. 10\n",
       "\n",
       "\n"
      ],
      "text/plain": [
       "[1] 64 10"
      ]
     },
     "metadata": {},
     "output_type": "display_data"
    },
    {
     "data": {
      "text/html": [
       "<table>\n",
       "<thead><tr><th scope=col>sample</th><th scope=col>Sample.name.prefix</th><th scope=col>Group</th><th scope=col>Age</th><th scope=col>Gender</th><th scope=col>Project.id</th><th scope=col>Lane</th><th scope=col>Replicate</th><th scope=col>Name.in.project</th><th scope=col>X..Reads</th></tr></thead>\n",
       "<tbody>\n",
       "\t<tr><td>GF_52w_M_1         </td><td>GF_52w_M           </td><td>GF                 </td><td>52w                </td><td>M                  </td><td>S148               </td><td>2                  </td><td>1                  </td><td>Sample_Mg_GF1_old  </td><td>35,713,942.00      </td></tr>\n",
       "\t<tr><td>GF_8w_M_1          </td><td>GF_8w_M            </td><td>GF                 </td><td>8w                 </td><td>M                  </td><td>S148               </td><td>2                  </td><td>1                  </td><td>Sample_Mg_GF1_young</td><td>25,919,398.00      </td></tr>\n",
       "\t<tr><td>GF_52w_M_2         </td><td>GF_52w_M           </td><td>GF                 </td><td>52w                </td><td>M                  </td><td>S148               </td><td>2                  </td><td>2                  </td><td>Sample_Mg_GF2_old  </td><td>29,752,263.00      </td></tr>\n",
       "\t<tr><td>GF_8w_M_2          </td><td>GF_8w_M            </td><td>GF                 </td><td>8w                 </td><td>M                  </td><td>S148               </td><td>2                  </td><td>2                  </td><td>Sample_Mg_GF2_young</td><td>24,133,081.00      </td></tr>\n",
       "\t<tr><td>GF_52w_M_3         </td><td>GF_52w_M           </td><td>GF                 </td><td>52w                </td><td>M                  </td><td>S148               </td><td>3                  </td><td>3                  </td><td>Sample_Mg_GF3_old  </td><td>26,395,568.00      </td></tr>\n",
       "\t<tr><td>GF_8w_M_3          </td><td>GF_8w_M            </td><td>GF                 </td><td>8w                 </td><td>M                  </td><td>S148               </td><td>1                  </td><td>3                  </td><td>Sample_Mg_GF3_young</td><td>33,992,780.00      </td></tr>\n",
       "</tbody>\n",
       "</table>\n"
      ],
      "text/latex": [
       "\\begin{tabular}{r|llllllllll}\n",
       " sample & Sample.name.prefix & Group & Age & Gender & Project.id & Lane & Replicate & Name.in.project & X..Reads\\\\\n",
       "\\hline\n",
       "\t GF\\_52w\\_M\\_1          & GF\\_52w\\_M              & GF                        & 52w                       & M                         & S148                      & 2                         & 1                         & Sample\\_Mg\\_GF1\\_old   & 35,713,942.00            \\\\\n",
       "\t GF\\_8w\\_M\\_1           & GF\\_8w\\_M               & GF                        & 8w                        & M                         & S148                      & 2                         & 1                         & Sample\\_Mg\\_GF1\\_young & 25,919,398.00            \\\\\n",
       "\t GF\\_52w\\_M\\_2          & GF\\_52w\\_M              & GF                        & 52w                       & M                         & S148                      & 2                         & 2                         & Sample\\_Mg\\_GF2\\_old   & 29,752,263.00            \\\\\n",
       "\t GF\\_8w\\_M\\_2           & GF\\_8w\\_M               & GF                        & 8w                        & M                         & S148                      & 2                         & 2                         & Sample\\_Mg\\_GF2\\_young & 24,133,081.00            \\\\\n",
       "\t GF\\_52w\\_M\\_3          & GF\\_52w\\_M              & GF                        & 52w                       & M                         & S148                      & 3                         & 3                         & Sample\\_Mg\\_GF3\\_old   & 26,395,568.00            \\\\\n",
       "\t GF\\_8w\\_M\\_3           & GF\\_8w\\_M               & GF                        & 8w                        & M                         & S148                      & 1                         & 3                         & Sample\\_Mg\\_GF3\\_young & 33,992,780.00            \\\\\n",
       "\\end{tabular}\n"
      ],
      "text/markdown": [
       "\n",
       "sample | Sample.name.prefix | Group | Age | Gender | Project.id | Lane | Replicate | Name.in.project | X..Reads | \n",
       "|---|---|---|---|---|---|\n",
       "| GF_52w_M_1          | GF_52w_M            | GF                  | 52w                 | M                   | S148                | 2                   | 1                   | Sample_Mg_GF1_old   | 35,713,942.00       | \n",
       "| GF_8w_M_1           | GF_8w_M             | GF                  | 8w                  | M                   | S148                | 2                   | 1                   | Sample_Mg_GF1_young | 25,919,398.00       | \n",
       "| GF_52w_M_2          | GF_52w_M            | GF                  | 52w                 | M                   | S148                | 2                   | 2                   | Sample_Mg_GF2_old   | 29,752,263.00       | \n",
       "| GF_8w_M_2           | GF_8w_M             | GF                  | 8w                  | M                   | S148                | 2                   | 2                   | Sample_Mg_GF2_young | 24,133,081.00       | \n",
       "| GF_52w_M_3          | GF_52w_M            | GF                  | 52w                 | M                   | S148                | 3                   | 3                   | Sample_Mg_GF3_old   | 26,395,568.00       | \n",
       "| GF_8w_M_3           | GF_8w_M             | GF                  | 8w                  | M                   | S148                | 1                   | 3                   | Sample_Mg_GF3_young | 33,992,780.00       | \n",
       "\n",
       "\n"
      ],
      "text/plain": [
       "  sample     Sample.name.prefix Group Age Gender Project.id Lane Replicate\n",
       "1 GF_52w_M_1 GF_52w_M           GF    52w M      S148       2    1        \n",
       "2 GF_8w_M_1  GF_8w_M            GF    8w  M      S148       2    1        \n",
       "3 GF_52w_M_2 GF_52w_M           GF    52w M      S148       2    2        \n",
       "4 GF_8w_M_2  GF_8w_M            GF    8w  M      S148       2    2        \n",
       "5 GF_52w_M_3 GF_52w_M           GF    52w M      S148       3    3        \n",
       "6 GF_8w_M_3  GF_8w_M            GF    8w  M      S148       1    3        \n",
       "  Name.in.project     X..Reads     \n",
       "1 Sample_Mg_GF1_old   35,713,942.00\n",
       "2 Sample_Mg_GF1_young 25,919,398.00\n",
       "3 Sample_Mg_GF2_old   29,752,263.00\n",
       "4 Sample_Mg_GF2_young 24,133,081.00\n",
       "5 Sample_Mg_GF3_old   26,395,568.00\n",
       "6 Sample_Mg_GF3_young 33,992,780.00"
      ]
     },
     "metadata": {},
     "output_type": "display_data"
    }
   ],
   "source": [
    "file_desc = read.csv(\"../data/file_description.csv\", row.names = 1) %>%\n",
    "            rownames_to_column('sample') %>%\n",
    "            slice(1:(n()-6)) %>%\n",
    "            mutate(Lane = gsub(\" & \", \"_\", Lane)) %>%\n",
    "            mutate(Lane = gsub(\" \", \"1\", Lane)) %>%\n",
    "            mutate(Project.id = gsub(\"Project_\", \"\", Project.id)) %>%\n",
    "            mutate(Project.id = gsub(\"148\", \"S148\", Project.id))\n",
    "dim(file_desc)\n",
    "head(file_desc)"
   ]
  },
  {
   "cell_type": "markdown",
   "metadata": {},
   "source": [
    "Extract the metadata:\n",
    "1. Extract from the counts\n",
    "2. Combine with the sample descriptions\n",
    "3. Rename the ages\n",
    "  - 8w to Young\n",
    "  - 52w to Middle-aged\n",
    "  - 104w to Old\n",
    "4. Rename the gender\n",
    "  - F to Female\n",
    "  - M to Male\n",
    "5. Rename the factors\n",
    "  - gender to Sex\n",
    "  - type to Microbiota\n",
    "  - age to Age"
   ]
  },
  {
   "cell_type": "code",
   "execution_count": 11,
   "metadata": {
    "scrolled": false
   },
   "outputs": [
    {
     "data": {
      "text/html": [
       "<table>\n",
       "<thead><tr><th scope=col>Microbiota</th><th scope=col>Age</th><th scope=col>Sex</th><th scope=col>Number</th></tr></thead>\n",
       "<tbody>\n",
       "\t<tr><td>GF         </td><td>Middle-aged</td><td>Female     </td><td> 6         </td></tr>\n",
       "\t<tr><td>GF         </td><td>Middle-aged</td><td>Male       </td><td> 4         </td></tr>\n",
       "\t<tr><td>GF         </td><td>Old        </td><td>Female     </td><td> 3         </td></tr>\n",
       "\t<tr><td>GF         </td><td>Old        </td><td>Male       </td><td> 5         </td></tr>\n",
       "\t<tr><td>GF         </td><td>Young      </td><td>Female     </td><td> 5         </td></tr>\n",
       "\t<tr><td>GF         </td><td>Young      </td><td>Male       </td><td> 4         </td></tr>\n",
       "\t<tr><td>SPF        </td><td>Middle-aged</td><td>Female     </td><td> 6         </td></tr>\n",
       "\t<tr><td>SPF        </td><td>Middle-aged</td><td>Male       </td><td> 5         </td></tr>\n",
       "\t<tr><td>SPF        </td><td>Old        </td><td>Female     </td><td> 3         </td></tr>\n",
       "\t<tr><td>SPF        </td><td>Old        </td><td>Male       </td><td>14         </td></tr>\n",
       "\t<tr><td>SPF        </td><td>Young      </td><td>Female     </td><td> 3         </td></tr>\n",
       "\t<tr><td>SPF        </td><td>Young      </td><td>Male       </td><td> 3         </td></tr>\n",
       "</tbody>\n",
       "</table>\n"
      ],
      "text/latex": [
       "\\begin{tabular}{r|llll}\n",
       " Microbiota & Age & Sex & Number\\\\\n",
       "\\hline\n",
       "\t GF          & Middle-aged & Female      &  6         \\\\\n",
       "\t GF          & Middle-aged & Male        &  4         \\\\\n",
       "\t GF          & Old         & Female      &  3         \\\\\n",
       "\t GF          & Old         & Male        &  5         \\\\\n",
       "\t GF          & Young       & Female      &  5         \\\\\n",
       "\t GF          & Young       & Male        &  4         \\\\\n",
       "\t SPF         & Middle-aged & Female      &  6         \\\\\n",
       "\t SPF         & Middle-aged & Male        &  5         \\\\\n",
       "\t SPF         & Old         & Female      &  3         \\\\\n",
       "\t SPF         & Old         & Male        & 14         \\\\\n",
       "\t SPF         & Young       & Female      &  3         \\\\\n",
       "\t SPF         & Young       & Male        &  3         \\\\\n",
       "\\end{tabular}\n"
      ],
      "text/markdown": [
       "\n",
       "Microbiota | Age | Sex | Number | \n",
       "|---|---|---|---|---|---|---|---|---|---|---|---|\n",
       "| GF          | Middle-aged | Female      |  6          | \n",
       "| GF          | Middle-aged | Male        |  4          | \n",
       "| GF          | Old         | Female      |  3          | \n",
       "| GF          | Old         | Male        |  5          | \n",
       "| GF          | Young       | Female      |  5          | \n",
       "| GF          | Young       | Male        |  4          | \n",
       "| SPF         | Middle-aged | Female      |  6          | \n",
       "| SPF         | Middle-aged | Male        |  5          | \n",
       "| SPF         | Old         | Female      |  3          | \n",
       "| SPF         | Old         | Male        | 14          | \n",
       "| SPF         | Young       | Female      |  3          | \n",
       "| SPF         | Young       | Male        |  3          | \n",
       "\n",
       "\n"
      ],
      "text/plain": [
       "   Microbiota Age         Sex    Number\n",
       "1  GF         Middle-aged Female  6    \n",
       "2  GF         Middle-aged Male    4    \n",
       "3  GF         Old         Female  3    \n",
       "4  GF         Old         Male    5    \n",
       "5  GF         Young       Female  5    \n",
       "6  GF         Young       Male    4    \n",
       "7  SPF        Middle-aged Female  6    \n",
       "8  SPF        Middle-aged Male    5    \n",
       "9  SPF        Old         Female  3    \n",
       "10 SPF        Old         Male   14    \n",
       "11 SPF        Young       Female  3    \n",
       "12 SPF        Young       Male    3    "
      ]
     },
     "metadata": {},
     "output_type": "display_data"
    },
    {
     "data": {
      "text/html": [
       "<table>\n",
       "<thead><tr><th scope=col>Microbiota</th><th scope=col>Age</th><th scope=col>Sex</th><th scope=col>sample</th><th scope=col>project</th></tr></thead>\n",
       "<tbody>\n",
       "\t<tr><td>GF            </td><td>Old           </td><td>Female        </td><td>GF_104w_F_1_2 </td><td>S264          </td></tr>\n",
       "\t<tr><td>GF            </td><td>Old           </td><td>Female        </td><td>GF_104w_F_2_2 </td><td>S264          </td></tr>\n",
       "\t<tr><td>GF            </td><td>Old           </td><td>Female        </td><td>GF_104w_F_3_2 </td><td>S264          </td></tr>\n",
       "\t<tr><td>GF            </td><td>Old           </td><td>Male          </td><td>GF_104w_M_1_2 </td><td>S264          </td></tr>\n",
       "\t<tr><td>GF            </td><td>Old           </td><td>Male          </td><td>GF_104w_M_2_2 </td><td>S264          </td></tr>\n",
       "\t<tr><td>GF            </td><td>Old           </td><td>Male          </td><td>GF_104w_M_3_2 </td><td>S288          </td></tr>\n",
       "\t<tr><td>GF            </td><td>Old           </td><td>Male          </td><td>GF_104w_M_4_2 </td><td>S288          </td></tr>\n",
       "\t<tr><td>GF            </td><td>Old           </td><td>Male          </td><td>GF_104w_M_5_2 </td><td>S288          </td></tr>\n",
       "\t<tr><td>GF            </td><td>Middle-aged   </td><td>Female        </td><td>GF_52w_F_1_2  </td><td>S178          </td></tr>\n",
       "\t<tr><td>GF            </td><td>Middle-aged   </td><td>Female        </td><td>GF_52w_F_2_2  </td><td>S178          </td></tr>\n",
       "\t<tr><td>GF            </td><td>Middle-aged   </td><td>Female        </td><td>GF_52w_F_3_2  </td><td>S178          </td></tr>\n",
       "\t<tr><td>GF            </td><td>Middle-aged   </td><td>Female        </td><td>GF_52w_F_4_2  </td><td>S178          </td></tr>\n",
       "\t<tr><td>GF            </td><td>Middle-aged   </td><td>Female        </td><td>GF_52w_F_5_2  </td><td>S178          </td></tr>\n",
       "\t<tr><td>GF            </td><td>Middle-aged   </td><td>Female        </td><td>GF_52w_F_6_2  </td><td>S178          </td></tr>\n",
       "\t<tr><td>GF            </td><td>Middle-aged   </td><td>Male          </td><td>GF_52w_M_1_2  </td><td>S148          </td></tr>\n",
       "\t<tr><td>GF            </td><td>Middle-aged   </td><td>Male          </td><td>GF_52w_M_2_2  </td><td>S148          </td></tr>\n",
       "\t<tr><td>GF            </td><td>Middle-aged   </td><td>Male          </td><td>GF_52w_M_3_2  </td><td>S148          </td></tr>\n",
       "\t<tr><td>GF            </td><td>Middle-aged   </td><td>Male          </td><td>GF_52w_M_4_2  </td><td>S148          </td></tr>\n",
       "\t<tr><td>GF            </td><td>Young         </td><td>Female        </td><td>GF_8w_F_1_2   </td><td>S225          </td></tr>\n",
       "\t<tr><td>GF            </td><td>Young         </td><td>Female        </td><td>GF_8w_F_2_2   </td><td>S225          </td></tr>\n",
       "\t<tr><td>GF            </td><td>Young         </td><td>Female        </td><td>GF_8w_F_3_2   </td><td>S225          </td></tr>\n",
       "\t<tr><td>GF            </td><td>Young         </td><td>Female        </td><td>GF_8w_F_4_2   </td><td>S225          </td></tr>\n",
       "\t<tr><td>GF            </td><td>Young         </td><td>Female        </td><td>GF_8w_F_5_2   </td><td>S225          </td></tr>\n",
       "\t<tr><td>GF            </td><td>Young         </td><td>Male          </td><td>GF_8w_M_1_2   </td><td>S148          </td></tr>\n",
       "\t<tr><td>GF            </td><td>Young         </td><td>Male          </td><td>GF_8w_M_2_2   </td><td>S148          </td></tr>\n",
       "\t<tr><td>GF            </td><td>Young         </td><td>Male          </td><td>GF_8w_M_3_2   </td><td>S148          </td></tr>\n",
       "\t<tr><td>GF            </td><td>Young         </td><td>Male          </td><td>GF_8w_M_4_2   </td><td>S148          </td></tr>\n",
       "\t<tr><td>SPF           </td><td>Old           </td><td>Female        </td><td>SPF_104w_F_1_2</td><td>S174          </td></tr>\n",
       "\t<tr><td>SPF           </td><td>Old           </td><td>Female        </td><td>SPF_104w_F_2_2</td><td>S174          </td></tr>\n",
       "\t<tr><td>SPF           </td><td>Old           </td><td>Female        </td><td>SPF_104w_F_3_2</td><td>S174          </td></tr>\n",
       "\t<tr><td>⋮</td><td>⋮</td><td>⋮</td><td>⋮</td><td>⋮</td></tr>\n",
       "\t<tr><td>SPF            </td><td>Old            </td><td>Male           </td><td>SPF_104w_M_10_2</td><td>S198           </td></tr>\n",
       "\t<tr><td>SPF            </td><td>Old            </td><td>Male           </td><td>SPF_104w_M_11_2</td><td>S198           </td></tr>\n",
       "\t<tr><td>SPF            </td><td>Old            </td><td>Male           </td><td>SPF_104w_M_12_2</td><td>S198           </td></tr>\n",
       "\t<tr><td>SPF            </td><td>Old            </td><td>Male           </td><td>SPF_104w_M_13_2</td><td>S198           </td></tr>\n",
       "\t<tr><td>SPF            </td><td>Old            </td><td>Male           </td><td>SPF_104w_M_14_2</td><td>S198           </td></tr>\n",
       "\t<tr><td>SPF            </td><td>Old            </td><td>Male           </td><td>SPF_104w_M_2_2 </td><td>S174           </td></tr>\n",
       "\t<tr><td>SPF            </td><td>Old            </td><td>Male           </td><td>SPF_104w_M_3_2 </td><td>S174           </td></tr>\n",
       "\t<tr><td>SPF            </td><td>Old            </td><td>Male           </td><td>SPF_104w_M_4_2 </td><td>S174           </td></tr>\n",
       "\t<tr><td>SPF            </td><td>Old            </td><td>Male           </td><td>SPF_104w_M_5_2 </td><td>S198           </td></tr>\n",
       "\t<tr><td>SPF            </td><td>Old            </td><td>Male           </td><td>SPF_104w_M_6_2 </td><td>S198           </td></tr>\n",
       "\t<tr><td>SPF            </td><td>Old            </td><td>Male           </td><td>SPF_104w_M_7_2 </td><td>S198           </td></tr>\n",
       "\t<tr><td>SPF            </td><td>Old            </td><td>Male           </td><td>SPF_104w_M_8_2 </td><td>S198           </td></tr>\n",
       "\t<tr><td>SPF            </td><td>Old            </td><td>Male           </td><td>SPF_104w_M_9_2 </td><td>S198           </td></tr>\n",
       "\t<tr><td>SPF            </td><td>Middle-aged    </td><td>Female         </td><td>SPF_52w_F_1_2  </td><td>S178           </td></tr>\n",
       "\t<tr><td>SPF            </td><td>Middle-aged    </td><td>Female         </td><td>SPF_52w_F_2_2  </td><td>S178           </td></tr>\n",
       "\t<tr><td>SPF            </td><td>Middle-aged    </td><td>Female         </td><td>SPF_52w_F_3_2  </td><td>S178           </td></tr>\n",
       "\t<tr><td>SPF            </td><td>Middle-aged    </td><td>Female         </td><td>SPF_52w_F_4_2  </td><td>S178           </td></tr>\n",
       "\t<tr><td>SPF            </td><td>Middle-aged    </td><td>Female         </td><td>SPF_52w_F_5_2  </td><td>S178           </td></tr>\n",
       "\t<tr><td>SPF            </td><td>Middle-aged    </td><td>Female         </td><td>SPF_52w_F_6_2  </td><td>S178           </td></tr>\n",
       "\t<tr><td>SPF            </td><td>Middle-aged    </td><td>Male           </td><td>SPF_52w_M_1_2  </td><td>S148           </td></tr>\n",
       "\t<tr><td>SPF            </td><td>Middle-aged    </td><td>Male           </td><td>SPF_52w_M_2_2  </td><td>S148           </td></tr>\n",
       "\t<tr><td>SPF            </td><td>Middle-aged    </td><td>Male           </td><td>SPF_52w_M_3_2  </td><td>S148           </td></tr>\n",
       "\t<tr><td>SPF            </td><td>Middle-aged    </td><td>Male           </td><td>SPF_52w_M_4_2  </td><td>S148           </td></tr>\n",
       "\t<tr><td>SPF            </td><td>Middle-aged    </td><td>Male           </td><td>SPF_52w_M_5_2  </td><td>S148           </td></tr>\n",
       "\t<tr><td>SPF            </td><td>Young          </td><td>Female         </td><td>SPF_8w_F_1_2   </td><td>S225           </td></tr>\n",
       "\t<tr><td>SPF            </td><td>Young          </td><td>Female         </td><td>SPF_8w_F_3_2   </td><td>S225           </td></tr>\n",
       "\t<tr><td>SPF            </td><td>Young          </td><td>Female         </td><td>SPF_8w_F_4_2   </td><td>S225           </td></tr>\n",
       "\t<tr><td>SPF            </td><td>Young          </td><td>Male           </td><td>SPF_8w_M_2_2   </td><td>S148           </td></tr>\n",
       "\t<tr><td>SPF            </td><td>Young          </td><td>Male           </td><td>SPF_8w_M_3_2   </td><td>S148           </td></tr>\n",
       "\t<tr><td>SPF            </td><td>Young          </td><td>Male           </td><td>SPF_8w_M_4_2   </td><td>S148           </td></tr>\n",
       "</tbody>\n",
       "</table>\n"
      ],
      "text/latex": [
       "\\begin{tabular}{r|lllll}\n",
       " Microbiota & Age & Sex & sample & project\\\\\n",
       "\\hline\n",
       "\t GF                     & Old                    & Female                 & GF\\_104w\\_F\\_1\\_2  & S264                  \\\\\n",
       "\t GF                     & Old                    & Female                 & GF\\_104w\\_F\\_2\\_2  & S264                  \\\\\n",
       "\t GF                     & Old                    & Female                 & GF\\_104w\\_F\\_3\\_2  & S264                  \\\\\n",
       "\t GF                     & Old                    & Male                   & GF\\_104w\\_M\\_1\\_2  & S264                  \\\\\n",
       "\t GF                     & Old                    & Male                   & GF\\_104w\\_M\\_2\\_2  & S264                  \\\\\n",
       "\t GF                     & Old                    & Male                   & GF\\_104w\\_M\\_3\\_2  & S288                  \\\\\n",
       "\t GF                     & Old                    & Male                   & GF\\_104w\\_M\\_4\\_2  & S288                  \\\\\n",
       "\t GF                     & Old                    & Male                   & GF\\_104w\\_M\\_5\\_2  & S288                  \\\\\n",
       "\t GF                     & Middle-aged            & Female                 & GF\\_52w\\_F\\_1\\_2   & S178                  \\\\\n",
       "\t GF                     & Middle-aged            & Female                 & GF\\_52w\\_F\\_2\\_2   & S178                  \\\\\n",
       "\t GF                     & Middle-aged            & Female                 & GF\\_52w\\_F\\_3\\_2   & S178                  \\\\\n",
       "\t GF                     & Middle-aged            & Female                 & GF\\_52w\\_F\\_4\\_2   & S178                  \\\\\n",
       "\t GF                     & Middle-aged            & Female                 & GF\\_52w\\_F\\_5\\_2   & S178                  \\\\\n",
       "\t GF                     & Middle-aged            & Female                 & GF\\_52w\\_F\\_6\\_2   & S178                  \\\\\n",
       "\t GF                     & Middle-aged            & Male                   & GF\\_52w\\_M\\_1\\_2   & S148                  \\\\\n",
       "\t GF                     & Middle-aged            & Male                   & GF\\_52w\\_M\\_2\\_2   & S148                  \\\\\n",
       "\t GF                     & Middle-aged            & Male                   & GF\\_52w\\_M\\_3\\_2   & S148                  \\\\\n",
       "\t GF                     & Middle-aged            & Male                   & GF\\_52w\\_M\\_4\\_2   & S148                  \\\\\n",
       "\t GF                     & Young                  & Female                 & GF\\_8w\\_F\\_1\\_2    & S225                  \\\\\n",
       "\t GF                     & Young                  & Female                 & GF\\_8w\\_F\\_2\\_2    & S225                  \\\\\n",
       "\t GF                     & Young                  & Female                 & GF\\_8w\\_F\\_3\\_2    & S225                  \\\\\n",
       "\t GF                     & Young                  & Female                 & GF\\_8w\\_F\\_4\\_2    & S225                  \\\\\n",
       "\t GF                     & Young                  & Female                 & GF\\_8w\\_F\\_5\\_2    & S225                  \\\\\n",
       "\t GF                     & Young                  & Male                   & GF\\_8w\\_M\\_1\\_2    & S148                  \\\\\n",
       "\t GF                     & Young                  & Male                   & GF\\_8w\\_M\\_2\\_2    & S148                  \\\\\n",
       "\t GF                     & Young                  & Male                   & GF\\_8w\\_M\\_3\\_2    & S148                  \\\\\n",
       "\t GF                     & Young                  & Male                   & GF\\_8w\\_M\\_4\\_2    & S148                  \\\\\n",
       "\t SPF                    & Old                    & Female                 & SPF\\_104w\\_F\\_1\\_2 & S174                  \\\\\n",
       "\t SPF                    & Old                    & Female                 & SPF\\_104w\\_F\\_2\\_2 & S174                  \\\\\n",
       "\t SPF                    & Old                    & Female                 & SPF\\_104w\\_F\\_3\\_2 & S174                  \\\\\n",
       "\t ⋮ & ⋮ & ⋮ & ⋮ & ⋮\\\\\n",
       "\t SPF                     & Old                     & Male                    & SPF\\_104w\\_M\\_10\\_2 & S198                   \\\\\n",
       "\t SPF                     & Old                     & Male                    & SPF\\_104w\\_M\\_11\\_2 & S198                   \\\\\n",
       "\t SPF                     & Old                     & Male                    & SPF\\_104w\\_M\\_12\\_2 & S198                   \\\\\n",
       "\t SPF                     & Old                     & Male                    & SPF\\_104w\\_M\\_13\\_2 & S198                   \\\\\n",
       "\t SPF                     & Old                     & Male                    & SPF\\_104w\\_M\\_14\\_2 & S198                   \\\\\n",
       "\t SPF                     & Old                     & Male                    & SPF\\_104w\\_M\\_2\\_2  & S174                   \\\\\n",
       "\t SPF                     & Old                     & Male                    & SPF\\_104w\\_M\\_3\\_2  & S174                   \\\\\n",
       "\t SPF                     & Old                     & Male                    & SPF\\_104w\\_M\\_4\\_2  & S174                   \\\\\n",
       "\t SPF                     & Old                     & Male                    & SPF\\_104w\\_M\\_5\\_2  & S198                   \\\\\n",
       "\t SPF                     & Old                     & Male                    & SPF\\_104w\\_M\\_6\\_2  & S198                   \\\\\n",
       "\t SPF                     & Old                     & Male                    & SPF\\_104w\\_M\\_7\\_2  & S198                   \\\\\n",
       "\t SPF                     & Old                     & Male                    & SPF\\_104w\\_M\\_8\\_2  & S198                   \\\\\n",
       "\t SPF                     & Old                     & Male                    & SPF\\_104w\\_M\\_9\\_2  & S198                   \\\\\n",
       "\t SPF                     & Middle-aged             & Female                  & SPF\\_52w\\_F\\_1\\_2   & S178                   \\\\\n",
       "\t SPF                     & Middle-aged             & Female                  & SPF\\_52w\\_F\\_2\\_2   & S178                   \\\\\n",
       "\t SPF                     & Middle-aged             & Female                  & SPF\\_52w\\_F\\_3\\_2   & S178                   \\\\\n",
       "\t SPF                     & Middle-aged             & Female                  & SPF\\_52w\\_F\\_4\\_2   & S178                   \\\\\n",
       "\t SPF                     & Middle-aged             & Female                  & SPF\\_52w\\_F\\_5\\_2   & S178                   \\\\\n",
       "\t SPF                     & Middle-aged             & Female                  & SPF\\_52w\\_F\\_6\\_2   & S178                   \\\\\n",
       "\t SPF                     & Middle-aged             & Male                    & SPF\\_52w\\_M\\_1\\_2   & S148                   \\\\\n",
       "\t SPF                     & Middle-aged             & Male                    & SPF\\_52w\\_M\\_2\\_2   & S148                   \\\\\n",
       "\t SPF                     & Middle-aged             & Male                    & SPF\\_52w\\_M\\_3\\_2   & S148                   \\\\\n",
       "\t SPF                     & Middle-aged             & Male                    & SPF\\_52w\\_M\\_4\\_2   & S148                   \\\\\n",
       "\t SPF                     & Middle-aged             & Male                    & SPF\\_52w\\_M\\_5\\_2   & S148                   \\\\\n",
       "\t SPF                     & Young                   & Female                  & SPF\\_8w\\_F\\_1\\_2    & S225                   \\\\\n",
       "\t SPF                     & Young                   & Female                  & SPF\\_8w\\_F\\_3\\_2    & S225                   \\\\\n",
       "\t SPF                     & Young                   & Female                  & SPF\\_8w\\_F\\_4\\_2    & S225                   \\\\\n",
       "\t SPF                     & Young                   & Male                    & SPF\\_8w\\_M\\_2\\_2    & S148                   \\\\\n",
       "\t SPF                     & Young                   & Male                    & SPF\\_8w\\_M\\_3\\_2    & S148                   \\\\\n",
       "\t SPF                     & Young                   & Male                    & SPF\\_8w\\_M\\_4\\_2    & S148                   \\\\\n",
       "\\end{tabular}\n"
      ],
      "text/markdown": [
       "\n",
       "Microbiota | Age | Sex | sample | project | \n",
       "|---|---|---|---|---|---|---|---|---|---|---|---|---|---|---|---|---|---|---|---|---|---|---|---|---|---|---|---|---|---|---|---|---|---|---|---|---|---|---|---|---|---|---|---|---|---|---|---|---|---|---|---|---|---|---|---|---|---|---|---|---|\n",
       "| GF             | Old            | Female         | GF_104w_F_1_2  | S264           | \n",
       "| GF             | Old            | Female         | GF_104w_F_2_2  | S264           | \n",
       "| GF             | Old            | Female         | GF_104w_F_3_2  | S264           | \n",
       "| GF             | Old            | Male           | GF_104w_M_1_2  | S264           | \n",
       "| GF             | Old            | Male           | GF_104w_M_2_2  | S264           | \n",
       "| GF             | Old            | Male           | GF_104w_M_3_2  | S288           | \n",
       "| GF             | Old            | Male           | GF_104w_M_4_2  | S288           | \n",
       "| GF             | Old            | Male           | GF_104w_M_5_2  | S288           | \n",
       "| GF             | Middle-aged    | Female         | GF_52w_F_1_2   | S178           | \n",
       "| GF             | Middle-aged    | Female         | GF_52w_F_2_2   | S178           | \n",
       "| GF             | Middle-aged    | Female         | GF_52w_F_3_2   | S178           | \n",
       "| GF             | Middle-aged    | Female         | GF_52w_F_4_2   | S178           | \n",
       "| GF             | Middle-aged    | Female         | GF_52w_F_5_2   | S178           | \n",
       "| GF             | Middle-aged    | Female         | GF_52w_F_6_2   | S178           | \n",
       "| GF             | Middle-aged    | Male           | GF_52w_M_1_2   | S148           | \n",
       "| GF             | Middle-aged    | Male           | GF_52w_M_2_2   | S148           | \n",
       "| GF             | Middle-aged    | Male           | GF_52w_M_3_2   | S148           | \n",
       "| GF             | Middle-aged    | Male           | GF_52w_M_4_2   | S148           | \n",
       "| GF             | Young          | Female         | GF_8w_F_1_2    | S225           | \n",
       "| GF             | Young          | Female         | GF_8w_F_2_2    | S225           | \n",
       "| GF             | Young          | Female         | GF_8w_F_3_2    | S225           | \n",
       "| GF             | Young          | Female         | GF_8w_F_4_2    | S225           | \n",
       "| GF             | Young          | Female         | GF_8w_F_5_2    | S225           | \n",
       "| GF             | Young          | Male           | GF_8w_M_1_2    | S148           | \n",
       "| GF             | Young          | Male           | GF_8w_M_2_2    | S148           | \n",
       "| GF             | Young          | Male           | GF_8w_M_3_2    | S148           | \n",
       "| GF             | Young          | Male           | GF_8w_M_4_2    | S148           | \n",
       "| SPF            | Old            | Female         | SPF_104w_F_1_2 | S174           | \n",
       "| SPF            | Old            | Female         | SPF_104w_F_2_2 | S174           | \n",
       "| SPF            | Old            | Female         | SPF_104w_F_3_2 | S174           | \n",
       "| ⋮ | ⋮ | ⋮ | ⋮ | ⋮ | \n",
       "| SPF             | Old             | Male            | SPF_104w_M_10_2 | S198            | \n",
       "| SPF             | Old             | Male            | SPF_104w_M_11_2 | S198            | \n",
       "| SPF             | Old             | Male            | SPF_104w_M_12_2 | S198            | \n",
       "| SPF             | Old             | Male            | SPF_104w_M_13_2 | S198            | \n",
       "| SPF             | Old             | Male            | SPF_104w_M_14_2 | S198            | \n",
       "| SPF             | Old             | Male            | SPF_104w_M_2_2  | S174            | \n",
       "| SPF             | Old             | Male            | SPF_104w_M_3_2  | S174            | \n",
       "| SPF             | Old             | Male            | SPF_104w_M_4_2  | S174            | \n",
       "| SPF             | Old             | Male            | SPF_104w_M_5_2  | S198            | \n",
       "| SPF             | Old             | Male            | SPF_104w_M_6_2  | S198            | \n",
       "| SPF             | Old             | Male            | SPF_104w_M_7_2  | S198            | \n",
       "| SPF             | Old             | Male            | SPF_104w_M_8_2  | S198            | \n",
       "| SPF             | Old             | Male            | SPF_104w_M_9_2  | S198            | \n",
       "| SPF             | Middle-aged     | Female          | SPF_52w_F_1_2   | S178            | \n",
       "| SPF             | Middle-aged     | Female          | SPF_52w_F_2_2   | S178            | \n",
       "| SPF             | Middle-aged     | Female          | SPF_52w_F_3_2   | S178            | \n",
       "| SPF             | Middle-aged     | Female          | SPF_52w_F_4_2   | S178            | \n",
       "| SPF             | Middle-aged     | Female          | SPF_52w_F_5_2   | S178            | \n",
       "| SPF             | Middle-aged     | Female          | SPF_52w_F_6_2   | S178            | \n",
       "| SPF             | Middle-aged     | Male            | SPF_52w_M_1_2   | S148            | \n",
       "| SPF             | Middle-aged     | Male            | SPF_52w_M_2_2   | S148            | \n",
       "| SPF             | Middle-aged     | Male            | SPF_52w_M_3_2   | S148            | \n",
       "| SPF             | Middle-aged     | Male            | SPF_52w_M_4_2   | S148            | \n",
       "| SPF             | Middle-aged     | Male            | SPF_52w_M_5_2   | S148            | \n",
       "| SPF             | Young           | Female          | SPF_8w_F_1_2    | S225            | \n",
       "| SPF             | Young           | Female          | SPF_8w_F_3_2    | S225            | \n",
       "| SPF             | Young           | Female          | SPF_8w_F_4_2    | S225            | \n",
       "| SPF             | Young           | Male            | SPF_8w_M_2_2    | S148            | \n",
       "| SPF             | Young           | Male            | SPF_8w_M_3_2    | S148            | \n",
       "| SPF             | Young           | Male            | SPF_8w_M_4_2    | S148            | \n",
       "\n",
       "\n"
      ],
      "text/plain": [
       "   Microbiota Age         Sex    sample          project\n",
       "1  GF         Old         Female GF_104w_F_1_2   S264   \n",
       "2  GF         Old         Female GF_104w_F_2_2   S264   \n",
       "3  GF         Old         Female GF_104w_F_3_2   S264   \n",
       "4  GF         Old         Male   GF_104w_M_1_2   S264   \n",
       "5  GF         Old         Male   GF_104w_M_2_2   S264   \n",
       "6  GF         Old         Male   GF_104w_M_3_2   S288   \n",
       "7  GF         Old         Male   GF_104w_M_4_2   S288   \n",
       "8  GF         Old         Male   GF_104w_M_5_2   S288   \n",
       "9  GF         Middle-aged Female GF_52w_F_1_2    S178   \n",
       "10 GF         Middle-aged Female GF_52w_F_2_2    S178   \n",
       "11 GF         Middle-aged Female GF_52w_F_3_2    S178   \n",
       "12 GF         Middle-aged Female GF_52w_F_4_2    S178   \n",
       "13 GF         Middle-aged Female GF_52w_F_5_2    S178   \n",
       "14 GF         Middle-aged Female GF_52w_F_6_2    S178   \n",
       "15 GF         Middle-aged Male   GF_52w_M_1_2    S148   \n",
       "16 GF         Middle-aged Male   GF_52w_M_2_2    S148   \n",
       "17 GF         Middle-aged Male   GF_52w_M_3_2    S148   \n",
       "18 GF         Middle-aged Male   GF_52w_M_4_2    S148   \n",
       "19 GF         Young       Female GF_8w_F_1_2     S225   \n",
       "20 GF         Young       Female GF_8w_F_2_2     S225   \n",
       "21 GF         Young       Female GF_8w_F_3_2     S225   \n",
       "22 GF         Young       Female GF_8w_F_4_2     S225   \n",
       "23 GF         Young       Female GF_8w_F_5_2     S225   \n",
       "24 GF         Young       Male   GF_8w_M_1_2     S148   \n",
       "25 GF         Young       Male   GF_8w_M_2_2     S148   \n",
       "26 GF         Young       Male   GF_8w_M_3_2     S148   \n",
       "27 GF         Young       Male   GF_8w_M_4_2     S148   \n",
       "28 SPF        Old         Female SPF_104w_F_1_2  S174   \n",
       "29 SPF        Old         Female SPF_104w_F_2_2  S174   \n",
       "30 SPF        Old         Female SPF_104w_F_3_2  S174   \n",
       "⋮  ⋮          ⋮           ⋮      ⋮               ⋮      \n",
       "32 SPF        Old         Male   SPF_104w_M_10_2 S198   \n",
       "33 SPF        Old         Male   SPF_104w_M_11_2 S198   \n",
       "34 SPF        Old         Male   SPF_104w_M_12_2 S198   \n",
       "35 SPF        Old         Male   SPF_104w_M_13_2 S198   \n",
       "36 SPF        Old         Male   SPF_104w_M_14_2 S198   \n",
       "37 SPF        Old         Male   SPF_104w_M_2_2  S174   \n",
       "38 SPF        Old         Male   SPF_104w_M_3_2  S174   \n",
       "39 SPF        Old         Male   SPF_104w_M_4_2  S174   \n",
       "40 SPF        Old         Male   SPF_104w_M_5_2  S198   \n",
       "41 SPF        Old         Male   SPF_104w_M_6_2  S198   \n",
       "42 SPF        Old         Male   SPF_104w_M_7_2  S198   \n",
       "43 SPF        Old         Male   SPF_104w_M_8_2  S198   \n",
       "44 SPF        Old         Male   SPF_104w_M_9_2  S198   \n",
       "45 SPF        Middle-aged Female SPF_52w_F_1_2   S178   \n",
       "46 SPF        Middle-aged Female SPF_52w_F_2_2   S178   \n",
       "47 SPF        Middle-aged Female SPF_52w_F_3_2   S178   \n",
       "48 SPF        Middle-aged Female SPF_52w_F_4_2   S178   \n",
       "49 SPF        Middle-aged Female SPF_52w_F_5_2   S178   \n",
       "50 SPF        Middle-aged Female SPF_52w_F_6_2   S178   \n",
       "51 SPF        Middle-aged Male   SPF_52w_M_1_2   S148   \n",
       "52 SPF        Middle-aged Male   SPF_52w_M_2_2   S148   \n",
       "53 SPF        Middle-aged Male   SPF_52w_M_3_2   S148   \n",
       "54 SPF        Middle-aged Male   SPF_52w_M_4_2   S148   \n",
       "55 SPF        Middle-aged Male   SPF_52w_M_5_2   S148   \n",
       "56 SPF        Young       Female SPF_8w_F_1_2    S225   \n",
       "57 SPF        Young       Female SPF_8w_F_3_2    S225   \n",
       "58 SPF        Young       Female SPF_8w_F_4_2    S225   \n",
       "59 SPF        Young       Male   SPF_8w_M_2_2    S148   \n",
       "60 SPF        Young       Male   SPF_8w_M_3_2    S148   \n",
       "61 SPF        Young       Male   SPF_8w_M_4_2    S148   "
      ]
     },
     "metadata": {},
     "output_type": "display_data"
    }
   ],
   "source": [
    "metadata = tbl_df(t(sapply(sapply(colnames(counts), strsplit, split = \"_\"), unlist))) %>%\n",
    "   magrittr::set_colnames(c(\"type\", \"age\", \"gender\", \"replicate\", \"extra\")) %>%\n",
    "   mutate(sample = paste(type, age, gender, replicate, extra, sep =\"_\")) %>%\n",
    "   select(-extra) %>%\n",
    "   mutate(short_name = paste(type, age, gender, replicate, sep =\"_\")) %>%\n",
    "   select(-replicate) %>%\n",
    "   arrange(short_name) \n",
    "projects = file_desc %>%\n",
    "   filter(sample %in% metadata$short_name) %>%\n",
    "   arrange(sample) %>%\n",
    "   pull(\"Project.id\")\n",
    "metadata = metadata %>%\n",
    "    mutate(project = projects) %>%\n",
    "    select(-short_name) %>%\n",
    "    mutate(age = gsub(\"104w\", \"Old\", age )) %>%\n",
    "    mutate(age = gsub(\"52w\", \"Middle-aged\", age )) %>%\n",
    "    mutate(age = gsub(\"8w\", \"Young\", age )) %>%\n",
    "    mutate(gender = gsub(\"F\", \"Female\", gender )) %>%\n",
    "    mutate(gender = gsub(\"M\", \"Male\", gender)) %>%\n",
    "    rename(Sex = gender) %>%\n",
    "    rename(Microbiota = type) %>%\n",
    "    rename(Age = age)\n",
    "metadata %>%\n",
    "    group_by(Microbiota, Age, Sex)  %>% \n",
    "    summarise(Number = n())\n",
    "metadata"
   ]
  },
  {
   "cell_type": "code",
   "execution_count": 12,
   "metadata": {},
   "outputs": [],
   "source": [
    "save(metadata, file=\"../results/dge/metadata.RData\")"
   ]
  },
  {
   "cell_type": "markdown",
   "metadata": {},
   "source": [
    "# Citations"
   ]
  },
  {
   "cell_type": "code",
   "execution_count": 13,
   "metadata": {},
   "outputs": [
    {
     "data": {
      "text/plain": [
       "\n",
       "To cite rentrez in publications use:\n",
       "\n",
       "  Winter, D. J. (2017) rentrez: an R package for the NCBI eUtils API\n",
       "  The R Journal 9(2):520-526\n",
       "\n",
       "A BibTeX entry for LaTeX users is\n",
       "\n",
       "  @Article{,\n",
       "    title = {{rentrez}: an R package for the NCBI eUtils API},\n",
       "    author = {David J. Winter},\n",
       "    journal = {The R Journal},\n",
       "    year = {2017},\n",
       "    volume = {9},\n",
       "    issue = {2},\n",
       "    pages = {520--526},\n",
       "  }\n"
      ]
     },
     "metadata": {},
     "output_type": "display_data"
    }
   ],
   "source": [
    "citation(\"rentrez\")"
   ]
  }
 ],
 "metadata": {
  "hide_input": false,
  "kernelspec": {
   "display_name": "R",
   "language": "R",
   "name": "ir"
  },
  "language_info": {
   "codemirror_mode": "r",
   "file_extension": ".r",
   "mimetype": "text/x-r-source",
   "name": "R",
   "pygments_lexer": "r",
   "version": "3.4.3"
  },
  "toc": {
   "nav_menu": {},
   "number_sections": true,
   "sideBar": true,
   "skip_h1_title": false,
   "title_cell": "Table of Contents",
   "title_sidebar": "Contents",
   "toc_cell": false,
   "toc_position": {
    "height": "calc(100% - 180px)",
    "left": "10px",
    "top": "150px",
    "width": "229px"
   },
   "toc_section_display": true,
   "toc_window_display": true
  }
 },
 "nbformat": 4,
 "nbformat_minor": 2
}
