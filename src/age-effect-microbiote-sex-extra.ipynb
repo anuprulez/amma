{
 "cells": [
  {
   "cell_type": "markdown",
   "metadata": {},
   "source": [
    "# What happen to SPF aging genes in GF?\n",
    "\n",
    "Genes:\n",
    "1. Set 52w vs 8w: 52w != 8w (SPF)\n",
    "2. Set 104w vs 52w: 104w != 52w (SPF)\n",
    "2. Set all: 52w != 8w (SPF) and 104w != 52w (SPF)"
   ]
  },
  {
   "cell_type": "markdown",
   "metadata": {},
   "source": [
    "## Female\n",
    "\n",
    "Genes in \"../results/dge/age-effect/age_type_gender/spf_f_aging_genes\""
   ]
  },
  {
   "cell_type": "code",
   "execution_count": null,
   "metadata": {},
   "outputs": [],
   "source": [
    "spf_f_aging = list()\n",
    "spf_f_aging$deg_52w_vs_8w = rownames(age_type_gender_deg$fc_deg[!is.na(age_type_gender_deg$fc_deg[,\"52w VS 8w (F, SPF)\"]),])\n",
    "spf_f_aging$deg_104w_vs_52w = rownames(age_type_gender_deg$fc_deg[!is.na(age_type_gender_deg$fc_deg[,\"104w VS 52w (F, SPF)\"]),])\n",
    "spf_f_aging$deg_52w_vs_8w_and_104w_vs_52w = rownames(age_type_gender_deg$fc_deg[!is.na(age_type_gender_deg$fc_deg[,\"52w VS 8w (F, SPF)\"]) & !is.na(age_type_gender_deg$fc_deg[,\"104w VS 52w (F, SPF)\"]),])\n",
    "sapply(spf_f_aging, length)\n",
    "capture.output(spf_f_aging, file = \"../results/dge/age-effect/age_type_gender/spf_f_aging_genes\")"
   ]
  },
  {
   "cell_type": "code",
   "execution_count": null,
   "metadata": {},
   "outputs": [],
   "source": [
    "col_1 = rep(\"52w != 8w (SPF)\", length(spf_f_aging$deg_52w_vs_8w))\n",
    "col_1[spf_f_aging$deg_52w_vs_8w %in% spf_f_aging$deg_52w_vs_8w_and_104w_vs_52w] = \"52w != 8w (SPF) and 104w != 52w (SPF)\"\n",
    "log2fc_deg_52w_vs_8w = data.frame(SPF_52w_vs_8w = age_type_gender_deg$fc_deg[spf_f_aging$deg_52w_vs_8w, \"52w VS 8w (F, SPF)\"],\n",
    "                                  GF_52w_vs_8w = age_type_gender_deg$fc_deg[spf_f_aging$deg_52w_vs_8w, \"52w VS 8w (F, GF)\"],\n",
    "                                  GF_104w_vs_52w = age_type_gender_deg$fc_deg[spf_f_aging$deg_52w_vs_8w, \"104w VS 52w (F, GF)\"],\n",
    "                                  genes = spf_f_aging$deg_52w_vs_8w,\n",
    "                                  provenance = col_1)\n",
    "\n",
    "col_2 = rep(\"104w != 52w (SPF)\", length(spf_f_aging$deg_104w_vs_52w))\n",
    "col_2[spf_f_aging$deg_104w_vs_52w %in% spf_f_aging$deg_52w_vs_8w_and_104w_vs_52w] = \"52w != 8w (SPF) and 104w != 52w (SPF)\"\n",
    "log2fc_deg_104w_vs_52w = data.frame(SPF_104w_vs_52w = age_type_gender_deg$fc_deg[spf_f_aging$deg_104w_vs_52w, \"104w VS 52w (F, SPF)\"],\n",
    "                                    GF_52w_vs_8w = age_type_gender_deg$fc_deg[spf_f_aging$deg_104w_vs_52w, \"52w VS 8w (F, GF)\"],\n",
    "                                    GF_104w_vs_52w = age_type_gender_deg$fc_deg[spf_f_aging$deg_104w_vs_52w, \"104w VS 52w (F, GF)\"],\n",
    "                                    genes = spf_f_aging$deg_104w_vs_52w,\n",
    "                                    provenance = col_2)"
   ]
  },
  {
   "cell_type": "code",
   "execution_count": null,
   "metadata": {
    "scrolled": false
   },
   "outputs": [],
   "source": [
    "pal = c(rgb(0.5,0.5,1), rgb(0.5,1,0.5,alpha=0.5), rgb(1,0.5,0.5,alpha=0.5))\n",
    "pal = setNames(pal, c(\"52w != 8w (SPF)\", \"104w != 52w (SPF)\", \"52w != 8w (SPF) and 104w != 52w (SPF)\"))\n",
    "\n",
    "p1 = plot_ly(log2fc_deg_52w_vs_8w,\n",
    "        x = ~SPF_52w_vs_8w,\n",
    "        y = ~GF_52w_vs_8w,\n",
    "        text = paste(\"Gene: \", log2fc_deg_52w_vs_8w$genes),\n",
    "        mode = \"markers\",\n",
    "        color = ~provenance,\n",
    "        colors = pal,\n",
    "        legendgroup = ~provenance) %>%\n",
    "     layout(xaxis = list(title = \"Log2FC 52w vs 8w (SPF)\"), yaxis = list(title = \"Log2FC 52w vs 8w (GF)\"))\n",
    "\n",
    "p2 = plot_ly(log2fc_deg_104w_vs_52w,\n",
    "        x = ~SPF_104w_vs_52w,\n",
    "        y = ~GF_52w_vs_8w,\n",
    "        text = paste(\"Gene: \", log2fc_deg_104w_vs_52w$genes),\n",
    "        mode = \"markers\",\n",
    "        color = ~provenance,\n",
    "        colors = pal,\n",
    "        legendgroup = ~provenance) %>%\n",
    "     layout(xaxis = list(title = \"104w vs 52w (SPF)\"), yaxis = list(title = \"52w vs 8w (GF)\"))\n",
    "\n",
    "p3 = plot_ly(log2fc_deg_52w_vs_8w,\n",
    "        x = ~SPF_52w_vs_8w,\n",
    "        y = ~GF_104w_vs_52w,\n",
    "        text = paste(\"Gene: \", log2fc_deg_52w_vs_8w$genes),\n",
    "        mode = \"markers\",\n",
    "        color = ~provenance,\n",
    "        colors = pal,\n",
    "        legendgroup = ~provenance) %>%\n",
    "     layout(xaxis = list(title = \"52w vs 8w (SPF)\"), yaxis = list(title = \"104w vs 52w (GF)\"))\n",
    "\n",
    "p4 = plot_ly(log2fc_deg_104w_vs_52w,\n",
    "        x = ~SPF_104w_vs_52w,\n",
    "        y = ~GF_104w_vs_52w,\n",
    "        text = paste(\"Gene: \", log2fc_deg_104w_vs_52w$genes),\n",
    "        mode = \"markers\",\n",
    "        color = ~provenance,\n",
    "        colors = pal,\n",
    "        legendgroup = ~provenance) %>%\n",
    "     layout(xaxis = list(title = \"104w vs 52w (SPF)\"), yaxis = list(title = \"104w vs 52w (GF)\"))\n",
    "\n",
    "subplot(p1, p2, p3, p4, nrows = 2, shareX = TRUE, shareY = TRUE) %>%\n",
    "  layout(title = \"Log2FC\") %>% embed_notebook"
   ]
  },
  {
   "cell_type": "markdown",
   "metadata": {},
   "source": [
    "## Male\n",
    "\n",
    "Genes in \"../results/dge/age-effect/age_type_gender/spf_m_aging_genes\""
   ]
  },
  {
   "cell_type": "code",
   "execution_count": null,
   "metadata": {},
   "outputs": [],
   "source": [
    "spf_m_aging = list()\n",
    "spf_m_aging$deg_52w_vs_8w = rownames(age_type_gender_deg$fc_deg[!is.na(age_type_gender_deg$fc_deg[,\"52w VS 8w (M, SPF)\"]),])\n",
    "spf_m_aging$deg_104w_vs_52w = rownames(age_type_gender_deg$fc_deg[!is.na(age_type_gender_deg$fc_deg[,\"104w VS 52w (M, SPF)\"]),])\n",
    "spf_m_aging$deg_52w_vs_8w_and_104w_vs_52w = rownames(age_type_gender_deg$fc_deg[!is.na(age_type_gender_deg$fc_deg[,\"52w VS 8w (M, SPF)\"]) & !is.na(age_type_gender_deg$fc_deg[,\"104w VS 52w (M, SPF)\"]),])\n",
    "sapply(spf_m_aging, length)\n",
    "capture.output(spf_m_aging, file = \"../results/dge/age-effect/age_type_gender/spf_m_aging_genes\")"
   ]
  },
  {
   "cell_type": "code",
   "execution_count": null,
   "metadata": {},
   "outputs": [],
   "source": [
    "col_1 = rep(\"52w != 8w (SPF)\", length(spf_m_aging$deg_52w_vs_8w))\n",
    "col_1[spf_m_aging$deg_52w_vs_8w %in% spf_m_aging$deg_52w_vs_8w_and_104w_vs_52w] = \"52w != 8w (SPF) and 104w != 52w (SPF)\"\n",
    "log2fc_deg_52w_vs_8w = data.frame(SPF_52w_vs_8w = age_type_gender_deg$fc_deg[spf_m_aging$deg_52w_vs_8w, \"52w VS 8w (M, SPF)\"],\n",
    "                                  GF_52w_vs_8w = age_type_gender_deg$fc_deg[spf_m_aging$deg_52w_vs_8w, \"52w VS 8w (M, GF)\"],\n",
    "                                  GF_104w_vs_52w = age_type_gender_deg$fc_deg[spf_m_aging$deg_52w_vs_8w, \"104w VS 52w (M, GF)\"],\n",
    "                                  genes = spf_m_aging$deg_52w_vs_8w,\n",
    "                                  provenance = col_1)\n",
    "\n",
    "col_2 = rep(\"104w != 52w (SPF)\", length(spf_m_aging$deg_104w_vs_52w))\n",
    "col_2[spf_m_aging$deg_104w_vs_52w %in% spf_m_aging$deg_52w_vs_8w_and_104w_vs_52w] = \"52w != 8w (SPF) and 104w != 52w (SPF)\"\n",
    "log2fc_deg_104w_vs_52w = data.frame(SPF_104w_vs_52w = age_type_gender_deg$fc_deg[spf_m_aging$deg_104w_vs_52w, \"104w VS 52w (M, SPF)\"],\n",
    "                                    GF_52w_vs_8w = age_type_gender_deg$fc_deg[spf_m_aging$deg_104w_vs_52w, \"52w VS 8w (M, GF)\"],\n",
    "                                    GF_104w_vs_52w = age_type_gender_deg$fc_deg[spf_m_aging$deg_104w_vs_52w, \"104w VS 52w (M, GF)\"],\n",
    "                                    genes = spf_m_aging$deg_104w_vs_52w,\n",
    "                                    provenance = col_2)\n",
    "#log2fc_deg_52w_vs_8w_and_104w_vs_52w = data.frame(\n",
    "#    SPF_52w_vs_8w = age_type_gender_deg$fc_deg[spf_m_aging$deg_52w_vs_8w_and_104w_vs_52w, \"52w VS 8w (M, SPF)\"],\n",
    "#    SPF_104w_vs_52w = age_type_gender_deg$fc_deg[spf_m_aging$deg_52w_vs_8w_and_104w_vs_52w, \"104w VS 52w (M, SPF)\"],\n",
    "#    GF_52w_vs_8w = age_type_gender_deg$fc_deg[spf_m_aging$deg_52w_vs_8w_and_104w_vs_52w, \"52w VS 8w (M, GF)\"],\n",
    "#    GF_104w_vs_52w = age_type_gender_deg$fc_deg[spf_m_aging$deg_52w_vs_8w_and_104w_vs_52w, \"104w VS 52w (M, GF)\"],\n",
    "#    genes = spf_m_aging$deg_52w_vs_8w_and_104w_vs_52w)"
   ]
  },
  {
   "cell_type": "code",
   "execution_count": null,
   "metadata": {
    "scrolled": false
   },
   "outputs": [],
   "source": [
    "pal = c(rgb(0.5,0.5,1), rgb(0.5,1,0.5,alpha=0.5), rgb(1,0.5,0.5,alpha=0.5))\n",
    "pal = setNames(pal, c(\"52w != 8w (SPF)\", \"104w != 52w (SPF)\", \"52w != 8w (SPF) and 104w != 52w (SPF)\"))\n",
    "\n",
    "p1 = plot_ly(log2fc_deg_52w_vs_8w,\n",
    "        x = ~SPF_52w_vs_8w,\n",
    "        y = ~GF_52w_vs_8w,\n",
    "        text = paste(\"Gene: \", log2fc_deg_52w_vs_8w$genes),\n",
    "        mode = \"markers\",\n",
    "        color = ~provenance,\n",
    "        colors = pal,\n",
    "        legendgroup = ~provenance) %>%\n",
    "     layout(xaxis = list(title = \"52w vs 8w (SPF)\"), yaxis = list(title = \"52w vs 8w (GF)\"))\n",
    "\n",
    "p2 = plot_ly(log2fc_deg_104w_vs_52w,\n",
    "        x = ~SPF_104w_vs_52w,\n",
    "        y = ~GF_52w_vs_8w,\n",
    "        text = paste(\"Gene: \", log2fc_deg_104w_vs_52w$genes),\n",
    "        mode = \"markers\",\n",
    "        color = ~provenance,\n",
    "        colors = pal,\n",
    "        legendgroup = ~provenance) %>%\n",
    "     layout(xaxis = list(title = \"104w vs 52w (SPF)\"), yaxis = list(title = \"52w vs 8w (GF)\"))\n",
    "\n",
    "p3 = plot_ly(log2fc_deg_52w_vs_8w,\n",
    "        x = ~SPF_52w_vs_8w,\n",
    "        y = ~GF_104w_vs_52w,\n",
    "        text = paste(\"Gene: \", log2fc_deg_52w_vs_8w$genes),\n",
    "        mode = \"markers\",\n",
    "        color = ~provenance,\n",
    "        colors = pal,\n",
    "        legendgroup = ~provenance) %>%\n",
    "     layout(xaxis = list(title = \"52w vs 8w (SPF)\"), yaxis = list(title = \"104w vs 52w (GF)\"))\n",
    "\n",
    "p4 = plot_ly(log2fc_deg_104w_vs_52w,\n",
    "        x = ~SPF_104w_vs_52w,\n",
    "        y = ~GF_104w_vs_52w,\n",
    "        text = paste(\"Gene: \", log2fc_deg_104w_vs_52w$genes),\n",
    "        mode = \"markers\",\n",
    "        color = ~provenance,\n",
    "        colors = pal,\n",
    "        legendgroup = ~provenance) %>%\n",
    "     layout(xaxis = list(title = \"104w vs 52w (SPF)\"), yaxis = list(title = \"104w vs 52w (GF)\"))\n",
    "\n",
    "subplot(p1, p2, p3, p4, nrows = 2, shareX = TRUE, shareY = TRUE) %>%\n",
    "  layout(title = \"Log2FC\") %>% embed_notebook"
   ]
  },
  {
   "cell_type": "markdown",
   "metadata": {},
   "source": [
    "# DEGs 104w vs 8w"
   ]
  },
  {
   "cell_type": "markdown",
   "metadata": {},
   "source": [
    "## SPF, F"
   ]
  },
  {
   "cell_type": "code",
   "execution_count": null,
   "metadata": {},
   "outputs": [],
   "source": [
    "comp = \"104w VS 8w (F, SPF)\"\n",
    "F_SPF_104w_8w_DEG = rownames(age_type_gender_deg$sign_fc_deg)[!is.na(age_type_gender_deg$sign_fc_deg[,comp])]\n",
    "F_SPF_104w_8w_DE_FC = age_type_gender_deg$sign_fc_deg[F_SPF_104w_8w_DEG,comp]\n",
    "names(F_SPF_104w_8w_DE_FC) = F_SPF_104w_8w_DEG\n",
    "# order by FC\n",
    "F_SPF_104w_8w_DEG = names(sort(F_SPF_104w_8w_DE_FC))\n",
    "# selection col to plot\n",
    "col_to_plot = list(\"SPF 8w F\" = grep(\"SPF_8w_F_+\", colnames(norm_counts), perl=TRUE, value=TRUE),\n",
    "                   \"SPF 104w F\" = grep(\"SPF_104w_F_+\", colnames(norm_counts), perl=TRUE, value=TRUE),\n",
    "                   \"GF 104w F\" = grep(\"GF_104w_F_+\", colnames(norm_counts), perl=TRUE, value=TRUE),\n",
    "                   \"GF 104w M\" = grep(\"GF_104w_M_+\", colnames(norm_counts), perl=TRUE, value=TRUE))\n",
    "main_title = \"DE genes in 104w vs 8w (SPF, F)\""
   ]
  },
  {
   "cell_type": "markdown",
   "metadata": {},
   "source": [
    "Heatmap of the Z-scores of the DEGs (ordered by log2 FC of the comparison 104w VS 8w (F, SPF))"
   ]
  },
  {
   "cell_type": "code",
   "execution_count": null,
   "metadata": {},
   "outputs": [],
   "source": [
    "# get DEG data\n",
    "deg_data = z_scores[F_SPF_104w_8w_DEG, unlist(col_to_plot)]\n",
    "# plot heatmap\n",
    "pheatmap(deg_data,\n",
    "         cluster_rows=F,\n",
    "         cluster_cols=F,\n",
    "         show_rownames=F,\n",
    "         show_colnames=F,\n",
    "         annotation_col=gta_annot_col,\n",
    "         annotation_row=NULL,\n",
    "         annotation_colors = NULL,\n",
    "         color=rev(brewer.pal(11, \"RdBu\")),\n",
    "         breaks = seq(-3.5, 3.5, length=11),\n",
    "         main = main_title)"
   ]
  },
  {
   "cell_type": "markdown",
   "metadata": {},
   "source": [
    "Heatmap of the Z-scores with hierarchical clustering"
   ]
  },
  {
   "cell_type": "code",
   "execution_count": null,
   "metadata": {},
   "outputs": [],
   "source": [
    "# get non DEG data and do hierarchical clustering on them\n",
    "hc = hclust(dist(deg_data), method = \"complete\")\n",
    "c_deg_data = deg_data[hc$order,]\n",
    "# plot heatmap\n",
    "pheatmap(c_deg_data,\n",
    "         cluster_rows=F,\n",
    "         cluster_cols=F,\n",
    "         show_rownames=F,\n",
    "         show_colnames=F,\n",
    "         annotation_col=gta_annot_col,\n",
    "         annotation_row=NULL,\n",
    "         annotation_colors = NULL,\n",
    "         color=rev(brewer.pal(11, \"RdBu\")),\n",
    "         breaks = seq(-3.5, 3.5, length=11),\n",
    "         main = main_title)"
   ]
  },
  {
   "cell_type": "code",
   "execution_count": null,
   "metadata": {},
   "outputs": [],
   "source": [
    "mean_z_scores = cbind(apply(z_scores[F_SPF_104w_8w_DEG,col_to_plot[[1]]],1,mean),\n",
    "                      apply(z_scores[F_SPF_104w_8w_DEG,col_to_plot[[2]]],1,mean),\n",
    "                      apply(z_scores[F_SPF_104w_8w_DEG,col_to_plot[[3]]],1,mean),\n",
    "                      apply(z_scores[F_SPF_104w_8w_DEG,col_to_plot[[4]]],1,mean))\n",
    "colnames(mean_z_scores) = names(col_to_plot)\n",
    "head(mean_z_scores)"
   ]
  },
  {
   "cell_type": "markdown",
   "metadata": {},
   "source": [
    "Heatmap of the mean Z-scores per groups of the DEGs (ordered by log2 FC of the comparison 104w VS 8w (F, SPF))"
   ]
  },
  {
   "cell_type": "code",
   "execution_count": null,
   "metadata": {},
   "outputs": [],
   "source": [
    "col_annot = data.frame(age = c(\"8w\",rep(\"104w\",3)),\n",
    "                       type = c(rep(\"SPF\",2),rep(\"GF\",2)),\n",
    "                       gender = c(rep(\"F\",3),\"M\"))\n",
    "rownames(col_annot) = c(\"SPF 8w F\",\"SPF 104w F\",\"GF 104w F\",\"GF 104w M\")\n",
    "pheatmap(mean_z_scores,\n",
    "         cluster_rows=F,\n",
    "         cluster_cols=F,\n",
    "         show_rownames=F,\n",
    "         show_colnames=F,\n",
    "         annotation_col=col_annot,\n",
    "         annotation_row=NULL,\n",
    "         annotation_colors = NULL,\n",
    "         color=rev(brewer.pal(11, \"RdBu\")),\n",
    "         breaks = seq(-3.5, 3.5, length=11),\n",
    "         main = main_title)"
   ]
  },
  {
   "cell_type": "markdown",
   "metadata": {},
   "source": [
    "Heatmap of the mean Z-scores per groups of the DEGs (hierarchical clustering)"
   ]
  },
  {
   "cell_type": "code",
   "execution_count": null,
   "metadata": {},
   "outputs": [],
   "source": [
    "# get non DEG data and do hierarchical clustering on them\n",
    "hc = hclust(dist(mean_z_scores), method = \"complete\")\n",
    "c_mean_z_scores = mean_z_scores[hc$order,]\n",
    "#\n",
    "pheatmap(c_mean_z_scores,\n",
    "         cluster_rows=F,\n",
    "         cluster_cols=F,\n",
    "         show_rownames=F,\n",
    "         show_colnames=F,\n",
    "         annotation_col=col_annot,\n",
    "         annotation_row=NULL,\n",
    "         annotation_colors = NULL,\n",
    "         color=rev(brewer.pal(11, \"RdBu\")),\n",
    "         breaks = seq(-3.5, 3.5, length=11),\n",
    "         main = main_title)"
   ]
  },
  {
   "cell_type": "markdown",
   "metadata": {},
   "source": [
    "Plot of the mean Z-score for GF 104w F and GF 104w M samples in function of the log2 FC of the comparison 104w VS 8w (F, SPF)"
   ]
  },
  {
   "cell_type": "code",
   "execution_count": null,
   "metadata": {},
   "outputs": [],
   "source": [
    "data = mean_z_scores\n",
    "x = F_SPF_104w_8w_DE_FC[F_SPF_104w_8w_DEG]\n",
    "plot(c(min(x), max(x)), c(min(data), max(data)), type= \"n\", xlab = \"Log2 FC of DEG in 104w vs 8w (SPF, F)\", ylab = \"Mean Z-score\")\n",
    "points(x, data[, 1], col = 1, pch = 20)\n",
    "points(x, data[, 2], col = 2, pch = 20)\n",
    "points(x, data[, 3], col = 3, pch = 20)\n",
    "points(x, data[, 4], col = 4, pch = 20)\n",
    "legend(\"topright\", col = 1:4, colnames(data), pch = 19)"
   ]
  },
  {
   "cell_type": "markdown",
   "metadata": {},
   "source": [
    "## SPF, M"
   ]
  },
  {
   "cell_type": "code",
   "execution_count": null,
   "metadata": {},
   "outputs": [],
   "source": [
    "comp = \"104w VS 8w (M, SPF)\"\n",
    "M_SPF_104w_8w_DEG = rownames(age_type_gender_deg$sign_fc_deg)[!is.na(age_type_gender_deg$sign_fc_deg[,comp])]\n",
    "M_SPF_104w_8w_DE_FC = age_type_gender_deg$sign_fc_deg[M_SPF_104w_8w_DEG,comp]\n",
    "names(M_SPF_104w_8w_DE_FC) = M_SPF_104w_8w_DEG\n",
    "# order by FC\n",
    "M_SPF_104w_8w_DEG = names(sort(M_SPF_104w_8w_DE_FC))\n",
    "# selection col to plot\n",
    "col_to_plot = list(\"SPF 8w M\" = grep(\"SPF_8w_M_+\", colnames(norm_counts), perl=TRUE, value=TRUE),\n",
    "                   \"SPF 104w M\" = grep(\"SPF_104w_M_+\", colnames(norm_counts), perl=TRUE, value=TRUE),\n",
    "                   \"GF 104w M\" = grep(\"GF_104w_M_+\", colnames(norm_counts), perl=TRUE, value=TRUE),\n",
    "                   \"GF 104w F\" = grep(\"GF_104w_F_+\", colnames(norm_counts), perl=TRUE, value=TRUE))\n",
    "main_title = \"DE genes in 104w vs 8w (SPF, M)\""
   ]
  },
  {
   "cell_type": "markdown",
   "metadata": {},
   "source": [
    "Heatmap of the Z-scores of the DEGs (ordered by log2 FC of the comparison 104w VS 8w (M, SPF))"
   ]
  },
  {
   "cell_type": "code",
   "execution_count": null,
   "metadata": {},
   "outputs": [],
   "source": [
    "# get DEG data\n",
    "deg_data = z_scores[M_SPF_104w_8w_DEG, unlist(col_to_plot)]\n",
    "# plot heatmap\n",
    "pheatmap(deg_data,\n",
    "         cluster_rows=F,\n",
    "         cluster_cols=F,\n",
    "         show_rownames=F,\n",
    "         show_colnames=F,\n",
    "         annotation_col=gta_annot_col,\n",
    "         annotation_row=NULL,\n",
    "         annotation_colors = NULL,\n",
    "         color=rev(brewer.pal(11, \"RdBu\")),\n",
    "         breaks = seq(-3.5, 3.5, length=11),\n",
    "         main = main_title)"
   ]
  },
  {
   "cell_type": "markdown",
   "metadata": {},
   "source": [
    "Heatmap of the Z-scores with hierarchical clustering"
   ]
  },
  {
   "cell_type": "code",
   "execution_count": null,
   "metadata": {},
   "outputs": [],
   "source": [
    "# get non DEG data and do hierarchical clustering on them\n",
    "hc = hclust(dist(deg_data), method = \"complete\")\n",
    "c_deg_data = deg_data[hc$order,]\n",
    "# plot heatmap\n",
    "pheatmap(c_deg_data,\n",
    "         cluster_rows=F,\n",
    "         cluster_cols=F,\n",
    "         show_rownames=F,\n",
    "         show_colnames=F,\n",
    "         annotation_col=gta_annot_col,\n",
    "         annotation_row=NULL,\n",
    "         annotation_colors = NULL,\n",
    "         color=rev(brewer.pal(11, \"RdBu\")),\n",
    "         breaks = seq(-3.5, 3.5, length=11),\n",
    "         main = main_title)"
   ]
  },
  {
   "cell_type": "code",
   "execution_count": null,
   "metadata": {},
   "outputs": [],
   "source": [
    "mean_z_scores = cbind(apply(z_scores[M_SPF_104w_8w_DEG,col_to_plot[[1]]],1,mean),\n",
    "                      apply(z_scores[M_SPF_104w_8w_DEG,col_to_plot[[2]]],1,mean),\n",
    "                      apply(z_scores[M_SPF_104w_8w_DEG,col_to_plot[[3]]],1,mean),\n",
    "                      apply(z_scores[M_SPF_104w_8w_DEG,col_to_plot[[4]]],1,mean))\n",
    "colnames(mean_z_scores) = names(col_to_plot)\n",
    "head(mean_z_scores)"
   ]
  },
  {
   "cell_type": "markdown",
   "metadata": {},
   "source": [
    "Heatmap of the mean Z-scores per groups of the DEGs (ordered by log2 FC of the comparison 104w VS 8w (F, SPF))"
   ]
  },
  {
   "cell_type": "code",
   "execution_count": null,
   "metadata": {},
   "outputs": [],
   "source": [
    "col_annot = data.frame(age = c(\"8w\",rep(\"104w\",3)),\n",
    "                       type = c(rep(\"SPF\",2),rep(\"GF\",2)),\n",
    "                       gender = c(rep(\"M\",3),\"F\"))\n",
    "rownames(col_annot) = c(\"SPF 8w M\",\"SPF 104w M\",\"GF 104w M\",\"GF 104w F\")\n",
    "pheatmap(mean_z_scores,\n",
    "         cluster_rows=F,\n",
    "         cluster_cols=F,\n",
    "         show_rownames=F,\n",
    "         show_colnames=F,\n",
    "         annotation_col=col_annot,\n",
    "         annotation_row=NULL,\n",
    "         annotation_colors = NULL,\n",
    "         color=rev(brewer.pal(11, \"RdBu\")),\n",
    "         breaks = seq(-3.5, 3.5, length=11),\n",
    "         main = main_title)"
   ]
  },
  {
   "cell_type": "markdown",
   "metadata": {},
   "source": [
    "Heatmap of the mean Z-scores per groups of the DEGs (hierarchical clustering)"
   ]
  },
  {
   "cell_type": "code",
   "execution_count": null,
   "metadata": {},
   "outputs": [],
   "source": [
    "# get non DEG data and do hierarchical clustering on them\n",
    "hc = hclust(dist(mean_z_scores), method = \"complete\")\n",
    "c_mean_z_scores = mean_z_scores[hc$order,]\n",
    "#\n",
    "pheatmap(mean_z_scores,\n",
    "         cluster_rows=F,\n",
    "         cluster_cols=F,\n",
    "         show_rownames=F,\n",
    "         show_colnames=F,\n",
    "         annotation_col=col_annot,\n",
    "         annotation_row=NULL,\n",
    "         annotation_colors = NULL,\n",
    "         color=rev(brewer.pal(11, \"RdBu\")),\n",
    "         breaks = seq(-3.5, 3.5, length=11),\n",
    "         main = main_title)"
   ]
  },
  {
   "cell_type": "code",
   "execution_count": null,
   "metadata": {},
   "outputs": [],
   "source": []
  }
 ],
 "metadata": {
  "hide_input": false,
  "kernelspec": {
   "display_name": "R",
   "language": "R",
   "name": "ir"
  },
  "language_info": {
   "codemirror_mode": "r",
   "file_extension": ".r",
   "mimetype": "text/x-r-source",
   "name": "R",
   "pygments_lexer": "r",
   "version": "3.4.3"
  },
  "toc": {
   "nav_menu": {},
   "number_sections": true,
   "sideBar": true,
   "skip_h1_title": false,
   "title_cell": "Table of Contents",
   "title_sidebar": "Contents",
   "toc_cell": false,
   "toc_position": {},
   "toc_section_display": true,
   "toc_window_display": false
  }
 },
 "nbformat": 4,
 "nbformat_minor": 2
}
