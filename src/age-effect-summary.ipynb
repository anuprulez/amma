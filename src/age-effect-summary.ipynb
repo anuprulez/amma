{
 "cells": [
  {
   "cell_type": "markdown",
   "metadata": {
    "extensions": {
     "jupyter_dashboards": {
      "version": 1,
      "views": {
       "grid_default": {
        "col": 0,
        "height": 4,
        "hidden": false,
        "row": 10,
        "width": 4
       },
       "report_default": {
        "hidden": true
       }
      }
     }
    }
   },
   "source": [
    "# Loads\n",
    "\n",
    "## Libraries and functions"
   ]
  },
  {
   "cell_type": "code",
   "execution_count": 1,
   "metadata": {
    "extensions": {
     "jupyter_dashboards": {
      "version": 1,
      "views": {
       "grid_default": {
        "col": 4,
        "height": 4,
        "hidden": false,
        "row": 10,
        "width": 4
       },
       "report_default": {
        "hidden": true
       }
      }
     }
    },
    "scrolled": false
   },
   "outputs": [
    {
     "name": "stderr",
     "output_type": "stream",
     "text": [
      "Warning message in is.na(x[[i]]):\n",
      "“is.na() applied to non-(list or vector) of type 'environment'”"
     ]
    },
    {
     "name": "stdout",
     "output_type": "stream",
     "text": [
      "==========================================================================\n",
      "*\n",
      "*  Package WGCNA 1.63 loaded.\n",
      "*\n",
      "*    Important note: It appears that your system supports multi-threading,\n",
      "*    but it is not enabled within WGCNA in R. \n",
      "*    To allow multi-threading within WGCNA with all available cores, use \n",
      "*\n",
      "*          allowWGCNAThreads()\n",
      "*\n",
      "*    within R. Use disableWGCNAThreads() to disable threading if necessary.\n",
      "*    Alternatively, set the following environment variable on your system:\n",
      "*\n",
      "*          ALLOW_WGCNA_THREADS=<number_of_processors>\n",
      "*\n",
      "*    for example \n",
      "*\n",
      "*          ALLOW_WGCNA_THREADS=4\n",
      "*\n",
      "*    To set the environment variable in linux bash shell, type \n",
      "*\n",
      "*           export ALLOW_WGCNA_THREADS=4\n",
      "*\n",
      "*     before running R. Other operating systems or shells will\n",
      "*     have a similar command to achieve the same aim.\n",
      "*\n",
      "==========================================================================\n",
      "\n",
      "\n",
      "Allowing multi-threading with up to 4 threads.\n",
      "[1] \"preparing gene to GO mapping data...\"\n",
      "[1] \"preparing IC data...\"\n",
      "[1] \"preparing gene to GO mapping data...\"\n",
      "[1] \"preparing IC data...\"\n",
      "[1] \"preparing gene to GO mapping data...\"\n",
      "[1] \"preparing IC data...\"\n"
     ]
    }
   ],
   "source": [
    "source(\"load_libraries.R\")"
   ]
  },
  {
   "cell_type": "code",
   "execution_count": 2,
   "metadata": {
    "extensions": {
     "jupyter_dashboards": {
      "version": 1,
      "views": {
       "grid_default": {
        "hidden": true
       },
       "report_default": {
        "hidden": true
       }
      }
     }
    }
   },
   "outputs": [],
   "source": [
    "source(\"functions.R\")"
   ]
  },
  {
   "cell_type": "markdown",
   "metadata": {
    "extensions": {
     "jupyter_dashboards": {
      "version": 1,
      "views": {
       "grid_default": {
        "col": 8,
        "height": 4,
        "hidden": false,
        "row": 10,
        "width": 4
       },
       "report_default": {
        "hidden": true
       }
      }
     }
    }
   },
   "source": [
    "## Data"
   ]
  },
  {
   "cell_type": "code",
   "execution_count": 3,
   "metadata": {
    "extensions": {
     "jupyter_dashboards": {
      "version": 1,
      "views": {
       "grid_default": {
        "hidden": true
       },
       "report_default": {
        "hidden": true
       }
      }
     }
    }
   },
   "outputs": [],
   "source": [
    "load(\"../results/dge/norm_counts.RData\")\n",
    "load(\"../results/dge/dge.RData\")"
   ]
  },
  {
   "cell_type": "code",
   "execution_count": 4,
   "metadata": {
    "extensions": {
     "jupyter_dashboards": {
      "version": 1,
      "views": {
       "grid_default": {
        "hidden": true
       },
       "report_default": {
        "hidden": true
       }
      }
     }
    }
   },
   "outputs": [],
   "source": [
    "load(\"../results/dge/dge_net.RData\")\n",
    "load(\"../results/dge/dge_layout.RData\")\n",
    "load(\"../results/dge/dge_net_connected_gene_colors.RData\")\n",
    "load(\"../results/dge/dge_net_pal2.RData\")"
   ]
  },
  {
   "cell_type": "code",
   "execution_count": 5,
   "metadata": {
    "extensions": {
     "jupyter_dashboards": {
      "version": 1,
      "views": {
       "grid_default": {
        "hidden": true
       },
       "report_default": {
        "hidden": true
       }
      }
     }
    }
   },
   "outputs": [],
   "source": [
    "module_nb = length(unique(connected_gene_colors))\n",
    "pal2 = c(pal2, \"white\", \"black\")"
   ]
  },
  {
   "cell_type": "markdown",
   "metadata": {},
   "source": [
    "# Comparison between the types"
   ]
  },
  {
   "cell_type": "code",
   "execution_count": 6,
   "metadata": {},
   "outputs": [],
   "source": [
    "# General\n",
    "global_52w_8w = results(dge, contrast= c(0,0,0,0,1,0,1/2,0,0,1/2), alpha=0.05, test=\"Wald\")\n",
    "global_104w_8w = results(dge, contrast= c(0,0,0,1,0,1/2,0,0,1/2,0), alpha=0.05, test=\"Wald\")\n",
    "global_104w_52w = results(dge, contrast= c(0,0,0,1,-1,1/2,-1/2,0,1/2,-1/2), alpha=0.05, test=\"Wald\")\n",
    "# Type\n",
    "SPF_52w_8w = results(dge,contrast= c(0,0,0,0,1,0,1/2,0,0,0), alpha=0.05, test=\"Wald\")\n",
    "GF_52w_8w = results(dge,contrast= c(0,0,0,0,1,0,1/2,0,0,1), alpha=0.05, test=\"Wald\")\n",
    "SPF_104w_8w = results(dge,contrast= c(0,0,0,1,0,1/2,0,0,0,0), alpha=0.05, test=\"Wald\")\n",
    "GF_104w_8w = results(dge,contrast= c(0,0,0,1,0,1/2,0,0,1,0), alpha=0.05, test=\"Wald\")\n",
    "SPF_104w_52w = results(dge,contrast= c(0,0,0,1,-1,1/2,-1/2,0,0,0), alpha=0.05, test=\"Wald\")\n",
    "GF_104w_52w = results(dge,contrast= c(0,0,0,1,-1,1/2,-1/2,0,1,-1), alpha=0.05, test=\"Wald\")\n",
    "# Gender\n",
    "F_52w_8w = results(dge,contrast= c(0,0,0,0,1,0,0,0,0,1/2), alpha=0.05, test=\"Wald\")\n",
    "M_52w_8w = results(dge,contrast= c(0,0,0,0,1,0,1,0,0,1/2), alpha=0.05, test=\"Wald\")\n",
    "F_104w_8w = results(dge,contrast= c(0,0,0,1,0,0,0,0,1/2,0), alpha=0.05, test=\"Wald\")\n",
    "M_104w_8w = results(dge,contrast= c(0,0,0,1,0,1,0,0,1/2,0), alpha=0.05, test=\"Wald\")\n",
    "F_104w_52w = results(dge,contrast= c(0,0,0,1,-1,0,0,0,1/2,-1/2), alpha=0.05, test=\"Wald\")\n",
    "M_104w_52w = results(dge,contrast= c(0,0,0,1,-1,1,-1,0,1/2,-1/2), alpha=0.05, test=\"Wald\")\n",
    "# Type and gender\n",
    "F_SPF_52w_8w = results(dge,contrast= c(0,0,0,0,1,0,0,0,0,0), alpha=0.05, test=\"Wald\")\n",
    "F_GF_52w_8w = results(dge,contrast= c(0,0,0,0,1,0,0,0,0,1), alpha=0.05, test=\"Wald\")\n",
    "M_SPF_52w_8w = results(dge,contrast= c(0,0,0,0,1,0,1,0,0,0), alpha=0.05, test=\"Wald\")\n",
    "M_GF_52w_8w = results(dge,contrast= c(0,0,0,0,1,0,1,0,0,1), alpha=0.05, test=\"Wald\")\n",
    "F_SPF_104w_8w = results(dge,contrast= c(0,0,0,1,0,0,0,0,0,0), alpha=0.05, test=\"Wald\")\n",
    "F_GF_104w_8w = results(dge,contrast= c(0,0,0,1,0,0,0,0,1,0), alpha=0.05, test=\"Wald\")\n",
    "M_SPF_104w_8w = results(dge,contrast= c(0,0,0,1,0,1,0,0,0,0), alpha=0.05, test=\"Wald\")\n",
    "M_GF_104w_8w = results(dge,contrast= c(0,0,0,1,0,1,0,0,1,0), alpha=0.05, test=\"Wald\")\n",
    "F_SPF_104w_52w = results(dge,contrast= c(0,0,0,1,-1,0,0,0,0,0), alpha=0.05, test=\"Wald\")\n",
    "F_GF_104w_52w = results(dge,contrast= c(0,0,0,1,-1,0,0,0,1,-1), alpha=0.05, test=\"Wald\")\n",
    "M_SPF_104w_52w = results(dge,contrast= c(0,0,0,1,-1,1,-1,0,0,0), alpha=0.05, test=\"Wald\")\n",
    "M_GF_104w_52w = results(dge,contrast= c(0,0,0,1,-1,1,-1,0,1,-1), alpha=0.05, test=\"Wald\")"
   ]
  },
  {
   "cell_type": "code",
   "execution_count": 12,
   "metadata": {},
   "outputs": [
    {
     "data": {
      "text/html": [
       "<table>\n",
       "<thead><tr><th></th><th scope=col>Wald padj &lt; 0.05</th><th scope=col>LFC &gt; 0 (Wald padj &lt; 0.05)</th><th scope=col>LFC &lt; 0 (Wald padj &lt; 0.05)</th></tr></thead>\n",
       "<tbody>\n",
       "\t<tr><th scope=row>52w VS 8w</th><td>2157</td><td>1176</td><td> 981</td></tr>\n",
       "\t<tr><th scope=row>104w VS 8w</th><td>3192</td><td>1701</td><td>1491</td></tr>\n",
       "\t<tr><th scope=row>104w VS 52w</th><td>2284</td><td>1252</td><td>1032</td></tr>\n",
       "\t<tr><th scope=row>52w VS 8w (SPF)</th><td>1391</td><td> 796</td><td> 595</td></tr>\n",
       "\t<tr><th scope=row>52w VS 8w (GF)</th><td> 600</td><td> 367</td><td> 233</td></tr>\n",
       "\t<tr><th scope=row>104w VS 8w (SPF)</th><td>3231</td><td>1774</td><td>1457</td></tr>\n",
       "\t<tr><th scope=row>104w VS 8w (GF)</th><td>1861</td><td> 972</td><td> 889</td></tr>\n",
       "\t<tr><th scope=row>104w VS 52w (SPF)</th><td>1474</td><td> 885</td><td> 589</td></tr>\n",
       "\t<tr><th scope=row>104w VS 52w (GF)</th><td>1623</td><td> 846</td><td> 777</td></tr>\n",
       "\t<tr><th scope=row>52w VS 8w (F)</th><td>2278</td><td>1265</td><td>1013</td></tr>\n",
       "\t<tr><th scope=row>52w VS 8w (M)</th><td> 427</td><td> 261</td><td> 166</td></tr>\n",
       "\t<tr><th scope=row>104w VS 8w (F)</th><td>1841</td><td>1074</td><td> 767</td></tr>\n",
       "\t<tr><th scope=row>104w VS 8w (M)</th><td>3706</td><td>1925</td><td>1781</td></tr>\n",
       "\t<tr><th scope=row>104w VS 52w (F)</th><td> 290</td><td> 169</td><td> 121</td></tr>\n",
       "\t<tr><th scope=row>104w VS 52w (M)</th><td>3872</td><td>1974</td><td>1898</td></tr>\n",
       "\t<tr><th scope=row>52w VS 8w (F, SPF)</th><td>1799</td><td>1038</td><td> 761</td></tr>\n",
       "\t<tr><th scope=row>52w VS 8w (F, GF)</th><td>1026</td><td> 635</td><td> 391</td></tr>\n",
       "\t<tr><th scope=row>52w VS 8w (M, SPF)</th><td> 367</td><td> 246</td><td> 121</td></tr>\n",
       "\t<tr><th scope=row>52w VS 8w (M, GF)</th><td> 230</td><td> 126</td><td> 104</td></tr>\n",
       "\t<tr><th scope=row>104w VS 8w (F, SPF)</th><td>2004</td><td>1109</td><td> 895</td></tr>\n",
       "\t<tr><th scope=row>104w VS 8w (F, GF)</th><td>1428</td><td> 772</td><td> 656</td></tr>\n",
       "\t<tr><th scope=row>104w VS 8w (M, SPF)</th><td>3863</td><td>2069</td><td>1794</td></tr>\n",
       "\t<tr><th scope=row>104w VS 8w (M, GF)</th><td>2340</td><td>1195</td><td>1145</td></tr>\n",
       "\t<tr><th scope=row>104w VS 52w (F, SPF)</th><td> 216</td><td> 117</td><td>  99</td></tr>\n",
       "\t<tr><th scope=row>104w VS 52w (F, GF)</th><td> 449</td><td> 231</td><td> 218</td></tr>\n",
       "\t<tr><th scope=row>104w VS 52w (M, SPF)</th><td>3428</td><td>1845</td><td>1583</td></tr>\n",
       "\t<tr><th scope=row>104w VS 52w (M, GF)</th><td>2747</td><td>1379</td><td>1368</td></tr>\n",
       "</tbody>\n",
       "</table>\n"
      ],
      "text/latex": [
       "\\begin{tabular}{r|lll}\n",
       "  & Wald padj < 0.05 & LFC > 0 (Wald padj < 0.05) & LFC < 0 (Wald padj < 0.05)\\\\\n",
       "\\hline\n",
       "\t52w VS 8w & 2157 & 1176 &  981\\\\\n",
       "\t104w VS 8w & 3192 & 1701 & 1491\\\\\n",
       "\t104w VS 52w & 2284 & 1252 & 1032\\\\\n",
       "\t52w VS 8w (SPF) & 1391 &  796 &  595\\\\\n",
       "\t52w VS 8w (GF) &  600 &  367 &  233\\\\\n",
       "\t104w VS 8w (SPF) & 3231 & 1774 & 1457\\\\\n",
       "\t104w VS 8w (GF) & 1861 &  972 &  889\\\\\n",
       "\t104w VS 52w (SPF) & 1474 &  885 &  589\\\\\n",
       "\t104w VS 52w (GF) & 1623 &  846 &  777\\\\\n",
       "\t52w VS 8w (F) & 2278 & 1265 & 1013\\\\\n",
       "\t52w VS 8w (M) &  427 &  261 &  166\\\\\n",
       "\t104w VS 8w (F) & 1841 & 1074 &  767\\\\\n",
       "\t104w VS 8w (M) & 3706 & 1925 & 1781\\\\\n",
       "\t104w VS 52w (F) &  290 &  169 &  121\\\\\n",
       "\t104w VS 52w (M) & 3872 & 1974 & 1898\\\\\n",
       "\t52w VS 8w (F, SPF) & 1799 & 1038 &  761\\\\\n",
       "\t52w VS 8w (F, GF) & 1026 &  635 &  391\\\\\n",
       "\t52w VS 8w (M, SPF) &  367 &  246 &  121\\\\\n",
       "\t52w VS 8w (M, GF) &  230 &  126 &  104\\\\\n",
       "\t104w VS 8w (F, SPF) & 2004 & 1109 &  895\\\\\n",
       "\t104w VS 8w (F, GF) & 1428 &  772 &  656\\\\\n",
       "\t104w VS 8w (M, SPF) & 3863 & 2069 & 1794\\\\\n",
       "\t104w VS 8w (M, GF) & 2340 & 1195 & 1145\\\\\n",
       "\t104w VS 52w (F, SPF) &  216 &  117 &   99\\\\\n",
       "\t104w VS 52w (F, GF) &  449 &  231 &  218\\\\\n",
       "\t104w VS 52w (M, SPF) & 3428 & 1845 & 1583\\\\\n",
       "\t104w VS 52w (M, GF) & 2747 & 1379 & 1368\\\\\n",
       "\\end{tabular}\n"
      ],
      "text/markdown": [
       "\n",
       "| <!--/--> | Wald padj < 0.05 | LFC > 0 (Wald padj < 0.05) | LFC < 0 (Wald padj < 0.05) | \n",
       "|---|---|---|---|---|---|---|---|---|---|---|---|---|---|---|---|---|---|---|---|---|---|---|---|---|---|---|\n",
       "| 52w VS 8w | 2157 | 1176 |  981 | \n",
       "| 104w VS 8w | 3192 | 1701 | 1491 | \n",
       "| 104w VS 52w | 2284 | 1252 | 1032 | \n",
       "| 52w VS 8w (SPF) | 1391 |  796 |  595 | \n",
       "| 52w VS 8w (GF) |  600 |  367 |  233 | \n",
       "| 104w VS 8w (SPF) | 3231 | 1774 | 1457 | \n",
       "| 104w VS 8w (GF) | 1861 |  972 |  889 | \n",
       "| 104w VS 52w (SPF) | 1474 |  885 |  589 | \n",
       "| 104w VS 52w (GF) | 1623 |  846 |  777 | \n",
       "| 52w VS 8w (F) | 2278 | 1265 | 1013 | \n",
       "| 52w VS 8w (M) |  427 |  261 |  166 | \n",
       "| 104w VS 8w (F) | 1841 | 1074 |  767 | \n",
       "| 104w VS 8w (M) | 3706 | 1925 | 1781 | \n",
       "| 104w VS 52w (F) |  290 |  169 |  121 | \n",
       "| 104w VS 52w (M) | 3872 | 1974 | 1898 | \n",
       "| 52w VS 8w (F, SPF) | 1799 | 1038 |  761 | \n",
       "| 52w VS 8w (F, GF) | 1026 |  635 |  391 | \n",
       "| 52w VS 8w (M, SPF) |  367 |  246 |  121 | \n",
       "| 52w VS 8w (M, GF) |  230 |  126 |  104 | \n",
       "| 104w VS 8w (F, SPF) | 2004 | 1109 |  895 | \n",
       "| 104w VS 8w (F, GF) | 1428 |  772 |  656 | \n",
       "| 104w VS 8w (M, SPF) | 3863 | 2069 | 1794 | \n",
       "| 104w VS 8w (M, GF) | 2340 | 1195 | 1145 | \n",
       "| 104w VS 52w (F, SPF) |  216 |  117 |   99 | \n",
       "| 104w VS 52w (F, GF) |  449 |  231 |  218 | \n",
       "| 104w VS 52w (M, SPF) | 3428 | 1845 | 1583 | \n",
       "| 104w VS 52w (M, GF) | 2747 | 1379 | 1368 | \n",
       "\n",
       "\n"
      ],
      "text/plain": [
       "                     Wald padj < 0.05 LFC > 0 (Wald padj < 0.05)\n",
       "52w VS 8w            2157             1176                      \n",
       "104w VS 8w           3192             1701                      \n",
       "104w VS 52w          2284             1252                      \n",
       "52w VS 8w (SPF)      1391              796                      \n",
       "52w VS 8w (GF)        600              367                      \n",
       "104w VS 8w (SPF)     3231             1774                      \n",
       "104w VS 8w (GF)      1861              972                      \n",
       "104w VS 52w (SPF)    1474              885                      \n",
       "104w VS 52w (GF)     1623              846                      \n",
       "52w VS 8w (F)        2278             1265                      \n",
       "52w VS 8w (M)         427              261                      \n",
       "104w VS 8w (F)       1841             1074                      \n",
       "104w VS 8w (M)       3706             1925                      \n",
       "104w VS 52w (F)       290              169                      \n",
       "104w VS 52w (M)      3872             1974                      \n",
       "52w VS 8w (F, SPF)   1799             1038                      \n",
       "52w VS 8w (F, GF)    1026              635                      \n",
       "52w VS 8w (M, SPF)    367              246                      \n",
       "52w VS 8w (M, GF)     230              126                      \n",
       "104w VS 8w (F, SPF)  2004             1109                      \n",
       "104w VS 8w (F, GF)   1428              772                      \n",
       "104w VS 8w (M, SPF)  3863             2069                      \n",
       "104w VS 8w (M, GF)   2340             1195                      \n",
       "104w VS 52w (F, SPF)  216              117                      \n",
       "104w VS 52w (F, GF)   449              231                      \n",
       "104w VS 52w (M, SPF) 3428             1845                      \n",
       "104w VS 52w (M, GF)  2747             1379                      \n",
       "                     LFC < 0 (Wald padj < 0.05)\n",
       "52w VS 8w             981                      \n",
       "104w VS 8w           1491                      \n",
       "104w VS 52w          1032                      \n",
       "52w VS 8w (SPF)       595                      \n",
       "52w VS 8w (GF)        233                      \n",
       "104w VS 8w (SPF)     1457                      \n",
       "104w VS 8w (GF)       889                      \n",
       "104w VS 52w (SPF)     589                      \n",
       "104w VS 52w (GF)      777                      \n",
       "52w VS 8w (F)        1013                      \n",
       "52w VS 8w (M)         166                      \n",
       "104w VS 8w (F)        767                      \n",
       "104w VS 8w (M)       1781                      \n",
       "104w VS 52w (F)       121                      \n",
       "104w VS 52w (M)      1898                      \n",
       "52w VS 8w (F, SPF)    761                      \n",
       "52w VS 8w (F, GF)     391                      \n",
       "52w VS 8w (M, SPF)    121                      \n",
       "52w VS 8w (M, GF)     104                      \n",
       "104w VS 8w (F, SPF)   895                      \n",
       "104w VS 8w (F, GF)    656                      \n",
       "104w VS 8w (M, SPF)  1794                      \n",
       "104w VS 8w (M, GF)   1145                      \n",
       "104w VS 52w (F, SPF)   99                      \n",
       "104w VS 52w (F, GF)   218                      \n",
       "104w VS 52w (M, SPF) 1583                      \n",
       "104w VS 52w (M, GF)  1368                      "
      ]
     },
     "metadata": {},
     "output_type": "display_data"
    }
   ],
   "source": [
    "stats = matrix(0, nrow=27, ncol=3)\n",
    "rownames(stats) = c(\"52w VS 8w\", \"104w VS 8w\", \"104w VS 52w\",\n",
    "                    \"52w VS 8w (SPF)\",\"52w VS 8w (GF)\", \"104w VS 8w (SPF)\", \"104w VS 8w (GF)\", \"104w VS 52w (SPF)\", \"104w VS 52w (GF)\",\n",
    "                    \"52w VS 8w (F)\",\"52w VS 8w (M)\", \"104w VS 8w (F)\", \"104w VS 8w (M)\", \"104w VS 52w (F)\", \"104w VS 52w (M)\",\n",
    "                    \"52w VS 8w (F, SPF)\",\"52w VS 8w (F, GF)\", \"52w VS 8w (M, SPF)\", \"52w VS 8w (M, GF)\", \n",
    "                    \"104w VS 8w (F, SPF)\", \"104w VS 8w (F, GF)\", \"104w VS 8w (M, SPF)\", \"104w VS 8w (M, GF)\",\n",
    "                    \"104w VS 52w (F, SPF)\", \"104w VS 52w (F, GF)\", \"104w VS 52w (M, SPF)\", \"104w VS 52w (M, GF)\")\n",
    "colnames(stats) = c(\"Wald padj < 0.05\", \"LFC > 0 (Wald padj < 0.05)\", \"LFC < 0 (Wald padj < 0.05)\")\n",
    "stats[1,] = get_stats_padj(global_52w_8w)\n",
    "stats[2,] = get_stats_padj(global_104w_8w)\n",
    "stats[3,] = get_stats_padj(global_104w_52w)\n",
    "\n",
    "stats[4,] = get_stats_padj(SPF_52w_8w)\n",
    "stats[5,] = get_stats_padj(GF_52w_8w)\n",
    "stats[6,] = get_stats_padj(SPF_104w_8w)\n",
    "stats[7,] = get_stats_padj(GF_104w_8w)\n",
    "stats[8,] = get_stats_padj(SPF_104w_52w)\n",
    "stats[9,] = get_stats_padj(GF_104w_52w)\n",
    "\n",
    "stats[10,] = get_stats_padj(F_52w_8w)\n",
    "stats[11,] = get_stats_padj(M_52w_8w)\n",
    "stats[12,] = get_stats_padj(F_104w_8w)\n",
    "stats[13,] = get_stats_padj(M_104w_8w)\n",
    "stats[14,] = get_stats_padj(F_104w_52w)\n",
    "stats[15,] = get_stats_padj(M_104w_52w)\n",
    "\n",
    "stats[16,] = get_stats_padj(F_SPF_52w_8w)\n",
    "stats[17,] = get_stats_padj(F_GF_52w_8w)\n",
    "stats[18,] = get_stats_padj(M_SPF_52w_8w)\n",
    "stats[19,] = get_stats_padj(M_GF_52w_8w)\n",
    "stats[20,] = get_stats_padj(F_SPF_104w_8w)\n",
    "stats[21,] = get_stats_padj(F_GF_104w_8w)\n",
    "stats[22,] = get_stats_padj(M_SPF_104w_8w)\n",
    "stats[23,] = get_stats_padj(M_GF_104w_8w)\n",
    "stats[24,] = get_stats_padj(F_SPF_104w_52w)\n",
    "stats[25,] = get_stats_padj(F_GF_104w_52w)\n",
    "stats[26,] = get_stats_padj(M_SPF_104w_52w)\n",
    "stats[27,] = get_stats_padj(M_GF_104w_52w)\n",
    "stats"
   ]
  },
  {
   "cell_type": "code",
   "execution_count": 13,
   "metadata": {},
   "outputs": [
    {
     "data": {
      "text/html": [
       "<table>\n",
       "<thead><tr><th></th><th scope=col>DEG</th><th scope=col>PDEG</th><th scope=col>NDEG</th><th scope=col>type</th><th scope=col>gender</th><th scope=col>comp</th></tr></thead>\n",
       "<tbody>\n",
       "\t<tr><th scope=row>52w VS 8w</th><td>2157       </td><td>1176       </td><td> 981       </td><td>SPF/GF     </td><td>F/M        </td><td>52w VS 8w  </td></tr>\n",
       "\t<tr><th scope=row>104w VS 8w</th><td>3192       </td><td>1701       </td><td>1491       </td><td>SPF/GF     </td><td>F/M        </td><td>104w VS 8w </td></tr>\n",
       "\t<tr><th scope=row>104w VS 52w</th><td>2284       </td><td>1252       </td><td>1032       </td><td>SPF/GF     </td><td>F/M        </td><td>104w VS 52w</td></tr>\n",
       "\t<tr><th scope=row>52w VS 8w (SPF)</th><td>1391       </td><td> 796       </td><td> 595       </td><td>SPF        </td><td>F/M        </td><td>52w VS 8w  </td></tr>\n",
       "\t<tr><th scope=row>52w VS 8w (GF)</th><td> 600       </td><td> 367       </td><td> 233       </td><td>GF         </td><td>F/M        </td><td>52w VS 8w  </td></tr>\n",
       "\t<tr><th scope=row>104w VS 8w (SPF)</th><td>3231       </td><td>1774       </td><td>1457       </td><td>SPF        </td><td>F/M        </td><td>104w VS 8w </td></tr>\n",
       "\t<tr><th scope=row>104w VS 8w (GF)</th><td>1861       </td><td> 972       </td><td> 889       </td><td>GF         </td><td>F/M        </td><td>104w VS 8w </td></tr>\n",
       "\t<tr><th scope=row>104w VS 52w (SPF)</th><td>1474       </td><td> 885       </td><td> 589       </td><td>SPF        </td><td>F/M        </td><td>104w VS 52w</td></tr>\n",
       "\t<tr><th scope=row>104w VS 52w (GF)</th><td>1623       </td><td> 846       </td><td> 777       </td><td>GF         </td><td>F/M        </td><td>104w VS 52w</td></tr>\n",
       "\t<tr><th scope=row>52w VS 8w (F)</th><td>2278       </td><td>1265       </td><td>1013       </td><td>SPF/GF     </td><td>F          </td><td>52w VS 8w  </td></tr>\n",
       "\t<tr><th scope=row>52w VS 8w (M)</th><td> 427       </td><td> 261       </td><td> 166       </td><td>SPF/GF     </td><td>M          </td><td>52w VS 8w  </td></tr>\n",
       "\t<tr><th scope=row>104w VS 8w (F)</th><td>1841       </td><td>1074       </td><td> 767       </td><td>SPF/GF     </td><td>F          </td><td>104w VS 8w </td></tr>\n",
       "\t<tr><th scope=row>104w VS 8w (M)</th><td>3706       </td><td>1925       </td><td>1781       </td><td>SPF/GF     </td><td>M          </td><td>104w VS 8w </td></tr>\n",
       "\t<tr><th scope=row>104w VS 52w (F)</th><td> 290       </td><td> 169       </td><td> 121       </td><td>SPF/GF     </td><td>F          </td><td>104w VS 52w</td></tr>\n",
       "\t<tr><th scope=row>104w VS 52w (M)</th><td>3872       </td><td>1974       </td><td>1898       </td><td>SPF/GF     </td><td>M          </td><td>104w VS 52w</td></tr>\n",
       "\t<tr><th scope=row>52w VS 8w (F, SPF)</th><td>1799       </td><td>1038       </td><td> 761       </td><td>SPF        </td><td>F          </td><td>52w VS 8w  </td></tr>\n",
       "\t<tr><th scope=row>52w VS 8w (F, GF)</th><td>1026       </td><td> 635       </td><td> 391       </td><td>GF         </td><td>F          </td><td>52w VS 8w  </td></tr>\n",
       "\t<tr><th scope=row>52w VS 8w (M, SPF)</th><td> 367       </td><td> 246       </td><td> 121       </td><td>SPF        </td><td>M          </td><td>52w VS 8w  </td></tr>\n",
       "\t<tr><th scope=row>52w VS 8w (M, GF)</th><td> 230       </td><td> 126       </td><td> 104       </td><td>GF         </td><td>M          </td><td>52w VS 8w  </td></tr>\n",
       "\t<tr><th scope=row>104w VS 8w (F, SPF)</th><td>2004       </td><td>1109       </td><td> 895       </td><td>SPF        </td><td>F          </td><td>104w VS 8w </td></tr>\n",
       "\t<tr><th scope=row>104w VS 8w (F, GF)</th><td>1428       </td><td> 772       </td><td> 656       </td><td>GF         </td><td>F          </td><td>104w VS 8w </td></tr>\n",
       "\t<tr><th scope=row>104w VS 8w (M, SPF)</th><td>3863       </td><td>2069       </td><td>1794       </td><td>SPF        </td><td>M          </td><td>104w VS 8w </td></tr>\n",
       "\t<tr><th scope=row>104w VS 8w (M, GF)</th><td>2340       </td><td>1195       </td><td>1145       </td><td>GF         </td><td>M          </td><td>104w VS 8w </td></tr>\n",
       "\t<tr><th scope=row>104w VS 52w (F, SPF)</th><td> 216       </td><td> 117       </td><td>  99       </td><td>SPF        </td><td>F          </td><td>104w VS 52w</td></tr>\n",
       "\t<tr><th scope=row>104w VS 52w (F, GF)</th><td> 449       </td><td> 231       </td><td> 218       </td><td>GF         </td><td>F          </td><td>104w VS 52w</td></tr>\n",
       "\t<tr><th scope=row>104w VS 52w (M, SPF)</th><td>3428       </td><td>1845       </td><td>1583       </td><td>SPF        </td><td>M          </td><td>104w VS 52w</td></tr>\n",
       "\t<tr><th scope=row>104w VS 52w (M, GF)</th><td>2747       </td><td>1379       </td><td>1368       </td><td>GF         </td><td>M          </td><td>104w VS 52w</td></tr>\n",
       "</tbody>\n",
       "</table>\n"
      ],
      "text/latex": [
       "\\begin{tabular}{r|llllll}\n",
       "  & DEG & PDEG & NDEG & type & gender & comp\\\\\n",
       "\\hline\n",
       "\t52w VS 8w & 2157        & 1176        &  981        & SPF/GF      & F/M         & 52w VS 8w  \\\\\n",
       "\t104w VS 8w & 3192        & 1701        & 1491        & SPF/GF      & F/M         & 104w VS 8w \\\\\n",
       "\t104w VS 52w & 2284        & 1252        & 1032        & SPF/GF      & F/M         & 104w VS 52w\\\\\n",
       "\t52w VS 8w (SPF) & 1391        &  796        &  595        & SPF         & F/M         & 52w VS 8w  \\\\\n",
       "\t52w VS 8w (GF) &  600        &  367        &  233        & GF          & F/M         & 52w VS 8w  \\\\\n",
       "\t104w VS 8w (SPF) & 3231        & 1774        & 1457        & SPF         & F/M         & 104w VS 8w \\\\\n",
       "\t104w VS 8w (GF) & 1861        &  972        &  889        & GF          & F/M         & 104w VS 8w \\\\\n",
       "\t104w VS 52w (SPF) & 1474        &  885        &  589        & SPF         & F/M         & 104w VS 52w\\\\\n",
       "\t104w VS 52w (GF) & 1623        &  846        &  777        & GF          & F/M         & 104w VS 52w\\\\\n",
       "\t52w VS 8w (F) & 2278        & 1265        & 1013        & SPF/GF      & F           & 52w VS 8w  \\\\\n",
       "\t52w VS 8w (M) &  427        &  261        &  166        & SPF/GF      & M           & 52w VS 8w  \\\\\n",
       "\t104w VS 8w (F) & 1841        & 1074        &  767        & SPF/GF      & F           & 104w VS 8w \\\\\n",
       "\t104w VS 8w (M) & 3706        & 1925        & 1781        & SPF/GF      & M           & 104w VS 8w \\\\\n",
       "\t104w VS 52w (F) &  290        &  169        &  121        & SPF/GF      & F           & 104w VS 52w\\\\\n",
       "\t104w VS 52w (M) & 3872        & 1974        & 1898        & SPF/GF      & M           & 104w VS 52w\\\\\n",
       "\t52w VS 8w (F, SPF) & 1799        & 1038        &  761        & SPF         & F           & 52w VS 8w  \\\\\n",
       "\t52w VS 8w (F, GF) & 1026        &  635        &  391        & GF          & F           & 52w VS 8w  \\\\\n",
       "\t52w VS 8w (M, SPF) &  367        &  246        &  121        & SPF         & M           & 52w VS 8w  \\\\\n",
       "\t52w VS 8w (M, GF) &  230        &  126        &  104        & GF          & M           & 52w VS 8w  \\\\\n",
       "\t104w VS 8w (F, SPF) & 2004        & 1109        &  895        & SPF         & F           & 104w VS 8w \\\\\n",
       "\t104w VS 8w (F, GF) & 1428        &  772        &  656        & GF          & F           & 104w VS 8w \\\\\n",
       "\t104w VS 8w (M, SPF) & 3863        & 2069        & 1794        & SPF         & M           & 104w VS 8w \\\\\n",
       "\t104w VS 8w (M, GF) & 2340        & 1195        & 1145        & GF          & M           & 104w VS 8w \\\\\n",
       "\t104w VS 52w (F, SPF) &  216        &  117        &   99        & SPF         & F           & 104w VS 52w\\\\\n",
       "\t104w VS 52w (F, GF) &  449        &  231        &  218        & GF          & F           & 104w VS 52w\\\\\n",
       "\t104w VS 52w (M, SPF) & 3428        & 1845        & 1583        & SPF         & M           & 104w VS 52w\\\\\n",
       "\t104w VS 52w (M, GF) & 2747        & 1379        & 1368        & GF          & M           & 104w VS 52w\\\\\n",
       "\\end{tabular}\n"
      ],
      "text/markdown": [
       "\n",
       "| <!--/--> | DEG | PDEG | NDEG | type | gender | comp | \n",
       "|---|---|---|---|---|---|---|---|---|---|---|---|---|---|---|---|---|---|---|---|---|---|---|---|---|---|---|\n",
       "| 52w VS 8w | 2157        | 1176        |  981        | SPF/GF      | F/M         | 52w VS 8w   | \n",
       "| 104w VS 8w | 3192        | 1701        | 1491        | SPF/GF      | F/M         | 104w VS 8w  | \n",
       "| 104w VS 52w | 2284        | 1252        | 1032        | SPF/GF      | F/M         | 104w VS 52w | \n",
       "| 52w VS 8w (SPF) | 1391        |  796        |  595        | SPF         | F/M         | 52w VS 8w   | \n",
       "| 52w VS 8w (GF) |  600        |  367        |  233        | GF          | F/M         | 52w VS 8w   | \n",
       "| 104w VS 8w (SPF) | 3231        | 1774        | 1457        | SPF         | F/M         | 104w VS 8w  | \n",
       "| 104w VS 8w (GF) | 1861        |  972        |  889        | GF          | F/M         | 104w VS 8w  | \n",
       "| 104w VS 52w (SPF) | 1474        |  885        |  589        | SPF         | F/M         | 104w VS 52w | \n",
       "| 104w VS 52w (GF) | 1623        |  846        |  777        | GF          | F/M         | 104w VS 52w | \n",
       "| 52w VS 8w (F) | 2278        | 1265        | 1013        | SPF/GF      | F           | 52w VS 8w   | \n",
       "| 52w VS 8w (M) |  427        |  261        |  166        | SPF/GF      | M           | 52w VS 8w   | \n",
       "| 104w VS 8w (F) | 1841        | 1074        |  767        | SPF/GF      | F           | 104w VS 8w  | \n",
       "| 104w VS 8w (M) | 3706        | 1925        | 1781        | SPF/GF      | M           | 104w VS 8w  | \n",
       "| 104w VS 52w (F) |  290        |  169        |  121        | SPF/GF      | F           | 104w VS 52w | \n",
       "| 104w VS 52w (M) | 3872        | 1974        | 1898        | SPF/GF      | M           | 104w VS 52w | \n",
       "| 52w VS 8w (F, SPF) | 1799        | 1038        |  761        | SPF         | F           | 52w VS 8w   | \n",
       "| 52w VS 8w (F, GF) | 1026        |  635        |  391        | GF          | F           | 52w VS 8w   | \n",
       "| 52w VS 8w (M, SPF) |  367        |  246        |  121        | SPF         | M           | 52w VS 8w   | \n",
       "| 52w VS 8w (M, GF) |  230        |  126        |  104        | GF          | M           | 52w VS 8w   | \n",
       "| 104w VS 8w (F, SPF) | 2004        | 1109        |  895        | SPF         | F           | 104w VS 8w  | \n",
       "| 104w VS 8w (F, GF) | 1428        |  772        |  656        | GF          | F           | 104w VS 8w  | \n",
       "| 104w VS 8w (M, SPF) | 3863        | 2069        | 1794        | SPF         | M           | 104w VS 8w  | \n",
       "| 104w VS 8w (M, GF) | 2340        | 1195        | 1145        | GF          | M           | 104w VS 8w  | \n",
       "| 104w VS 52w (F, SPF) |  216        |  117        |   99        | SPF         | F           | 104w VS 52w | \n",
       "| 104w VS 52w (F, GF) |  449        |  231        |  218        | GF          | F           | 104w VS 52w | \n",
       "| 104w VS 52w (M, SPF) | 3428        | 1845        | 1583        | SPF         | M           | 104w VS 52w | \n",
       "| 104w VS 52w (M, GF) | 2747        | 1379        | 1368        | GF          | M           | 104w VS 52w | \n",
       "\n",
       "\n"
      ],
      "text/plain": [
       "                     DEG  PDEG NDEG type   gender comp       \n",
       "52w VS 8w            2157 1176  981 SPF/GF F/M    52w VS 8w  \n",
       "104w VS 8w           3192 1701 1491 SPF/GF F/M    104w VS 8w \n",
       "104w VS 52w          2284 1252 1032 SPF/GF F/M    104w VS 52w\n",
       "52w VS 8w (SPF)      1391  796  595 SPF    F/M    52w VS 8w  \n",
       "52w VS 8w (GF)        600  367  233 GF     F/M    52w VS 8w  \n",
       "104w VS 8w (SPF)     3231 1774 1457 SPF    F/M    104w VS 8w \n",
       "104w VS 8w (GF)      1861  972  889 GF     F/M    104w VS 8w \n",
       "104w VS 52w (SPF)    1474  885  589 SPF    F/M    104w VS 52w\n",
       "104w VS 52w (GF)     1623  846  777 GF     F/M    104w VS 52w\n",
       "52w VS 8w (F)        2278 1265 1013 SPF/GF F      52w VS 8w  \n",
       "52w VS 8w (M)         427  261  166 SPF/GF M      52w VS 8w  \n",
       "104w VS 8w (F)       1841 1074  767 SPF/GF F      104w VS 8w \n",
       "104w VS 8w (M)       3706 1925 1781 SPF/GF M      104w VS 8w \n",
       "104w VS 52w (F)       290  169  121 SPF/GF F      104w VS 52w\n",
       "104w VS 52w (M)      3872 1974 1898 SPF/GF M      104w VS 52w\n",
       "52w VS 8w (F, SPF)   1799 1038  761 SPF    F      52w VS 8w  \n",
       "52w VS 8w (F, GF)    1026  635  391 GF     F      52w VS 8w  \n",
       "52w VS 8w (M, SPF)    367  246  121 SPF    M      52w VS 8w  \n",
       "52w VS 8w (M, GF)     230  126  104 GF     M      52w VS 8w  \n",
       "104w VS 8w (F, SPF)  2004 1109  895 SPF    F      104w VS 8w \n",
       "104w VS 8w (F, GF)   1428  772  656 GF     F      104w VS 8w \n",
       "104w VS 8w (M, SPF)  3863 2069 1794 SPF    M      104w VS 8w \n",
       "104w VS 8w (M, GF)   2340 1195 1145 GF     M      104w VS 8w \n",
       "104w VS 52w (F, SPF)  216  117   99 SPF    F      104w VS 52w\n",
       "104w VS 52w (F, GF)   449  231  218 GF     F      104w VS 52w\n",
       "104w VS 52w (M, SPF) 3428 1845 1583 SPF    M      104w VS 52w\n",
       "104w VS 52w (M, GF)  2747 1379 1368 GF     M      104w VS 52w"
      ]
     },
     "metadata": {},
     "output_type": "display_data"
    }
   ],
   "source": [
    "mat = as.data.frame(stats)\n",
    "colnames(mat) = c(\"DEG\",\"PDEG\",\"NDEG\")\n",
    "mat$type = factor(c(rep(\"SPF/GF\",3),rep(c(\"SPF\",\"GF\"),3),rep(\"SPF/GF\",6),rep(c(\"SPF\",\"GF\"),6)),\n",
    "                 levels = c(\"SPF/GF\", \"GF\", \"SPF\"))\n",
    "mat$gender = factor(c(rep(\"F/M\",9),rep(c(\"F\",\"M\"),3), rep(c(\"F\",\"F\",\"M\",\"M\"),3)),\n",
    "                    levels = c(\"M\", \"F\",\"F/M\"))\n",
    "mat$comp = factor(c(\"52w VS 8w\",\"104w VS 8w\", \"104w VS 52w\",\n",
    "                    rep(\"52w VS 8w\",2),rep(\"104w VS 8w\",2),rep(\"104w VS 52w\",2),\n",
    "                    rep(\"52w VS 8w\",2),rep(\"104w VS 8w\",2),rep(\"104w VS 52w\",2),\n",
    "                    rep(\"52w VS 8w\",4),rep(\"104w VS 8w\",4),rep(\"104w VS 52w\",4)),\n",
    "                    levels = c(\"52w VS 8w\", \"104w VS 8w\",\"104w VS 52w\"))\n",
    "mat"
   ]
  },
  {
   "cell_type": "code",
   "execution_count": 14,
   "metadata": {},
   "outputs": [
    {
     "data": {},
     "metadata": {},
     "output_type": "display_data"
    },
    {
     "data": {
      "image/png": "[encoded data removed]",
      "text/plain": [
       "plot without title"
      ]
     },
     "metadata": {},
     "output_type": "display_data"
    }
   ],
   "source": [
    "p = ggplot(mat, aes(factor(gender), factor(type))) +\n",
    "    labs(x = \"\", y = \"\") +\n",
    "    theme_bw() + \n",
    "    theme(axis.text.x = element_text(angle = 90, hjust = 1), axis.title.y = element_text(size = rel(1.8)), panel.border = element_blank(), panel.grid.major = element_blank(), panel.grid.minor = element_blank()) +        \n",
    "    geom_point(aes(size=DEG,col=DEG)) + \n",
    "    scale_colour_gradient(low = \"blue\", high=\"red\") + \n",
    "    facet_grid(comp ~ .)\n",
    "p"
   ]
  }
 ],
 "metadata": {
  "hide_input": true,
  "kernelspec": {
   "display_name": "R",
   "language": "R",
   "name": "ir"
  },
  "language_info": {
   "codemirror_mode": "r",
   "file_extension": ".r",
   "mimetype": "text/x-r-source",
   "name": "R",
   "pygments_lexer": "r",
   "version": "3.4.3"
  },
  "toc": {
   "nav_menu": {},
   "number_sections": true,
   "sideBar": true,
   "skip_h1_title": false,
   "title_cell": "Table of Contents",
   "title_sidebar": "Contents",
   "toc_cell": false,
   "toc_position": {},
   "toc_section_display": true,
   "toc_window_display": false
  }
 },
 "nbformat": 4,
 "nbformat_minor": 2
}
