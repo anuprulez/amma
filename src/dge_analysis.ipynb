{
 "cells": [
  {
   "cell_type": "markdown",
   "metadata": {},
   "source": [
    "# Loads libraries and functions"
   ]
  },
  {
   "cell_type": "code",
   "execution_count": 3,
   "metadata": {},
   "outputs": [],
   "source": [
    "options(jupyter.plot_mimetypes = c(\"text/plain\", \"image/png\" ))"
   ]
  },
  {
   "cell_type": "code",
   "execution_count": 2,
   "metadata": {
    "scrolled": true
   },
   "outputs": [
    {
     "name": "stderr",
     "output_type": "stream",
     "text": [
      "Warning message in is.na(x[[i]]):\n",
      "“is.na() applied to non-(list or vector) of type 'environment'”Warning message in rsqlite_fetch(res@ptr, n = n):\n",
      "“Don't need to call dbFetch() for statements, only for queries”"
     ]
    },
    {
     "name": "stdout",
     "output_type": "stream",
     "text": [
      "==========================================================================\n",
      "*\n",
      "*  Package WGCNA 1.63 loaded.\n",
      "*\n",
      "*    Important note: It appears that your system supports multi-threading,\n",
      "*    but it is not enabled within WGCNA in R. \n",
      "*    To allow multi-threading within WGCNA with all available cores, use \n",
      "*\n",
      "*          allowWGCNAThreads()\n",
      "*\n",
      "*    within R. Use disableWGCNAThreads() to disable threading if necessary.\n",
      "*    Alternatively, set the following environment variable on your system:\n",
      "*\n",
      "*          ALLOW_WGCNA_THREADS=<number_of_processors>\n",
      "*\n",
      "*    for example \n",
      "*\n",
      "*          ALLOW_WGCNA_THREADS=4\n",
      "*\n",
      "*    To set the environment variable in linux bash shell, type \n",
      "*\n",
      "*           export ALLOW_WGCNA_THREADS=4\n",
      "*\n",
      "*     before running R. Other operating systems or shells will\n",
      "*     have a similar command to achieve the same aim.\n",
      "*\n",
      "==========================================================================\n",
      "\n",
      "\n",
      "Allowing multi-threading with up to 4 threads.\n",
      "[1] \"preparing gene to GO mapping data...\"\n",
      "[1] \"preparing IC data...\"\n",
      "[1] \"preparing gene to GO mapping data...\"\n",
      "[1] \"preparing IC data...\"\n",
      "[1] \"preparing gene to GO mapping data...\"\n",
      "[1] \"preparing IC data...\"\n"
     ]
    }
   ],
   "source": [
    "source(\"load_libraries.R\")"
   ]
  },
  {
   "cell_type": "code",
   "execution_count": 3,
   "metadata": {},
   "outputs": [],
   "source": [
    "source(\"functions.R\")"
   ]
  },
  {
   "cell_type": "markdown",
   "metadata": {},
   "source": [
    "# Get the data"
   ]
  },
  {
   "cell_type": "code",
   "execution_count": 4,
   "metadata": {},
   "outputs": [],
   "source": [
    "# Load the count table\n",
    "#counts = read.table(system(\"get -i 1184 \", intern=T), sep=\"\\t\", header = 1, row.names=1)\n",
    "counts = read.table(\"../data/counts.tabular\", sep=\"\\t\", header = 1, row.names=1)\n",
    "gene_length = read.table(\"../data/gene_length.tabular\", h = F, row.names = 1)\n",
    "gene_length = gene_length[rownames(counts),]\n",
    "names(gene_length) = rownames(counts)"
   ]
  },
  {
   "cell_type": "code",
   "execution_count": 5,
   "metadata": {},
   "outputs": [
    {
     "data": {
      "text/html": [
       "<dl>\n",
       "\t<dt>$Pzp</dt>\n",
       "\t\t<dd><strong>$`11287`</strong> = 'pregnancy zone protein'</dd>\n",
       "\t<dt>$Aanat</dt>\n",
       "\t\t<dd><strong>$`11298`</strong> = 'arylalkylamine N-acetyltransferase'</dd>\n",
       "\t<dt>$Aatk</dt>\n",
       "\t\t<dd><strong>$`11302`</strong> = 'apoptosis-associated tyrosine kinase'</dd>\n",
       "\t<dt>$Abca1</dt>\n",
       "\t\t<dd><strong>$`11303`</strong> = 'ATP-binding cassette, sub-family A (ABC1), member 1'</dd>\n",
       "\t<dt>$Abca4</dt>\n",
       "\t\t<dd><strong>$`11304`</strong> = 'ATP-binding cassette, sub-family A (ABC1), member 4'</dd>\n",
       "\t<dt>$Abca2</dt>\n",
       "\t\t<dd><strong>$`11305`</strong> = 'ATP-binding cassette, sub-family A (ABC1), member 2'</dd>\n",
       "</dl>\n"
      ],
      "text/latex": [
       "\\begin{description}\n",
       "\\item[\\$Pzp] \\textbf{\\$`11287`} = 'pregnancy zone protein'\n",
       "\\item[\\$Aanat] \\textbf{\\$`11298`} = 'arylalkylamine N-acetyltransferase'\n",
       "\\item[\\$Aatk] \\textbf{\\$`11302`} = 'apoptosis-associated tyrosine kinase'\n",
       "\\item[\\$Abca1] \\textbf{\\$`11303`} = 'ATP-binding cassette, sub-family A (ABC1), member 1'\n",
       "\\item[\\$Abca4] \\textbf{\\$`11304`} = 'ATP-binding cassette, sub-family A (ABC1), member 4'\n",
       "\\item[\\$Abca2] \\textbf{\\$`11305`} = 'ATP-binding cassette, sub-family A (ABC1), member 2'\n",
       "\\end{description}\n"
      ],
      "text/markdown": [
       "$Pzp\n",
       ":   **$`11287`** = 'pregnancy zone protein'\n",
       "$Aanat\n",
       ":   **$`11298`** = 'arylalkylamine N-acetyltransferase'\n",
       "$Aatk\n",
       ":   **$`11302`** = 'apoptosis-associated tyrosine kinase'\n",
       "$Abca1\n",
       ":   **$`11303`** = 'ATP-binding cassette, sub-family A (ABC1), member 1'\n",
       "$Abca4\n",
       ":   **$`11304`** = 'ATP-binding cassette, sub-family A (ABC1), member 4'\n",
       "$Abca2\n",
       ":   **$`11305`** = 'ATP-binding cassette, sub-family A (ABC1), member 2'\n",
       "\n",
       "\n"
      ],
      "text/plain": [
       "$Pzp\n",
       "$Pzp$`11287`\n",
       "[1] \"pregnancy zone protein\"\n",
       "\n",
       "\n",
       "$Aanat\n",
       "$Aanat$`11298`\n",
       "[1] \"arylalkylamine N-acetyltransferase\"\n",
       "\n",
       "\n",
       "$Aatk\n",
       "$Aatk$`11302`\n",
       "[1] \"apoptosis-associated tyrosine kinase\"\n",
       "\n",
       "\n",
       "$Abca1\n",
       "$Abca1$`11303`\n",
       "[1] \"ATP-binding cassette, sub-family A (ABC1), member 1\"\n",
       "\n",
       "\n",
       "$Abca4\n",
       "$Abca4$`11304`\n",
       "[1] \"ATP-binding cassette, sub-family A (ABC1), member 4\"\n",
       "\n",
       "\n",
       "$Abca2\n",
       "$Abca2$`11305`\n",
       "[1] \"ATP-binding cassette, sub-family A (ABC1), member 2\"\n",
       "\n"
      ]
     },
     "metadata": {},
     "output_type": "display_data"
    }
   ],
   "source": [
    "# Map between Entrez Gene Identifiers and Gene Names (and description) \n",
    "eg2name = get_list(org.Mm.egGENENAME)\n",
    "# Map between Gene Symbols and Entrez Gene Identifiers\n",
    "symbol2eg = get_list(org.Mm.egSYMBOL2EG)\n",
    "# Map between RefSeq and Entrez Gene Identifiers\n",
    "refseq2eg = get_list(org.Mm.egREFSEQ2EG)\n",
    "# Map between Gene Symbols and Gene Names (and description)\n",
    "symbol2name = sapply(names(symbol2eg), function(x) return(eg2name[symbol2eg[[x]]]))\n",
    "head(symbol2name)\n",
    "# Map between Entrez Gene Identifiers and KEGG pathways\n",
    "eg2kegg=as.list(org.Mm.egPATH)"
   ]
  },
  {
   "cell_type": "code",
   "execution_count": 6,
   "metadata": {},
   "outputs": [
    {
     "data": {
      "text/html": [
       "312"
      ],
      "text/latex": [
       "312"
      ],
      "text/markdown": [
       "312"
      ],
      "text/plain": [
       "[1] 312"
      ]
     },
     "metadata": {},
     "output_type": "display_data"
    }
   ],
   "source": [
    "# get refseq ids for genes\n",
    "refseq = sapply(rownames(counts), function(x) return(symbol2eg[[x]])) \n",
    "length(refseq[sapply(refseq, is.null)])\n",
    "to_change = names(refseq[sapply(refseq, is.null)])"
   ]
  },
  {
   "cell_type": "code",
   "execution_count": 7,
   "metadata": {},
   "outputs": [],
   "source": [
    "changes = sapply(to_change, search_name)"
   ]
  },
  {
   "cell_type": "code",
   "execution_count": 8,
   "metadata": {},
   "outputs": [],
   "source": [
    "doubled = sapply(names(changes), function(x) return(length(changes[[x]])>1))\n",
    "single = changes[!doubled]\n",
    "duplicated = single %in% rownames(counts)\n",
    "non_duplicated = single[!duplicated]\n",
    "duplicated_2 = duplicated(non_duplicated)\n",
    "replacements = non_duplicated[!duplicated_2]"
   ]
  },
  {
   "cell_type": "code",
   "execution_count": 9,
   "metadata": {
    "scrolled": true
   },
   "outputs": [
    {
     "data": {
      "text/html": [
       "<dl class=dl-horizontal>\n",
       "\t<dt>0610005C13Rik</dt>\n",
       "\t\t<dd>'0610005C13Rik'</dd>\n",
       "\t<dt>0610007P14Rik</dt>\n",
       "\t\t<dd>'0610007P14Rik'</dd>\n",
       "\t<dt>0610009B22Rik</dt>\n",
       "\t\t<dd>'0610009B22Rik'</dd>\n",
       "\t<dt>0610009L18Rik</dt>\n",
       "\t\t<dd>'0610009L18Rik'</dd>\n",
       "\t<dt>0610009O20Rik</dt>\n",
       "\t\t<dd>'0610009O20Rik'</dd>\n",
       "\t<dt>0610010B08Rik</dt>\n",
       "\t\t<dd>'0610010B08Rik'</dd>\n",
       "</dl>\n"
      ],
      "text/latex": [
       "\\begin{description*}\n",
       "\\item[0610005C13Rik] '0610005C13Rik'\n",
       "\\item[0610007P14Rik] '0610007P14Rik'\n",
       "\\item[0610009B22Rik] '0610009B22Rik'\n",
       "\\item[0610009L18Rik] '0610009L18Rik'\n",
       "\\item[0610009O20Rik] '0610009O20Rik'\n",
       "\\item[0610010B08Rik] '0610010B08Rik'\n",
       "\\end{description*}\n"
      ],
      "text/markdown": [
       "0610005C13Rik\n",
       ":   '0610005C13Rik'0610007P14Rik\n",
       ":   '0610007P14Rik'0610009B22Rik\n",
       ":   '0610009B22Rik'0610009L18Rik\n",
       ":   '0610009L18Rik'0610009O20Rik\n",
       ":   '0610009O20Rik'0610010B08Rik\n",
       ":   '0610010B08Rik'\n",
       "\n"
      ],
      "text/plain": [
       "  0610005C13Rik   0610007P14Rik   0610009B22Rik   0610009L18Rik   0610009O20Rik \n",
       "\"0610005C13Rik\" \"0610007P14Rik\" \"0610009B22Rik\" \"0610009L18Rik\" \"0610009O20Rik\" \n",
       "  0610010B08Rik \n",
       "\"0610010B08Rik\" "
      ]
     },
     "metadata": {},
     "output_type": "display_data"
    }
   ],
   "source": [
    "# Fix name of the some genes (identified if no Entrez id found for them and with new names found)\n",
    "replacements = unlist(replacements)\n",
    "#rownames(counts)[rownames(counts) == \"1700112E06Rik\"] = \"Lrmda\"\n",
    "new_names = rownames(counts)\n",
    "names(new_names) = rownames(counts)\n",
    "new_names[names(replacements)] = replacements\n",
    "head(new_names)"
   ]
  },
  {
   "cell_type": "code",
   "execution_count": 10,
   "metadata": {},
   "outputs": [
    {
     "data": {
      "text/html": [
       "<table>\n",
       "<thead><tr><th></th><th scope=col>GF_104w_F_1_2</th><th scope=col>GF_104w_F_2_2</th><th scope=col>GF_104w_F_3_2</th><th scope=col>GF_104w_M_1_2</th><th scope=col>GF_104w_M_2_2</th><th scope=col>GF_52w_M_1_2</th><th scope=col>GF_52w_M_2_2</th><th scope=col>GF_52w_M_3_2</th><th scope=col>GF_52w_M_4_2</th><th scope=col>GF_8w_M_1_2</th><th scope=col>⋯</th><th scope=col>SPF_8w_F_4_2</th><th scope=col>SPF_8w_F_5_2</th><th scope=col>GF_8w_F_1_2</th><th scope=col>GF_8w_F_2_2</th><th scope=col>GF_8w_F_3_2</th><th scope=col>GF_8w_F_4_2</th><th scope=col>GF_8w_F_5_2</th><th scope=col>GF_104w_M_3_2</th><th scope=col>GF_104w_M_5_2</th><th scope=col>GF_104w_M_4_2</th></tr></thead>\n",
       "<tbody>\n",
       "\t<tr><th scope=row>0610005C13Rik</th><td>   0</td><td>   0</td><td>   0</td><td>   2</td><td>   2</td><td>   1</td><td>  5 </td><td>  5 </td><td>  10</td><td>  7 </td><td>⋯   </td><td>  2 </td><td>   0</td><td> 17 </td><td>  0 </td><td>   2</td><td>  5 </td><td>  0 </td><td>  1 </td><td>  1 </td><td>  1 </td></tr>\n",
       "\t<tr><th scope=row>0610007P14Rik</th><td> 954</td><td> 704</td><td> 999</td><td>1002</td><td>1577</td><td> 604</td><td>537 </td><td>459 </td><td>1021</td><td>499 </td><td>⋯   </td><td>698 </td><td> 891</td><td>837 </td><td>627 </td><td> 605</td><td>563 </td><td>631 </td><td>394 </td><td>570 </td><td>496 </td></tr>\n",
       "\t<tr><th scope=row>0610009B22Rik</th><td>1122</td><td>1098</td><td>1296</td><td>1385</td><td>2475</td><td>1234</td><td>887 </td><td>907 </td><td>1214</td><td>784 </td><td>⋯   </td><td>996 </td><td>1346</td><td>969 </td><td>938 </td><td>1128</td><td>911 </td><td>853 </td><td>551 </td><td>772 </td><td>522 </td></tr>\n",
       "\t<tr><th scope=row>0610009L18Rik</th><td>  31</td><td>  34</td><td>  20</td><td>  23</td><td>  61</td><td>  38</td><td> 27 </td><td> 20 </td><td>   6</td><td> 51 </td><td>⋯   </td><td> 79 </td><td>  67</td><td> 45 </td><td> 18 </td><td>  11</td><td> 43 </td><td> 19 </td><td> 20 </td><td> 22 </td><td> 26 </td></tr>\n",
       "\t<tr><th scope=row>0610009O20Rik</th><td> 239</td><td> 262</td><td> 292</td><td> 256</td><td> 432</td><td> 356</td><td>354 </td><td>353 </td><td> 428</td><td>298 </td><td>⋯   </td><td>175 </td><td> 172</td><td>216 </td><td>146 </td><td> 268</td><td>289 </td><td>210 </td><td>269 </td><td>351 </td><td>263 </td></tr>\n",
       "\t<tr><th scope=row>0610010B08Rik</th><td>   0</td><td>   0</td><td>   0</td><td>   0</td><td>   0</td><td>   0</td><td>  0 </td><td>  0 </td><td>   0</td><td>  0 </td><td>⋯   </td><td>  0 </td><td>   0</td><td>  0 </td><td>  0 </td><td>   0</td><td>  0 </td><td>  0 </td><td>  0 </td><td>  0 </td><td>  0 </td></tr>\n",
       "</tbody>\n",
       "</table>\n"
      ],
      "text/latex": [
       "\\begin{tabular}{r|llllllllllllllllllllllllllllllllllllllllllllllllllllllllllllllll}\n",
       "  & GF\\_104w\\_F\\_1\\_2 & GF\\_104w\\_F\\_2\\_2 & GF\\_104w\\_F\\_3\\_2 & GF\\_104w\\_M\\_1\\_2 & GF\\_104w\\_M\\_2\\_2 & GF\\_52w\\_M\\_1\\_2 & GF\\_52w\\_M\\_2\\_2 & GF\\_52w\\_M\\_3\\_2 & GF\\_52w\\_M\\_4\\_2 & GF\\_8w\\_M\\_1\\_2 & ⋯ & SPF\\_8w\\_F\\_4\\_2 & SPF\\_8w\\_F\\_5\\_2 & GF\\_8w\\_F\\_1\\_2 & GF\\_8w\\_F\\_2\\_2 & GF\\_8w\\_F\\_3\\_2 & GF\\_8w\\_F\\_4\\_2 & GF\\_8w\\_F\\_5\\_2 & GF\\_104w\\_M\\_3\\_2 & GF\\_104w\\_M\\_5\\_2 & GF\\_104w\\_M\\_4\\_2\\\\\n",
       "\\hline\n",
       "\t0610005C13Rik &    0 &    0 &    0 &    2 &    2 &    1 &   5  &   5  &   10 &   7  & ⋯    &   2  &    0 &  17  &   0  &    2 &   5  &   0  &   1  &   1  &   1 \\\\\n",
       "\t0610007P14Rik &  954 &  704 &  999 & 1002 & 1577 &  604 & 537  & 459  & 1021 & 499  & ⋯    & 698  &  891 & 837  & 627  &  605 & 563  & 631  & 394  & 570  & 496 \\\\\n",
       "\t0610009B22Rik & 1122 & 1098 & 1296 & 1385 & 2475 & 1234 & 887  & 907  & 1214 & 784  & ⋯    & 996  & 1346 & 969  & 938  & 1128 & 911  & 853  & 551  & 772  & 522 \\\\\n",
       "\t0610009L18Rik &   31 &   34 &   20 &   23 &   61 &   38 &  27  &  20  &    6 &  51  & ⋯    &  79  &   67 &  45  &  18  &   11 &  43  &  19  &  20  &  22  &  26 \\\\\n",
       "\t0610009O20Rik &  239 &  262 &  292 &  256 &  432 &  356 & 354  & 353  &  428 & 298  & ⋯    & 175  &  172 & 216  & 146  &  268 & 289  & 210  & 269  & 351  & 263 \\\\\n",
       "\t0610010B08Rik &    0 &    0 &    0 &    0 &    0 &    0 &   0  &   0  &    0 &   0  & ⋯    &   0  &    0 &   0  &   0  &    0 &   0  &   0  &   0  &   0  &   0 \\\\\n",
       "\\end{tabular}\n"
      ],
      "text/markdown": [
       "\n",
       "| <!--/--> | GF_104w_F_1_2 | GF_104w_F_2_2 | GF_104w_F_3_2 | GF_104w_M_1_2 | GF_104w_M_2_2 | GF_52w_M_1_2 | GF_52w_M_2_2 | GF_52w_M_3_2 | GF_52w_M_4_2 | GF_8w_M_1_2 | ⋯ | SPF_8w_F_4_2 | SPF_8w_F_5_2 | GF_8w_F_1_2 | GF_8w_F_2_2 | GF_8w_F_3_2 | GF_8w_F_4_2 | GF_8w_F_5_2 | GF_104w_M_3_2 | GF_104w_M_5_2 | GF_104w_M_4_2 | \n",
       "|---|---|---|---|---|---|\n",
       "| 0610005C13Rik |    0 |    0 |    0 |    2 |    2 |    1 |   5  |   5  |   10 |   7  | ⋯    |   2  |    0 |  17  |   0  |    2 |   5  |   0  |   1  |   1  |   1  | \n",
       "| 0610007P14Rik |  954 |  704 |  999 | 1002 | 1577 |  604 | 537  | 459  | 1021 | 499  | ⋯    | 698  |  891 | 837  | 627  |  605 | 563  | 631  | 394  | 570  | 496  | \n",
       "| 0610009B22Rik | 1122 | 1098 | 1296 | 1385 | 2475 | 1234 | 887  | 907  | 1214 | 784  | ⋯    | 996  | 1346 | 969  | 938  | 1128 | 911  | 853  | 551  | 772  | 522  | \n",
       "| 0610009L18Rik |   31 |   34 |   20 |   23 |   61 |   38 |  27  |  20  |    6 |  51  | ⋯    |  79  |   67 |  45  |  18  |   11 |  43  |  19  |  20  |  22  |  26  | \n",
       "| 0610009O20Rik |  239 |  262 |  292 |  256 |  432 |  356 | 354  | 353  |  428 | 298  | ⋯    | 175  |  172 | 216  | 146  |  268 | 289  | 210  | 269  | 351  | 263  | \n",
       "| 0610010B08Rik |    0 |    0 |    0 |    0 |    0 |    0 |   0  |   0  |    0 |   0  | ⋯    |   0  |    0 |   0  |   0  |    0 |   0  |   0  |   0  |   0  |   0  | \n",
       "\n",
       "\n"
      ],
      "text/plain": [
       "              GF_104w_F_1_2 GF_104w_F_2_2 GF_104w_F_3_2 GF_104w_M_1_2\n",
       "0610005C13Rik    0             0             0             2         \n",
       "0610007P14Rik  954           704           999          1002         \n",
       "0610009B22Rik 1122          1098          1296          1385         \n",
       "0610009L18Rik   31            34            20            23         \n",
       "0610009O20Rik  239           262           292           256         \n",
       "0610010B08Rik    0             0             0             0         \n",
       "              GF_104w_M_2_2 GF_52w_M_1_2 GF_52w_M_2_2 GF_52w_M_3_2 GF_52w_M_4_2\n",
       "0610005C13Rik    2             1           5            5            10        \n",
       "0610007P14Rik 1577           604         537          459          1021        \n",
       "0610009B22Rik 2475          1234         887          907          1214        \n",
       "0610009L18Rik   61            38          27           20             6        \n",
       "0610009O20Rik  432           356         354          353           428        \n",
       "0610010B08Rik    0             0           0            0             0        \n",
       "              GF_8w_M_1_2 ⋯ SPF_8w_F_4_2 SPF_8w_F_5_2 GF_8w_F_1_2 GF_8w_F_2_2\n",
       "0610005C13Rik   7         ⋯   2             0          17           0        \n",
       "0610007P14Rik 499         ⋯ 698           891         837         627        \n",
       "0610009B22Rik 784         ⋯ 996          1346         969         938        \n",
       "0610009L18Rik  51         ⋯  79            67          45          18        \n",
       "0610009O20Rik 298         ⋯ 175           172         216         146        \n",
       "0610010B08Rik   0         ⋯   0             0           0           0        \n",
       "              GF_8w_F_3_2 GF_8w_F_4_2 GF_8w_F_5_2 GF_104w_M_3_2 GF_104w_M_5_2\n",
       "0610005C13Rik    2          5           0           1             1          \n",
       "0610007P14Rik  605        563         631         394           570          \n",
       "0610009B22Rik 1128        911         853         551           772          \n",
       "0610009L18Rik   11         43          19          20            22          \n",
       "0610009O20Rik  268        289         210         269           351          \n",
       "0610010B08Rik    0          0           0           0             0          \n",
       "              GF_104w_M_4_2\n",
       "0610005C13Rik   1          \n",
       "0610007P14Rik 496          \n",
       "0610009B22Rik 522          \n",
       "0610009L18Rik  26          \n",
       "0610009O20Rik 263          \n",
       "0610010B08Rik   0          "
      ]
     },
     "metadata": {},
     "output_type": "display_data"
    },
    {
     "data": {
      "text/html": [
       "<dl class=dl-horizontal>\n",
       "\t<dt>0610005C13Rik</dt>\n",
       "\t\t<dd>1122</dd>\n",
       "\t<dt>0610007P14Rik</dt>\n",
       "\t\t<dd>1185</dd>\n",
       "\t<dt>0610009B22Rik</dt>\n",
       "\t\t<dd>795</dd>\n",
       "\t<dt>0610009L18Rik</dt>\n",
       "\t\t<dd>619</dd>\n",
       "\t<dt>0610009O20Rik</dt>\n",
       "\t\t<dd>2404</dd>\n",
       "\t<dt>0610010B08Rik</dt>\n",
       "\t\t<dd>27229</dd>\n",
       "</dl>\n"
      ],
      "text/latex": [
       "\\begin{description*}\n",
       "\\item[0610005C13Rik] 1122\n",
       "\\item[0610007P14Rik] 1185\n",
       "\\item[0610009B22Rik] 795\n",
       "\\item[0610009L18Rik] 619\n",
       "\\item[0610009O20Rik] 2404\n",
       "\\item[0610010B08Rik] 27229\n",
       "\\end{description*}\n"
      ],
      "text/markdown": [
       "0610005C13Rik\n",
       ":   11220610007P14Rik\n",
       ":   11850610009B22Rik\n",
       ":   7950610009L18Rik\n",
       ":   6190610009O20Rik\n",
       ":   24040610010B08Rik\n",
       ":   27229\n",
       "\n"
      ],
      "text/plain": [
       "0610005C13Rik 0610007P14Rik 0610009B22Rik 0610009L18Rik 0610009O20Rik \n",
       "         1122          1185           795           619          2404 \n",
       "0610010B08Rik \n",
       "        27229 "
      ]
     },
     "metadata": {},
     "output_type": "display_data"
    }
   ],
   "source": [
    "rownames(counts) = new_names\n",
    "names(gene_length) = new_names\n",
    "head(counts)\n",
    "head(gene_length)"
   ]
  },
  {
   "cell_type": "code",
   "execution_count": 11,
   "metadata": {},
   "outputs": [
    {
     "data": {
      "text/html": [
       "38"
      ],
      "text/latex": [
       "38"
      ],
      "text/markdown": [
       "38"
      ],
      "text/plain": [
       "[1] 38"
      ]
     },
     "metadata": {},
     "output_type": "display_data"
    }
   ],
   "source": [
    "refseq_check = sapply(rownames(counts), function(x) return(symbol2eg[[x]])) \n",
    "length(refseq[sapply(refseq_check, is.null)])"
   ]
  },
  {
   "cell_type": "code",
   "execution_count": 12,
   "metadata": {},
   "outputs": [],
   "source": [
    "# Remove the columns with spurious data\n",
    "to_remove = c(\"SPF_8w_F_2_2\")\n",
    "counts = counts[,!names(counts) %in% to_remove]"
   ]
  },
  {
   "cell_type": "code",
   "execution_count": 181,
   "metadata": {},
   "outputs": [
    {
     "data": {
      "text/html": [
       "<table>\n",
       "<thead><tr><th></th><th scope=col>Sample.name.prefix</th><th scope=col>Galaxy.ID</th><th scope=col>Group</th><th scope=col>Age</th><th scope=col>Gender</th><th scope=col>Replicate</th><th scope=col>Project.id</th><th scope=col>Lane</th><th scope=col>Name.in.project</th><th scope=col>X..Reads</th></tr></thead>\n",
       "<tbody>\n",
       "\t<tr><th scope=row>GF_52w_M_1</th><td>GF_52w_M           </td><td>NA                 </td><td>GF                 </td><td>52w                </td><td>M                  </td><td>1                  </td><td>Project_148_1      </td><td>2                  </td><td>Sample_Mg_GF1_old  </td><td>35,713,942.00      </td></tr>\n",
       "\t<tr><th scope=row>GF_8w_M_1</th><td>GF_8w_M            </td><td>NA                 </td><td>GF                 </td><td>8w                 </td><td>M                  </td><td>1                  </td><td>Project_148_1      </td><td>2                  </td><td>Sample_Mg_GF1_young</td><td>25,919,398.00      </td></tr>\n",
       "\t<tr><th scope=row>GF_52w_M_2</th><td>GF_52w_M           </td><td>NA                 </td><td>GF                 </td><td>52w                </td><td>M                  </td><td>2                  </td><td>Project_148_2      </td><td>2                  </td><td>Sample_Mg_GF2_old  </td><td>29,752,263.00      </td></tr>\n",
       "\t<tr><th scope=row>GF_8w_M_2</th><td>GF_8w_M            </td><td>NA                 </td><td>GF                 </td><td>8w                 </td><td>M                  </td><td>2                  </td><td>Project_148_2      </td><td>2                  </td><td>Sample_Mg_GF2_young</td><td>24,133,081.00      </td></tr>\n",
       "\t<tr><th scope=row>GF_52w_M_3</th><td>GF_52w_M           </td><td>NA                 </td><td>GF                 </td><td>52w                </td><td>M                  </td><td>3                  </td><td>Project_148_1      </td><td>3                  </td><td>Sample_Mg_GF3_old  </td><td>26,395,568.00      </td></tr>\n",
       "\t<tr><th scope=row>GF_8w_M_3</th><td>GF_8w_M            </td><td>NA                 </td><td>GF                 </td><td>8w                 </td><td>M                  </td><td>3                  </td><td>Project_148_1      </td><td>1                  </td><td>Sample_Mg_GF3_young</td><td>33,992,780.00      </td></tr>\n",
       "</tbody>\n",
       "</table>\n"
      ],
      "text/latex": [
       "\\begin{tabular}{r|llllllllll}\n",
       "  & Sample.name.prefix & Galaxy.ID & Group & Age & Gender & Replicate & Project.id & Lane & Name.in.project & X..Reads\\\\\n",
       "\\hline\n",
       "\tGF\\_52w\\_M\\_1 & GF\\_52w\\_M              & NA                        & GF                        & 52w                       & M                         & 1                         & Project\\_148\\_1         & 2                         & Sample\\_Mg\\_GF1\\_old   & 35,713,942.00            \\\\\n",
       "\tGF\\_8w\\_M\\_1 & GF\\_8w\\_M               & NA                        & GF                        & 8w                        & M                         & 1                         & Project\\_148\\_1         & 2                         & Sample\\_Mg\\_GF1\\_young & 25,919,398.00            \\\\\n",
       "\tGF\\_52w\\_M\\_2 & GF\\_52w\\_M              & NA                        & GF                        & 52w                       & M                         & 2                         & Project\\_148\\_2         & 2                         & Sample\\_Mg\\_GF2\\_old   & 29,752,263.00            \\\\\n",
       "\tGF\\_8w\\_M\\_2 & GF\\_8w\\_M               & NA                        & GF                        & 8w                        & M                         & 2                         & Project\\_148\\_2         & 2                         & Sample\\_Mg\\_GF2\\_young & 24,133,081.00            \\\\\n",
       "\tGF\\_52w\\_M\\_3 & GF\\_52w\\_M              & NA                        & GF                        & 52w                       & M                         & 3                         & Project\\_148\\_1         & 3                         & Sample\\_Mg\\_GF3\\_old   & 26,395,568.00            \\\\\n",
       "\tGF\\_8w\\_M\\_3 & GF\\_8w\\_M               & NA                        & GF                        & 8w                        & M                         & 3                         & Project\\_148\\_1         & 1                         & Sample\\_Mg\\_GF3\\_young & 33,992,780.00            \\\\\n",
       "\\end{tabular}\n"
      ],
      "text/markdown": [
       "\n",
       "| <!--/--> | Sample.name.prefix | Galaxy.ID | Group | Age | Gender | Replicate | Project.id | Lane | Name.in.project | X..Reads | \n",
       "|---|---|---|---|---|---|\n",
       "| GF_52w_M_1 | GF_52w_M            | NA                  | GF                  | 52w                 | M                   | 1                   | Project_148_1       | 2                   | Sample_Mg_GF1_old   | 35,713,942.00       | \n",
       "| GF_8w_M_1 | GF_8w_M             | NA                  | GF                  | 8w                  | M                   | 1                   | Project_148_1       | 2                   | Sample_Mg_GF1_young | 25,919,398.00       | \n",
       "| GF_52w_M_2 | GF_52w_M            | NA                  | GF                  | 52w                 | M                   | 2                   | Project_148_2       | 2                   | Sample_Mg_GF2_old   | 29,752,263.00       | \n",
       "| GF_8w_M_2 | GF_8w_M             | NA                  | GF                  | 8w                  | M                   | 2                   | Project_148_2       | 2                   | Sample_Mg_GF2_young | 24,133,081.00       | \n",
       "| GF_52w_M_3 | GF_52w_M            | NA                  | GF                  | 52w                 | M                   | 3                   | Project_148_1       | 3                   | Sample_Mg_GF3_old   | 26,395,568.00       | \n",
       "| GF_8w_M_3 | GF_8w_M             | NA                  | GF                  | 8w                  | M                   | 3                   | Project_148_1       | 1                   | Sample_Mg_GF3_young | 33,992,780.00       | \n",
       "\n",
       "\n"
      ],
      "text/plain": [
       "           Sample.name.prefix Galaxy.ID Group Age Gender Replicate\n",
       "GF_52w_M_1 GF_52w_M           NA        GF    52w M      1        \n",
       "GF_8w_M_1  GF_8w_M            NA        GF    8w  M      1        \n",
       "GF_52w_M_2 GF_52w_M           NA        GF    52w M      2        \n",
       "GF_8w_M_2  GF_8w_M            NA        GF    8w  M      2        \n",
       "GF_52w_M_3 GF_52w_M           NA        GF    52w M      3        \n",
       "GF_8w_M_3  GF_8w_M            NA        GF    8w  M      3        \n",
       "           Project.id    Lane Name.in.project     X..Reads     \n",
       "GF_52w_M_1 Project_148_1 2    Sample_Mg_GF1_old   35,713,942.00\n",
       "GF_8w_M_1  Project_148_1 2    Sample_Mg_GF1_young 25,919,398.00\n",
       "GF_52w_M_2 Project_148_2 2    Sample_Mg_GF2_old   29,752,263.00\n",
       "GF_8w_M_2  Project_148_2 2    Sample_Mg_GF2_young 24,133,081.00\n",
       "GF_52w_M_3 Project_148_1 3    Sample_Mg_GF3_old   26,395,568.00\n",
       "GF_8w_M_3  Project_148_1 1    Sample_Mg_GF3_young 33,992,780.00"
      ]
     },
     "metadata": {},
     "output_type": "display_data"
    }
   ],
   "source": [
    "file_desc = read.csv(\"../data/file_description.csv\", row.names = 1)\n",
    "file_desc = head(file_desc,-6)\n",
    "file_desc = file_desc[!rownames(file_desc) %in% c(\"SPF_8w_F_2\"), ]\n",
    "file_desc$\"Lane\" = gsub(\" & \", \"_\",file_desc$\"Lane\")\n",
    "file_desc$\"Lane\" = gsub(\" \", \"1\",file_desc$\"Lane\")\n",
    "head(file_desc)"
   ]
  },
  {
   "cell_type": "code",
   "execution_count": 182,
   "metadata": {
    "scrolled": false
   },
   "outputs": [
    {
     "data": {
      "text/html": [
       "<table>\n",
       "<thead><tr><th></th><th scope=col>type</th><th scope=col>age</th><th scope=col>gender</th><th scope=col>project</th></tr></thead>\n",
       "<tbody>\n",
       "\t<tr><th scope=row>GF_104w_F_1_2</th><td>GF           </td><td>104w         </td><td>F            </td><td>Project_S264 </td></tr>\n",
       "\t<tr><th scope=row>GF_104w_F_2_2</th><td>GF           </td><td>104w         </td><td>F            </td><td>Project_S264 </td></tr>\n",
       "\t<tr><th scope=row>GF_104w_F_3_2</th><td>GF           </td><td>104w         </td><td>F            </td><td>Project_S264 </td></tr>\n",
       "\t<tr><th scope=row>GF_104w_M_1_2</th><td>GF           </td><td>104w         </td><td>M            </td><td>Project_S264 </td></tr>\n",
       "\t<tr><th scope=row>GF_104w_M_2_2</th><td>GF           </td><td>104w         </td><td>M            </td><td>Project_S264 </td></tr>\n",
       "\t<tr><th scope=row>GF_52w_M_1_2</th><td>GF           </td><td>52w          </td><td>M            </td><td>Project_148_1</td></tr>\n",
       "\t<tr><th scope=row>GF_52w_M_2_2</th><td>GF           </td><td>52w          </td><td>M            </td><td>Project_148_2</td></tr>\n",
       "\t<tr><th scope=row>GF_52w_M_3_2</th><td>GF           </td><td>52w          </td><td>M            </td><td>Project_148_1</td></tr>\n",
       "\t<tr><th scope=row>GF_52w_M_4_2</th><td>GF           </td><td>52w          </td><td>M            </td><td>Project_148_2</td></tr>\n",
       "\t<tr><th scope=row>GF_8w_M_1_2</th><td>GF           </td><td>8w           </td><td>M            </td><td>Project_148_1</td></tr>\n",
       "\t<tr><th scope=row>GF_8w_M_2_2</th><td>GF           </td><td>8w           </td><td>M            </td><td>Project_148_2</td></tr>\n",
       "\t<tr><th scope=row>GF_8w_M_3_2</th><td>GF           </td><td>8w           </td><td>M            </td><td>Project_148_1</td></tr>\n",
       "\t<tr><th scope=row>GF_8w_M_4_2</th><td>GF           </td><td>8w           </td><td>M            </td><td>Project_148_2</td></tr>\n",
       "\t<tr><th scope=row>SPF_104w_F_1_2</th><td>SPF          </td><td>104w         </td><td>F            </td><td>Project_S174 </td></tr>\n",
       "\t<tr><th scope=row>SPF_104w_F_2_2</th><td>SPF          </td><td>104w         </td><td>F            </td><td>Project_S174 </td></tr>\n",
       "\t<tr><th scope=row>SPF_104w_F_3_2</th><td>SPF          </td><td>104w         </td><td>F            </td><td>Project_S174 </td></tr>\n",
       "\t<tr><th scope=row>SPF_104w_M_1_2</th><td>SPF          </td><td>104w         </td><td>M            </td><td>Project_S174 </td></tr>\n",
       "\t<tr><th scope=row>SPF_104w_M_2_2</th><td>SPF          </td><td>104w         </td><td>M            </td><td>Project_S174 </td></tr>\n",
       "\t<tr><th scope=row>SPF_104w_M_3_2</th><td>SPF          </td><td>104w         </td><td>M            </td><td>Project_S174 </td></tr>\n",
       "\t<tr><th scope=row>SPF_104w_M_4_2</th><td>SPF          </td><td>104w         </td><td>M            </td><td>Project_S174 </td></tr>\n",
       "\t<tr><th scope=row>SPF_52w_M_1_2</th><td>SPF          </td><td>52w          </td><td>M            </td><td>Project_148_1</td></tr>\n",
       "\t<tr><th scope=row>SPF_52w_M_2_2</th><td>SPF          </td><td>52w          </td><td>M            </td><td>Project_148_2</td></tr>\n",
       "\t<tr><th scope=row>SPF_52w_M_3_2</th><td>SPF          </td><td>52w          </td><td>M            </td><td>Project_148_1</td></tr>\n",
       "\t<tr><th scope=row>SPF_52w_M_4_2</th><td>SPF          </td><td>52w          </td><td>M            </td><td>Project_148_2</td></tr>\n",
       "\t<tr><th scope=row>SPF_52w_M_5_2</th><td>SPF          </td><td>52w          </td><td>M            </td><td>Project_148_1</td></tr>\n",
       "\t<tr><th scope=row>SPF_8w_M_1_2</th><td>SPF          </td><td>8w           </td><td>M            </td><td>Project_148_1</td></tr>\n",
       "\t<tr><th scope=row>SPF_8w_M_2_2</th><td>SPF          </td><td>8w           </td><td>M            </td><td>Project_148_2</td></tr>\n",
       "\t<tr><th scope=row>SPF_8w_M_3_2</th><td>SPF          </td><td>8w           </td><td>M            </td><td>Project_148_1</td></tr>\n",
       "\t<tr><th scope=row>SPF_8w_M_4_2</th><td>SPF          </td><td>8w           </td><td>M            </td><td>Project_148_2</td></tr>\n",
       "\t<tr><th scope=row>GF_52w_F_1_2</th><td>GF           </td><td>52w          </td><td>F            </td><td>Project_S178 </td></tr>\n",
       "\t<tr><th scope=row>⋮</th><td>⋮</td><td>⋮</td><td>⋮</td><td>⋮</td></tr>\n",
       "\t<tr><th scope=row>GF_52w_F_5_2</th><td>GF          </td><td>52w         </td><td>F           </td><td>Project_S178</td></tr>\n",
       "\t<tr><th scope=row>GF_52w_F_6_2</th><td>GF          </td><td>52w         </td><td>F           </td><td>Project_S178</td></tr>\n",
       "\t<tr><th scope=row>SPF_52w_F_1_2</th><td>SPF         </td><td>52w         </td><td>F           </td><td>Project_S178</td></tr>\n",
       "\t<tr><th scope=row>SPF_52w_F_2_2</th><td>SPF         </td><td>52w         </td><td>F           </td><td>Project_S178</td></tr>\n",
       "\t<tr><th scope=row>SPF_52w_F_3_2</th><td>SPF         </td><td>52w         </td><td>F           </td><td>Project_S178</td></tr>\n",
       "\t<tr><th scope=row>SPF_52w_F_4_2</th><td>SPF         </td><td>52w         </td><td>F           </td><td>Project_S178</td></tr>\n",
       "\t<tr><th scope=row>SPF_52w_F_5_2</th><td>SPF         </td><td>52w         </td><td>F           </td><td>Project_S178</td></tr>\n",
       "\t<tr><th scope=row>SPF_52w_F_6_2</th><td>SPF         </td><td>52w         </td><td>F           </td><td>Project_S178</td></tr>\n",
       "\t<tr><th scope=row>SPF_104w_M_5_2</th><td>SPF         </td><td>104w        </td><td>M           </td><td>Project_S198</td></tr>\n",
       "\t<tr><th scope=row>SPF_104w_M_6_2</th><td>SPF         </td><td>104w        </td><td>M           </td><td>Project_S198</td></tr>\n",
       "\t<tr><th scope=row>SPF_104w_M_7_2</th><td>SPF         </td><td>104w        </td><td>M           </td><td>Project_S198</td></tr>\n",
       "\t<tr><th scope=row>SPF_104w_M_8_2</th><td>SPF         </td><td>104w        </td><td>M           </td><td>Project_S198</td></tr>\n",
       "\t<tr><th scope=row>SPF_104w_M_9_2</th><td>SPF         </td><td>104w        </td><td>M           </td><td>Project_S198</td></tr>\n",
       "\t<tr><th scope=row>SPF_104w_M_10_2</th><td>SPF         </td><td>104w        </td><td>M           </td><td>Project_S198</td></tr>\n",
       "\t<tr><th scope=row>SPF_104w_M_11_2</th><td>SPF         </td><td>104w        </td><td>M           </td><td>Project_S198</td></tr>\n",
       "\t<tr><th scope=row>SPF_104w_M_12_2</th><td>SPF         </td><td>104w        </td><td>M           </td><td>Project_S198</td></tr>\n",
       "\t<tr><th scope=row>SPF_104w_M_13_2</th><td>SPF         </td><td>104w        </td><td>M           </td><td>Project_S198</td></tr>\n",
       "\t<tr><th scope=row>SPF_104w_M_14_2</th><td>SPF         </td><td>104w        </td><td>M           </td><td>Project_S198</td></tr>\n",
       "\t<tr><th scope=row>SPF_8w_F_1_2</th><td>SPF         </td><td>8w          </td><td>F           </td><td>Project_S225</td></tr>\n",
       "\t<tr><th scope=row>SPF_8w_F_3_2</th><td>SPF         </td><td>8w          </td><td>F           </td><td>Project_S225</td></tr>\n",
       "\t<tr><th scope=row>SPF_8w_F_4_2</th><td>SPF         </td><td>8w          </td><td>F           </td><td>Project_S225</td></tr>\n",
       "\t<tr><th scope=row>SPF_8w_F_5_2</th><td>SPF         </td><td>8w          </td><td>F           </td><td>Project_S225</td></tr>\n",
       "\t<tr><th scope=row>GF_8w_F_1_2</th><td>GF          </td><td>8w          </td><td>F           </td><td>Project_S225</td></tr>\n",
       "\t<tr><th scope=row>GF_8w_F_2_2</th><td>GF          </td><td>8w          </td><td>F           </td><td>Project_S225</td></tr>\n",
       "\t<tr><th scope=row>GF_8w_F_3_2</th><td>GF          </td><td>8w          </td><td>F           </td><td>Project_S225</td></tr>\n",
       "\t<tr><th scope=row>GF_8w_F_4_2</th><td>GF          </td><td>8w          </td><td>F           </td><td>Project_S225</td></tr>\n",
       "\t<tr><th scope=row>GF_8w_F_5_2</th><td>GF          </td><td>8w          </td><td>F           </td><td>Project_S225</td></tr>\n",
       "\t<tr><th scope=row>GF_104w_M_3_2</th><td>GF          </td><td>104w        </td><td>M           </td><td>S288        </td></tr>\n",
       "\t<tr><th scope=row>GF_104w_M_5_2</th><td>GF          </td><td>104w        </td><td>M           </td><td>S288        </td></tr>\n",
       "\t<tr><th scope=row>GF_104w_M_4_2</th><td>GF          </td><td>104w        </td><td>M           </td><td>S288        </td></tr>\n",
       "</tbody>\n",
       "</table>\n"
      ],
      "text/latex": [
       "\\begin{tabular}{r|llll}\n",
       "  & type & age & gender & project\\\\\n",
       "\\hline\n",
       "\tGF\\_104w\\_F\\_1\\_2 & GF              & 104w            & F               & Project\\_S264 \\\\\n",
       "\tGF\\_104w\\_F\\_2\\_2 & GF              & 104w            & F               & Project\\_S264 \\\\\n",
       "\tGF\\_104w\\_F\\_3\\_2 & GF              & 104w            & F               & Project\\_S264 \\\\\n",
       "\tGF\\_104w\\_M\\_1\\_2 & GF              & 104w            & M               & Project\\_S264 \\\\\n",
       "\tGF\\_104w\\_M\\_2\\_2 & GF              & 104w            & M               & Project\\_S264 \\\\\n",
       "\tGF\\_52w\\_M\\_1\\_2 & GF                & 52w               & M                 & Project\\_148\\_1\\\\\n",
       "\tGF\\_52w\\_M\\_2\\_2 & GF                & 52w               & M                 & Project\\_148\\_2\\\\\n",
       "\tGF\\_52w\\_M\\_3\\_2 & GF                & 52w               & M                 & Project\\_148\\_1\\\\\n",
       "\tGF\\_52w\\_M\\_4\\_2 & GF                & 52w               & M                 & Project\\_148\\_2\\\\\n",
       "\tGF\\_8w\\_M\\_1\\_2 & GF                & 8w                & M                 & Project\\_148\\_1\\\\\n",
       "\tGF\\_8w\\_M\\_2\\_2 & GF                & 8w                & M                 & Project\\_148\\_2\\\\\n",
       "\tGF\\_8w\\_M\\_3\\_2 & GF                & 8w                & M                 & Project\\_148\\_1\\\\\n",
       "\tGF\\_8w\\_M\\_4\\_2 & GF                & 8w                & M                 & Project\\_148\\_2\\\\\n",
       "\tSPF\\_104w\\_F\\_1\\_2 & SPF             & 104w            & F               & Project\\_S174 \\\\\n",
       "\tSPF\\_104w\\_F\\_2\\_2 & SPF             & 104w            & F               & Project\\_S174 \\\\\n",
       "\tSPF\\_104w\\_F\\_3\\_2 & SPF             & 104w            & F               & Project\\_S174 \\\\\n",
       "\tSPF\\_104w\\_M\\_1\\_2 & SPF             & 104w            & M               & Project\\_S174 \\\\\n",
       "\tSPF\\_104w\\_M\\_2\\_2 & SPF             & 104w            & M               & Project\\_S174 \\\\\n",
       "\tSPF\\_104w\\_M\\_3\\_2 & SPF             & 104w            & M               & Project\\_S174 \\\\\n",
       "\tSPF\\_104w\\_M\\_4\\_2 & SPF             & 104w            & M               & Project\\_S174 \\\\\n",
       "\tSPF\\_52w\\_M\\_1\\_2 & SPF               & 52w               & M                 & Project\\_148\\_1\\\\\n",
       "\tSPF\\_52w\\_M\\_2\\_2 & SPF               & 52w               & M                 & Project\\_148\\_2\\\\\n",
       "\tSPF\\_52w\\_M\\_3\\_2 & SPF               & 52w               & M                 & Project\\_148\\_1\\\\\n",
       "\tSPF\\_52w\\_M\\_4\\_2 & SPF               & 52w               & M                 & Project\\_148\\_2\\\\\n",
       "\tSPF\\_52w\\_M\\_5\\_2 & SPF               & 52w               & M                 & Project\\_148\\_1\\\\\n",
       "\tSPF\\_8w\\_M\\_1\\_2 & SPF               & 8w                & M                 & Project\\_148\\_1\\\\\n",
       "\tSPF\\_8w\\_M\\_2\\_2 & SPF               & 8w                & M                 & Project\\_148\\_2\\\\\n",
       "\tSPF\\_8w\\_M\\_3\\_2 & SPF               & 8w                & M                 & Project\\_148\\_1\\\\\n",
       "\tSPF\\_8w\\_M\\_4\\_2 & SPF               & 8w                & M                 & Project\\_148\\_2\\\\\n",
       "\tGF\\_52w\\_F\\_1\\_2 & GF              & 52w             & F               & Project\\_S178 \\\\\n",
       "\t⋮ & ⋮ & ⋮ & ⋮ & ⋮\\\\\n",
       "\tGF\\_52w\\_F\\_5\\_2 & GF             & 52w            & F              & Project\\_S178\\\\\n",
       "\tGF\\_52w\\_F\\_6\\_2 & GF             & 52w            & F              & Project\\_S178\\\\\n",
       "\tSPF\\_52w\\_F\\_1\\_2 & SPF            & 52w            & F              & Project\\_S178\\\\\n",
       "\tSPF\\_52w\\_F\\_2\\_2 & SPF            & 52w            & F              & Project\\_S178\\\\\n",
       "\tSPF\\_52w\\_F\\_3\\_2 & SPF            & 52w            & F              & Project\\_S178\\\\\n",
       "\tSPF\\_52w\\_F\\_4\\_2 & SPF            & 52w            & F              & Project\\_S178\\\\\n",
       "\tSPF\\_52w\\_F\\_5\\_2 & SPF            & 52w            & F              & Project\\_S178\\\\\n",
       "\tSPF\\_52w\\_F\\_6\\_2 & SPF            & 52w            & F              & Project\\_S178\\\\\n",
       "\tSPF\\_104w\\_M\\_5\\_2 & SPF            & 104w           & M              & Project\\_S198\\\\\n",
       "\tSPF\\_104w\\_M\\_6\\_2 & SPF            & 104w           & M              & Project\\_S198\\\\\n",
       "\tSPF\\_104w\\_M\\_7\\_2 & SPF            & 104w           & M              & Project\\_S198\\\\\n",
       "\tSPF\\_104w\\_M\\_8\\_2 & SPF            & 104w           & M              & Project\\_S198\\\\\n",
       "\tSPF\\_104w\\_M\\_9\\_2 & SPF            & 104w           & M              & Project\\_S198\\\\\n",
       "\tSPF\\_104w\\_M\\_10\\_2 & SPF            & 104w           & M              & Project\\_S198\\\\\n",
       "\tSPF\\_104w\\_M\\_11\\_2 & SPF            & 104w           & M              & Project\\_S198\\\\\n",
       "\tSPF\\_104w\\_M\\_12\\_2 & SPF            & 104w           & M              & Project\\_S198\\\\\n",
       "\tSPF\\_104w\\_M\\_13\\_2 & SPF            & 104w           & M              & Project\\_S198\\\\\n",
       "\tSPF\\_104w\\_M\\_14\\_2 & SPF            & 104w           & M              & Project\\_S198\\\\\n",
       "\tSPF\\_8w\\_F\\_1\\_2 & SPF            & 8w             & F              & Project\\_S225\\\\\n",
       "\tSPF\\_8w\\_F\\_3\\_2 & SPF            & 8w             & F              & Project\\_S225\\\\\n",
       "\tSPF\\_8w\\_F\\_4\\_2 & SPF            & 8w             & F              & Project\\_S225\\\\\n",
       "\tSPF\\_8w\\_F\\_5\\_2 & SPF            & 8w             & F              & Project\\_S225\\\\\n",
       "\tGF\\_8w\\_F\\_1\\_2 & GF             & 8w             & F              & Project\\_S225\\\\\n",
       "\tGF\\_8w\\_F\\_2\\_2 & GF             & 8w             & F              & Project\\_S225\\\\\n",
       "\tGF\\_8w\\_F\\_3\\_2 & GF             & 8w             & F              & Project\\_S225\\\\\n",
       "\tGF\\_8w\\_F\\_4\\_2 & GF             & 8w             & F              & Project\\_S225\\\\\n",
       "\tGF\\_8w\\_F\\_5\\_2 & GF             & 8w             & F              & Project\\_S225\\\\\n",
       "\tGF\\_104w\\_M\\_3\\_2 & GF           & 104w         & M            & S288        \\\\\n",
       "\tGF\\_104w\\_M\\_5\\_2 & GF           & 104w         & M            & S288        \\\\\n",
       "\tGF\\_104w\\_M\\_4\\_2 & GF           & 104w         & M            & S288        \\\\\n",
       "\\end{tabular}\n"
      ],
      "text/markdown": [
       "\n",
       "| <!--/--> | type | age | gender | project | \n",
       "|---|---|---|---|---|---|---|---|---|---|---|---|---|---|---|---|---|---|---|---|---|---|---|---|---|---|---|---|---|---|---|---|---|---|---|---|---|---|---|---|---|---|---|---|---|---|---|---|---|---|---|---|---|---|---|---|---|---|---|---|---|\n",
       "| GF_104w_F_1_2 | GF            | 104w          | F             | Project_S264  | \n",
       "| GF_104w_F_2_2 | GF            | 104w          | F             | Project_S264  | \n",
       "| GF_104w_F_3_2 | GF            | 104w          | F             | Project_S264  | \n",
       "| GF_104w_M_1_2 | GF            | 104w          | M             | Project_S264  | \n",
       "| GF_104w_M_2_2 | GF            | 104w          | M             | Project_S264  | \n",
       "| GF_52w_M_1_2 | GF            | 52w           | M             | Project_148_1 | \n",
       "| GF_52w_M_2_2 | GF            | 52w           | M             | Project_148_2 | \n",
       "| GF_52w_M_3_2 | GF            | 52w           | M             | Project_148_1 | \n",
       "| GF_52w_M_4_2 | GF            | 52w           | M             | Project_148_2 | \n",
       "| GF_8w_M_1_2 | GF            | 8w            | M             | Project_148_1 | \n",
       "| GF_8w_M_2_2 | GF            | 8w            | M             | Project_148_2 | \n",
       "| GF_8w_M_3_2 | GF            | 8w            | M             | Project_148_1 | \n",
       "| GF_8w_M_4_2 | GF            | 8w            | M             | Project_148_2 | \n",
       "| SPF_104w_F_1_2 | SPF           | 104w          | F             | Project_S174  | \n",
       "| SPF_104w_F_2_2 | SPF           | 104w          | F             | Project_S174  | \n",
       "| SPF_104w_F_3_2 | SPF           | 104w          | F             | Project_S174  | \n",
       "| SPF_104w_M_1_2 | SPF           | 104w          | M             | Project_S174  | \n",
       "| SPF_104w_M_2_2 | SPF           | 104w          | M             | Project_S174  | \n",
       "| SPF_104w_M_3_2 | SPF           | 104w          | M             | Project_S174  | \n",
       "| SPF_104w_M_4_2 | SPF           | 104w          | M             | Project_S174  | \n",
       "| SPF_52w_M_1_2 | SPF           | 52w           | M             | Project_148_1 | \n",
       "| SPF_52w_M_2_2 | SPF           | 52w           | M             | Project_148_2 | \n",
       "| SPF_52w_M_3_2 | SPF           | 52w           | M             | Project_148_1 | \n",
       "| SPF_52w_M_4_2 | SPF           | 52w           | M             | Project_148_2 | \n",
       "| SPF_52w_M_5_2 | SPF           | 52w           | M             | Project_148_1 | \n",
       "| SPF_8w_M_1_2 | SPF           | 8w            | M             | Project_148_1 | \n",
       "| SPF_8w_M_2_2 | SPF           | 8w            | M             | Project_148_2 | \n",
       "| SPF_8w_M_3_2 | SPF           | 8w            | M             | Project_148_1 | \n",
       "| SPF_8w_M_4_2 | SPF           | 8w            | M             | Project_148_2 | \n",
       "| GF_52w_F_1_2 | GF            | 52w           | F             | Project_S178  | \n",
       "| ⋮ | ⋮ | ⋮ | ⋮ | ⋮ | \n",
       "| GF_52w_F_5_2 | GF           | 52w          | F            | Project_S178 | \n",
       "| GF_52w_F_6_2 | GF           | 52w          | F            | Project_S178 | \n",
       "| SPF_52w_F_1_2 | SPF          | 52w          | F            | Project_S178 | \n",
       "| SPF_52w_F_2_2 | SPF          | 52w          | F            | Project_S178 | \n",
       "| SPF_52w_F_3_2 | SPF          | 52w          | F            | Project_S178 | \n",
       "| SPF_52w_F_4_2 | SPF          | 52w          | F            | Project_S178 | \n",
       "| SPF_52w_F_5_2 | SPF          | 52w          | F            | Project_S178 | \n",
       "| SPF_52w_F_6_2 | SPF          | 52w          | F            | Project_S178 | \n",
       "| SPF_104w_M_5_2 | SPF          | 104w         | M            | Project_S198 | \n",
       "| SPF_104w_M_6_2 | SPF          | 104w         | M            | Project_S198 | \n",
       "| SPF_104w_M_7_2 | SPF          | 104w         | M            | Project_S198 | \n",
       "| SPF_104w_M_8_2 | SPF          | 104w         | M            | Project_S198 | \n",
       "| SPF_104w_M_9_2 | SPF          | 104w         | M            | Project_S198 | \n",
       "| SPF_104w_M_10_2 | SPF          | 104w         | M            | Project_S198 | \n",
       "| SPF_104w_M_11_2 | SPF          | 104w         | M            | Project_S198 | \n",
       "| SPF_104w_M_12_2 | SPF          | 104w         | M            | Project_S198 | \n",
       "| SPF_104w_M_13_2 | SPF          | 104w         | M            | Project_S198 | \n",
       "| SPF_104w_M_14_2 | SPF          | 104w         | M            | Project_S198 | \n",
       "| SPF_8w_F_1_2 | SPF          | 8w           | F            | Project_S225 | \n",
       "| SPF_8w_F_3_2 | SPF          | 8w           | F            | Project_S225 | \n",
       "| SPF_8w_F_4_2 | SPF          | 8w           | F            | Project_S225 | \n",
       "| SPF_8w_F_5_2 | SPF          | 8w           | F            | Project_S225 | \n",
       "| GF_8w_F_1_2 | GF           | 8w           | F            | Project_S225 | \n",
       "| GF_8w_F_2_2 | GF           | 8w           | F            | Project_S225 | \n",
       "| GF_8w_F_3_2 | GF           | 8w           | F            | Project_S225 | \n",
       "| GF_8w_F_4_2 | GF           | 8w           | F            | Project_S225 | \n",
       "| GF_8w_F_5_2 | GF           | 8w           | F            | Project_S225 | \n",
       "| GF_104w_M_3_2 | GF           | 104w         | M            | S288         | \n",
       "| GF_104w_M_5_2 | GF           | 104w         | M            | S288         | \n",
       "| GF_104w_M_4_2 | GF           | 104w         | M            | S288         | \n",
       "\n",
       "\n"
      ],
      "text/plain": [
       "                type age  gender project      \n",
       "GF_104w_F_1_2   GF   104w F      Project_S264 \n",
       "GF_104w_F_2_2   GF   104w F      Project_S264 \n",
       "GF_104w_F_3_2   GF   104w F      Project_S264 \n",
       "GF_104w_M_1_2   GF   104w M      Project_S264 \n",
       "GF_104w_M_2_2   GF   104w M      Project_S264 \n",
       "GF_52w_M_1_2    GF   52w  M      Project_148_1\n",
       "GF_52w_M_2_2    GF   52w  M      Project_148_2\n",
       "GF_52w_M_3_2    GF   52w  M      Project_148_1\n",
       "GF_52w_M_4_2    GF   52w  M      Project_148_2\n",
       "GF_8w_M_1_2     GF   8w   M      Project_148_1\n",
       "GF_8w_M_2_2     GF   8w   M      Project_148_2\n",
       "GF_8w_M_3_2     GF   8w   M      Project_148_1\n",
       "GF_8w_M_4_2     GF   8w   M      Project_148_2\n",
       "SPF_104w_F_1_2  SPF  104w F      Project_S174 \n",
       "SPF_104w_F_2_2  SPF  104w F      Project_S174 \n",
       "SPF_104w_F_3_2  SPF  104w F      Project_S174 \n",
       "SPF_104w_M_1_2  SPF  104w M      Project_S174 \n",
       "SPF_104w_M_2_2  SPF  104w M      Project_S174 \n",
       "SPF_104w_M_3_2  SPF  104w M      Project_S174 \n",
       "SPF_104w_M_4_2  SPF  104w M      Project_S174 \n",
       "SPF_52w_M_1_2   SPF  52w  M      Project_148_1\n",
       "SPF_52w_M_2_2   SPF  52w  M      Project_148_2\n",
       "SPF_52w_M_3_2   SPF  52w  M      Project_148_1\n",
       "SPF_52w_M_4_2   SPF  52w  M      Project_148_2\n",
       "SPF_52w_M_5_2   SPF  52w  M      Project_148_1\n",
       "SPF_8w_M_1_2    SPF  8w   M      Project_148_1\n",
       "SPF_8w_M_2_2    SPF  8w   M      Project_148_2\n",
       "SPF_8w_M_3_2    SPF  8w   M      Project_148_1\n",
       "SPF_8w_M_4_2    SPF  8w   M      Project_148_2\n",
       "GF_52w_F_1_2    GF   52w  F      Project_S178 \n",
       "⋮               ⋮    ⋮    ⋮      ⋮            \n",
       "GF_52w_F_5_2    GF   52w  F      Project_S178 \n",
       "GF_52w_F_6_2    GF   52w  F      Project_S178 \n",
       "SPF_52w_F_1_2   SPF  52w  F      Project_S178 \n",
       "SPF_52w_F_2_2   SPF  52w  F      Project_S178 \n",
       "SPF_52w_F_3_2   SPF  52w  F      Project_S178 \n",
       "SPF_52w_F_4_2   SPF  52w  F      Project_S178 \n",
       "SPF_52w_F_5_2   SPF  52w  F      Project_S178 \n",
       "SPF_52w_F_6_2   SPF  52w  F      Project_S178 \n",
       "SPF_104w_M_5_2  SPF  104w M      Project_S198 \n",
       "SPF_104w_M_6_2  SPF  104w M      Project_S198 \n",
       "SPF_104w_M_7_2  SPF  104w M      Project_S198 \n",
       "SPF_104w_M_8_2  SPF  104w M      Project_S198 \n",
       "SPF_104w_M_9_2  SPF  104w M      Project_S198 \n",
       "SPF_104w_M_10_2 SPF  104w M      Project_S198 \n",
       "SPF_104w_M_11_2 SPF  104w M      Project_S198 \n",
       "SPF_104w_M_12_2 SPF  104w M      Project_S198 \n",
       "SPF_104w_M_13_2 SPF  104w M      Project_S198 \n",
       "SPF_104w_M_14_2 SPF  104w M      Project_S198 \n",
       "SPF_8w_F_1_2    SPF  8w   F      Project_S225 \n",
       "SPF_8w_F_3_2    SPF  8w   F      Project_S225 \n",
       "SPF_8w_F_4_2    SPF  8w   F      Project_S225 \n",
       "SPF_8w_F_5_2    SPF  8w   F      Project_S225 \n",
       "GF_8w_F_1_2     GF   8w   F      Project_S225 \n",
       "GF_8w_F_2_2     GF   8w   F      Project_S225 \n",
       "GF_8w_F_3_2     GF   8w   F      Project_S225 \n",
       "GF_8w_F_4_2     GF   8w   F      Project_S225 \n",
       "GF_8w_F_5_2     GF   8w   F      Project_S225 \n",
       "GF_104w_M_3_2   GF   104w M      S288         \n",
       "GF_104w_M_5_2   GF   104w M      S288         \n",
       "GF_104w_M_4_2   GF   104w M      S288         "
      ]
     },
     "metadata": {},
     "output_type": "display_data"
    }
   ],
   "source": [
    "# Extract the metadata\n",
    "metadata = t(sapply(sapply(colnames(counts), strsplit, split = \"_\"), unlist))\n",
    "short_names = paste(metadata[,1], metadata[,2], metadata[,3], metadata[,4], sep =\"_\")\n",
    "names(short_names) = rownames(metadata)\n",
    "metadata = metadata[,-5]\n",
    "colnames(metadata) = c(\"type\", \"age\", \"gender\", \"replicate\")\n",
    "metadata = as.data.frame(metadata)\n",
    "metadata$replicate <- NULL\n",
    "metadata$project = paste(unlist(file_desc[short_names,'Project.id']))\n",
    "metadata"
   ]
  },
  {
   "cell_type": "code",
   "execution_count": 14,
   "metadata": {},
   "outputs": [],
   "source": [
    "save(gene_length, file=\"../results/dge/gene_length.RData\")"
   ]
  },
  {
   "cell_type": "markdown",
   "metadata": {},
   "source": [
    "# DGE analysis construction\n",
    "\n",
    "## Testing how the complexification of the model explain the data"
   ]
  },
  {
   "cell_type": "code",
   "execution_count": 15,
   "metadata": {},
   "outputs": [],
   "source": [
    "complexif_stats = data.frame(matrix(0, nrow=0, ncol=4))\n",
    "colnames(complexif_stats) = c(\"Design\", \"Reduced\", \"Tested\", \"Genes with LRT padj < 0.05\")"
   ]
  },
  {
   "cell_type": "code",
   "execution_count": 163,
   "metadata": {},
   "outputs": [
    {
     "name": "stderr",
     "output_type": "stream",
     "text": [
      "Warning message in DESeqDataSet(se, design = design, ignoreRank):\n",
      "“some variables in design formula are characters, converting to factors”estimating size factors\n",
      "estimating dispersions\n",
      "gene-wise dispersion estimates\n",
      "mean-dispersion relationship\n",
      "final dispersion estimates\n",
      "fitting model and testing\n",
      "-- replacing outliers and refitting for 241 genes\n",
      "-- DESeq argument 'minReplicatesForReplace' = 7 \n",
      "-- original counts are preserved in counts(dds)\n",
      "estimating dispersions\n",
      "fitting model and testing\n"
     ]
    }
   ],
   "source": [
    "# Design: project\n",
    "dds = DESeqDataSetFromMatrix(\n",
    "        countData = counts,\n",
    "        colData = metadata,\n",
    "        design = ~ project)\n",
    "dge = DESeq(dds, test=\"LRT\", reduced = ~ 1)\n",
    "LRT_res = results(dge, alpha=0.05)\n",
    "complexif_stats[nrow(complexif_stats) + 1,] = c(\"project\", \"1\", \"project\", get_sign_padj(LRT_res), 0)"
   ]
  },
  {
   "cell_type": "code",
   "execution_count": 16,
   "metadata": {
    "scrolled": true
   },
   "outputs": [
    {
     "name": "stderr",
     "output_type": "stream",
     "text": [
      "Warning message in DESeqDataSet(se, design = design, ignoreRank):\n",
      "“some variables in design formula are characters, converting to factors”estimating size factors\n",
      "estimating dispersions\n",
      "gene-wise dispersion estimates\n",
      "mean-dispersion relationship\n",
      "final dispersion estimates\n",
      "fitting model and testing\n",
      "-- replacing outliers and refitting for 688 genes\n",
      "-- DESeq argument 'minReplicatesForReplace' = 7 \n",
      "-- original counts are preserved in counts(dds)\n",
      "estimating dispersions\n",
      "fitting model and testing\n"
     ]
    }
   ],
   "source": [
    "# Design: gender\n",
    "dds = DESeqDataSetFromMatrix(\n",
    "        countData = counts,\n",
    "        colData = metadata,\n",
    "        design = ~ gender)\n",
    "dge = DESeq(dds, test=\"LRT\", reduced = ~ 1)\n",
    "LRT_res = results(dge, alpha=0.05)\n",
    "complexif_stats[nrow(complexif_stats) + 1,] = c(\"gender\", \"1\", \"gender\", get_sign_padj(LRT_res))"
   ]
  },
  {
   "cell_type": "code",
   "execution_count": 17,
   "metadata": {},
   "outputs": [
    {
     "name": "stderr",
     "output_type": "stream",
     "text": [
      "Warning message in DESeqDataSet(se, design = design, ignoreRank):\n",
      "“some variables in design formula are characters, converting to factors”estimating size factors\n",
      "estimating dispersions\n",
      "gene-wise dispersion estimates\n",
      "mean-dispersion relationship\n",
      "final dispersion estimates\n",
      "fitting model and testing\n",
      "-- replacing outliers and refitting for 701 genes\n",
      "-- DESeq argument 'minReplicatesForReplace' = 7 \n",
      "-- original counts are preserved in counts(dds)\n",
      "estimating dispersions\n",
      "fitting model and testing\n"
     ]
    }
   ],
   "source": [
    "# Design: type\n",
    "dds = DESeqDataSetFromMatrix(\n",
    "        countData = counts,\n",
    "        colData = metadata,\n",
    "        design = ~ type)\n",
    "dge = DESeq(dds, test=\"LRT\", reduced = ~ 1)\n",
    "LRT_res = results(dge, alpha=0.05)\n",
    "complexif_stats[nrow(complexif_stats) + 1,] = c(\"type\", \"1\", \"type\", get_sign_padj(LRT_res))"
   ]
  },
  {
   "cell_type": "code",
   "execution_count": 18,
   "metadata": {},
   "outputs": [
    {
     "name": "stderr",
     "output_type": "stream",
     "text": [
      "Warning message in DESeqDataSet(se, design = design, ignoreRank):\n",
      "“some variables in design formula are characters, converting to factors”estimating size factors\n",
      "estimating dispersions\n",
      "gene-wise dispersion estimates\n",
      "mean-dispersion relationship\n",
      "final dispersion estimates\n",
      "fitting model and testing\n",
      "-- replacing outliers and refitting for 666 genes\n",
      "-- DESeq argument 'minReplicatesForReplace' = 7 \n",
      "-- original counts are preserved in counts(dds)\n",
      "estimating dispersions\n",
      "fitting model and testing\n"
     ]
    }
   ],
   "source": [
    "# Design: age\n",
    "dds = DESeqDataSetFromMatrix(\n",
    "        countData = counts,\n",
    "        colData = metadata,\n",
    "        design = ~ age)\n",
    "dge = DESeq(dds, test=\"LRT\", reduced = ~ 1)\n",
    "LRT_res = results(dge, alpha=0.05)\n",
    "complexif_stats[nrow(complexif_stats) + 1,] = c(\"age\", \"1\", \"age\", get_sign_padj(LRT_res))"
   ]
  },
  {
   "cell_type": "code",
   "execution_count": 19,
   "metadata": {},
   "outputs": [
    {
     "name": "stderr",
     "output_type": "stream",
     "text": [
      "Warning message in DESeqDataSet(se, design = design, ignoreRank):\n",
      "“some variables in design formula are characters, converting to factors”estimating size factors\n",
      "estimating dispersions\n",
      "gene-wise dispersion estimates\n",
      "mean-dispersion relationship\n",
      "final dispersion estimates\n",
      "fitting model and testing\n",
      "-- replacing outliers and refitting for 756 genes\n",
      "-- DESeq argument 'minReplicatesForReplace' = 7 \n",
      "-- original counts are preserved in counts(dds)\n",
      "estimating dispersions\n",
      "fitting model and testing\n"
     ]
    }
   ],
   "source": [
    "# Design: gender + type\n",
    "dds = DESeqDataSetFromMatrix(\n",
    "        countData = counts,\n",
    "        colData = metadata,\n",
    "        design = ~ gender + type)\n",
    "dge = DESeq(dds, test=\"LRT\", reduced = ~ gender)\n",
    "LRT_res = results(dge, alpha=0.05)\n",
    "complexif_stats[nrow(complexif_stats) + 1,] = c(\"gender + type\", \"gender\", \"type\", get_sign_padj(LRT_res))"
   ]
  },
  {
   "cell_type": "code",
   "execution_count": 20,
   "metadata": {},
   "outputs": [
    {
     "name": "stderr",
     "output_type": "stream",
     "text": [
      "Warning message in DESeqDataSet(se, design = design, ignoreRank):\n",
      "“some variables in design formula are characters, converting to factors”estimating size factors\n",
      "estimating dispersions\n",
      "gene-wise dispersion estimates\n",
      "mean-dispersion relationship\n",
      "final dispersion estimates\n",
      "fitting model and testing\n",
      "-- replacing outliers and refitting for 552 genes\n",
      "-- DESeq argument 'minReplicatesForReplace' = 7 \n",
      "-- original counts are preserved in counts(dds)\n",
      "estimating dispersions\n",
      "fitting model and testing\n"
     ]
    }
   ],
   "source": [
    "# Design: gender + age\n",
    "dds = DESeqDataSetFromMatrix(\n",
    "        countData = counts,\n",
    "        colData = metadata,\n",
    "        design = ~ gender + age)\n",
    "dge = DESeq(dds, test=\"LRT\", reduced = ~ gender)\n",
    "LRT_res = results(dge, alpha=0.05)\n",
    "complexif_stats[nrow(complexif_stats) + 1,] = c(\"gender + age\", \"gender\", \"age\", get_sign_padj(LRT_res))"
   ]
  },
  {
   "cell_type": "code",
   "execution_count": 21,
   "metadata": {},
   "outputs": [
    {
     "name": "stderr",
     "output_type": "stream",
     "text": [
      "Warning message in DESeqDataSet(se, design = design, ignoreRank):\n",
      "“some variables in design formula are characters, converting to factors”estimating size factors\n",
      "estimating dispersions\n",
      "gene-wise dispersion estimates\n",
      "mean-dispersion relationship\n",
      "final dispersion estimates\n",
      "fitting model and testing\n",
      "-- replacing outliers and refitting for 756 genes\n",
      "-- DESeq argument 'minReplicatesForReplace' = 7 \n",
      "-- original counts are preserved in counts(dds)\n",
      "estimating dispersions\n",
      "fitting model and testing\n"
     ]
    }
   ],
   "source": [
    "# Design: type + gender\n",
    "dds = DESeqDataSetFromMatrix(\n",
    "        countData = counts,\n",
    "        colData = metadata,\n",
    "        design = ~ type + gender)\n",
    "dge = DESeq(dds, test=\"LRT\", reduced = ~ type)\n",
    "LRT_res = results(dge, alpha=0.05)\n",
    "complexif_stats[nrow(complexif_stats) + 1,] = c(\"type + gender\", \"type\", \"gender\", get_sign_padj(LRT_res))"
   ]
  },
  {
   "cell_type": "code",
   "execution_count": 22,
   "metadata": {},
   "outputs": [
    {
     "name": "stderr",
     "output_type": "stream",
     "text": [
      "Warning message in DESeqDataSet(se, design = design, ignoreRank):\n",
      "“some variables in design formula are characters, converting to factors”estimating size factors\n",
      "estimating dispersions\n",
      "gene-wise dispersion estimates\n",
      "mean-dispersion relationship\n",
      "final dispersion estimates\n",
      "fitting model and testing\n",
      "-- replacing outliers and refitting for 553 genes\n",
      "-- DESeq argument 'minReplicatesForReplace' = 7 \n",
      "-- original counts are preserved in counts(dds)\n",
      "estimating dispersions\n",
      "fitting model and testing\n"
     ]
    }
   ],
   "source": [
    "# Design: type + age\n",
    "dds = DESeqDataSetFromMatrix(\n",
    "        countData = counts,\n",
    "        colData = metadata,\n",
    "        design = ~ type + age)\n",
    "dge = DESeq(dds, test=\"LRT\", reduced = ~ type)\n",
    "LRT_res = results(dge, alpha=0.05)\n",
    "complexif_stats[nrow(complexif_stats) + 1,] = c(\"type + age\", \"type\", \"age\", get_sign_padj(LRT_res))"
   ]
  },
  {
   "cell_type": "code",
   "execution_count": 23,
   "metadata": {},
   "outputs": [
    {
     "name": "stderr",
     "output_type": "stream",
     "text": [
      "Warning message in DESeqDataSet(se, design = design, ignoreRank):\n",
      "“some variables in design formula are characters, converting to factors”estimating size factors\n",
      "estimating dispersions\n",
      "gene-wise dispersion estimates\n",
      "mean-dispersion relationship\n",
      "final dispersion estimates\n",
      "fitting model and testing\n",
      "-- replacing outliers and refitting for 552 genes\n",
      "-- DESeq argument 'minReplicatesForReplace' = 7 \n",
      "-- original counts are preserved in counts(dds)\n",
      "estimating dispersions\n",
      "fitting model and testing\n"
     ]
    }
   ],
   "source": [
    "# Design: age + gender\n",
    "dds = DESeqDataSetFromMatrix(\n",
    "        countData = counts,\n",
    "        colData = metadata,\n",
    "        design = ~ age + gender)\n",
    "dge = DESeq(dds, test=\"LRT\", reduced = ~ age)\n",
    "LRT_res = results(dge, alpha=0.05)\n",
    "complexif_stats[nrow(complexif_stats) + 1,] = c(\"age + gender\", \"age\", \"gender\", get_sign_padj(LRT_res))"
   ]
  },
  {
   "cell_type": "code",
   "execution_count": 24,
   "metadata": {},
   "outputs": [
    {
     "name": "stderr",
     "output_type": "stream",
     "text": [
      "Warning message in DESeqDataSet(se, design = design, ignoreRank):\n",
      "“some variables in design formula are characters, converting to factors”estimating size factors\n",
      "estimating dispersions\n",
      "gene-wise dispersion estimates\n",
      "mean-dispersion relationship\n",
      "final dispersion estimates\n",
      "fitting model and testing\n",
      "-- replacing outliers and refitting for 553 genes\n",
      "-- DESeq argument 'minReplicatesForReplace' = 7 \n",
      "-- original counts are preserved in counts(dds)\n",
      "estimating dispersions\n",
      "fitting model and testing\n"
     ]
    }
   ],
   "source": [
    "# Design: age + type\n",
    "dds = DESeqDataSetFromMatrix(\n",
    "        countData = counts,\n",
    "        colData = metadata,\n",
    "        design = ~ age + type)\n",
    "dge = DESeq(dds, test=\"LRT\", reduced = ~ age)\n",
    "LRT_res = results(dge, alpha=0.05)\n",
    "complexif_stats[nrow(complexif_stats) + 1,] = c(\"age + type\", \"age\", \"type\", get_sign_padj(LRT_res))"
   ]
  },
  {
   "cell_type": "code",
   "execution_count": 25,
   "metadata": {},
   "outputs": [
    {
     "name": "stderr",
     "output_type": "stream",
     "text": [
      "Warning message in DESeqDataSet(se, design = design, ignoreRank):\n",
      "“some variables in design formula are characters, converting to factors”estimating size factors\n",
      "estimating dispersions\n",
      "gene-wise dispersion estimates\n",
      "mean-dispersion relationship\n",
      "final dispersion estimates\n",
      "fitting model and testing\n",
      "-- replacing outliers and refitting for 574 genes\n",
      "-- DESeq argument 'minReplicatesForReplace' = 7 \n",
      "-- original counts are preserved in counts(dds)\n",
      "estimating dispersions\n",
      "fitting model and testing\n"
     ]
    }
   ],
   "source": [
    "# Design: gender + type + gender:type\n",
    "dds = DESeqDataSetFromMatrix(\n",
    "        countData = counts,\n",
    "        colData = metadata,\n",
    "        design = ~ gender + type + gender:type)\n",
    "dge = DESeq(dds, test=\"LRT\", reduced = ~ gender + type)\n",
    "LRT_res = results(dge, alpha=0.05)\n",
    "complexif_stats[nrow(complexif_stats) + 1,] = c(\"gender + type + gender:type\", \"gender + type\", \"gender:type\", get_sign_padj(LRT_res))"
   ]
  },
  {
   "cell_type": "code",
   "execution_count": 26,
   "metadata": {},
   "outputs": [
    {
     "name": "stderr",
     "output_type": "stream",
     "text": [
      "Warning message in DESeqDataSet(se, design = design, ignoreRank):\n",
      "“some variables in design formula are characters, converting to factors”estimating size factors\n",
      "estimating dispersions\n",
      "gene-wise dispersion estimates\n",
      "mean-dispersion relationship\n",
      "final dispersion estimates\n",
      "fitting model and testing\n",
      "-- replacing outliers and refitting for 334 genes\n",
      "-- DESeq argument 'minReplicatesForReplace' = 7 \n",
      "-- original counts are preserved in counts(dds)\n",
      "estimating dispersions\n",
      "fitting model and testing\n"
     ]
    }
   ],
   "source": [
    "# Design: gender + age + gender:age\n",
    "dds = DESeqDataSetFromMatrix(\n",
    "        countData = counts,\n",
    "        colData = metadata,\n",
    "        design = ~ gender + age + gender:age)\n",
    "dge = DESeq(dds, test=\"LRT\", reduced = ~ gender + age)\n",
    "LRT_res = results(dge, alpha=0.05)\n",
    "complexif_stats[nrow(complexif_stats) + 1,] = c(\"gender + age + gender:age\", \"gender + age\", \"gender:age\", get_sign_padj(LRT_res))"
   ]
  },
  {
   "cell_type": "code",
   "execution_count": 27,
   "metadata": {},
   "outputs": [
    {
     "name": "stderr",
     "output_type": "stream",
     "text": [
      "Warning message in DESeqDataSet(se, design = design, ignoreRank):\n",
      "“some variables in design formula are characters, converting to factors”estimating size factors\n",
      "estimating dispersions\n",
      "gene-wise dispersion estimates\n",
      "mean-dispersion relationship\n",
      "final dispersion estimates\n",
      "fitting model and testing\n",
      "-- replacing outliers and refitting for 342 genes\n",
      "-- DESeq argument 'minReplicatesForReplace' = 7 \n",
      "-- original counts are preserved in counts(dds)\n",
      "estimating dispersions\n",
      "fitting model and testing\n"
     ]
    }
   ],
   "source": [
    "# Design: type + age + type:age\n",
    "dds = DESeqDataSetFromMatrix(\n",
    "        countData = counts,\n",
    "        colData = metadata,\n",
    "        design = ~ type + age + type:age)\n",
    "dge = DESeq(dds, test=\"LRT\", reduced = ~ type + age)\n",
    "LRT_res = results(dge, alpha=0.05)\n",
    "complexif_stats[nrow(complexif_stats) + 1,] = c(\"type + age + type:age\", \"type + age\", \"type:age\", get_sign_padj(LRT_res))"
   ]
  },
  {
   "cell_type": "code",
   "execution_count": 28,
   "metadata": {},
   "outputs": [
    {
     "name": "stderr",
     "output_type": "stream",
     "text": [
      "Warning message in DESeqDataSet(se, design = design, ignoreRank):\n",
      "“some variables in design formula are characters, converting to factors”estimating size factors\n",
      "estimating dispersions\n",
      "gene-wise dispersion estimates\n",
      "mean-dispersion relationship\n",
      "final dispersion estimates\n",
      "fitting model and testing\n",
      "-- replacing outliers and refitting for 339 genes\n",
      "-- DESeq argument 'minReplicatesForReplace' = 7 \n",
      "-- original counts are preserved in counts(dds)\n",
      "estimating dispersions\n",
      "fitting model and testing\n"
     ]
    }
   ],
   "source": [
    "# Design: gender + type + age\n",
    "dds = DESeqDataSetFromMatrix(\n",
    "        countData = counts,\n",
    "        colData = metadata,\n",
    "        design = ~ gender + type + age)\n",
    "dge = DESeq(dds, test=\"LRT\", reduced = ~ gender + type)\n",
    "LRT_res = results(dge, alpha=0.05)\n",
    "complexif_stats[nrow(complexif_stats) + 1,] = c(\"gender + type + age\", \"gender + type\", \"age\", get_sign_padj(LRT_res))"
   ]
  },
  {
   "cell_type": "code",
   "execution_count": 29,
   "metadata": {},
   "outputs": [
    {
     "name": "stderr",
     "output_type": "stream",
     "text": [
      "Warning message in DESeqDataSet(se, design = design, ignoreRank):\n",
      "“some variables in design formula are characters, converting to factors”estimating size factors\n",
      "estimating dispersions\n",
      "gene-wise dispersion estimates\n",
      "mean-dispersion relationship\n",
      "final dispersion estimates\n",
      "fitting model and testing\n",
      "-- replacing outliers and refitting for 339 genes\n",
      "-- DESeq argument 'minReplicatesForReplace' = 7 \n",
      "-- original counts are preserved in counts(dds)\n",
      "estimating dispersions\n",
      "fitting model and testing\n"
     ]
    }
   ],
   "source": [
    "# Design: gender + type + age\n",
    "dds = DESeqDataSetFromMatrix(\n",
    "        countData = counts,\n",
    "        colData = metadata,\n",
    "        design = ~ gender + type + age)\n",
    "dge = DESeq(dds, test=\"LRT\", reduced = ~ gender + age)\n",
    "LRT_res = results(dge, alpha=0.05)\n",
    "complexif_stats[nrow(complexif_stats) + 1,] = c(\"gender + type + age\", \"gender + age\", \"type\", get_sign_padj(LRT_res))"
   ]
  },
  {
   "cell_type": "code",
   "execution_count": 30,
   "metadata": {},
   "outputs": [
    {
     "name": "stderr",
     "output_type": "stream",
     "text": [
      "Warning message in DESeqDataSet(se, design = design, ignoreRank):\n",
      "“some variables in design formula are characters, converting to factors”estimating size factors\n",
      "estimating dispersions\n",
      "gene-wise dispersion estimates\n",
      "mean-dispersion relationship\n",
      "final dispersion estimates\n",
      "fitting model and testing\n",
      "-- replacing outliers and refitting for 339 genes\n",
      "-- DESeq argument 'minReplicatesForReplace' = 7 \n",
      "-- original counts are preserved in counts(dds)\n",
      "estimating dispersions\n",
      "fitting model and testing\n"
     ]
    }
   ],
   "source": [
    "# Design: gender + type + age\n",
    "dds = DESeqDataSetFromMatrix(\n",
    "        countData = counts,\n",
    "        colData = metadata,\n",
    "        design = ~ gender + type + age)\n",
    "dge = DESeq(dds, test=\"LRT\", reduced = ~ type + age)\n",
    "LRT_res = results(dge, alpha=0.05)\n",
    "complexif_stats[nrow(complexif_stats) + 1,] = c(\"gender + type + age\", \"type + age\", \"gender\", get_sign_padj(LRT_res))"
   ]
  },
  {
   "cell_type": "code",
   "execution_count": 31,
   "metadata": {},
   "outputs": [
    {
     "name": "stderr",
     "output_type": "stream",
     "text": [
      "Warning message in DESeqDataSet(se, design = design, ignoreRank):\n",
      "“some variables in design formula are characters, converting to factors”estimating size factors\n",
      "estimating dispersions\n",
      "gene-wise dispersion estimates\n",
      "mean-dispersion relationship\n",
      "final dispersion estimates\n",
      "fitting model and testing\n",
      "-- replacing outliers and refitting for 291 genes\n",
      "-- DESeq argument 'minReplicatesForReplace' = 7 \n",
      "-- original counts are preserved in counts(dds)\n",
      "estimating dispersions\n",
      "fitting model and testing\n"
     ]
    }
   ],
   "source": [
    "# Design: gender + type + age + gender:type\n",
    "dds = DESeqDataSetFromMatrix(\n",
    "        countData = counts,\n",
    "        colData = metadata,\n",
    "        design = ~ gender + type + age + gender:type)\n",
    "dge = DESeq(dds, test=\"LRT\", reduced = ~ gender + type + age)\n",
    "LRT_res = results(dge, alpha=0.05)\n",
    "complexif_stats[nrow(complexif_stats) + 1,] = c(\"gender + type + age + gender:type\", \"gender + type + age\", \"gender:type\", get_sign_padj(LRT_res))"
   ]
  },
  {
   "cell_type": "code",
   "execution_count": 32,
   "metadata": {},
   "outputs": [
    {
     "name": "stderr",
     "output_type": "stream",
     "text": [
      "Warning message in DESeqDataSet(se, design = design, ignoreRank):\n",
      "“some variables in design formula are characters, converting to factors”estimating size factors\n",
      "estimating dispersions\n",
      "gene-wise dispersion estimates\n",
      "mean-dispersion relationship\n",
      "final dispersion estimates\n",
      "fitting model and testing\n",
      "-- replacing outliers and refitting for 211 genes\n",
      "-- DESeq argument 'minReplicatesForReplace' = 7 \n",
      "-- original counts are preserved in counts(dds)\n",
      "estimating dispersions\n",
      "fitting model and testing\n"
     ]
    }
   ],
   "source": [
    "# Design: gender + type + age + gender:age\n",
    "dds = DESeqDataSetFromMatrix(\n",
    "        countData = counts,\n",
    "        colData = metadata,\n",
    "        design = ~ gender + type + age + gender:age)\n",
    "dge = DESeq(dds, test=\"LRT\", reduced = ~ gender + type + age)\n",
    "LRT_res = results(dge, alpha=0.05)\n",
    "complexif_stats[nrow(complexif_stats) + 1,] = c(\"gender + type + age + gender:age\", \"gender + type + age\", \"gender:age\", get_sign_padj(LRT_res))"
   ]
  },
  {
   "cell_type": "code",
   "execution_count": 33,
   "metadata": {},
   "outputs": [
    {
     "name": "stderr",
     "output_type": "stream",
     "text": [
      "Warning message in DESeqDataSet(se, design = design, ignoreRank):\n",
      "“some variables in design formula are characters, converting to factors”estimating size factors\n",
      "estimating dispersions\n",
      "gene-wise dispersion estimates\n",
      "mean-dispersion relationship\n",
      "final dispersion estimates\n",
      "fitting model and testing\n",
      "-- replacing outliers and refitting for 221 genes\n",
      "-- DESeq argument 'minReplicatesForReplace' = 7 \n",
      "-- original counts are preserved in counts(dds)\n",
      "estimating dispersions\n",
      "fitting model and testing\n"
     ]
    }
   ],
   "source": [
    "# Design: gender + type + age + type:age\n",
    "dds = DESeqDataSetFromMatrix(\n",
    "        countData = counts,\n",
    "        colData = metadata,\n",
    "        design = ~ gender + type + age + type:age)\n",
    "dge = DESeq(dds, test=\"LRT\", reduced = ~ gender + type + age)\n",
    "LRT_res = results(dge, alpha=0.05)\n",
    "complexif_stats[nrow(complexif_stats) + 1,] = c(\"gender + type + age + type:age\", \"gender + type + age\", \"type:age\", get_sign_padj(LRT_res))"
   ]
  },
  {
   "cell_type": "code",
   "execution_count": 34,
   "metadata": {},
   "outputs": [
    {
     "name": "stderr",
     "output_type": "stream",
     "text": [
      "Warning message in DESeqDataSet(se, design = design, ignoreRank):\n",
      "“some variables in design formula are characters, converting to factors”estimating size factors\n",
      "estimating dispersions\n",
      "gene-wise dispersion estimates\n",
      "mean-dispersion relationship\n",
      "final dispersion estimates\n",
      "fitting model and testing\n",
      "-- replacing outliers and refitting for 211 genes\n",
      "-- DESeq argument 'minReplicatesForReplace' = 7 \n",
      "-- original counts are preserved in counts(dds)\n",
      "estimating dispersions\n",
      "fitting model and testing\n"
     ]
    }
   ],
   "source": [
    "# Design: gender + type + age + gender:type + gender:age\n",
    "dds = DESeqDataSetFromMatrix(\n",
    "        countData = counts,\n",
    "        colData = metadata,\n",
    "        design = ~ gender + type + age + gender:type + gender:age)\n",
    "dge = DESeq(dds, test=\"LRT\", reduced = ~ gender + type + age + gender:type)\n",
    "LRT_res = results(dge, alpha=0.05)\n",
    "complexif_stats[nrow(complexif_stats) + 1,] = c(\"gender + type + age + gender:type + gender:age\", \"gender + type + age + gender:type\", \"gender:age\", get_sign_padj(LRT_res))"
   ]
  },
  {
   "cell_type": "code",
   "execution_count": 35,
   "metadata": {},
   "outputs": [
    {
     "name": "stderr",
     "output_type": "stream",
     "text": [
      "Warning message in DESeqDataSet(se, design = design, ignoreRank):\n",
      "“some variables in design formula are characters, converting to factors”estimating size factors\n",
      "estimating dispersions\n",
      "gene-wise dispersion estimates\n",
      "mean-dispersion relationship\n",
      "final dispersion estimates\n",
      "fitting model and testing\n",
      "-- replacing outliers and refitting for 211 genes\n",
      "-- DESeq argument 'minReplicatesForReplace' = 7 \n",
      "-- original counts are preserved in counts(dds)\n",
      "estimating dispersions\n",
      "fitting model and testing\n"
     ]
    }
   ],
   "source": [
    "# Design: gender + type + age + gender:type + gender:age\n",
    "dds = DESeqDataSetFromMatrix(\n",
    "        countData = counts,\n",
    "        colData = metadata,\n",
    "        design = ~ gender + type + age + gender:type + gender:age)\n",
    "dge = DESeq(dds, test=\"LRT\", reduced = ~ gender + type + age + gender:age)\n",
    "LRT_res = results(dge, alpha=0.05)\n",
    "complexif_stats[nrow(complexif_stats) + 1,] = c(\"gender + type + age + gender:type + gender:age\", \"gender + type + age + gender:age\", \"gender:type\", get_sign_padj(LRT_res))"
   ]
  },
  {
   "cell_type": "code",
   "execution_count": 36,
   "metadata": {},
   "outputs": [
    {
     "name": "stderr",
     "output_type": "stream",
     "text": [
      "Warning message in DESeqDataSet(se, design = design, ignoreRank):\n",
      "“some variables in design formula are characters, converting to factors”estimating size factors\n",
      "estimating dispersions\n",
      "gene-wise dispersion estimates\n",
      "mean-dispersion relationship\n",
      "final dispersion estimates\n",
      "fitting model and testing\n",
      "-- replacing outliers and refitting for 210 genes\n",
      "-- DESeq argument 'minReplicatesForReplace' = 7 \n",
      "-- original counts are preserved in counts(dds)\n",
      "estimating dispersions\n",
      "fitting model and testing\n"
     ]
    }
   ],
   "source": [
    "# Design: gender + type + age + gender:type + type:age\n",
    "dds = DESeqDataSetFromMatrix(\n",
    "        countData = counts,\n",
    "        colData = metadata,\n",
    "        design = ~ gender + type + age + gender:type + type:age)\n",
    "dge = DESeq(dds, test=\"LRT\", reduced = ~ gender + type + age + gender:type)\n",
    "LRT_res = results(dge, alpha=0.05)\n",
    "complexif_stats[nrow(complexif_stats) + 1,] = c(\"gender + type + age + gender:type + type:age\", \"gender + type + age + gender:type\", \"type:age\", get_sign_padj(LRT_res))"
   ]
  },
  {
   "cell_type": "code",
   "execution_count": 37,
   "metadata": {},
   "outputs": [
    {
     "name": "stderr",
     "output_type": "stream",
     "text": [
      "Warning message in DESeqDataSet(se, design = design, ignoreRank):\n",
      "“some variables in design formula are characters, converting to factors”estimating size factors\n",
      "estimating dispersions\n",
      "gene-wise dispersion estimates\n",
      "mean-dispersion relationship\n",
      "final dispersion estimates\n",
      "fitting model and testing\n",
      "-- replacing outliers and refitting for 210 genes\n",
      "-- DESeq argument 'minReplicatesForReplace' = 7 \n",
      "-- original counts are preserved in counts(dds)\n",
      "estimating dispersions\n",
      "fitting model and testing\n"
     ]
    }
   ],
   "source": [
    "# Design: gender + type + age + gender:type + type:age\n",
    "dds = DESeqDataSetFromMatrix(\n",
    "        countData = counts,\n",
    "        colData = metadata,\n",
    "        design = ~ gender + type + age + gender:type + type:age)\n",
    "dge = DESeq(dds, test=\"LRT\", reduced = ~ gender + type + age + type:age)\n",
    "LRT_res = results(dge, alpha=0.05)\n",
    "complexif_stats[nrow(complexif_stats) + 1,] = c(\"gender + type + age + gender:type + type:age\", \"gender + type + age + type:age\", \"gender:type\", get_sign_padj(LRT_res))"
   ]
  },
  {
   "cell_type": "code",
   "execution_count": 38,
   "metadata": {},
   "outputs": [
    {
     "name": "stderr",
     "output_type": "stream",
     "text": [
      "Warning message in DESeqDataSet(se, design = design, ignoreRank):\n",
      "“some variables in design formula are characters, converting to factors”estimating size factors\n",
      "estimating dispersions\n",
      "gene-wise dispersion estimates\n",
      "mean-dispersion relationship\n",
      "final dispersion estimates\n",
      "fitting model and testing\n",
      "2 rows did not converge in beta, labelled in mcols(object)$fullBetaConv. Use larger maxit argument with nbinomLRT\n",
      "-- replacing outliers and refitting for 193 genes\n",
      "-- DESeq argument 'minReplicatesForReplace' = 7 \n",
      "-- original counts are preserved in counts(dds)\n",
      "estimating dispersions\n",
      "fitting model and testing\n"
     ]
    }
   ],
   "source": [
    "# Design: gender + type + age + gender:age + type:age\n",
    "dds = DESeqDataSetFromMatrix(\n",
    "        countData = counts,\n",
    "        colData = metadata,\n",
    "        design = ~ gender + type + age + gender:age + type:age)\n",
    "dge = DESeq(dds, test=\"LRT\", reduced = ~ gender + type + age + gender:age)\n",
    "LRT_res = results(dge, alpha=0.05)\n",
    "complexif_stats[nrow(complexif_stats) + 1,] = c(\"gender + type + age + gender:age + type:age\", \"gender + type + age + gender:age\", \"type:age\", get_sign_padj(LRT_res))"
   ]
  },
  {
   "cell_type": "code",
   "execution_count": 39,
   "metadata": {},
   "outputs": [
    {
     "name": "stderr",
     "output_type": "stream",
     "text": [
      "Warning message in DESeqDataSet(se, design = design, ignoreRank):\n",
      "“some variables in design formula are characters, converting to factors”estimating size factors\n",
      "estimating dispersions\n",
      "gene-wise dispersion estimates\n",
      "mean-dispersion relationship\n",
      "final dispersion estimates\n",
      "fitting model and testing\n",
      "2 rows did not converge in beta, labelled in mcols(object)$fullBetaConv. Use larger maxit argument with nbinomLRT\n",
      "-- replacing outliers and refitting for 193 genes\n",
      "-- DESeq argument 'minReplicatesForReplace' = 7 \n",
      "-- original counts are preserved in counts(dds)\n",
      "estimating dispersions\n",
      "fitting model and testing\n"
     ]
    }
   ],
   "source": [
    "# Design: gender + type + age + gender:age + type:age\n",
    "dds = DESeqDataSetFromMatrix(\n",
    "        countData = counts,\n",
    "        colData = metadata,\n",
    "        design = ~ gender + type + age + gender:age + type:age)\n",
    "dge = DESeq(dds, test=\"LRT\", reduced = ~ gender + type + age + type:age)\n",
    "LRT_res = results(dge, alpha=0.05)\n",
    "complexif_stats[nrow(complexif_stats) + 1,] = c(\"gender + type + age + gender:age + type:age\", \"gender + type + age + type:age\", \"gender:age\", get_sign_padj(LRT_res))"
   ]
  },
  {
   "cell_type": "code",
   "execution_count": 40,
   "metadata": {},
   "outputs": [
    {
     "name": "stderr",
     "output_type": "stream",
     "text": [
      "Warning message in DESeqDataSet(se, design = design, ignoreRank):\n",
      "“some variables in design formula are characters, converting to factors”estimating size factors\n",
      "estimating dispersions\n",
      "gene-wise dispersion estimates\n",
      "mean-dispersion relationship\n",
      "final dispersion estimates\n",
      "fitting model and testing\n",
      "2 rows did not converge in beta, labelled in mcols(object)$fullBetaConv. Use larger maxit argument with nbinomLRT\n",
      "-- replacing outliers and refitting for 168 genes\n",
      "-- DESeq argument 'minReplicatesForReplace' = 7 \n",
      "-- original counts are preserved in counts(dds)\n",
      "estimating dispersions\n",
      "fitting model and testing\n",
      "1 rows did not converge in beta, labelled in mcols(object)$fullBetaConv. Use larger maxit argument with nbinomLRT\n"
     ]
    }
   ],
   "source": [
    "# Design: gender + type + age + gender:type + gender:age + type:age\n",
    "dds = DESeqDataSetFromMatrix(\n",
    "        countData = counts,\n",
    "        colData = metadata,\n",
    "        design = ~ gender + type + age + gender:type + gender:age + type:age)\n",
    "dge = DESeq(dds, test=\"LRT\", reduced = ~ gender + type + age + gender:type + gender:age)\n",
    "LRT_res = results(dge, alpha=0.05)\n",
    "complexif_stats[nrow(complexif_stats) + 1,] = c(\"gender + type + age + gender:type + gender:age + type:age\", \"gender + type + age + gender:type + gender:age\", \"type:age\", get_sign_padj(LRT_res))"
   ]
  },
  {
   "cell_type": "code",
   "execution_count": 41,
   "metadata": {},
   "outputs": [
    {
     "name": "stderr",
     "output_type": "stream",
     "text": [
      "Warning message in DESeqDataSet(se, design = design, ignoreRank):\n",
      "“some variables in design formula are characters, converting to factors”estimating size factors\n",
      "estimating dispersions\n",
      "gene-wise dispersion estimates\n",
      "mean-dispersion relationship\n",
      "final dispersion estimates\n",
      "fitting model and testing\n",
      "2 rows did not converge in beta, labelled in mcols(object)$fullBetaConv. Use larger maxit argument with nbinomLRT\n",
      "-- replacing outliers and refitting for 168 genes\n",
      "-- DESeq argument 'minReplicatesForReplace' = 7 \n",
      "-- original counts are preserved in counts(dds)\n",
      "estimating dispersions\n",
      "fitting model and testing\n",
      "1 rows did not converge in beta, labelled in mcols(object)$fullBetaConv. Use larger maxit argument with nbinomLRT\n"
     ]
    }
   ],
   "source": [
    "# Design: gender + type + age + gender:type + gender:age + type:age\n",
    "dds = DESeqDataSetFromMatrix(\n",
    "        countData = counts,\n",
    "        colData = metadata,\n",
    "        design = ~ gender + type + age + gender:type + gender:age + type:age)\n",
    "dge = DESeq(dds, test=\"LRT\", reduced = ~ gender + type + age + gender:type + type:age)\n",
    "LRT_res = results(dge, alpha=0.05)\n",
    "complexif_stats[nrow(complexif_stats) + 1,] = c(\"gender + type + age + gender:type + gender:age + type:age\", \"gender + type + age + gender:type + type:age\", \"gender:age\", get_sign_padj(LRT_res))"
   ]
  },
  {
   "cell_type": "code",
   "execution_count": 42,
   "metadata": {},
   "outputs": [
    {
     "name": "stderr",
     "output_type": "stream",
     "text": [
      "Warning message in DESeqDataSet(se, design = design, ignoreRank):\n",
      "“some variables in design formula are characters, converting to factors”estimating size factors\n",
      "estimating dispersions\n",
      "gene-wise dispersion estimates\n",
      "mean-dispersion relationship\n",
      "final dispersion estimates\n",
      "fitting model and testing\n",
      "2 rows did not converge in beta, labelled in mcols(object)$fullBetaConv. Use larger maxit argument with nbinomLRT\n",
      "-- replacing outliers and refitting for 168 genes\n",
      "-- DESeq argument 'minReplicatesForReplace' = 7 \n",
      "-- original counts are preserved in counts(dds)\n",
      "estimating dispersions\n",
      "fitting model and testing\n",
      "1 rows did not converge in beta, labelled in mcols(object)$fullBetaConv. Use larger maxit argument with nbinomLRT\n"
     ]
    }
   ],
   "source": [
    "# Design: gender + type + age + gender:type + gender:age + type:age\n",
    "dds = DESeqDataSetFromMatrix(\n",
    "        countData = counts,\n",
    "        colData = metadata,\n",
    "        design = ~ gender + type + age + gender:type + gender:age + type:age)\n",
    "dge = DESeq(dds, test=\"LRT\", reduced = ~ gender + type + age + gender:age + type:age)\n",
    "LRT_res = results(dge, alpha=0.05)\n",
    "complexif_stats[nrow(complexif_stats) + 1,] = c(\"gender + type + age + gender:type + gender:age + type:age\", \"gender + type + age + gender:age + type:age\", \"gender:type\", get_sign_padj(LRT_res))"
   ]
  },
  {
   "cell_type": "code",
   "execution_count": 164,
   "metadata": {},
   "outputs": [
    {
     "data": {
      "text/html": [
       "<table>\n",
       "<thead><tr><th scope=col>Design</th><th scope=col>Reduced</th><th scope=col>Tested</th><th scope=col>Genes with LRT padj &lt; 0.05</th><th scope=col>% genes with LRT padj &lt; 0.05</th></tr></thead>\n",
       "<tbody>\n",
       "\t<tr><td>gender                                                   </td><td>1                                                        </td><td>gender                                                   </td><td>3367                                                     </td><td>13.7873142                                               </td></tr>\n",
       "\t<tr><td>type                                                     </td><td>1                                                        </td><td>type                                                     </td><td>2231                                                     </td><td> 9.1355800                                               </td></tr>\n",
       "\t<tr><td>age                                                      </td><td>1                                                        </td><td>age                                                      </td><td>3559                                                     </td><td>14.5735228                                               </td></tr>\n",
       "\t<tr><td>gender + type                                            </td><td>gender                                                   </td><td>type                                                     </td><td>2132                                                     </td><td> 8.7301912                                               </td></tr>\n",
       "\t<tr><td>gender + age                                             </td><td>gender                                                   </td><td>age                                                      </td><td>4696                                                     </td><td>19.2293518                                               </td></tr>\n",
       "\t<tr><td>type + gender                                            </td><td>type                                                     </td><td>gender                                                   </td><td>3219                                                     </td><td>13.1812784                                               </td></tr>\n",
       "\t<tr><td>type + age                                               </td><td>type                                                     </td><td>age                                                      </td><td>3773                                                     </td><td>15.4498178                                               </td></tr>\n",
       "\t<tr><td>age + gender                                             </td><td>age                                                      </td><td>gender                                                   </td><td>4288                                                     </td><td>17.5586585                                               </td></tr>\n",
       "\t<tr><td>age + type                                               </td><td>age                                                      </td><td>type                                                     </td><td>2456                                                     </td><td>10.0569182                                               </td></tr>\n",
       "\t<tr><td>gender + type + gender:type                              </td><td>gender + type                                            </td><td>gender:type                                              </td><td>50                                                       </td><td> 0.2047418                                               </td></tr>\n",
       "\t<tr><td>gender + age + gender:age                                </td><td>gender + age                                             </td><td>gender:age                                               </td><td>2052                                                     </td><td> 8.4026043                                               </td></tr>\n",
       "\t<tr><td>type + age + type:age                                    </td><td>type + age                                               </td><td>type:age                                                 </td><td>541                                                      </td><td> 2.2153065                                               </td></tr>\n",
       "\t<tr><td>gender + type + age                                      </td><td>gender + type                                            </td><td>age                                                      </td><td>4951                                                     </td><td>20.2735351                                               </td></tr>\n",
       "\t<tr><td>gender + type + age                                      </td><td>gender + age                                             </td><td>type                                                     </td><td>2544                                                     </td><td>10.4172638                                               </td></tr>\n",
       "\t<tr><td>gender + type + age                                      </td><td>type + age                                               </td><td>gender                                                   </td><td>4288                                                     </td><td>17.5586585                                               </td></tr>\n",
       "\t<tr><td>gender + type + age + gender:type                        </td><td>gender + type + age                                      </td><td>gender:type                                              </td><td>71                                                       </td><td> 0.2907334                                               </td></tr>\n",
       "\t<tr><td>gender + type + age + gender:age                         </td><td>gender + type + age                                      </td><td>gender:age                                               </td><td>2305                                                     </td><td> 9.4385979                                               </td></tr>\n",
       "\t<tr><td>gender + type + age + type:age                           </td><td>gender + type + age                                      </td><td>type:age                                                 </td><td>700                                                      </td><td> 2.8663855                                               </td></tr>\n",
       "\t<tr><td>gender + type + age + gender:type + gender:age           </td><td>gender + type + age + gender:type                        </td><td>gender:age                                               </td><td>2250                                                     </td><td> 9.2133819                                               </td></tr>\n",
       "\t<tr><td>gender + type + age + gender:type + gender:age           </td><td>gender + type + age + gender:age                         </td><td>gender:type                                              </td><td>79                                                       </td><td> 0.3234921                                               </td></tr>\n",
       "\t<tr><td>gender + type + age + gender:type + type:age             </td><td>gender + type + age + gender:type                        </td><td>type:age                                                 </td><td>493                                                      </td><td> 2.0187544                                               </td></tr>\n",
       "\t<tr><td>gender + type + age + gender:type + type:age             </td><td>gender + type + age + type:age                           </td><td>gender:type                                              </td><td>32                                                       </td><td> 0.1310348                                               </td></tr>\n",
       "\t<tr><td>gender + type + age + gender:age + type:age              </td><td>gender + type + age + gender:age                         </td><td>type:age                                                 </td><td>766                                                      </td><td> 3.1366447                                               </td></tr>\n",
       "\t<tr><td>gender + type + age + gender:age + type:age              </td><td>gender + type + age + type:age                           </td><td>gender:age                                               </td><td>2353                                                     </td><td> 9.6351501                                               </td></tr>\n",
       "\t<tr><td>gender + type + age + gender:type + gender:age + type:age</td><td>gender + type + age + gender:type + gender:age           </td><td>type:age                                                 </td><td>647                                                      </td><td> 2.6493592                                               </td></tr>\n",
       "\t<tr><td>gender + type + age + gender:type + gender:age + type:age</td><td>gender + type + age + gender:type + type:age             </td><td>gender:age                                               </td><td>2373                                                     </td><td> 9.7170468                                               </td></tr>\n",
       "\t<tr><td>gender + type + age + gender:type + gender:age + type:age</td><td>gender + type + age + gender:age + type:age              </td><td>gender:type                                              </td><td>62                                                       </td><td> 0.2538799                                               </td></tr>\n",
       "\t<tr><td>project                                                  </td><td>1                                                        </td><td>project                                                  </td><td>9500                                                     </td><td>38.9009459                                               </td></tr>\n",
       "</tbody>\n",
       "</table>\n"
      ],
      "text/latex": [
       "\\begin{tabular}{r|lllll}\n",
       " Design & Reduced & Tested & Genes with LRT padj < 0.05 & \\% genes with LRT padj < 0.05\\\\\n",
       "\\hline\n",
       "\t gender                                                    & 1                                                         & gender                                                    & 3367                                                      & 13.7873142                                               \\\\\n",
       "\t type                                                      & 1                                                         & type                                                      & 2231                                                      &  9.1355800                                               \\\\\n",
       "\t age                                                       & 1                                                         & age                                                       & 3559                                                      & 14.5735228                                               \\\\\n",
       "\t gender + type                                             & gender                                                    & type                                                      & 2132                                                      &  8.7301912                                               \\\\\n",
       "\t gender + age                                              & gender                                                    & age                                                       & 4696                                                      & 19.2293518                                               \\\\\n",
       "\t type + gender                                             & type                                                      & gender                                                    & 3219                                                      & 13.1812784                                               \\\\\n",
       "\t type + age                                                & type                                                      & age                                                       & 3773                                                      & 15.4498178                                               \\\\\n",
       "\t age + gender                                              & age                                                       & gender                                                    & 4288                                                      & 17.5586585                                               \\\\\n",
       "\t age + type                                                & age                                                       & type                                                      & 2456                                                      & 10.0569182                                               \\\\\n",
       "\t gender + type + gender:type                               & gender + type                                             & gender:type                                               & 50                                                        &  0.2047418                                               \\\\\n",
       "\t gender + age + gender:age                                 & gender + age                                              & gender:age                                                & 2052                                                      &  8.4026043                                               \\\\\n",
       "\t type + age + type:age                                     & type + age                                                & type:age                                                  & 541                                                       &  2.2153065                                               \\\\\n",
       "\t gender + type + age                                       & gender + type                                             & age                                                       & 4951                                                      & 20.2735351                                               \\\\\n",
       "\t gender + type + age                                       & gender + age                                              & type                                                      & 2544                                                      & 10.4172638                                               \\\\\n",
       "\t gender + type + age                                       & type + age                                                & gender                                                    & 4288                                                      & 17.5586585                                               \\\\\n",
       "\t gender + type + age + gender:type                         & gender + type + age                                       & gender:type                                               & 71                                                        &  0.2907334                                               \\\\\n",
       "\t gender + type + age + gender:age                          & gender + type + age                                       & gender:age                                                & 2305                                                      &  9.4385979                                               \\\\\n",
       "\t gender + type + age + type:age                            & gender + type + age                                       & type:age                                                  & 700                                                       &  2.8663855                                               \\\\\n",
       "\t gender + type + age + gender:type + gender:age            & gender + type + age + gender:type                         & gender:age                                                & 2250                                                      &  9.2133819                                               \\\\\n",
       "\t gender + type + age + gender:type + gender:age            & gender + type + age + gender:age                          & gender:type                                               & 79                                                        &  0.3234921                                               \\\\\n",
       "\t gender + type + age + gender:type + type:age              & gender + type + age + gender:type                         & type:age                                                  & 493                                                       &  2.0187544                                               \\\\\n",
       "\t gender + type + age + gender:type + type:age              & gender + type + age + type:age                            & gender:type                                               & 32                                                        &  0.1310348                                               \\\\\n",
       "\t gender + type + age + gender:age + type:age               & gender + type + age + gender:age                          & type:age                                                  & 766                                                       &  3.1366447                                               \\\\\n",
       "\t gender + type + age + gender:age + type:age               & gender + type + age + type:age                            & gender:age                                                & 2353                                                      &  9.6351501                                               \\\\\n",
       "\t gender + type + age + gender:type + gender:age + type:age & gender + type + age + gender:type + gender:age            & type:age                                                  & 647                                                       &  2.6493592                                               \\\\\n",
       "\t gender + type + age + gender:type + gender:age + type:age & gender + type + age + gender:type + type:age              & gender:age                                                & 2373                                                      &  9.7170468                                               \\\\\n",
       "\t gender + type + age + gender:type + gender:age + type:age & gender + type + age + gender:age + type:age               & gender:type                                               & 62                                                        &  0.2538799                                               \\\\\n",
       "\t project                                                   & 1                                                         & project                                                   & 9500                                                      & 38.9009459                                               \\\\\n",
       "\\end{tabular}\n"
      ],
      "text/markdown": [
       "\n",
       "Design | Reduced | Tested | Genes with LRT padj < 0.05 | % genes with LRT padj < 0.05 | \n",
       "|---|---|---|---|---|---|---|---|---|---|---|---|---|---|---|---|---|---|---|---|---|---|---|---|---|---|---|---|\n",
       "| gender                                                    | 1                                                         | gender                                                    | 3367                                                      | 13.7873142                                                | \n",
       "| type                                                      | 1                                                         | type                                                      | 2231                                                      |  9.1355800                                                | \n",
       "| age                                                       | 1                                                         | age                                                       | 3559                                                      | 14.5735228                                                | \n",
       "| gender + type                                             | gender                                                    | type                                                      | 2132                                                      |  8.7301912                                                | \n",
       "| gender + age                                              | gender                                                    | age                                                       | 4696                                                      | 19.2293518                                                | \n",
       "| type + gender                                             | type                                                      | gender                                                    | 3219                                                      | 13.1812784                                                | \n",
       "| type + age                                                | type                                                      | age                                                       | 3773                                                      | 15.4498178                                                | \n",
       "| age + gender                                              | age                                                       | gender                                                    | 4288                                                      | 17.5586585                                                | \n",
       "| age + type                                                | age                                                       | type                                                      | 2456                                                      | 10.0569182                                                | \n",
       "| gender + type + gender:type                               | gender + type                                             | gender:type                                               | 50                                                        |  0.2047418                                                | \n",
       "| gender + age + gender:age                                 | gender + age                                              | gender:age                                                | 2052                                                      |  8.4026043                                                | \n",
       "| type + age + type:age                                     | type + age                                                | type:age                                                  | 541                                                       |  2.2153065                                                | \n",
       "| gender + type + age                                       | gender + type                                             | age                                                       | 4951                                                      | 20.2735351                                                | \n",
       "| gender + type + age                                       | gender + age                                              | type                                                      | 2544                                                      | 10.4172638                                                | \n",
       "| gender + type + age                                       | type + age                                                | gender                                                    | 4288                                                      | 17.5586585                                                | \n",
       "| gender + type + age + gender:type                         | gender + type + age                                       | gender:type                                               | 71                                                        |  0.2907334                                                | \n",
       "| gender + type + age + gender:age                          | gender + type + age                                       | gender:age                                                | 2305                                                      |  9.4385979                                                | \n",
       "| gender + type + age + type:age                            | gender + type + age                                       | type:age                                                  | 700                                                       |  2.8663855                                                | \n",
       "| gender + type + age + gender:type + gender:age            | gender + type + age + gender:type                         | gender:age                                                | 2250                                                      |  9.2133819                                                | \n",
       "| gender + type + age + gender:type + gender:age            | gender + type + age + gender:age                          | gender:type                                               | 79                                                        |  0.3234921                                                | \n",
       "| gender + type + age + gender:type + type:age              | gender + type + age + gender:type                         | type:age                                                  | 493                                                       |  2.0187544                                                | \n",
       "| gender + type + age + gender:type + type:age              | gender + type + age + type:age                            | gender:type                                               | 32                                                        |  0.1310348                                                | \n",
       "| gender + type + age + gender:age + type:age               | gender + type + age + gender:age                          | type:age                                                  | 766                                                       |  3.1366447                                                | \n",
       "| gender + type + age + gender:age + type:age               | gender + type + age + type:age                            | gender:age                                                | 2353                                                      |  9.6351501                                                | \n",
       "| gender + type + age + gender:type + gender:age + type:age | gender + type + age + gender:type + gender:age            | type:age                                                  | 647                                                       |  2.6493592                                                | \n",
       "| gender + type + age + gender:type + gender:age + type:age | gender + type + age + gender:type + type:age              | gender:age                                                | 2373                                                      |  9.7170468                                                | \n",
       "| gender + type + age + gender:type + gender:age + type:age | gender + type + age + gender:age + type:age               | gender:type                                               | 62                                                        |  0.2538799                                                | \n",
       "| project                                                   | 1                                                         | project                                                   | 9500                                                      | 38.9009459                                                | \n",
       "\n",
       "\n"
      ],
      "text/plain": [
       "   Design                                                   \n",
       "1  gender                                                   \n",
       "2  type                                                     \n",
       "3  age                                                      \n",
       "4  gender + type                                            \n",
       "5  gender + age                                             \n",
       "6  type + gender                                            \n",
       "7  type + age                                               \n",
       "8  age + gender                                             \n",
       "9  age + type                                               \n",
       "10 gender + type + gender:type                              \n",
       "11 gender + age + gender:age                                \n",
       "12 type + age + type:age                                    \n",
       "13 gender + type + age                                      \n",
       "14 gender + type + age                                      \n",
       "15 gender + type + age                                      \n",
       "16 gender + type + age + gender:type                        \n",
       "17 gender + type + age + gender:age                         \n",
       "18 gender + type + age + type:age                           \n",
       "19 gender + type + age + gender:type + gender:age           \n",
       "20 gender + type + age + gender:type + gender:age           \n",
       "21 gender + type + age + gender:type + type:age             \n",
       "22 gender + type + age + gender:type + type:age             \n",
       "23 gender + type + age + gender:age + type:age              \n",
       "24 gender + type + age + gender:age + type:age              \n",
       "25 gender + type + age + gender:type + gender:age + type:age\n",
       "26 gender + type + age + gender:type + gender:age + type:age\n",
       "27 gender + type + age + gender:type + gender:age + type:age\n",
       "28 project                                                  \n",
       "   Reduced                                        Tested     \n",
       "1  1                                              gender     \n",
       "2  1                                              type       \n",
       "3  1                                              age        \n",
       "4  gender                                         type       \n",
       "5  gender                                         age        \n",
       "6  type                                           gender     \n",
       "7  type                                           age        \n",
       "8  age                                            gender     \n",
       "9  age                                            type       \n",
       "10 gender + type                                  gender:type\n",
       "11 gender + age                                   gender:age \n",
       "12 type + age                                     type:age   \n",
       "13 gender + type                                  age        \n",
       "14 gender + age                                   type       \n",
       "15 type + age                                     gender     \n",
       "16 gender + type + age                            gender:type\n",
       "17 gender + type + age                            gender:age \n",
       "18 gender + type + age                            type:age   \n",
       "19 gender + type + age + gender:type              gender:age \n",
       "20 gender + type + age + gender:age               gender:type\n",
       "21 gender + type + age + gender:type              type:age   \n",
       "22 gender + type + age + type:age                 gender:type\n",
       "23 gender + type + age + gender:age               type:age   \n",
       "24 gender + type + age + type:age                 gender:age \n",
       "25 gender + type + age + gender:type + gender:age type:age   \n",
       "26 gender + type + age + gender:type + type:age   gender:age \n",
       "27 gender + type + age + gender:age + type:age    gender:type\n",
       "28 1                                              project    \n",
       "   Genes with LRT padj < 0.05 % genes with LRT padj < 0.05\n",
       "1  3367                       13.7873142                  \n",
       "2  2231                        9.1355800                  \n",
       "3  3559                       14.5735228                  \n",
       "4  2132                        8.7301912                  \n",
       "5  4696                       19.2293518                  \n",
       "6  3219                       13.1812784                  \n",
       "7  3773                       15.4498178                  \n",
       "8  4288                       17.5586585                  \n",
       "9  2456                       10.0569182                  \n",
       "10 50                          0.2047418                  \n",
       "11 2052                        8.4026043                  \n",
       "12 541                         2.2153065                  \n",
       "13 4951                       20.2735351                  \n",
       "14 2544                       10.4172638                  \n",
       "15 4288                       17.5586585                  \n",
       "16 71                          0.2907334                  \n",
       "17 2305                        9.4385979                  \n",
       "18 700                         2.8663855                  \n",
       "19 2250                        9.2133819                  \n",
       "20 79                          0.3234921                  \n",
       "21 493                         2.0187544                  \n",
       "22 32                          0.1310348                  \n",
       "23 766                         3.1366447                  \n",
       "24 2353                        9.6351501                  \n",
       "25 647                         2.6493592                  \n",
       "26 2373                        9.7170468                  \n",
       "27 62                          0.2538799                  \n",
       "28 9500                       38.9009459                  "
      ]
     },
     "metadata": {},
     "output_type": "display_data"
    }
   ],
   "source": [
    "complexif_stats$\"% genes with LRT padj < 0.05\" = 100 * strtoi(complexif_stats$\"Genes with LRT padj < 0.05\") / dim(LRT_res)[1]\n",
    "complexif_stats"
   ]
  },
  {
   "cell_type": "markdown",
   "metadata": {},
   "source": [
    "Factor | Explanation (Percentage of genes with LRT padj < 0.05)\n",
    "--- | --- | ---\n",
    "gender | 13.2% - 17.6%\n",
    "type | 8.7% - 10.4%\n",
    "age | 14.6% - 20.3%\n",
    "gender:type | 0.13% - 0.32%\n",
    "gender:age | 8.4% - 9.72%\n",
    "type:age | 2.02% - 2.87%"
   ]
  },
  {
   "cell_type": "markdown",
   "metadata": {},
   "source": [
    "## Construct the full model"
   ]
  },
  {
   "cell_type": "code",
   "execution_count": 188,
   "metadata": {
    "scrolled": true
   },
   "outputs": [
    {
     "data": {
      "text/html": [
       "<table>\n",
       "<thead><tr><th></th><th scope=col>(Intercept)</th><th scope=col>genderM</th><th scope=col>typeSPF</th><th scope=col>age52w</th><th scope=col>age8w</th><th scope=col>projectProject_148_2</th><th scope=col>projectProject_S174</th><th scope=col>projectProject_S178</th><th scope=col>projectProject_S198</th><th scope=col>projectProject_S225</th><th scope=col>projectProject_S264</th><th scope=col>projectS288</th><th scope=col>genderM:age52w</th><th scope=col>genderM:age8w</th><th scope=col>genderM:typeSPF</th><th scope=col>typeSPF:age52w</th><th scope=col>typeSPF:age8w</th></tr></thead>\n",
       "<tbody>\n",
       "\t<tr><th scope=row>GF_104w_F_1_2</th><td>1</td><td>0</td><td>0</td><td>0</td><td>0</td><td>0</td><td>0</td><td>0</td><td>0</td><td>0</td><td>1</td><td>0</td><td>0</td><td>0</td><td>0</td><td>0</td><td>0</td></tr>\n",
       "\t<tr><th scope=row>GF_104w_F_2_2</th><td>1</td><td>0</td><td>0</td><td>0</td><td>0</td><td>0</td><td>0</td><td>0</td><td>0</td><td>0</td><td>1</td><td>0</td><td>0</td><td>0</td><td>0</td><td>0</td><td>0</td></tr>\n",
       "\t<tr><th scope=row>GF_104w_F_3_2</th><td>1</td><td>0</td><td>0</td><td>0</td><td>0</td><td>0</td><td>0</td><td>0</td><td>0</td><td>0</td><td>1</td><td>0</td><td>0</td><td>0</td><td>0</td><td>0</td><td>0</td></tr>\n",
       "\t<tr><th scope=row>GF_104w_M_1_2</th><td>1</td><td>1</td><td>0</td><td>0</td><td>0</td><td>0</td><td>0</td><td>0</td><td>0</td><td>0</td><td>1</td><td>0</td><td>0</td><td>0</td><td>0</td><td>0</td><td>0</td></tr>\n",
       "\t<tr><th scope=row>GF_104w_M_2_2</th><td>1</td><td>1</td><td>0</td><td>0</td><td>0</td><td>0</td><td>0</td><td>0</td><td>0</td><td>0</td><td>1</td><td>0</td><td>0</td><td>0</td><td>0</td><td>0</td><td>0</td></tr>\n",
       "\t<tr><th scope=row>GF_52w_M_1_2</th><td>1</td><td>1</td><td>0</td><td>1</td><td>0</td><td>0</td><td>0</td><td>0</td><td>0</td><td>0</td><td>0</td><td>0</td><td>1</td><td>0</td><td>0</td><td>0</td><td>0</td></tr>\n",
       "\t<tr><th scope=row>GF_52w_M_2_2</th><td>1</td><td>1</td><td>0</td><td>1</td><td>0</td><td>1</td><td>0</td><td>0</td><td>0</td><td>0</td><td>0</td><td>0</td><td>1</td><td>0</td><td>0</td><td>0</td><td>0</td></tr>\n",
       "\t<tr><th scope=row>GF_52w_M_3_2</th><td>1</td><td>1</td><td>0</td><td>1</td><td>0</td><td>0</td><td>0</td><td>0</td><td>0</td><td>0</td><td>0</td><td>0</td><td>1</td><td>0</td><td>0</td><td>0</td><td>0</td></tr>\n",
       "\t<tr><th scope=row>GF_52w_M_4_2</th><td>1</td><td>1</td><td>0</td><td>1</td><td>0</td><td>1</td><td>0</td><td>0</td><td>0</td><td>0</td><td>0</td><td>0</td><td>1</td><td>0</td><td>0</td><td>0</td><td>0</td></tr>\n",
       "\t<tr><th scope=row>GF_8w_M_1_2</th><td>1</td><td>1</td><td>0</td><td>0</td><td>1</td><td>0</td><td>0</td><td>0</td><td>0</td><td>0</td><td>0</td><td>0</td><td>0</td><td>1</td><td>0</td><td>0</td><td>0</td></tr>\n",
       "\t<tr><th scope=row>GF_8w_M_2_2</th><td>1</td><td>1</td><td>0</td><td>0</td><td>1</td><td>1</td><td>0</td><td>0</td><td>0</td><td>0</td><td>0</td><td>0</td><td>0</td><td>1</td><td>0</td><td>0</td><td>0</td></tr>\n",
       "\t<tr><th scope=row>GF_8w_M_3_2</th><td>1</td><td>1</td><td>0</td><td>0</td><td>1</td><td>0</td><td>0</td><td>0</td><td>0</td><td>0</td><td>0</td><td>0</td><td>0</td><td>1</td><td>0</td><td>0</td><td>0</td></tr>\n",
       "\t<tr><th scope=row>GF_8w_M_4_2</th><td>1</td><td>1</td><td>0</td><td>0</td><td>1</td><td>1</td><td>0</td><td>0</td><td>0</td><td>0</td><td>0</td><td>0</td><td>0</td><td>1</td><td>0</td><td>0</td><td>0</td></tr>\n",
       "\t<tr><th scope=row>SPF_104w_F_1_2</th><td>1</td><td>0</td><td>1</td><td>0</td><td>0</td><td>0</td><td>1</td><td>0</td><td>0</td><td>0</td><td>0</td><td>0</td><td>0</td><td>0</td><td>0</td><td>0</td><td>0</td></tr>\n",
       "\t<tr><th scope=row>SPF_104w_F_2_2</th><td>1</td><td>0</td><td>1</td><td>0</td><td>0</td><td>0</td><td>1</td><td>0</td><td>0</td><td>0</td><td>0</td><td>0</td><td>0</td><td>0</td><td>0</td><td>0</td><td>0</td></tr>\n",
       "\t<tr><th scope=row>SPF_104w_F_3_2</th><td>1</td><td>0</td><td>1</td><td>0</td><td>0</td><td>0</td><td>1</td><td>0</td><td>0</td><td>0</td><td>0</td><td>0</td><td>0</td><td>0</td><td>0</td><td>0</td><td>0</td></tr>\n",
       "\t<tr><th scope=row>SPF_104w_M_1_2</th><td>1</td><td>1</td><td>1</td><td>0</td><td>0</td><td>0</td><td>1</td><td>0</td><td>0</td><td>0</td><td>0</td><td>0</td><td>0</td><td>0</td><td>1</td><td>0</td><td>0</td></tr>\n",
       "\t<tr><th scope=row>SPF_104w_M_2_2</th><td>1</td><td>1</td><td>1</td><td>0</td><td>0</td><td>0</td><td>1</td><td>0</td><td>0</td><td>0</td><td>0</td><td>0</td><td>0</td><td>0</td><td>1</td><td>0</td><td>0</td></tr>\n",
       "\t<tr><th scope=row>SPF_104w_M_3_2</th><td>1</td><td>1</td><td>1</td><td>0</td><td>0</td><td>0</td><td>1</td><td>0</td><td>0</td><td>0</td><td>0</td><td>0</td><td>0</td><td>0</td><td>1</td><td>0</td><td>0</td></tr>\n",
       "\t<tr><th scope=row>SPF_104w_M_4_2</th><td>1</td><td>1</td><td>1</td><td>0</td><td>0</td><td>0</td><td>1</td><td>0</td><td>0</td><td>0</td><td>0</td><td>0</td><td>0</td><td>0</td><td>1</td><td>0</td><td>0</td></tr>\n",
       "\t<tr><th scope=row>SPF_52w_M_1_2</th><td>1</td><td>1</td><td>1</td><td>1</td><td>0</td><td>0</td><td>0</td><td>0</td><td>0</td><td>0</td><td>0</td><td>0</td><td>1</td><td>0</td><td>1</td><td>1</td><td>0</td></tr>\n",
       "\t<tr><th scope=row>SPF_52w_M_2_2</th><td>1</td><td>1</td><td>1</td><td>1</td><td>0</td><td>1</td><td>0</td><td>0</td><td>0</td><td>0</td><td>0</td><td>0</td><td>1</td><td>0</td><td>1</td><td>1</td><td>0</td></tr>\n",
       "\t<tr><th scope=row>SPF_52w_M_3_2</th><td>1</td><td>1</td><td>1</td><td>1</td><td>0</td><td>0</td><td>0</td><td>0</td><td>0</td><td>0</td><td>0</td><td>0</td><td>1</td><td>0</td><td>1</td><td>1</td><td>0</td></tr>\n",
       "\t<tr><th scope=row>SPF_52w_M_4_2</th><td>1</td><td>1</td><td>1</td><td>1</td><td>0</td><td>1</td><td>0</td><td>0</td><td>0</td><td>0</td><td>0</td><td>0</td><td>1</td><td>0</td><td>1</td><td>1</td><td>0</td></tr>\n",
       "\t<tr><th scope=row>SPF_52w_M_5_2</th><td>1</td><td>1</td><td>1</td><td>1</td><td>0</td><td>0</td><td>0</td><td>0</td><td>0</td><td>0</td><td>0</td><td>0</td><td>1</td><td>0</td><td>1</td><td>1</td><td>0</td></tr>\n",
       "\t<tr><th scope=row>SPF_8w_M_1_2</th><td>1</td><td>1</td><td>1</td><td>0</td><td>1</td><td>0</td><td>0</td><td>0</td><td>0</td><td>0</td><td>0</td><td>0</td><td>0</td><td>1</td><td>1</td><td>0</td><td>1</td></tr>\n",
       "\t<tr><th scope=row>SPF_8w_M_2_2</th><td>1</td><td>1</td><td>1</td><td>0</td><td>1</td><td>1</td><td>0</td><td>0</td><td>0</td><td>0</td><td>0</td><td>0</td><td>0</td><td>1</td><td>1</td><td>0</td><td>1</td></tr>\n",
       "\t<tr><th scope=row>SPF_8w_M_3_2</th><td>1</td><td>1</td><td>1</td><td>0</td><td>1</td><td>0</td><td>0</td><td>0</td><td>0</td><td>0</td><td>0</td><td>0</td><td>0</td><td>1</td><td>1</td><td>0</td><td>1</td></tr>\n",
       "\t<tr><th scope=row>SPF_8w_M_4_2</th><td>1</td><td>1</td><td>1</td><td>0</td><td>1</td><td>1</td><td>0</td><td>0</td><td>0</td><td>0</td><td>0</td><td>0</td><td>0</td><td>1</td><td>1</td><td>0</td><td>1</td></tr>\n",
       "\t<tr><th scope=row>GF_52w_F_1_2</th><td>1</td><td>0</td><td>0</td><td>1</td><td>0</td><td>0</td><td>0</td><td>1</td><td>0</td><td>0</td><td>0</td><td>0</td><td>0</td><td>0</td><td>0</td><td>0</td><td>0</td></tr>\n",
       "\t<tr><th scope=row>⋮</th><td>⋮</td><td>⋮</td><td>⋮</td><td>⋮</td><td>⋮</td><td>⋮</td><td>⋮</td><td>⋮</td><td>⋮</td><td>⋮</td><td>⋮</td><td>⋮</td><td>⋮</td><td>⋮</td><td>⋮</td><td>⋮</td><td>⋮</td></tr>\n",
       "\t<tr><th scope=row>GF_52w_F_5_2</th><td>1</td><td>0</td><td>0</td><td>1</td><td>0</td><td>0</td><td>0</td><td>1</td><td>0</td><td>0</td><td>0</td><td>0</td><td>0</td><td>0</td><td>0</td><td>0</td><td>0</td></tr>\n",
       "\t<tr><th scope=row>GF_52w_F_6_2</th><td>1</td><td>0</td><td>0</td><td>1</td><td>0</td><td>0</td><td>0</td><td>1</td><td>0</td><td>0</td><td>0</td><td>0</td><td>0</td><td>0</td><td>0</td><td>0</td><td>0</td></tr>\n",
       "\t<tr><th scope=row>SPF_52w_F_1_2</th><td>1</td><td>0</td><td>1</td><td>1</td><td>0</td><td>0</td><td>0</td><td>1</td><td>0</td><td>0</td><td>0</td><td>0</td><td>0</td><td>0</td><td>0</td><td>1</td><td>0</td></tr>\n",
       "\t<tr><th scope=row>SPF_52w_F_2_2</th><td>1</td><td>0</td><td>1</td><td>1</td><td>0</td><td>0</td><td>0</td><td>1</td><td>0</td><td>0</td><td>0</td><td>0</td><td>0</td><td>0</td><td>0</td><td>1</td><td>0</td></tr>\n",
       "\t<tr><th scope=row>SPF_52w_F_3_2</th><td>1</td><td>0</td><td>1</td><td>1</td><td>0</td><td>0</td><td>0</td><td>1</td><td>0</td><td>0</td><td>0</td><td>0</td><td>0</td><td>0</td><td>0</td><td>1</td><td>0</td></tr>\n",
       "\t<tr><th scope=row>SPF_52w_F_4_2</th><td>1</td><td>0</td><td>1</td><td>1</td><td>0</td><td>0</td><td>0</td><td>1</td><td>0</td><td>0</td><td>0</td><td>0</td><td>0</td><td>0</td><td>0</td><td>1</td><td>0</td></tr>\n",
       "\t<tr><th scope=row>SPF_52w_F_5_2</th><td>1</td><td>0</td><td>1</td><td>1</td><td>0</td><td>0</td><td>0</td><td>1</td><td>0</td><td>0</td><td>0</td><td>0</td><td>0</td><td>0</td><td>0</td><td>1</td><td>0</td></tr>\n",
       "\t<tr><th scope=row>SPF_52w_F_6_2</th><td>1</td><td>0</td><td>1</td><td>1</td><td>0</td><td>0</td><td>0</td><td>1</td><td>0</td><td>0</td><td>0</td><td>0</td><td>0</td><td>0</td><td>0</td><td>1</td><td>0</td></tr>\n",
       "\t<tr><th scope=row>SPF_104w_M_5_2</th><td>1</td><td>1</td><td>1</td><td>0</td><td>0</td><td>0</td><td>0</td><td>0</td><td>1</td><td>0</td><td>0</td><td>0</td><td>0</td><td>0</td><td>1</td><td>0</td><td>0</td></tr>\n",
       "\t<tr><th scope=row>SPF_104w_M_6_2</th><td>1</td><td>1</td><td>1</td><td>0</td><td>0</td><td>0</td><td>0</td><td>0</td><td>1</td><td>0</td><td>0</td><td>0</td><td>0</td><td>0</td><td>1</td><td>0</td><td>0</td></tr>\n",
       "\t<tr><th scope=row>SPF_104w_M_7_2</th><td>1</td><td>1</td><td>1</td><td>0</td><td>0</td><td>0</td><td>0</td><td>0</td><td>1</td><td>0</td><td>0</td><td>0</td><td>0</td><td>0</td><td>1</td><td>0</td><td>0</td></tr>\n",
       "\t<tr><th scope=row>SPF_104w_M_8_2</th><td>1</td><td>1</td><td>1</td><td>0</td><td>0</td><td>0</td><td>0</td><td>0</td><td>1</td><td>0</td><td>0</td><td>0</td><td>0</td><td>0</td><td>1</td><td>0</td><td>0</td></tr>\n",
       "\t<tr><th scope=row>SPF_104w_M_9_2</th><td>1</td><td>1</td><td>1</td><td>0</td><td>0</td><td>0</td><td>0</td><td>0</td><td>1</td><td>0</td><td>0</td><td>0</td><td>0</td><td>0</td><td>1</td><td>0</td><td>0</td></tr>\n",
       "\t<tr><th scope=row>SPF_104w_M_10_2</th><td>1</td><td>1</td><td>1</td><td>0</td><td>0</td><td>0</td><td>0</td><td>0</td><td>1</td><td>0</td><td>0</td><td>0</td><td>0</td><td>0</td><td>1</td><td>0</td><td>0</td></tr>\n",
       "\t<tr><th scope=row>SPF_104w_M_11_2</th><td>1</td><td>1</td><td>1</td><td>0</td><td>0</td><td>0</td><td>0</td><td>0</td><td>1</td><td>0</td><td>0</td><td>0</td><td>0</td><td>0</td><td>1</td><td>0</td><td>0</td></tr>\n",
       "\t<tr><th scope=row>SPF_104w_M_12_2</th><td>1</td><td>1</td><td>1</td><td>0</td><td>0</td><td>0</td><td>0</td><td>0</td><td>1</td><td>0</td><td>0</td><td>0</td><td>0</td><td>0</td><td>1</td><td>0</td><td>0</td></tr>\n",
       "\t<tr><th scope=row>SPF_104w_M_13_2</th><td>1</td><td>1</td><td>1</td><td>0</td><td>0</td><td>0</td><td>0</td><td>0</td><td>1</td><td>0</td><td>0</td><td>0</td><td>0</td><td>0</td><td>1</td><td>0</td><td>0</td></tr>\n",
       "\t<tr><th scope=row>SPF_104w_M_14_2</th><td>1</td><td>1</td><td>1</td><td>0</td><td>0</td><td>0</td><td>0</td><td>0</td><td>1</td><td>0</td><td>0</td><td>0</td><td>0</td><td>0</td><td>1</td><td>0</td><td>0</td></tr>\n",
       "\t<tr><th scope=row>SPF_8w_F_1_2</th><td>1</td><td>0</td><td>1</td><td>0</td><td>1</td><td>0</td><td>0</td><td>0</td><td>0</td><td>1</td><td>0</td><td>0</td><td>0</td><td>0</td><td>0</td><td>0</td><td>1</td></tr>\n",
       "\t<tr><th scope=row>SPF_8w_F_3_2</th><td>1</td><td>0</td><td>1</td><td>0</td><td>1</td><td>0</td><td>0</td><td>0</td><td>0</td><td>1</td><td>0</td><td>0</td><td>0</td><td>0</td><td>0</td><td>0</td><td>1</td></tr>\n",
       "\t<tr><th scope=row>SPF_8w_F_4_2</th><td>1</td><td>0</td><td>1</td><td>0</td><td>1</td><td>0</td><td>0</td><td>0</td><td>0</td><td>1</td><td>0</td><td>0</td><td>0</td><td>0</td><td>0</td><td>0</td><td>1</td></tr>\n",
       "\t<tr><th scope=row>SPF_8w_F_5_2</th><td>1</td><td>0</td><td>1</td><td>0</td><td>1</td><td>0</td><td>0</td><td>0</td><td>0</td><td>1</td><td>0</td><td>0</td><td>0</td><td>0</td><td>0</td><td>0</td><td>1</td></tr>\n",
       "\t<tr><th scope=row>GF_8w_F_1_2</th><td>1</td><td>0</td><td>0</td><td>0</td><td>1</td><td>0</td><td>0</td><td>0</td><td>0</td><td>1</td><td>0</td><td>0</td><td>0</td><td>0</td><td>0</td><td>0</td><td>0</td></tr>\n",
       "\t<tr><th scope=row>GF_8w_F_2_2</th><td>1</td><td>0</td><td>0</td><td>0</td><td>1</td><td>0</td><td>0</td><td>0</td><td>0</td><td>1</td><td>0</td><td>0</td><td>0</td><td>0</td><td>0</td><td>0</td><td>0</td></tr>\n",
       "\t<tr><th scope=row>GF_8w_F_3_2</th><td>1</td><td>0</td><td>0</td><td>0</td><td>1</td><td>0</td><td>0</td><td>0</td><td>0</td><td>1</td><td>0</td><td>0</td><td>0</td><td>0</td><td>0</td><td>0</td><td>0</td></tr>\n",
       "\t<tr><th scope=row>GF_8w_F_4_2</th><td>1</td><td>0</td><td>0</td><td>0</td><td>1</td><td>0</td><td>0</td><td>0</td><td>0</td><td>1</td><td>0</td><td>0</td><td>0</td><td>0</td><td>0</td><td>0</td><td>0</td></tr>\n",
       "\t<tr><th scope=row>GF_8w_F_5_2</th><td>1</td><td>0</td><td>0</td><td>0</td><td>1</td><td>0</td><td>0</td><td>0</td><td>0</td><td>1</td><td>0</td><td>0</td><td>0</td><td>0</td><td>0</td><td>0</td><td>0</td></tr>\n",
       "\t<tr><th scope=row>GF_104w_M_3_2</th><td>1</td><td>1</td><td>0</td><td>0</td><td>0</td><td>0</td><td>0</td><td>0</td><td>0</td><td>0</td><td>0</td><td>1</td><td>0</td><td>0</td><td>0</td><td>0</td><td>0</td></tr>\n",
       "\t<tr><th scope=row>GF_104w_M_5_2</th><td>1</td><td>1</td><td>0</td><td>0</td><td>0</td><td>0</td><td>0</td><td>0</td><td>0</td><td>0</td><td>0</td><td>1</td><td>0</td><td>0</td><td>0</td><td>0</td><td>0</td></tr>\n",
       "\t<tr><th scope=row>GF_104w_M_4_2</th><td>1</td><td>1</td><td>0</td><td>0</td><td>0</td><td>0</td><td>0</td><td>0</td><td>0</td><td>0</td><td>0</td><td>1</td><td>0</td><td>0</td><td>0</td><td>0</td><td>0</td></tr>\n",
       "</tbody>\n",
       "</table>\n"
      ],
      "text/latex": [
       "\\begin{tabular}{r|lllllllllllllllll}\n",
       "  & (Intercept) & genderM & typeSPF & age52w & age8w & projectProject\\_148\\_2 & projectProject\\_S174 & projectProject\\_S178 & projectProject\\_S198 & projectProject\\_S225 & projectProject\\_S264 & projectS288 & genderM:age52w & genderM:age8w & genderM:typeSPF & typeSPF:age52w & typeSPF:age8w\\\\\n",
       "\\hline\n",
       "\tGF\\_104w\\_F\\_1\\_2 & 1 & 0 & 0 & 0 & 0 & 0 & 0 & 0 & 0 & 0 & 1 & 0 & 0 & 0 & 0 & 0 & 0\\\\\n",
       "\tGF\\_104w\\_F\\_2\\_2 & 1 & 0 & 0 & 0 & 0 & 0 & 0 & 0 & 0 & 0 & 1 & 0 & 0 & 0 & 0 & 0 & 0\\\\\n",
       "\tGF\\_104w\\_F\\_3\\_2 & 1 & 0 & 0 & 0 & 0 & 0 & 0 & 0 & 0 & 0 & 1 & 0 & 0 & 0 & 0 & 0 & 0\\\\\n",
       "\tGF\\_104w\\_M\\_1\\_2 & 1 & 1 & 0 & 0 & 0 & 0 & 0 & 0 & 0 & 0 & 1 & 0 & 0 & 0 & 0 & 0 & 0\\\\\n",
       "\tGF\\_104w\\_M\\_2\\_2 & 1 & 1 & 0 & 0 & 0 & 0 & 0 & 0 & 0 & 0 & 1 & 0 & 0 & 0 & 0 & 0 & 0\\\\\n",
       "\tGF\\_52w\\_M\\_1\\_2 & 1 & 1 & 0 & 1 & 0 & 0 & 0 & 0 & 0 & 0 & 0 & 0 & 1 & 0 & 0 & 0 & 0\\\\\n",
       "\tGF\\_52w\\_M\\_2\\_2 & 1 & 1 & 0 & 1 & 0 & 1 & 0 & 0 & 0 & 0 & 0 & 0 & 1 & 0 & 0 & 0 & 0\\\\\n",
       "\tGF\\_52w\\_M\\_3\\_2 & 1 & 1 & 0 & 1 & 0 & 0 & 0 & 0 & 0 & 0 & 0 & 0 & 1 & 0 & 0 & 0 & 0\\\\\n",
       "\tGF\\_52w\\_M\\_4\\_2 & 1 & 1 & 0 & 1 & 0 & 1 & 0 & 0 & 0 & 0 & 0 & 0 & 1 & 0 & 0 & 0 & 0\\\\\n",
       "\tGF\\_8w\\_M\\_1\\_2 & 1 & 1 & 0 & 0 & 1 & 0 & 0 & 0 & 0 & 0 & 0 & 0 & 0 & 1 & 0 & 0 & 0\\\\\n",
       "\tGF\\_8w\\_M\\_2\\_2 & 1 & 1 & 0 & 0 & 1 & 1 & 0 & 0 & 0 & 0 & 0 & 0 & 0 & 1 & 0 & 0 & 0\\\\\n",
       "\tGF\\_8w\\_M\\_3\\_2 & 1 & 1 & 0 & 0 & 1 & 0 & 0 & 0 & 0 & 0 & 0 & 0 & 0 & 1 & 0 & 0 & 0\\\\\n",
       "\tGF\\_8w\\_M\\_4\\_2 & 1 & 1 & 0 & 0 & 1 & 1 & 0 & 0 & 0 & 0 & 0 & 0 & 0 & 1 & 0 & 0 & 0\\\\\n",
       "\tSPF\\_104w\\_F\\_1\\_2 & 1 & 0 & 1 & 0 & 0 & 0 & 1 & 0 & 0 & 0 & 0 & 0 & 0 & 0 & 0 & 0 & 0\\\\\n",
       "\tSPF\\_104w\\_F\\_2\\_2 & 1 & 0 & 1 & 0 & 0 & 0 & 1 & 0 & 0 & 0 & 0 & 0 & 0 & 0 & 0 & 0 & 0\\\\\n",
       "\tSPF\\_104w\\_F\\_3\\_2 & 1 & 0 & 1 & 0 & 0 & 0 & 1 & 0 & 0 & 0 & 0 & 0 & 0 & 0 & 0 & 0 & 0\\\\\n",
       "\tSPF\\_104w\\_M\\_1\\_2 & 1 & 1 & 1 & 0 & 0 & 0 & 1 & 0 & 0 & 0 & 0 & 0 & 0 & 0 & 1 & 0 & 0\\\\\n",
       "\tSPF\\_104w\\_M\\_2\\_2 & 1 & 1 & 1 & 0 & 0 & 0 & 1 & 0 & 0 & 0 & 0 & 0 & 0 & 0 & 1 & 0 & 0\\\\\n",
       "\tSPF\\_104w\\_M\\_3\\_2 & 1 & 1 & 1 & 0 & 0 & 0 & 1 & 0 & 0 & 0 & 0 & 0 & 0 & 0 & 1 & 0 & 0\\\\\n",
       "\tSPF\\_104w\\_M\\_4\\_2 & 1 & 1 & 1 & 0 & 0 & 0 & 1 & 0 & 0 & 0 & 0 & 0 & 0 & 0 & 1 & 0 & 0\\\\\n",
       "\tSPF\\_52w\\_M\\_1\\_2 & 1 & 1 & 1 & 1 & 0 & 0 & 0 & 0 & 0 & 0 & 0 & 0 & 1 & 0 & 1 & 1 & 0\\\\\n",
       "\tSPF\\_52w\\_M\\_2\\_2 & 1 & 1 & 1 & 1 & 0 & 1 & 0 & 0 & 0 & 0 & 0 & 0 & 1 & 0 & 1 & 1 & 0\\\\\n",
       "\tSPF\\_52w\\_M\\_3\\_2 & 1 & 1 & 1 & 1 & 0 & 0 & 0 & 0 & 0 & 0 & 0 & 0 & 1 & 0 & 1 & 1 & 0\\\\\n",
       "\tSPF\\_52w\\_M\\_4\\_2 & 1 & 1 & 1 & 1 & 0 & 1 & 0 & 0 & 0 & 0 & 0 & 0 & 1 & 0 & 1 & 1 & 0\\\\\n",
       "\tSPF\\_52w\\_M\\_5\\_2 & 1 & 1 & 1 & 1 & 0 & 0 & 0 & 0 & 0 & 0 & 0 & 0 & 1 & 0 & 1 & 1 & 0\\\\\n",
       "\tSPF\\_8w\\_M\\_1\\_2 & 1 & 1 & 1 & 0 & 1 & 0 & 0 & 0 & 0 & 0 & 0 & 0 & 0 & 1 & 1 & 0 & 1\\\\\n",
       "\tSPF\\_8w\\_M\\_2\\_2 & 1 & 1 & 1 & 0 & 1 & 1 & 0 & 0 & 0 & 0 & 0 & 0 & 0 & 1 & 1 & 0 & 1\\\\\n",
       "\tSPF\\_8w\\_M\\_3\\_2 & 1 & 1 & 1 & 0 & 1 & 0 & 0 & 0 & 0 & 0 & 0 & 0 & 0 & 1 & 1 & 0 & 1\\\\\n",
       "\tSPF\\_8w\\_M\\_4\\_2 & 1 & 1 & 1 & 0 & 1 & 1 & 0 & 0 & 0 & 0 & 0 & 0 & 0 & 1 & 1 & 0 & 1\\\\\n",
       "\tGF\\_52w\\_F\\_1\\_2 & 1 & 0 & 0 & 1 & 0 & 0 & 0 & 1 & 0 & 0 & 0 & 0 & 0 & 0 & 0 & 0 & 0\\\\\n",
       "\t⋮ & ⋮ & ⋮ & ⋮ & ⋮ & ⋮ & ⋮ & ⋮ & ⋮ & ⋮ & ⋮ & ⋮ & ⋮ & ⋮ & ⋮ & ⋮ & ⋮ & ⋮\\\\\n",
       "\tGF\\_52w\\_F\\_5\\_2 & 1 & 0 & 0 & 1 & 0 & 0 & 0 & 1 & 0 & 0 & 0 & 0 & 0 & 0 & 0 & 0 & 0\\\\\n",
       "\tGF\\_52w\\_F\\_6\\_2 & 1 & 0 & 0 & 1 & 0 & 0 & 0 & 1 & 0 & 0 & 0 & 0 & 0 & 0 & 0 & 0 & 0\\\\\n",
       "\tSPF\\_52w\\_F\\_1\\_2 & 1 & 0 & 1 & 1 & 0 & 0 & 0 & 1 & 0 & 0 & 0 & 0 & 0 & 0 & 0 & 1 & 0\\\\\n",
       "\tSPF\\_52w\\_F\\_2\\_2 & 1 & 0 & 1 & 1 & 0 & 0 & 0 & 1 & 0 & 0 & 0 & 0 & 0 & 0 & 0 & 1 & 0\\\\\n",
       "\tSPF\\_52w\\_F\\_3\\_2 & 1 & 0 & 1 & 1 & 0 & 0 & 0 & 1 & 0 & 0 & 0 & 0 & 0 & 0 & 0 & 1 & 0\\\\\n",
       "\tSPF\\_52w\\_F\\_4\\_2 & 1 & 0 & 1 & 1 & 0 & 0 & 0 & 1 & 0 & 0 & 0 & 0 & 0 & 0 & 0 & 1 & 0\\\\\n",
       "\tSPF\\_52w\\_F\\_5\\_2 & 1 & 0 & 1 & 1 & 0 & 0 & 0 & 1 & 0 & 0 & 0 & 0 & 0 & 0 & 0 & 1 & 0\\\\\n",
       "\tSPF\\_52w\\_F\\_6\\_2 & 1 & 0 & 1 & 1 & 0 & 0 & 0 & 1 & 0 & 0 & 0 & 0 & 0 & 0 & 0 & 1 & 0\\\\\n",
       "\tSPF\\_104w\\_M\\_5\\_2 & 1 & 1 & 1 & 0 & 0 & 0 & 0 & 0 & 1 & 0 & 0 & 0 & 0 & 0 & 1 & 0 & 0\\\\\n",
       "\tSPF\\_104w\\_M\\_6\\_2 & 1 & 1 & 1 & 0 & 0 & 0 & 0 & 0 & 1 & 0 & 0 & 0 & 0 & 0 & 1 & 0 & 0\\\\\n",
       "\tSPF\\_104w\\_M\\_7\\_2 & 1 & 1 & 1 & 0 & 0 & 0 & 0 & 0 & 1 & 0 & 0 & 0 & 0 & 0 & 1 & 0 & 0\\\\\n",
       "\tSPF\\_104w\\_M\\_8\\_2 & 1 & 1 & 1 & 0 & 0 & 0 & 0 & 0 & 1 & 0 & 0 & 0 & 0 & 0 & 1 & 0 & 0\\\\\n",
       "\tSPF\\_104w\\_M\\_9\\_2 & 1 & 1 & 1 & 0 & 0 & 0 & 0 & 0 & 1 & 0 & 0 & 0 & 0 & 0 & 1 & 0 & 0\\\\\n",
       "\tSPF\\_104w\\_M\\_10\\_2 & 1 & 1 & 1 & 0 & 0 & 0 & 0 & 0 & 1 & 0 & 0 & 0 & 0 & 0 & 1 & 0 & 0\\\\\n",
       "\tSPF\\_104w\\_M\\_11\\_2 & 1 & 1 & 1 & 0 & 0 & 0 & 0 & 0 & 1 & 0 & 0 & 0 & 0 & 0 & 1 & 0 & 0\\\\\n",
       "\tSPF\\_104w\\_M\\_12\\_2 & 1 & 1 & 1 & 0 & 0 & 0 & 0 & 0 & 1 & 0 & 0 & 0 & 0 & 0 & 1 & 0 & 0\\\\\n",
       "\tSPF\\_104w\\_M\\_13\\_2 & 1 & 1 & 1 & 0 & 0 & 0 & 0 & 0 & 1 & 0 & 0 & 0 & 0 & 0 & 1 & 0 & 0\\\\\n",
       "\tSPF\\_104w\\_M\\_14\\_2 & 1 & 1 & 1 & 0 & 0 & 0 & 0 & 0 & 1 & 0 & 0 & 0 & 0 & 0 & 1 & 0 & 0\\\\\n",
       "\tSPF\\_8w\\_F\\_1\\_2 & 1 & 0 & 1 & 0 & 1 & 0 & 0 & 0 & 0 & 1 & 0 & 0 & 0 & 0 & 0 & 0 & 1\\\\\n",
       "\tSPF\\_8w\\_F\\_3\\_2 & 1 & 0 & 1 & 0 & 1 & 0 & 0 & 0 & 0 & 1 & 0 & 0 & 0 & 0 & 0 & 0 & 1\\\\\n",
       "\tSPF\\_8w\\_F\\_4\\_2 & 1 & 0 & 1 & 0 & 1 & 0 & 0 & 0 & 0 & 1 & 0 & 0 & 0 & 0 & 0 & 0 & 1\\\\\n",
       "\tSPF\\_8w\\_F\\_5\\_2 & 1 & 0 & 1 & 0 & 1 & 0 & 0 & 0 & 0 & 1 & 0 & 0 & 0 & 0 & 0 & 0 & 1\\\\\n",
       "\tGF\\_8w\\_F\\_1\\_2 & 1 & 0 & 0 & 0 & 1 & 0 & 0 & 0 & 0 & 1 & 0 & 0 & 0 & 0 & 0 & 0 & 0\\\\\n",
       "\tGF\\_8w\\_F\\_2\\_2 & 1 & 0 & 0 & 0 & 1 & 0 & 0 & 0 & 0 & 1 & 0 & 0 & 0 & 0 & 0 & 0 & 0\\\\\n",
       "\tGF\\_8w\\_F\\_3\\_2 & 1 & 0 & 0 & 0 & 1 & 0 & 0 & 0 & 0 & 1 & 0 & 0 & 0 & 0 & 0 & 0 & 0\\\\\n",
       "\tGF\\_8w\\_F\\_4\\_2 & 1 & 0 & 0 & 0 & 1 & 0 & 0 & 0 & 0 & 1 & 0 & 0 & 0 & 0 & 0 & 0 & 0\\\\\n",
       "\tGF\\_8w\\_F\\_5\\_2 & 1 & 0 & 0 & 0 & 1 & 0 & 0 & 0 & 0 & 1 & 0 & 0 & 0 & 0 & 0 & 0 & 0\\\\\n",
       "\tGF\\_104w\\_M\\_3\\_2 & 1 & 1 & 0 & 0 & 0 & 0 & 0 & 0 & 0 & 0 & 0 & 1 & 0 & 0 & 0 & 0 & 0\\\\\n",
       "\tGF\\_104w\\_M\\_5\\_2 & 1 & 1 & 0 & 0 & 0 & 0 & 0 & 0 & 0 & 0 & 0 & 1 & 0 & 0 & 0 & 0 & 0\\\\\n",
       "\tGF\\_104w\\_M\\_4\\_2 & 1 & 1 & 0 & 0 & 0 & 0 & 0 & 0 & 0 & 0 & 0 & 1 & 0 & 0 & 0 & 0 & 0\\\\\n",
       "\\end{tabular}\n"
      ],
      "text/markdown": [
       "\n",
       "| <!--/--> | (Intercept) | genderM | typeSPF | age52w | age8w | projectProject_148_2 | projectProject_S174 | projectProject_S178 | projectProject_S198 | projectProject_S225 | projectProject_S264 | projectS288 | genderM:age52w | genderM:age8w | genderM:typeSPF | typeSPF:age52w | typeSPF:age8w | \n",
       "|---|---|---|---|---|---|---|---|---|---|---|---|---|---|---|---|---|---|---|---|---|---|---|---|---|---|---|---|---|---|---|---|---|---|---|---|---|---|---|---|---|---|---|---|---|---|---|---|---|---|---|---|---|---|---|---|---|---|---|---|---|\n",
       "| GF_104w_F_1_2 | 1 | 0 | 0 | 0 | 0 | 0 | 0 | 0 | 0 | 0 | 1 | 0 | 0 | 0 | 0 | 0 | 0 | \n",
       "| GF_104w_F_2_2 | 1 | 0 | 0 | 0 | 0 | 0 | 0 | 0 | 0 | 0 | 1 | 0 | 0 | 0 | 0 | 0 | 0 | \n",
       "| GF_104w_F_3_2 | 1 | 0 | 0 | 0 | 0 | 0 | 0 | 0 | 0 | 0 | 1 | 0 | 0 | 0 | 0 | 0 | 0 | \n",
       "| GF_104w_M_1_2 | 1 | 1 | 0 | 0 | 0 | 0 | 0 | 0 | 0 | 0 | 1 | 0 | 0 | 0 | 0 | 0 | 0 | \n",
       "| GF_104w_M_2_2 | 1 | 1 | 0 | 0 | 0 | 0 | 0 | 0 | 0 | 0 | 1 | 0 | 0 | 0 | 0 | 0 | 0 | \n",
       "| GF_52w_M_1_2 | 1 | 1 | 0 | 1 | 0 | 0 | 0 | 0 | 0 | 0 | 0 | 0 | 1 | 0 | 0 | 0 | 0 | \n",
       "| GF_52w_M_2_2 | 1 | 1 | 0 | 1 | 0 | 1 | 0 | 0 | 0 | 0 | 0 | 0 | 1 | 0 | 0 | 0 | 0 | \n",
       "| GF_52w_M_3_2 | 1 | 1 | 0 | 1 | 0 | 0 | 0 | 0 | 0 | 0 | 0 | 0 | 1 | 0 | 0 | 0 | 0 | \n",
       "| GF_52w_M_4_2 | 1 | 1 | 0 | 1 | 0 | 1 | 0 | 0 | 0 | 0 | 0 | 0 | 1 | 0 | 0 | 0 | 0 | \n",
       "| GF_8w_M_1_2 | 1 | 1 | 0 | 0 | 1 | 0 | 0 | 0 | 0 | 0 | 0 | 0 | 0 | 1 | 0 | 0 | 0 | \n",
       "| GF_8w_M_2_2 | 1 | 1 | 0 | 0 | 1 | 1 | 0 | 0 | 0 | 0 | 0 | 0 | 0 | 1 | 0 | 0 | 0 | \n",
       "| GF_8w_M_3_2 | 1 | 1 | 0 | 0 | 1 | 0 | 0 | 0 | 0 | 0 | 0 | 0 | 0 | 1 | 0 | 0 | 0 | \n",
       "| GF_8w_M_4_2 | 1 | 1 | 0 | 0 | 1 | 1 | 0 | 0 | 0 | 0 | 0 | 0 | 0 | 1 | 0 | 0 | 0 | \n",
       "| SPF_104w_F_1_2 | 1 | 0 | 1 | 0 | 0 | 0 | 1 | 0 | 0 | 0 | 0 | 0 | 0 | 0 | 0 | 0 | 0 | \n",
       "| SPF_104w_F_2_2 | 1 | 0 | 1 | 0 | 0 | 0 | 1 | 0 | 0 | 0 | 0 | 0 | 0 | 0 | 0 | 0 | 0 | \n",
       "| SPF_104w_F_3_2 | 1 | 0 | 1 | 0 | 0 | 0 | 1 | 0 | 0 | 0 | 0 | 0 | 0 | 0 | 0 | 0 | 0 | \n",
       "| SPF_104w_M_1_2 | 1 | 1 | 1 | 0 | 0 | 0 | 1 | 0 | 0 | 0 | 0 | 0 | 0 | 0 | 1 | 0 | 0 | \n",
       "| SPF_104w_M_2_2 | 1 | 1 | 1 | 0 | 0 | 0 | 1 | 0 | 0 | 0 | 0 | 0 | 0 | 0 | 1 | 0 | 0 | \n",
       "| SPF_104w_M_3_2 | 1 | 1 | 1 | 0 | 0 | 0 | 1 | 0 | 0 | 0 | 0 | 0 | 0 | 0 | 1 | 0 | 0 | \n",
       "| SPF_104w_M_4_2 | 1 | 1 | 1 | 0 | 0 | 0 | 1 | 0 | 0 | 0 | 0 | 0 | 0 | 0 | 1 | 0 | 0 | \n",
       "| SPF_52w_M_1_2 | 1 | 1 | 1 | 1 | 0 | 0 | 0 | 0 | 0 | 0 | 0 | 0 | 1 | 0 | 1 | 1 | 0 | \n",
       "| SPF_52w_M_2_2 | 1 | 1 | 1 | 1 | 0 | 1 | 0 | 0 | 0 | 0 | 0 | 0 | 1 | 0 | 1 | 1 | 0 | \n",
       "| SPF_52w_M_3_2 | 1 | 1 | 1 | 1 | 0 | 0 | 0 | 0 | 0 | 0 | 0 | 0 | 1 | 0 | 1 | 1 | 0 | \n",
       "| SPF_52w_M_4_2 | 1 | 1 | 1 | 1 | 0 | 1 | 0 | 0 | 0 | 0 | 0 | 0 | 1 | 0 | 1 | 1 | 0 | \n",
       "| SPF_52w_M_5_2 | 1 | 1 | 1 | 1 | 0 | 0 | 0 | 0 | 0 | 0 | 0 | 0 | 1 | 0 | 1 | 1 | 0 | \n",
       "| SPF_8w_M_1_2 | 1 | 1 | 1 | 0 | 1 | 0 | 0 | 0 | 0 | 0 | 0 | 0 | 0 | 1 | 1 | 0 | 1 | \n",
       "| SPF_8w_M_2_2 | 1 | 1 | 1 | 0 | 1 | 1 | 0 | 0 | 0 | 0 | 0 | 0 | 0 | 1 | 1 | 0 | 1 | \n",
       "| SPF_8w_M_3_2 | 1 | 1 | 1 | 0 | 1 | 0 | 0 | 0 | 0 | 0 | 0 | 0 | 0 | 1 | 1 | 0 | 1 | \n",
       "| SPF_8w_M_4_2 | 1 | 1 | 1 | 0 | 1 | 1 | 0 | 0 | 0 | 0 | 0 | 0 | 0 | 1 | 1 | 0 | 1 | \n",
       "| GF_52w_F_1_2 | 1 | 0 | 0 | 1 | 0 | 0 | 0 | 1 | 0 | 0 | 0 | 0 | 0 | 0 | 0 | 0 | 0 | \n",
       "| ⋮ | ⋮ | ⋮ | ⋮ | ⋮ | ⋮ | ⋮ | ⋮ | ⋮ | ⋮ | ⋮ | ⋮ | ⋮ | ⋮ | ⋮ | ⋮ | ⋮ | ⋮ | \n",
       "| GF_52w_F_5_2 | 1 | 0 | 0 | 1 | 0 | 0 | 0 | 1 | 0 | 0 | 0 | 0 | 0 | 0 | 0 | 0 | 0 | \n",
       "| GF_52w_F_6_2 | 1 | 0 | 0 | 1 | 0 | 0 | 0 | 1 | 0 | 0 | 0 | 0 | 0 | 0 | 0 | 0 | 0 | \n",
       "| SPF_52w_F_1_2 | 1 | 0 | 1 | 1 | 0 | 0 | 0 | 1 | 0 | 0 | 0 | 0 | 0 | 0 | 0 | 1 | 0 | \n",
       "| SPF_52w_F_2_2 | 1 | 0 | 1 | 1 | 0 | 0 | 0 | 1 | 0 | 0 | 0 | 0 | 0 | 0 | 0 | 1 | 0 | \n",
       "| SPF_52w_F_3_2 | 1 | 0 | 1 | 1 | 0 | 0 | 0 | 1 | 0 | 0 | 0 | 0 | 0 | 0 | 0 | 1 | 0 | \n",
       "| SPF_52w_F_4_2 | 1 | 0 | 1 | 1 | 0 | 0 | 0 | 1 | 0 | 0 | 0 | 0 | 0 | 0 | 0 | 1 | 0 | \n",
       "| SPF_52w_F_5_2 | 1 | 0 | 1 | 1 | 0 | 0 | 0 | 1 | 0 | 0 | 0 | 0 | 0 | 0 | 0 | 1 | 0 | \n",
       "| SPF_52w_F_6_2 | 1 | 0 | 1 | 1 | 0 | 0 | 0 | 1 | 0 | 0 | 0 | 0 | 0 | 0 | 0 | 1 | 0 | \n",
       "| SPF_104w_M_5_2 | 1 | 1 | 1 | 0 | 0 | 0 | 0 | 0 | 1 | 0 | 0 | 0 | 0 | 0 | 1 | 0 | 0 | \n",
       "| SPF_104w_M_6_2 | 1 | 1 | 1 | 0 | 0 | 0 | 0 | 0 | 1 | 0 | 0 | 0 | 0 | 0 | 1 | 0 | 0 | \n",
       "| SPF_104w_M_7_2 | 1 | 1 | 1 | 0 | 0 | 0 | 0 | 0 | 1 | 0 | 0 | 0 | 0 | 0 | 1 | 0 | 0 | \n",
       "| SPF_104w_M_8_2 | 1 | 1 | 1 | 0 | 0 | 0 | 0 | 0 | 1 | 0 | 0 | 0 | 0 | 0 | 1 | 0 | 0 | \n",
       "| SPF_104w_M_9_2 | 1 | 1 | 1 | 0 | 0 | 0 | 0 | 0 | 1 | 0 | 0 | 0 | 0 | 0 | 1 | 0 | 0 | \n",
       "| SPF_104w_M_10_2 | 1 | 1 | 1 | 0 | 0 | 0 | 0 | 0 | 1 | 0 | 0 | 0 | 0 | 0 | 1 | 0 | 0 | \n",
       "| SPF_104w_M_11_2 | 1 | 1 | 1 | 0 | 0 | 0 | 0 | 0 | 1 | 0 | 0 | 0 | 0 | 0 | 1 | 0 | 0 | \n",
       "| SPF_104w_M_12_2 | 1 | 1 | 1 | 0 | 0 | 0 | 0 | 0 | 1 | 0 | 0 | 0 | 0 | 0 | 1 | 0 | 0 | \n",
       "| SPF_104w_M_13_2 | 1 | 1 | 1 | 0 | 0 | 0 | 0 | 0 | 1 | 0 | 0 | 0 | 0 | 0 | 1 | 0 | 0 | \n",
       "| SPF_104w_M_14_2 | 1 | 1 | 1 | 0 | 0 | 0 | 0 | 0 | 1 | 0 | 0 | 0 | 0 | 0 | 1 | 0 | 0 | \n",
       "| SPF_8w_F_1_2 | 1 | 0 | 1 | 0 | 1 | 0 | 0 | 0 | 0 | 1 | 0 | 0 | 0 | 0 | 0 | 0 | 1 | \n",
       "| SPF_8w_F_3_2 | 1 | 0 | 1 | 0 | 1 | 0 | 0 | 0 | 0 | 1 | 0 | 0 | 0 | 0 | 0 | 0 | 1 | \n",
       "| SPF_8w_F_4_2 | 1 | 0 | 1 | 0 | 1 | 0 | 0 | 0 | 0 | 1 | 0 | 0 | 0 | 0 | 0 | 0 | 1 | \n",
       "| SPF_8w_F_5_2 | 1 | 0 | 1 | 0 | 1 | 0 | 0 | 0 | 0 | 1 | 0 | 0 | 0 | 0 | 0 | 0 | 1 | \n",
       "| GF_8w_F_1_2 | 1 | 0 | 0 | 0 | 1 | 0 | 0 | 0 | 0 | 1 | 0 | 0 | 0 | 0 | 0 | 0 | 0 | \n",
       "| GF_8w_F_2_2 | 1 | 0 | 0 | 0 | 1 | 0 | 0 | 0 | 0 | 1 | 0 | 0 | 0 | 0 | 0 | 0 | 0 | \n",
       "| GF_8w_F_3_2 | 1 | 0 | 0 | 0 | 1 | 0 | 0 | 0 | 0 | 1 | 0 | 0 | 0 | 0 | 0 | 0 | 0 | \n",
       "| GF_8w_F_4_2 | 1 | 0 | 0 | 0 | 1 | 0 | 0 | 0 | 0 | 1 | 0 | 0 | 0 | 0 | 0 | 0 | 0 | \n",
       "| GF_8w_F_5_2 | 1 | 0 | 0 | 0 | 1 | 0 | 0 | 0 | 0 | 1 | 0 | 0 | 0 | 0 | 0 | 0 | 0 | \n",
       "| GF_104w_M_3_2 | 1 | 1 | 0 | 0 | 0 | 0 | 0 | 0 | 0 | 0 | 0 | 1 | 0 | 0 | 0 | 0 | 0 | \n",
       "| GF_104w_M_5_2 | 1 | 1 | 0 | 0 | 0 | 0 | 0 | 0 | 0 | 0 | 0 | 1 | 0 | 0 | 0 | 0 | 0 | \n",
       "| GF_104w_M_4_2 | 1 | 1 | 0 | 0 | 0 | 0 | 0 | 0 | 0 | 0 | 0 | 1 | 0 | 0 | 0 | 0 | 0 | \n",
       "\n",
       "\n"
      ],
      "text/plain": [
       "                (Intercept) genderM typeSPF age52w age8w projectProject_148_2\n",
       "GF_104w_F_1_2   1           0       0       0      0     0                   \n",
       "GF_104w_F_2_2   1           0       0       0      0     0                   \n",
       "GF_104w_F_3_2   1           0       0       0      0     0                   \n",
       "GF_104w_M_1_2   1           1       0       0      0     0                   \n",
       "GF_104w_M_2_2   1           1       0       0      0     0                   \n",
       "GF_52w_M_1_2    1           1       0       1      0     0                   \n",
       "GF_52w_M_2_2    1           1       0       1      0     1                   \n",
       "GF_52w_M_3_2    1           1       0       1      0     0                   \n",
       "GF_52w_M_4_2    1           1       0       1      0     1                   \n",
       "GF_8w_M_1_2     1           1       0       0      1     0                   \n",
       "GF_8w_M_2_2     1           1       0       0      1     1                   \n",
       "GF_8w_M_3_2     1           1       0       0      1     0                   \n",
       "GF_8w_M_4_2     1           1       0       0      1     1                   \n",
       "SPF_104w_F_1_2  1           0       1       0      0     0                   \n",
       "SPF_104w_F_2_2  1           0       1       0      0     0                   \n",
       "SPF_104w_F_3_2  1           0       1       0      0     0                   \n",
       "SPF_104w_M_1_2  1           1       1       0      0     0                   \n",
       "SPF_104w_M_2_2  1           1       1       0      0     0                   \n",
       "SPF_104w_M_3_2  1           1       1       0      0     0                   \n",
       "SPF_104w_M_4_2  1           1       1       0      0     0                   \n",
       "SPF_52w_M_1_2   1           1       1       1      0     0                   \n",
       "SPF_52w_M_2_2   1           1       1       1      0     1                   \n",
       "SPF_52w_M_3_2   1           1       1       1      0     0                   \n",
       "SPF_52w_M_4_2   1           1       1       1      0     1                   \n",
       "SPF_52w_M_5_2   1           1       1       1      0     0                   \n",
       "SPF_8w_M_1_2    1           1       1       0      1     0                   \n",
       "SPF_8w_M_2_2    1           1       1       0      1     1                   \n",
       "SPF_8w_M_3_2    1           1       1       0      1     0                   \n",
       "SPF_8w_M_4_2    1           1       1       0      1     1                   \n",
       "GF_52w_F_1_2    1           0       0       1      0     0                   \n",
       "⋮               ⋮           ⋮       ⋮       ⋮      ⋮     ⋮                   \n",
       "GF_52w_F_5_2    1           0       0       1      0     0                   \n",
       "GF_52w_F_6_2    1           0       0       1      0     0                   \n",
       "SPF_52w_F_1_2   1           0       1       1      0     0                   \n",
       "SPF_52w_F_2_2   1           0       1       1      0     0                   \n",
       "SPF_52w_F_3_2   1           0       1       1      0     0                   \n",
       "SPF_52w_F_4_2   1           0       1       1      0     0                   \n",
       "SPF_52w_F_5_2   1           0       1       1      0     0                   \n",
       "SPF_52w_F_6_2   1           0       1       1      0     0                   \n",
       "SPF_104w_M_5_2  1           1       1       0      0     0                   \n",
       "SPF_104w_M_6_2  1           1       1       0      0     0                   \n",
       "SPF_104w_M_7_2  1           1       1       0      0     0                   \n",
       "SPF_104w_M_8_2  1           1       1       0      0     0                   \n",
       "SPF_104w_M_9_2  1           1       1       0      0     0                   \n",
       "SPF_104w_M_10_2 1           1       1       0      0     0                   \n",
       "SPF_104w_M_11_2 1           1       1       0      0     0                   \n",
       "SPF_104w_M_12_2 1           1       1       0      0     0                   \n",
       "SPF_104w_M_13_2 1           1       1       0      0     0                   \n",
       "SPF_104w_M_14_2 1           1       1       0      0     0                   \n",
       "SPF_8w_F_1_2    1           0       1       0      1     0                   \n",
       "SPF_8w_F_3_2    1           0       1       0      1     0                   \n",
       "SPF_8w_F_4_2    1           0       1       0      1     0                   \n",
       "SPF_8w_F_5_2    1           0       1       0      1     0                   \n",
       "GF_8w_F_1_2     1           0       0       0      1     0                   \n",
       "GF_8w_F_2_2     1           0       0       0      1     0                   \n",
       "GF_8w_F_3_2     1           0       0       0      1     0                   \n",
       "GF_8w_F_4_2     1           0       0       0      1     0                   \n",
       "GF_8w_F_5_2     1           0       0       0      1     0                   \n",
       "GF_104w_M_3_2   1           1       0       0      0     0                   \n",
       "GF_104w_M_5_2   1           1       0       0      0     0                   \n",
       "GF_104w_M_4_2   1           1       0       0      0     0                   \n",
       "                projectProject_S174 projectProject_S178 projectProject_S198\n",
       "GF_104w_F_1_2   0                   0                   0                  \n",
       "GF_104w_F_2_2   0                   0                   0                  \n",
       "GF_104w_F_3_2   0                   0                   0                  \n",
       "GF_104w_M_1_2   0                   0                   0                  \n",
       "GF_104w_M_2_2   0                   0                   0                  \n",
       "GF_52w_M_1_2    0                   0                   0                  \n",
       "GF_52w_M_2_2    0                   0                   0                  \n",
       "GF_52w_M_3_2    0                   0                   0                  \n",
       "GF_52w_M_4_2    0                   0                   0                  \n",
       "GF_8w_M_1_2     0                   0                   0                  \n",
       "GF_8w_M_2_2     0                   0                   0                  \n",
       "GF_8w_M_3_2     0                   0                   0                  \n",
       "GF_8w_M_4_2     0                   0                   0                  \n",
       "SPF_104w_F_1_2  1                   0                   0                  \n",
       "SPF_104w_F_2_2  1                   0                   0                  \n",
       "SPF_104w_F_3_2  1                   0                   0                  \n",
       "SPF_104w_M_1_2  1                   0                   0                  \n",
       "SPF_104w_M_2_2  1                   0                   0                  \n",
       "SPF_104w_M_3_2  1                   0                   0                  \n",
       "SPF_104w_M_4_2  1                   0                   0                  \n",
       "SPF_52w_M_1_2   0                   0                   0                  \n",
       "SPF_52w_M_2_2   0                   0                   0                  \n",
       "SPF_52w_M_3_2   0                   0                   0                  \n",
       "SPF_52w_M_4_2   0                   0                   0                  \n",
       "SPF_52w_M_5_2   0                   0                   0                  \n",
       "SPF_8w_M_1_2    0                   0                   0                  \n",
       "SPF_8w_M_2_2    0                   0                   0                  \n",
       "SPF_8w_M_3_2    0                   0                   0                  \n",
       "SPF_8w_M_4_2    0                   0                   0                  \n",
       "GF_52w_F_1_2    0                   1                   0                  \n",
       "⋮               ⋮                   ⋮                   ⋮                  \n",
       "GF_52w_F_5_2    0                   1                   0                  \n",
       "GF_52w_F_6_2    0                   1                   0                  \n",
       "SPF_52w_F_1_2   0                   1                   0                  \n",
       "SPF_52w_F_2_2   0                   1                   0                  \n",
       "SPF_52w_F_3_2   0                   1                   0                  \n",
       "SPF_52w_F_4_2   0                   1                   0                  \n",
       "SPF_52w_F_5_2   0                   1                   0                  \n",
       "SPF_52w_F_6_2   0                   1                   0                  \n",
       "SPF_104w_M_5_2  0                   0                   1                  \n",
       "SPF_104w_M_6_2  0                   0                   1                  \n",
       "SPF_104w_M_7_2  0                   0                   1                  \n",
       "SPF_104w_M_8_2  0                   0                   1                  \n",
       "SPF_104w_M_9_2  0                   0                   1                  \n",
       "SPF_104w_M_10_2 0                   0                   1                  \n",
       "SPF_104w_M_11_2 0                   0                   1                  \n",
       "SPF_104w_M_12_2 0                   0                   1                  \n",
       "SPF_104w_M_13_2 0                   0                   1                  \n",
       "SPF_104w_M_14_2 0                   0                   1                  \n",
       "SPF_8w_F_1_2    0                   0                   0                  \n",
       "SPF_8w_F_3_2    0                   0                   0                  \n",
       "SPF_8w_F_4_2    0                   0                   0                  \n",
       "SPF_8w_F_5_2    0                   0                   0                  \n",
       "GF_8w_F_1_2     0                   0                   0                  \n",
       "GF_8w_F_2_2     0                   0                   0                  \n",
       "GF_8w_F_3_2     0                   0                   0                  \n",
       "GF_8w_F_4_2     0                   0                   0                  \n",
       "GF_8w_F_5_2     0                   0                   0                  \n",
       "GF_104w_M_3_2   0                   0                   0                  \n",
       "GF_104w_M_5_2   0                   0                   0                  \n",
       "GF_104w_M_4_2   0                   0                   0                  \n",
       "                projectProject_S225 projectProject_S264 projectS288\n",
       "GF_104w_F_1_2   0                   1                   0          \n",
       "GF_104w_F_2_2   0                   1                   0          \n",
       "GF_104w_F_3_2   0                   1                   0          \n",
       "GF_104w_M_1_2   0                   1                   0          \n",
       "GF_104w_M_2_2   0                   1                   0          \n",
       "GF_52w_M_1_2    0                   0                   0          \n",
       "GF_52w_M_2_2    0                   0                   0          \n",
       "GF_52w_M_3_2    0                   0                   0          \n",
       "GF_52w_M_4_2    0                   0                   0          \n",
       "GF_8w_M_1_2     0                   0                   0          \n",
       "GF_8w_M_2_2     0                   0                   0          \n",
       "GF_8w_M_3_2     0                   0                   0          \n",
       "GF_8w_M_4_2     0                   0                   0          \n",
       "SPF_104w_F_1_2  0                   0                   0          \n",
       "SPF_104w_F_2_2  0                   0                   0          \n",
       "SPF_104w_F_3_2  0                   0                   0          \n",
       "SPF_104w_M_1_2  0                   0                   0          \n",
       "SPF_104w_M_2_2  0                   0                   0          \n",
       "SPF_104w_M_3_2  0                   0                   0          \n",
       "SPF_104w_M_4_2  0                   0                   0          \n",
       "SPF_52w_M_1_2   0                   0                   0          \n",
       "SPF_52w_M_2_2   0                   0                   0          \n",
       "SPF_52w_M_3_2   0                   0                   0          \n",
       "SPF_52w_M_4_2   0                   0                   0          \n",
       "SPF_52w_M_5_2   0                   0                   0          \n",
       "SPF_8w_M_1_2    0                   0                   0          \n",
       "SPF_8w_M_2_2    0                   0                   0          \n",
       "SPF_8w_M_3_2    0                   0                   0          \n",
       "SPF_8w_M_4_2    0                   0                   0          \n",
       "GF_52w_F_1_2    0                   0                   0          \n",
       "⋮               ⋮                   ⋮                   ⋮          \n",
       "GF_52w_F_5_2    0                   0                   0          \n",
       "GF_52w_F_6_2    0                   0                   0          \n",
       "SPF_52w_F_1_2   0                   0                   0          \n",
       "SPF_52w_F_2_2   0                   0                   0          \n",
       "SPF_52w_F_3_2   0                   0                   0          \n",
       "SPF_52w_F_4_2   0                   0                   0          \n",
       "SPF_52w_F_5_2   0                   0                   0          \n",
       "SPF_52w_F_6_2   0                   0                   0          \n",
       "SPF_104w_M_5_2  0                   0                   0          \n",
       "SPF_104w_M_6_2  0                   0                   0          \n",
       "SPF_104w_M_7_2  0                   0                   0          \n",
       "SPF_104w_M_8_2  0                   0                   0          \n",
       "SPF_104w_M_9_2  0                   0                   0          \n",
       "SPF_104w_M_10_2 0                   0                   0          \n",
       "SPF_104w_M_11_2 0                   0                   0          \n",
       "SPF_104w_M_12_2 0                   0                   0          \n",
       "SPF_104w_M_13_2 0                   0                   0          \n",
       "SPF_104w_M_14_2 0                   0                   0          \n",
       "SPF_8w_F_1_2    1                   0                   0          \n",
       "SPF_8w_F_3_2    1                   0                   0          \n",
       "SPF_8w_F_4_2    1                   0                   0          \n",
       "SPF_8w_F_5_2    1                   0                   0          \n",
       "GF_8w_F_1_2     1                   0                   0          \n",
       "GF_8w_F_2_2     1                   0                   0          \n",
       "GF_8w_F_3_2     1                   0                   0          \n",
       "GF_8w_F_4_2     1                   0                   0          \n",
       "GF_8w_F_5_2     1                   0                   0          \n",
       "GF_104w_M_3_2   0                   0                   1          \n",
       "GF_104w_M_5_2   0                   0                   1          \n",
       "GF_104w_M_4_2   0                   0                   1          \n",
       "                genderM:age52w genderM:age8w genderM:typeSPF typeSPF:age52w\n",
       "GF_104w_F_1_2   0              0             0               0             \n",
       "GF_104w_F_2_2   0              0             0               0             \n",
       "GF_104w_F_3_2   0              0             0               0             \n",
       "GF_104w_M_1_2   0              0             0               0             \n",
       "GF_104w_M_2_2   0              0             0               0             \n",
       "GF_52w_M_1_2    1              0             0               0             \n",
       "GF_52w_M_2_2    1              0             0               0             \n",
       "GF_52w_M_3_2    1              0             0               0             \n",
       "GF_52w_M_4_2    1              0             0               0             \n",
       "GF_8w_M_1_2     0              1             0               0             \n",
       "GF_8w_M_2_2     0              1             0               0             \n",
       "GF_8w_M_3_2     0              1             0               0             \n",
       "GF_8w_M_4_2     0              1             0               0             \n",
       "SPF_104w_F_1_2  0              0             0               0             \n",
       "SPF_104w_F_2_2  0              0             0               0             \n",
       "SPF_104w_F_3_2  0              0             0               0             \n",
       "SPF_104w_M_1_2  0              0             1               0             \n",
       "SPF_104w_M_2_2  0              0             1               0             \n",
       "SPF_104w_M_3_2  0              0             1               0             \n",
       "SPF_104w_M_4_2  0              0             1               0             \n",
       "SPF_52w_M_1_2   1              0             1               1             \n",
       "SPF_52w_M_2_2   1              0             1               1             \n",
       "SPF_52w_M_3_2   1              0             1               1             \n",
       "SPF_52w_M_4_2   1              0             1               1             \n",
       "SPF_52w_M_5_2   1              0             1               1             \n",
       "SPF_8w_M_1_2    0              1             1               0             \n",
       "SPF_8w_M_2_2    0              1             1               0             \n",
       "SPF_8w_M_3_2    0              1             1               0             \n",
       "SPF_8w_M_4_2    0              1             1               0             \n",
       "GF_52w_F_1_2    0              0             0               0             \n",
       "⋮               ⋮              ⋮             ⋮               ⋮             \n",
       "GF_52w_F_5_2    0              0             0               0             \n",
       "GF_52w_F_6_2    0              0             0               0             \n",
       "SPF_52w_F_1_2   0              0             0               1             \n",
       "SPF_52w_F_2_2   0              0             0               1             \n",
       "SPF_52w_F_3_2   0              0             0               1             \n",
       "SPF_52w_F_4_2   0              0             0               1             \n",
       "SPF_52w_F_5_2   0              0             0               1             \n",
       "SPF_52w_F_6_2   0              0             0               1             \n",
       "SPF_104w_M_5_2  0              0             1               0             \n",
       "SPF_104w_M_6_2  0              0             1               0             \n",
       "SPF_104w_M_7_2  0              0             1               0             \n",
       "SPF_104w_M_8_2  0              0             1               0             \n",
       "SPF_104w_M_9_2  0              0             1               0             \n",
       "SPF_104w_M_10_2 0              0             1               0             \n",
       "SPF_104w_M_11_2 0              0             1               0             \n",
       "SPF_104w_M_12_2 0              0             1               0             \n",
       "SPF_104w_M_13_2 0              0             1               0             \n",
       "SPF_104w_M_14_2 0              0             1               0             \n",
       "SPF_8w_F_1_2    0              0             0               0             \n",
       "SPF_8w_F_3_2    0              0             0               0             \n",
       "SPF_8w_F_4_2    0              0             0               0             \n",
       "SPF_8w_F_5_2    0              0             0               0             \n",
       "GF_8w_F_1_2     0              0             0               0             \n",
       "GF_8w_F_2_2     0              0             0               0             \n",
       "GF_8w_F_3_2     0              0             0               0             \n",
       "GF_8w_F_4_2     0              0             0               0             \n",
       "GF_8w_F_5_2     0              0             0               0             \n",
       "GF_104w_M_3_2   0              0             0               0             \n",
       "GF_104w_M_5_2   0              0             0               0             \n",
       "GF_104w_M_4_2   0              0             0               0             \n",
       "                typeSPF:age8w\n",
       "GF_104w_F_1_2   0            \n",
       "GF_104w_F_2_2   0            \n",
       "GF_104w_F_3_2   0            \n",
       "GF_104w_M_1_2   0            \n",
       "GF_104w_M_2_2   0            \n",
       "GF_52w_M_1_2    0            \n",
       "GF_52w_M_2_2    0            \n",
       "GF_52w_M_3_2    0            \n",
       "GF_52w_M_4_2    0            \n",
       "GF_8w_M_1_2     0            \n",
       "GF_8w_M_2_2     0            \n",
       "GF_8w_M_3_2     0            \n",
       "GF_8w_M_4_2     0            \n",
       "SPF_104w_F_1_2  0            \n",
       "SPF_104w_F_2_2  0            \n",
       "SPF_104w_F_3_2  0            \n",
       "SPF_104w_M_1_2  0            \n",
       "SPF_104w_M_2_2  0            \n",
       "SPF_104w_M_3_2  0            \n",
       "SPF_104w_M_4_2  0            \n",
       "SPF_52w_M_1_2   0            \n",
       "SPF_52w_M_2_2   0            \n",
       "SPF_52w_M_3_2   0            \n",
       "SPF_52w_M_4_2   0            \n",
       "SPF_52w_M_5_2   0            \n",
       "SPF_8w_M_1_2    1            \n",
       "SPF_8w_M_2_2    1            \n",
       "SPF_8w_M_3_2    1            \n",
       "SPF_8w_M_4_2    1            \n",
       "GF_52w_F_1_2    0            \n",
       "⋮               ⋮            \n",
       "GF_52w_F_5_2    0            \n",
       "GF_52w_F_6_2    0            \n",
       "SPF_52w_F_1_2   0            \n",
       "SPF_52w_F_2_2   0            \n",
       "SPF_52w_F_3_2   0            \n",
       "SPF_52w_F_4_2   0            \n",
       "SPF_52w_F_5_2   0            \n",
       "SPF_52w_F_6_2   0            \n",
       "SPF_104w_M_5_2  0            \n",
       "SPF_104w_M_6_2  0            \n",
       "SPF_104w_M_7_2  0            \n",
       "SPF_104w_M_8_2  0            \n",
       "SPF_104w_M_9_2  0            \n",
       "SPF_104w_M_10_2 0            \n",
       "SPF_104w_M_11_2 0            \n",
       "SPF_104w_M_12_2 0            \n",
       "SPF_104w_M_13_2 0            \n",
       "SPF_104w_M_14_2 0            \n",
       "SPF_8w_F_1_2    1            \n",
       "SPF_8w_F_3_2    1            \n",
       "SPF_8w_F_4_2    1            \n",
       "SPF_8w_F_5_2    1            \n",
       "GF_8w_F_1_2     0            \n",
       "GF_8w_F_2_2     0            \n",
       "GF_8w_F_3_2     0            \n",
       "GF_8w_F_4_2     0            \n",
       "GF_8w_F_5_2     0            \n",
       "GF_104w_M_3_2   0            \n",
       "GF_104w_M_5_2   0            \n",
       "GF_104w_M_4_2   0            "
      ]
     },
     "metadata": {},
     "output_type": "display_data"
    }
   ],
   "source": [
    "mm = model.matrix(~ gender + type + age + gender:age + gender:type + type:age + project, metadata)\n",
    "mm"
   ]
  },
  {
   "cell_type": "code",
   "execution_count": 183,
   "metadata": {},
   "outputs": [
    {
     "name": "stderr",
     "output_type": "stream",
     "text": [
      "Warning message in DESeqDataSet(se, design = design, ignoreRank):\n",
      "“some variables in design formula are characters, converting to factors”"
     ]
    },
    {
     "ename": "ERROR",
     "evalue": "Error in checkFullRank(modelMatrix): the model matrix is not full rank, so the model cannot be fit as specified.\n  One or more variables or interaction terms in the design formula are linear\n  combinations of the others and must be removed.\n\n  Please read the vignette section 'Model matrix not full rank':\n\n  vignette('DESeq2')\n",
     "output_type": "error",
     "traceback": [
      "Error in checkFullRank(modelMatrix): the model matrix is not full rank, so the model cannot be fit as specified.\n  One or more variables or interaction terms in the design formula are linear\n  combinations of the others and must be removed.\n\n  Please read the vignette section 'Model matrix not full rank':\n\n  vignette('DESeq2')\nTraceback:\n",
      "1. DESeqDataSetFromMatrix(countData = counts, colData = metadata, \n .     design = ~gender + type + age + gender:age + gender:type + \n .         type:age + project)",
      "2. DESeqDataSet(se, design = design, ignoreRank)",
      "3. checkFullRank(modelMatrix)",
      "4. stop(\"the model matrix is not full rank, so the model cannot be fit as specified.\\n  One or more variables or interaction terms in the design formula are linear\\n  combinations of the others and must be removed.\\n\\n  Please read the vignette section 'Model matrix not full rank':\\n\\n  vignette('DESeq2')\")"
     ]
    }
   ],
   "source": [
    "# Construct DESeqDataSet\n",
    "dds = DESeqDataSetFromMatrix(\n",
    "        countData = counts,\n",
    "        colData = metadata,\n",
    "        design = ~ gender + type + age + gender:age + gender:type + type:age)\n",
    "# Organize levels of the factors (8w being the reference)\n",
    "dds$age = relevel(dds$age, ref=\"8w\")\n",
    "dds$type = relevel(dds$type, ref=\"SPF\")\n",
    "dds$gender = relevel(dds$gender, ref=\"F\")\n",
    "# Differential expression analysis\n",
    "dge = DESeq(dds)"
   ]
  },
  {
   "cell_type": "code",
   "execution_count": 52,
   "metadata": {},
   "outputs": [
    {
     "data": {
      "text/html": [
       "<ol class=list-inline>\n",
       "\t<li>'Intercept'</li>\n",
       "\t<li>'gender_M_vs_F'</li>\n",
       "\t<li>'type_GF_vs_SPF'</li>\n",
       "\t<li>'age_104w_vs_8w'</li>\n",
       "\t<li>'age_52w_vs_8w'</li>\n",
       "\t<li>'genderM.age104w'</li>\n",
       "\t<li>'genderM.age52w'</li>\n",
       "\t<li>'genderM.typeGF'</li>\n",
       "\t<li>'typeGF.age104w'</li>\n",
       "\t<li>'typeGF.age52w'</li>\n",
       "</ol>\n"
      ],
      "text/latex": [
       "\\begin{enumerate*}\n",
       "\\item 'Intercept'\n",
       "\\item 'gender\\_M\\_vs\\_F'\n",
       "\\item 'type\\_GF\\_vs\\_SPF'\n",
       "\\item 'age\\_104w\\_vs\\_8w'\n",
       "\\item 'age\\_52w\\_vs\\_8w'\n",
       "\\item 'genderM.age104w'\n",
       "\\item 'genderM.age52w'\n",
       "\\item 'genderM.typeGF'\n",
       "\\item 'typeGF.age104w'\n",
       "\\item 'typeGF.age52w'\n",
       "\\end{enumerate*}\n"
      ],
      "text/markdown": [
       "1. 'Intercept'\n",
       "2. 'gender_M_vs_F'\n",
       "3. 'type_GF_vs_SPF'\n",
       "4. 'age_104w_vs_8w'\n",
       "5. 'age_52w_vs_8w'\n",
       "6. 'genderM.age104w'\n",
       "7. 'genderM.age52w'\n",
       "8. 'genderM.typeGF'\n",
       "9. 'typeGF.age104w'\n",
       "10. 'typeGF.age52w'\n",
       "\n",
       "\n"
      ],
      "text/plain": [
       " [1] \"Intercept\"       \"gender_M_vs_F\"   \"type_GF_vs_SPF\"  \"age_104w_vs_8w\" \n",
       " [5] \"age_52w_vs_8w\"   \"genderM.age104w\" \"genderM.age52w\"  \"genderM.typeGF\" \n",
       " [9] \"typeGF.age104w\"  \"typeGF.age52w\"  "
      ]
     },
     "metadata": {},
     "output_type": "display_data"
    }
   ],
   "source": [
    "resultsNames(dge)"
   ]
  },
  {
   "cell_type": "markdown",
   "metadata": {},
   "source": [
    "Info | M/F | GF/SPF | 104w/8w | 52w/8w | M.104w | M.52w | M.GF | GF.104w | GF.52w\n",
    "--- | --- | --- | --- | --- | --- | --- | --- | --- | ---\n",
    "M vs F (SPF, 8w) | 1 | | | | | | | |\n",
    "M vs F (GF, 8w) | 1 | | | | | | 1 | |\n",
    "M vs F (SPF, 52w) | 1 | | | | | 1 | | |\n",
    "M vs F (GF, 52w) | 1 | | | | | 1 | 1 | | 1?\n",
    "M vs F (SPF, 104w) | 1 | | | | 1 | | | |\n",
    "M vs F (GF, 104w) | 1 | | | | 1 | | 1 | 1? |\n",
    "M vs F (SPF) | 1 | | | | 1/3 | 1/3 | | |\n",
    "M vs F (GF) | 1 | | | | 1/3 | 1/3 | | 1/3? | 1/3?\n",
    "M vs F (8w) | 1 | | | | | | 1/2 | |\n",
    "M vs F (52w) | 1 | | | | | 1 | 1/2 | | 1/2?\n",
    "M vs F (104w) | 1 | | | | 1 | | 1/2 | 1/2? |\n",
    "M vs F | 1 | | | | 1/3 | 1/3 | 1/2 | 1/3? | 1/3?\n",
    "GF vs SPF (F, 8w) | | 1 | | | | | | |\n",
    "GF vs SPF (M, 8w) | | 1 | | | | | 1 | |\n",
    "GF vs SPF (F, 52w) | | 1 | | | | | | | 1\n",
    "GF vs SPF (M, 52w) | | 1 | | | | 1? | 1 | | 1\n",
    "GF vs SPF (F, 104w) | | 1 | | | | | | 1 |\n",
    "GF vs SPF (M, 104w) | | 1 | | | 1? | | 1 | 1 |\n",
    "GF vs SPF (F) | | 1 | | | | | | 1/3 | 1/3\n",
    "GF vs SPF (M) | | 1 | | | 1/3? | 1/3? | 1 | 1/3 | 1/3\n",
    "GF vs SPF (8w) | | 1 | | | | | 1/2 | |\n",
    "GF vs SPF (52w) | | 1 | | | | 1/2? | 1/2 | | 1\n",
    "GF vs SPF (104w) | | 1 | | | 1/2? | | 1/2 | 1 |\n",
    "GF vs SPF | | 1 | | | 1/3? | 1/3? | 1/2 | 1/3 | 1/3\n",
    "52w vs 8w (F, SPF) | | | | 1 | | | | |\n",
    "52w vs 8w (F, GF) | | | | 1 | | | | | 1\n",
    "52w vs 8w (M, SPF) | | | | 1 | | 1 | | |\n",
    "52w vs 8w (M, GF) | | | | 1 | | 1 | 1? | | 1\n",
    "52w vs 8w (F) | | | | 1 | | | | | 1/2\n",
    "52w vs 8w (M) | | | | 1 | | 1 | 1/2? | | 1/2\n",
    "52w vs 8w (SPF) | | | | 1 | | 1/2 | | |\n",
    "52w vs 8w (GF) | | | | 1 | | 1/2 | 1/2? | | 1\n",
    "52w vs 8w | | | | 1 | | 1/2 | 1/2? | | 1/2\n",
    "104w vs 8w (F, SPF) | | | 1 | | | | | |\n",
    "104w vs 8w (F, GF) | | | 1 | | | | | 1 |\n",
    "104w vs 8w (M, SPF) | | | 1 | | 1 | | | |\n",
    "104w vs 8w (M, GF) | | | 1 | | 1 | | 1? | 1 |\n",
    "104w vs 8w (F) | | | 1 | | | | | 1/2 |\n",
    "104w vs 8w (M) | | | 1 | | 1 | | 1/2? | 1/2 |\n",
    "104w vs 8w (SPF) | | | 1 | | 1/2 | | | |\n",
    "104w vs 8w (GF) | | | 1 | | 1/2 | | 1/2? | 1 |\n",
    "104w vs 8w | | | 1 | | 1/2 | | 1/2? | 1/2 |\n",
    "104w vs 52w (F, SPF) | | | 1 | -1 | | | | |\n",
    "104w vs 52w (F, GF) | | | 1 | -1 | | | | 1 | -1\n",
    "104w vs 52w (M, SPF) | | | 1 | -1 | 1 | -1 | | |\n",
    "104w vs 52w (M, GF) | | | 1 | -1 | 1 | -1 | | 1 | -1\n",
    "104w vs 52w (F) | | | 1 | -1 | | | | 1/2 | -1/2\n",
    "104w vs 52w (M) | | | 1 | -1 | 1 | -1 | | 1/2 | -1/2\n",
    "104w vs 52w (SPF) | | | 1 | -1 | 1/2 | -1/2 | | |\n",
    "104w vs 52w (GF) | | | 1 | -1 | 1/2 | -1/2 | | |\n",
    "104w vs 52w | | | 1 | -1 | 1/2 | -1/2 | | 1/2 | -1/2"
   ]
  },
  {
   "cell_type": "code",
   "execution_count": 82,
   "metadata": {},
   "outputs": [
    {
     "data": {
      "text/html": [
       "<table>\n",
       "<thead><tr><th></th><th scope=col>GF_104w_F_1_2</th><th scope=col>GF_104w_F_2_2</th><th scope=col>GF_104w_F_3_2</th><th scope=col>GF_104w_M_1_2</th><th scope=col>GF_104w_M_2_2</th><th scope=col>GF_52w_M_1_2</th><th scope=col>GF_52w_M_2_2</th><th scope=col>GF_52w_M_3_2</th><th scope=col>GF_52w_M_4_2</th><th scope=col>GF_8w_M_1_2</th><th scope=col>⋯</th><th scope=col>SPF_8w_F_4_2</th><th scope=col>SPF_8w_F_5_2</th><th scope=col>GF_8w_F_1_2</th><th scope=col>GF_8w_F_2_2</th><th scope=col>GF_8w_F_3_2</th><th scope=col>GF_8w_F_4_2</th><th scope=col>GF_8w_F_5_2</th><th scope=col>GF_104w_M_3_2</th><th scope=col>GF_104w_M_5_2</th><th scope=col>GF_104w_M_4_2</th></tr></thead>\n",
       "<tbody>\n",
       "\t<tr><th scope=row>0610005C13Rik</th><td>   0.00000  </td><td>   0.00000  </td><td>   0.00000  </td><td>   1.747854 </td><td>   1.244311 </td><td>   0.8338695</td><td>  4.892544  </td><td>   5.547012 </td><td>  7.158344  </td><td>  8.384882  </td><td>⋯           </td><td>   2.57208  </td><td>   0.00000  </td><td>  18.04370  </td><td>   0.00000  </td><td>   2.001891 </td><td>  5.212621  </td><td>   0.00000  </td><td>  1.243886  </td><td>  1.039189  </td><td>  1.495931  </td></tr>\n",
       "\t<tr><th scope=row>0610007P14Rik</th><td> 857.59757  </td><td> 740.81613  </td><td> 899.06639  </td><td> 875.674692 </td><td> 981.138840 </td><td> 503.6571924</td><td>525.459208  </td><td> 509.215656 </td><td>730.866890  </td><td>597.722277  </td><td>⋯           </td><td> 897.65596  </td><td> 947.91171  </td><td> 888.38701  </td><td> 674.46562  </td><td> 605.571925 </td><td>586.941079  </td><td> 799.60448  </td><td>490.090915  </td><td>592.337898  </td><td>741.981645  </td></tr>\n",
       "\t<tr><th scope=row>0610009B22Rik</th><td>1008.62104  </td><td>1155.42062  </td><td>1166.35639  </td><td>1210.388671 </td><td>1539.834260 </td><td>1028.9949924</td><td>867.937277  </td><td>1006.227887 </td><td>869.022923  </td><td>939.106744  </td><td>⋯           </td><td>1280.89590  </td><td>1431.97437  </td><td>1028.49105  </td><td>1009.00917  </td><td>1129.066334 </td><td>949.739473  </td><td>1080.92333  </td><td>685.380950  </td><td>802.254135  </td><td>780.875844  </td></tr>\n",
       "\t<tr><th scope=row>0610009L18Rik</th><td>  27.86743  </td><td>  35.77805  </td><td>  17.99933  </td><td>  20.100317 </td><td>  37.951471 </td><td>  31.6870419</td><td> 26.419737  </td><td>  22.188046 </td><td>  4.295006  </td><td> 61.089852  </td><td>⋯           </td><td> 101.59716  </td><td>  71.27956  </td><td>  47.76274  </td><td>  19.36265  </td><td>  11.010399 </td><td> 44.828537  </td><td>  24.07684  </td><td> 24.877711  </td><td> 22.862164  </td><td> 38.894199  </td></tr>\n",
       "\t<tr><th scope=row>0610009O20Rik</th><td> 214.84887  </td><td> 275.70146  </td><td> 262.79017  </td><td> 223.725271 </td><td> 268.771071 </td><td> 296.8575505</td><td>346.392104  </td><td> 391.619012 </td><td>306.377109  </td><td>356.956390  </td><td>⋯           </td><td> 225.05701  </td><td> 182.98632  </td><td> 229.26116  </td><td> 157.05260  </td><td> 268.253349 </td><td>301.289471  </td><td> 266.11243  </td><td>334.605219  </td><td>364.755442  </td><td>393.429783  </td></tr>\n",
       "\t<tr><th scope=row>0610010B08Rik</th><td>   0.00000  </td><td>   0.00000  </td><td>   0.00000  </td><td>   0.000000 </td><td>   0.000000 </td><td>   0.0000000</td><td>  0.000000  </td><td>   0.000000 </td><td>  0.000000  </td><td>  0.000000  </td><td>⋯           </td><td>   0.00000  </td><td>   0.00000  </td><td>   0.00000  </td><td>   0.00000  </td><td>   0.000000 </td><td>  0.000000  </td><td>   0.00000  </td><td>  0.000000  </td><td>  0.000000  </td><td>  0.000000  </td></tr>\n",
       "</tbody>\n",
       "</table>\n"
      ],
      "text/latex": [
       "\\begin{tabular}{r|lllllllllllllllllllllllllllllllllllllllllllllllllllllllllllllll}\n",
       "  & GF\\_104w\\_F\\_1\\_2 & GF\\_104w\\_F\\_2\\_2 & GF\\_104w\\_F\\_3\\_2 & GF\\_104w\\_M\\_1\\_2 & GF\\_104w\\_M\\_2\\_2 & GF\\_52w\\_M\\_1\\_2 & GF\\_52w\\_M\\_2\\_2 & GF\\_52w\\_M\\_3\\_2 & GF\\_52w\\_M\\_4\\_2 & GF\\_8w\\_M\\_1\\_2 & ⋯ & SPF\\_8w\\_F\\_4\\_2 & SPF\\_8w\\_F\\_5\\_2 & GF\\_8w\\_F\\_1\\_2 & GF\\_8w\\_F\\_2\\_2 & GF\\_8w\\_F\\_3\\_2 & GF\\_8w\\_F\\_4\\_2 & GF\\_8w\\_F\\_5\\_2 & GF\\_104w\\_M\\_3\\_2 & GF\\_104w\\_M\\_5\\_2 & GF\\_104w\\_M\\_4\\_2\\\\\n",
       "\\hline\n",
       "\t0610005C13Rik &    0.00000   &    0.00000   &    0.00000   &    1.747854  &    1.244311  &    0.8338695 &   4.892544   &    5.547012  &   7.158344   &   8.384882   & ⋯            &    2.57208   &    0.00000   &   18.04370   &    0.00000   &    2.001891  &   5.212621   &    0.00000   &   1.243886   &   1.039189   &   1.495931  \\\\\n",
       "\t0610007P14Rik &  857.59757   &  740.81613   &  899.06639   &  875.674692  &  981.138840  &  503.6571924 & 525.459208   &  509.215656  & 730.866890   & 597.722277   & ⋯            &  897.65596   &  947.91171   &  888.38701   &  674.46562   &  605.571925  & 586.941079   &  799.60448   & 490.090915   & 592.337898   & 741.981645  \\\\\n",
       "\t0610009B22Rik & 1008.62104   & 1155.42062   & 1166.35639   & 1210.388671  & 1539.834260  & 1028.9949924 & 867.937277   & 1006.227887  & 869.022923   & 939.106744   & ⋯            & 1280.89590   & 1431.97437   & 1028.49105   & 1009.00917   & 1129.066334  & 949.739473   & 1080.92333   & 685.380950   & 802.254135   & 780.875844  \\\\\n",
       "\t0610009L18Rik &   27.86743   &   35.77805   &   17.99933   &   20.100317  &   37.951471  &   31.6870419 &  26.419737   &   22.188046  &   4.295006   &  61.089852   & ⋯            &  101.59716   &   71.27956   &   47.76274   &   19.36265   &   11.010399  &  44.828537   &   24.07684   &  24.877711   &  22.862164   &  38.894199  \\\\\n",
       "\t0610009O20Rik &  214.84887   &  275.70146   &  262.79017   &  223.725271  &  268.771071  &  296.8575505 & 346.392104   &  391.619012  & 306.377109   & 356.956390   & ⋯            &  225.05701   &  182.98632   &  229.26116   &  157.05260   &  268.253349  & 301.289471   &  266.11243   & 334.605219   & 364.755442   & 393.429783  \\\\\n",
       "\t0610010B08Rik &    0.00000   &    0.00000   &    0.00000   &    0.000000  &    0.000000  &    0.0000000 &   0.000000   &    0.000000  &   0.000000   &   0.000000   & ⋯            &    0.00000   &    0.00000   &    0.00000   &    0.00000   &    0.000000  &   0.000000   &    0.00000   &   0.000000   &   0.000000   &   0.000000  \\\\\n",
       "\\end{tabular}\n"
      ],
      "text/markdown": [
       "\n",
       "| <!--/--> | GF_104w_F_1_2 | GF_104w_F_2_2 | GF_104w_F_3_2 | GF_104w_M_1_2 | GF_104w_M_2_2 | GF_52w_M_1_2 | GF_52w_M_2_2 | GF_52w_M_3_2 | GF_52w_M_4_2 | GF_8w_M_1_2 | ⋯ | SPF_8w_F_4_2 | SPF_8w_F_5_2 | GF_8w_F_1_2 | GF_8w_F_2_2 | GF_8w_F_3_2 | GF_8w_F_4_2 | GF_8w_F_5_2 | GF_104w_M_3_2 | GF_104w_M_5_2 | GF_104w_M_4_2 | \n",
       "|---|---|---|---|---|---|\n",
       "| 0610005C13Rik |    0.00000   |    0.00000   |    0.00000   |    1.747854  |    1.244311  |    0.8338695 |   4.892544   |    5.547012  |   7.158344   |   8.384882   | ⋯            |    2.57208   |    0.00000   |   18.04370   |    0.00000   |    2.001891  |   5.212621   |    0.00000   |   1.243886   |   1.039189   |   1.495931   | \n",
       "| 0610007P14Rik |  857.59757   |  740.81613   |  899.06639   |  875.674692  |  981.138840  |  503.6571924 | 525.459208   |  509.215656  | 730.866890   | 597.722277   | ⋯            |  897.65596   |  947.91171   |  888.38701   |  674.46562   |  605.571925  | 586.941079   |  799.60448   | 490.090915   | 592.337898   | 741.981645   | \n",
       "| 0610009B22Rik | 1008.62104   | 1155.42062   | 1166.35639   | 1210.388671  | 1539.834260  | 1028.9949924 | 867.937277   | 1006.227887  | 869.022923   | 939.106744   | ⋯            | 1280.89590   | 1431.97437   | 1028.49105   | 1009.00917   | 1129.066334  | 949.739473   | 1080.92333   | 685.380950   | 802.254135   | 780.875844   | \n",
       "| 0610009L18Rik |   27.86743   |   35.77805   |   17.99933   |   20.100317  |   37.951471  |   31.6870419 |  26.419737   |   22.188046  |   4.295006   |  61.089852   | ⋯            |  101.59716   |   71.27956   |   47.76274   |   19.36265   |   11.010399  |  44.828537   |   24.07684   |  24.877711   |  22.862164   |  38.894199   | \n",
       "| 0610009O20Rik |  214.84887   |  275.70146   |  262.79017   |  223.725271  |  268.771071  |  296.8575505 | 346.392104   |  391.619012  | 306.377109   | 356.956390   | ⋯            |  225.05701   |  182.98632   |  229.26116   |  157.05260   |  268.253349  | 301.289471   |  266.11243   | 334.605219   | 364.755442   | 393.429783   | \n",
       "| 0610010B08Rik |    0.00000   |    0.00000   |    0.00000   |    0.000000  |    0.000000  |    0.0000000 |   0.000000   |    0.000000  |   0.000000   |   0.000000   | ⋯            |    0.00000   |    0.00000   |    0.00000   |    0.00000   |    0.000000  |   0.000000   |    0.00000   |   0.000000   |   0.000000   |   0.000000   | \n",
       "\n",
       "\n"
      ],
      "text/plain": [
       "              GF_104w_F_1_2 GF_104w_F_2_2 GF_104w_F_3_2 GF_104w_M_1_2\n",
       "0610005C13Rik    0.00000       0.00000       0.00000       1.747854  \n",
       "0610007P14Rik  857.59757     740.81613     899.06639     875.674692  \n",
       "0610009B22Rik 1008.62104    1155.42062    1166.35639    1210.388671  \n",
       "0610009L18Rik   27.86743      35.77805      17.99933      20.100317  \n",
       "0610009O20Rik  214.84887     275.70146     262.79017     223.725271  \n",
       "0610010B08Rik    0.00000       0.00000       0.00000       0.000000  \n",
       "              GF_104w_M_2_2 GF_52w_M_1_2 GF_52w_M_2_2 GF_52w_M_3_2 GF_52w_M_4_2\n",
       "0610005C13Rik    1.244311      0.8338695   4.892544      5.547012    7.158344  \n",
       "0610007P14Rik  981.138840    503.6571924 525.459208    509.215656  730.866890  \n",
       "0610009B22Rik 1539.834260   1028.9949924 867.937277   1006.227887  869.022923  \n",
       "0610009L18Rik   37.951471     31.6870419  26.419737     22.188046    4.295006  \n",
       "0610009O20Rik  268.771071    296.8575505 346.392104    391.619012  306.377109  \n",
       "0610010B08Rik    0.000000      0.0000000   0.000000      0.000000    0.000000  \n",
       "              GF_8w_M_1_2 ⋯ SPF_8w_F_4_2 SPF_8w_F_5_2 GF_8w_F_1_2 GF_8w_F_2_2\n",
       "0610005C13Rik   8.384882  ⋯    2.57208      0.00000     18.04370     0.00000 \n",
       "0610007P14Rik 597.722277  ⋯  897.65596    947.91171    888.38701   674.46562 \n",
       "0610009B22Rik 939.106744  ⋯ 1280.89590   1431.97437   1028.49105  1009.00917 \n",
       "0610009L18Rik  61.089852  ⋯  101.59716     71.27956     47.76274    19.36265 \n",
       "0610009O20Rik 356.956390  ⋯  225.05701    182.98632    229.26116   157.05260 \n",
       "0610010B08Rik   0.000000  ⋯    0.00000      0.00000      0.00000     0.00000 \n",
       "              GF_8w_F_3_2 GF_8w_F_4_2 GF_8w_F_5_2 GF_104w_M_3_2 GF_104w_M_5_2\n",
       "0610005C13Rik    2.001891   5.212621     0.00000    1.243886      1.039189   \n",
       "0610007P14Rik  605.571925 586.941079   799.60448  490.090915    592.337898   \n",
       "0610009B22Rik 1129.066334 949.739473  1080.92333  685.380950    802.254135   \n",
       "0610009L18Rik   11.010399  44.828537    24.07684   24.877711     22.862164   \n",
       "0610009O20Rik  268.253349 301.289471   266.11243  334.605219    364.755442   \n",
       "0610010B08Rik    0.000000   0.000000     0.00000    0.000000      0.000000   \n",
       "              GF_104w_M_4_2\n",
       "0610005C13Rik   1.495931   \n",
       "0610007P14Rik 741.981645   \n",
       "0610009B22Rik 780.875844   \n",
       "0610009L18Rik  38.894199   \n",
       "0610009O20Rik 393.429783   \n",
       "0610010B08Rik   0.000000   "
      ]
     },
     "metadata": {},
     "output_type": "display_data"
    }
   ],
   "source": [
    "norm_counts = counts(dge,normalized=TRUE)\n",
    "head(norm_counts)"
   ]
  },
  {
   "cell_type": "code",
   "execution_count": 210,
   "metadata": {},
   "outputs": [
    {
     "data": {
      "text/html": [
       "<table>\n",
       "<thead><tr><th></th><th scope=col>GF_104w_F_1_2</th><th scope=col>GF_104w_F_2_2</th><th scope=col>GF_104w_F_3_2</th><th scope=col>GF_104w_M_1_2</th><th scope=col>GF_104w_M_2_2</th><th scope=col>GF_52w_M_1_2</th><th scope=col>GF_52w_M_2_2</th><th scope=col>GF_52w_M_3_2</th><th scope=col>GF_52w_M_4_2</th><th scope=col>GF_8w_M_1_2</th><th scope=col>⋯</th><th scope=col>SPF_8w_F_4_2</th><th scope=col>SPF_8w_F_5_2</th><th scope=col>GF_8w_F_1_2</th><th scope=col>GF_8w_F_2_2</th><th scope=col>GF_8w_F_3_2</th><th scope=col>GF_8w_F_4_2</th><th scope=col>GF_8w_F_5_2</th><th scope=col>GF_104w_M_3_2</th><th scope=col>GF_104w_M_5_2</th><th scope=col>GF_104w_M_4_2</th></tr></thead>\n",
       "<tbody>\n",
       "\t<tr><th scope=row>0610005C13Rik</th><td>   0</td><td>   0</td><td>   0</td><td>   2</td><td>   2</td><td>   1</td><td>  5 </td><td>  5 </td><td>  10</td><td>  7 </td><td>⋯   </td><td>  2 </td><td>   0</td><td> 17 </td><td>  0 </td><td>   2</td><td>  5 </td><td>  0 </td><td>  1 </td><td>  1 </td><td>  1 </td></tr>\n",
       "\t<tr><th scope=row>0610007P14Rik</th><td> 954</td><td> 704</td><td> 999</td><td>1002</td><td>1577</td><td> 604</td><td>537 </td><td>459 </td><td>1021</td><td>499 </td><td>⋯   </td><td>698 </td><td> 891</td><td>837 </td><td>627 </td><td> 605</td><td>563 </td><td>631 </td><td>394 </td><td>570 </td><td>496 </td></tr>\n",
       "\t<tr><th scope=row>0610009B22Rik</th><td>1122</td><td>1098</td><td>1296</td><td>1385</td><td>2475</td><td>1234</td><td>887 </td><td>907 </td><td>1214</td><td>784 </td><td>⋯   </td><td>996 </td><td>1346</td><td>969 </td><td>938 </td><td>1128</td><td>911 </td><td>853 </td><td>551 </td><td>772 </td><td>522 </td></tr>\n",
       "\t<tr><th scope=row>0610009L18Rik</th><td>  31</td><td>  34</td><td>  20</td><td>  23</td><td>  61</td><td>  38</td><td> 27 </td><td> 20 </td><td>   6</td><td> 51 </td><td>⋯   </td><td> 79 </td><td>  67</td><td> 45 </td><td> 18 </td><td>  11</td><td> 43 </td><td> 19 </td><td> 20 </td><td> 22 </td><td> 26 </td></tr>\n",
       "\t<tr><th scope=row>0610009O20Rik</th><td> 239</td><td> 262</td><td> 292</td><td> 256</td><td> 432</td><td> 356</td><td>354 </td><td>353 </td><td> 428</td><td>298 </td><td>⋯   </td><td>175 </td><td> 172</td><td>216 </td><td>146 </td><td> 268</td><td>289 </td><td>210 </td><td>269 </td><td>351 </td><td>263 </td></tr>\n",
       "\t<tr><th scope=row>0610010B08Rik</th><td>   0</td><td>   0</td><td>   0</td><td>   0</td><td>   0</td><td>   0</td><td>  0 </td><td>  0 </td><td>   0</td><td>  0 </td><td>⋯   </td><td>  0 </td><td>   0</td><td>  0 </td><td>  0 </td><td>   0</td><td>  0 </td><td>  0 </td><td>  0 </td><td>  0 </td><td>  0 </td></tr>\n",
       "</tbody>\n",
       "</table>\n"
      ],
      "text/latex": [
       "\\begin{tabular}{r|lllllllllllllllllllllllllllllllllllllllllllllllllllllllllllllll}\n",
       "  & GF\\_104w\\_F\\_1\\_2 & GF\\_104w\\_F\\_2\\_2 & GF\\_104w\\_F\\_3\\_2 & GF\\_104w\\_M\\_1\\_2 & GF\\_104w\\_M\\_2\\_2 & GF\\_52w\\_M\\_1\\_2 & GF\\_52w\\_M\\_2\\_2 & GF\\_52w\\_M\\_3\\_2 & GF\\_52w\\_M\\_4\\_2 & GF\\_8w\\_M\\_1\\_2 & ⋯ & SPF\\_8w\\_F\\_4\\_2 & SPF\\_8w\\_F\\_5\\_2 & GF\\_8w\\_F\\_1\\_2 & GF\\_8w\\_F\\_2\\_2 & GF\\_8w\\_F\\_3\\_2 & GF\\_8w\\_F\\_4\\_2 & GF\\_8w\\_F\\_5\\_2 & GF\\_104w\\_M\\_3\\_2 & GF\\_104w\\_M\\_5\\_2 & GF\\_104w\\_M\\_4\\_2\\\\\n",
       "\\hline\n",
       "\t0610005C13Rik &    0 &    0 &    0 &    2 &    2 &    1 &   5  &   5  &   10 &   7  & ⋯    &   2  &    0 &  17  &   0  &    2 &   5  &   0  &   1  &   1  &   1 \\\\\n",
       "\t0610007P14Rik &  954 &  704 &  999 & 1002 & 1577 &  604 & 537  & 459  & 1021 & 499  & ⋯    & 698  &  891 & 837  & 627  &  605 & 563  & 631  & 394  & 570  & 496 \\\\\n",
       "\t0610009B22Rik & 1122 & 1098 & 1296 & 1385 & 2475 & 1234 & 887  & 907  & 1214 & 784  & ⋯    & 996  & 1346 & 969  & 938  & 1128 & 911  & 853  & 551  & 772  & 522 \\\\\n",
       "\t0610009L18Rik &   31 &   34 &   20 &   23 &   61 &   38 &  27  &  20  &    6 &  51  & ⋯    &  79  &   67 &  45  &  18  &   11 &  43  &  19  &  20  &  22  &  26 \\\\\n",
       "\t0610009O20Rik &  239 &  262 &  292 &  256 &  432 &  356 & 354  & 353  &  428 & 298  & ⋯    & 175  &  172 & 216  & 146  &  268 & 289  & 210  & 269  & 351  & 263 \\\\\n",
       "\t0610010B08Rik &    0 &    0 &    0 &    0 &    0 &    0 &   0  &   0  &    0 &   0  & ⋯    &   0  &    0 &   0  &   0  &    0 &   0  &   0  &   0  &   0  &   0 \\\\\n",
       "\\end{tabular}\n"
      ],
      "text/markdown": [
       "\n",
       "| <!--/--> | GF_104w_F_1_2 | GF_104w_F_2_2 | GF_104w_F_3_2 | GF_104w_M_1_2 | GF_104w_M_2_2 | GF_52w_M_1_2 | GF_52w_M_2_2 | GF_52w_M_3_2 | GF_52w_M_4_2 | GF_8w_M_1_2 | ⋯ | SPF_8w_F_4_2 | SPF_8w_F_5_2 | GF_8w_F_1_2 | GF_8w_F_2_2 | GF_8w_F_3_2 | GF_8w_F_4_2 | GF_8w_F_5_2 | GF_104w_M_3_2 | GF_104w_M_5_2 | GF_104w_M_4_2 | \n",
       "|---|---|---|---|---|---|\n",
       "| 0610005C13Rik |    0 |    0 |    0 |    2 |    2 |    1 |   5  |   5  |   10 |   7  | ⋯    |   2  |    0 |  17  |   0  |    2 |   5  |   0  |   1  |   1  |   1  | \n",
       "| 0610007P14Rik |  954 |  704 |  999 | 1002 | 1577 |  604 | 537  | 459  | 1021 | 499  | ⋯    | 698  |  891 | 837  | 627  |  605 | 563  | 631  | 394  | 570  | 496  | \n",
       "| 0610009B22Rik | 1122 | 1098 | 1296 | 1385 | 2475 | 1234 | 887  | 907  | 1214 | 784  | ⋯    | 996  | 1346 | 969  | 938  | 1128 | 911  | 853  | 551  | 772  | 522  | \n",
       "| 0610009L18Rik |   31 |   34 |   20 |   23 |   61 |   38 |  27  |  20  |    6 |  51  | ⋯    |  79  |   67 |  45  |  18  |   11 |  43  |  19  |  20  |  22  |  26  | \n",
       "| 0610009O20Rik |  239 |  262 |  292 |  256 |  432 |  356 | 354  | 353  |  428 | 298  | ⋯    | 175  |  172 | 216  | 146  |  268 | 289  | 210  | 269  | 351  | 263  | \n",
       "| 0610010B08Rik |    0 |    0 |    0 |    0 |    0 |    0 |   0  |   0  |    0 |   0  | ⋯    |   0  |    0 |   0  |   0  |    0 |   0  |   0  |   0  |   0  |   0  | \n",
       "\n",
       "\n"
      ],
      "text/plain": [
       "              GF_104w_F_1_2 GF_104w_F_2_2 GF_104w_F_3_2 GF_104w_M_1_2\n",
       "0610005C13Rik    0             0             0             2         \n",
       "0610007P14Rik  954           704           999          1002         \n",
       "0610009B22Rik 1122          1098          1296          1385         \n",
       "0610009L18Rik   31            34            20            23         \n",
       "0610009O20Rik  239           262           292           256         \n",
       "0610010B08Rik    0             0             0             0         \n",
       "              GF_104w_M_2_2 GF_52w_M_1_2 GF_52w_M_2_2 GF_52w_M_3_2 GF_52w_M_4_2\n",
       "0610005C13Rik    2             1           5            5            10        \n",
       "0610007P14Rik 1577           604         537          459          1021        \n",
       "0610009B22Rik 2475          1234         887          907          1214        \n",
       "0610009L18Rik   61            38          27           20             6        \n",
       "0610009O20Rik  432           356         354          353           428        \n",
       "0610010B08Rik    0             0           0            0             0        \n",
       "              GF_8w_M_1_2 ⋯ SPF_8w_F_4_2 SPF_8w_F_5_2 GF_8w_F_1_2 GF_8w_F_2_2\n",
       "0610005C13Rik   7         ⋯   2             0          17           0        \n",
       "0610007P14Rik 499         ⋯ 698           891         837         627        \n",
       "0610009B22Rik 784         ⋯ 996          1346         969         938        \n",
       "0610009L18Rik  51         ⋯  79            67          45          18        \n",
       "0610009O20Rik 298         ⋯ 175           172         216         146        \n",
       "0610010B08Rik   0         ⋯   0             0           0           0        \n",
       "              GF_8w_F_3_2 GF_8w_F_4_2 GF_8w_F_5_2 GF_104w_M_3_2 GF_104w_M_5_2\n",
       "0610005C13Rik    2          5           0           1             1          \n",
       "0610007P14Rik  605        563         631         394           570          \n",
       "0610009B22Rik 1128        911         853         551           772          \n",
       "0610009L18Rik   11         43          19          20            22          \n",
       "0610009O20Rik  268        289         210         269           351          \n",
       "0610010B08Rik    0          0           0           0             0          \n",
       "              GF_104w_M_4_2\n",
       "0610005C13Rik   1          \n",
       "0610007P14Rik 496          \n",
       "0610009B22Rik 522          \n",
       "0610009L18Rik  26          \n",
       "0610009O20Rik 263          \n",
       "0610010B08Rik   0          "
      ]
     },
     "metadata": {},
     "output_type": "display_data"
    }
   ],
   "source": [
    "head(counts(dge))"
   ]
  },
  {
   "cell_type": "code",
   "execution_count": 211,
   "metadata": {},
   "outputs": [
    {
     "data": {
      "text/html": [
       "<table>\n",
       "<thead><tr><th></th><th scope=col>GF_104w_F_1_2</th><th scope=col>GF_104w_F_2_2</th><th scope=col>GF_104w_F_3_2</th><th scope=col>GF_104w_M_1_2</th><th scope=col>GF_104w_M_2_2</th><th scope=col>GF_52w_M_1_2</th><th scope=col>GF_52w_M_2_2</th><th scope=col>GF_52w_M_3_2</th><th scope=col>GF_52w_M_4_2</th><th scope=col>GF_8w_M_1_2</th><th scope=col>⋯</th><th scope=col>SPF_8w_F_4_2</th><th scope=col>SPF_8w_F_5_2</th><th scope=col>GF_8w_F_1_2</th><th scope=col>GF_8w_F_2_2</th><th scope=col>GF_8w_F_3_2</th><th scope=col>GF_8w_F_4_2</th><th scope=col>GF_8w_F_5_2</th><th scope=col>GF_104w_M_3_2</th><th scope=col>GF_104w_M_5_2</th><th scope=col>GF_104w_M_4_2</th></tr></thead>\n",
       "<tbody>\n",
       "\t<tr><th scope=row>0610005C13Rik</th><td>   0</td><td>   0</td><td>   0</td><td>   2</td><td>   2</td><td>   1</td><td>  5 </td><td>  5 </td><td>  10</td><td>  7 </td><td>⋯   </td><td>  2 </td><td>   0</td><td> 17 </td><td>  0 </td><td>   2</td><td>  5 </td><td>  0 </td><td>  1 </td><td>  1 </td><td>  1 </td></tr>\n",
       "\t<tr><th scope=row>0610007P14Rik</th><td> 954</td><td> 704</td><td> 999</td><td>1002</td><td>1577</td><td> 604</td><td>537 </td><td>459 </td><td>1021</td><td>499 </td><td>⋯   </td><td>698 </td><td> 891</td><td>837 </td><td>627 </td><td> 605</td><td>563 </td><td>631 </td><td>394 </td><td>570 </td><td>496 </td></tr>\n",
       "\t<tr><th scope=row>0610009B22Rik</th><td>1122</td><td>1098</td><td>1296</td><td>1385</td><td>2475</td><td>1234</td><td>887 </td><td>907 </td><td>1214</td><td>784 </td><td>⋯   </td><td>996 </td><td>1346</td><td>969 </td><td>938 </td><td>1128</td><td>911 </td><td>853 </td><td>551 </td><td>772 </td><td>522 </td></tr>\n",
       "\t<tr><th scope=row>0610009L18Rik</th><td>  31</td><td>  34</td><td>  20</td><td>  23</td><td>  61</td><td>  38</td><td> 27 </td><td> 20 </td><td>   6</td><td> 51 </td><td>⋯   </td><td> 79 </td><td>  67</td><td> 45 </td><td> 18 </td><td>  11</td><td> 43 </td><td> 19 </td><td> 20 </td><td> 22 </td><td> 26 </td></tr>\n",
       "\t<tr><th scope=row>0610009O20Rik</th><td> 239</td><td> 262</td><td> 292</td><td> 256</td><td> 432</td><td> 356</td><td>354 </td><td>353 </td><td> 428</td><td>298 </td><td>⋯   </td><td>175 </td><td> 172</td><td>216 </td><td>146 </td><td> 268</td><td>289 </td><td>210 </td><td>269 </td><td>351 </td><td>263 </td></tr>\n",
       "\t<tr><th scope=row>0610010B08Rik</th><td>   0</td><td>   0</td><td>   0</td><td>   0</td><td>   0</td><td>   0</td><td>  0 </td><td>  0 </td><td>   0</td><td>  0 </td><td>⋯   </td><td>  0 </td><td>   0</td><td>  0 </td><td>  0 </td><td>   0</td><td>  0 </td><td>  0 </td><td>  0 </td><td>  0 </td><td>  0 </td></tr>\n",
       "</tbody>\n",
       "</table>\n"
      ],
      "text/latex": [
       "\\begin{tabular}{r|lllllllllllllllllllllllllllllllllllllllllllllllllllllllllllllll}\n",
       "  & GF\\_104w\\_F\\_1\\_2 & GF\\_104w\\_F\\_2\\_2 & GF\\_104w\\_F\\_3\\_2 & GF\\_104w\\_M\\_1\\_2 & GF\\_104w\\_M\\_2\\_2 & GF\\_52w\\_M\\_1\\_2 & GF\\_52w\\_M\\_2\\_2 & GF\\_52w\\_M\\_3\\_2 & GF\\_52w\\_M\\_4\\_2 & GF\\_8w\\_M\\_1\\_2 & ⋯ & SPF\\_8w\\_F\\_4\\_2 & SPF\\_8w\\_F\\_5\\_2 & GF\\_8w\\_F\\_1\\_2 & GF\\_8w\\_F\\_2\\_2 & GF\\_8w\\_F\\_3\\_2 & GF\\_8w\\_F\\_4\\_2 & GF\\_8w\\_F\\_5\\_2 & GF\\_104w\\_M\\_3\\_2 & GF\\_104w\\_M\\_5\\_2 & GF\\_104w\\_M\\_4\\_2\\\\\n",
       "\\hline\n",
       "\t0610005C13Rik &    0 &    0 &    0 &    2 &    2 &    1 &   5  &   5  &   10 &   7  & ⋯    &   2  &    0 &  17  &   0  &    2 &   5  &   0  &   1  &   1  &   1 \\\\\n",
       "\t0610007P14Rik &  954 &  704 &  999 & 1002 & 1577 &  604 & 537  & 459  & 1021 & 499  & ⋯    & 698  &  891 & 837  & 627  &  605 & 563  & 631  & 394  & 570  & 496 \\\\\n",
       "\t0610009B22Rik & 1122 & 1098 & 1296 & 1385 & 2475 & 1234 & 887  & 907  & 1214 & 784  & ⋯    & 996  & 1346 & 969  & 938  & 1128 & 911  & 853  & 551  & 772  & 522 \\\\\n",
       "\t0610009L18Rik &   31 &   34 &   20 &   23 &   61 &   38 &  27  &  20  &    6 &  51  & ⋯    &  79  &   67 &  45  &  18  &   11 &  43  &  19  &  20  &  22  &  26 \\\\\n",
       "\t0610009O20Rik &  239 &  262 &  292 &  256 &  432 &  356 & 354  & 353  &  428 & 298  & ⋯    & 175  &  172 & 216  & 146  &  268 & 289  & 210  & 269  & 351  & 263 \\\\\n",
       "\t0610010B08Rik &    0 &    0 &    0 &    0 &    0 &    0 &   0  &   0  &    0 &   0  & ⋯    &   0  &    0 &   0  &   0  &    0 &   0  &   0  &   0  &   0  &   0 \\\\\n",
       "\\end{tabular}\n"
      ],
      "text/markdown": [
       "\n",
       "| <!--/--> | GF_104w_F_1_2 | GF_104w_F_2_2 | GF_104w_F_3_2 | GF_104w_M_1_2 | GF_104w_M_2_2 | GF_52w_M_1_2 | GF_52w_M_2_2 | GF_52w_M_3_2 | GF_52w_M_4_2 | GF_8w_M_1_2 | ⋯ | SPF_8w_F_4_2 | SPF_8w_F_5_2 | GF_8w_F_1_2 | GF_8w_F_2_2 | GF_8w_F_3_2 | GF_8w_F_4_2 | GF_8w_F_5_2 | GF_104w_M_3_2 | GF_104w_M_5_2 | GF_104w_M_4_2 | \n",
       "|---|---|---|---|---|---|\n",
       "| 0610005C13Rik |    0 |    0 |    0 |    2 |    2 |    1 |   5  |   5  |   10 |   7  | ⋯    |   2  |    0 |  17  |   0  |    2 |   5  |   0  |   1  |   1  |   1  | \n",
       "| 0610007P14Rik |  954 |  704 |  999 | 1002 | 1577 |  604 | 537  | 459  | 1021 | 499  | ⋯    | 698  |  891 | 837  | 627  |  605 | 563  | 631  | 394  | 570  | 496  | \n",
       "| 0610009B22Rik | 1122 | 1098 | 1296 | 1385 | 2475 | 1234 | 887  | 907  | 1214 | 784  | ⋯    | 996  | 1346 | 969  | 938  | 1128 | 911  | 853  | 551  | 772  | 522  | \n",
       "| 0610009L18Rik |   31 |   34 |   20 |   23 |   61 |   38 |  27  |  20  |    6 |  51  | ⋯    |  79  |   67 |  45  |  18  |   11 |  43  |  19  |  20  |  22  |  26  | \n",
       "| 0610009O20Rik |  239 |  262 |  292 |  256 |  432 |  356 | 354  | 353  |  428 | 298  | ⋯    | 175  |  172 | 216  | 146  |  268 | 289  | 210  | 269  | 351  | 263  | \n",
       "| 0610010B08Rik |    0 |    0 |    0 |    0 |    0 |    0 |   0  |   0  |    0 |   0  | ⋯    |   0  |    0 |   0  |   0  |    0 |   0  |   0  |   0  |   0  |   0  | \n",
       "\n",
       "\n"
      ],
      "text/plain": [
       "              GF_104w_F_1_2 GF_104w_F_2_2 GF_104w_F_3_2 GF_104w_M_1_2\n",
       "0610005C13Rik    0             0             0             2         \n",
       "0610007P14Rik  954           704           999          1002         \n",
       "0610009B22Rik 1122          1098          1296          1385         \n",
       "0610009L18Rik   31            34            20            23         \n",
       "0610009O20Rik  239           262           292           256         \n",
       "0610010B08Rik    0             0             0             0         \n",
       "              GF_104w_M_2_2 GF_52w_M_1_2 GF_52w_M_2_2 GF_52w_M_3_2 GF_52w_M_4_2\n",
       "0610005C13Rik    2             1           5            5            10        \n",
       "0610007P14Rik 1577           604         537          459          1021        \n",
       "0610009B22Rik 2475          1234         887          907          1214        \n",
       "0610009L18Rik   61            38          27           20             6        \n",
       "0610009O20Rik  432           356         354          353           428        \n",
       "0610010B08Rik    0             0           0            0             0        \n",
       "              GF_8w_M_1_2 ⋯ SPF_8w_F_4_2 SPF_8w_F_5_2 GF_8w_F_1_2 GF_8w_F_2_2\n",
       "0610005C13Rik   7         ⋯   2             0          17           0        \n",
       "0610007P14Rik 499         ⋯ 698           891         837         627        \n",
       "0610009B22Rik 784         ⋯ 996          1346         969         938        \n",
       "0610009L18Rik  51         ⋯  79            67          45          18        \n",
       "0610009O20Rik 298         ⋯ 175           172         216         146        \n",
       "0610010B08Rik   0         ⋯   0             0           0           0        \n",
       "              GF_8w_F_3_2 GF_8w_F_4_2 GF_8w_F_5_2 GF_104w_M_3_2 GF_104w_M_5_2\n",
       "0610005C13Rik    2          5           0           1             1          \n",
       "0610007P14Rik  605        563         631         394           570          \n",
       "0610009B22Rik 1128        911         853         551           772          \n",
       "0610009L18Rik   11         43          19          20            22          \n",
       "0610009O20Rik  268        289         210         269           351          \n",
       "0610010B08Rik    0          0           0           0             0          \n",
       "              GF_104w_M_4_2\n",
       "0610005C13Rik   1          \n",
       "0610007P14Rik 496          \n",
       "0610009B22Rik 522          \n",
       "0610009L18Rik  26          \n",
       "0610009O20Rik 263          \n",
       "0610010B08Rik   0          "
      ]
     },
     "metadata": {},
     "output_type": "display_data"
    }
   ],
   "source": [
    "head(counts)"
   ]
  },
  {
   "cell_type": "markdown",
   "metadata": {},
   "source": [
    "# Check any potential batch effect"
   ]
  },
  {
   "cell_type": "code",
   "execution_count": 165,
   "metadata": {},
   "outputs": [
    {
     "data": {},
     "metadata": {},
     "output_type": "display_data"
    },
    {
     "data": {
      "image/png": "[encoded data removed]",
      "text/plain": [
       "plot without title"
      ]
     },
     "metadata": {},
     "output_type": "display_data"
    }
   ],
   "source": [
    "rld <- rlog(dds)\n",
    "plotPCA(rld, intgroup = \"project\")"
   ]
  },
  {
   "cell_type": "markdown",
   "metadata": {},
   "source": [
    "# Save files"
   ]
  },
  {
   "cell_type": "code",
   "execution_count": 130,
   "metadata": {},
   "outputs": [
    {
     "name": "stderr",
     "output_type": "stream",
     "text": [
      "Bioconductor version 3.4 (BiocInstaller 1.24.0), ?biocLite for help\n",
      "Warning message:\n",
      "“Bioconductor version 3.4 is too old for R version 3.4.3; see\n",
      "  https://bioconductor.org/install/#troubleshoot-biocinstaller”BioC_mirror: https://bioconductor.org\n",
      "Using Bioconductor 3.4 (BiocInstaller 1.24.0), R 3.4.3 (2017-11-30).\n",
      "Installing package(s) ‘sva’\n",
      "Updating HTML index of packages in '.Library'\n",
      "Making 'packages.html' ... done\n",
      "Old packages: 'BH', 'bindr', 'bindrcpp', 'bit', 'broom', 'callr', 'car',\n",
      "  'caret', 'caTools', 'clipr', 'cluster', 'curl', 'CVST', 'data.table', 'DBI',\n",
      "  'dbplyr', 'ddalpha', 'devtools', 'digest', 'dplyr', 'DRR', 'evaluate',\n",
      "  'fastcluster', 'forcats', 'foreign', 'Formula', 'fpc', 'futile.options',\n",
      "  'ggplot2', 'gistr', 'git2r', 'glmnet', 'glue', 'gtools', 'haven', 'hexbin',\n",
      "  'highr', 'hms', 'htmlTable', 'htmlwidgets', 'httpuv', 'IRdisplay',\n",
      "  'iterators', 'kernlab', 'knitr', 'lambda.r', 'lava', 'lme4', 'lubridate',\n",
      "  'maps', 'MASS', 'Matrix', 'mclust', 'mgcv', 'modelr', 'modeltools',\n",
      "  'munsell', 'mvtnorm', 'nlme', 'openssl', 'pbdZMQ', 'pheatmap', 'pillar',\n",
      "  'plogr', 'plotly', 'plotrix', 'prodlim', 'pryr', 'psych', 'purrr',\n",
      "  'quantmod', 'quantreg', 'randomForest', 'Rcpp', 'RcppArmadillo', 'RcppEigen',\n",
      "  'RcppRoll', 'RCurl', 'readxl', 'recipes', 'repr', 'reprex', 'rJava', 'rlang',\n",
      "  'rmarkdown', 'robustbase', 'rpart', 'rprojroot', 'rrcov', 'RSQLite',\n",
      "  'selectr', 'sfsmisc', 'shiny', 'sourcetools', 'stringi', 'stringr',\n",
      "  'survival', 'TH.data', 'tibble', 'tidyr', 'tidyselect', 'timeDate',\n",
      "  'trimcluster', 'TTR', 'utf8', 'viridis', 'withr', 'xlsx', 'XML', 'xml2',\n",
      "  'xts', 'yaml', 'zoo'\n",
      "BioC_mirror: https://bioconductor.org\n",
      "Using Bioconductor 3.4 (BiocInstaller 1.24.0), R 3.4.3 (2017-11-30).\n",
      "Installing package(s) ‘bladderbatch’\n",
      "Updating HTML index of packages in '.Library'\n",
      "Making 'packages.html' ... done\n",
      "Old packages: 'BH', 'bindr', 'bindrcpp', 'bit', 'broom', 'callr', 'car',\n",
      "  'caret', 'caTools', 'clipr', 'cluster', 'curl', 'CVST', 'data.table', 'DBI',\n",
      "  'dbplyr', 'ddalpha', 'devtools', 'digest', 'dplyr', 'DRR', 'evaluate',\n",
      "  'fastcluster', 'forcats', 'foreign', 'Formula', 'fpc', 'futile.options',\n",
      "  'ggplot2', 'gistr', 'git2r', 'glmnet', 'glue', 'gtools', 'haven', 'hexbin',\n",
      "  'highr', 'hms', 'htmlTable', 'htmlwidgets', 'httpuv', 'IRdisplay',\n",
      "  'iterators', 'kernlab', 'knitr', 'lambda.r', 'lava', 'lme4', 'lubridate',\n",
      "  'maps', 'MASS', 'Matrix', 'mclust', 'mgcv', 'modelr', 'modeltools',\n",
      "  'munsell', 'mvtnorm', 'nlme', 'openssl', 'pbdZMQ', 'pheatmap', 'pillar',\n",
      "  'plogr', 'plotly', 'plotrix', 'prodlim', 'pryr', 'psych', 'purrr',\n",
      "  'quantmod', 'quantreg', 'randomForest', 'Rcpp', 'RcppArmadillo', 'RcppEigen',\n",
      "  'RcppRoll', 'RCurl', 'readxl', 'recipes', 'repr', 'reprex', 'rJava', 'rlang',\n",
      "  'rmarkdown', 'robustbase', 'rpart', 'rprojroot', 'rrcov', 'RSQLite',\n",
      "  'selectr', 'sfsmisc', 'shiny', 'sourcetools', 'stringi', 'stringr',\n",
      "  'survival', 'TH.data', 'tibble', 'tidyr', 'tidyselect', 'timeDate',\n",
      "  'trimcluster', 'TTR', 'utf8', 'viridis', 'withr', 'xlsx', 'XML', 'xml2',\n",
      "  'xts', 'yaml', 'zoo'\n",
      "BioC_mirror: https://bioconductor.org\n",
      "Using Bioconductor 3.4 (BiocInstaller 1.24.0), R 3.4.3 (2017-11-30).\n",
      "Installing package(s) ‘pamr’\n",
      "Updating HTML index of packages in '.Library'\n",
      "Making 'packages.html' ... done\n",
      "Old packages: 'BH', 'bindr', 'bindrcpp', 'bit', 'broom', 'callr', 'car',\n",
      "  'caret', 'caTools', 'clipr', 'cluster', 'curl', 'CVST', 'data.table', 'DBI',\n",
      "  'dbplyr', 'ddalpha', 'devtools', 'digest', 'dplyr', 'DRR', 'evaluate',\n",
      "  'fastcluster', 'forcats', 'foreign', 'Formula', 'fpc', 'futile.options',\n",
      "  'ggplot2', 'gistr', 'git2r', 'glmnet', 'glue', 'gtools', 'haven', 'hexbin',\n",
      "  'highr', 'hms', 'htmlTable', 'htmlwidgets', 'httpuv', 'IRdisplay',\n",
      "  'iterators', 'kernlab', 'knitr', 'lambda.r', 'lava', 'lme4', 'lubridate',\n",
      "  'maps', 'MASS', 'Matrix', 'mclust', 'mgcv', 'modelr', 'modeltools',\n",
      "  'munsell', 'mvtnorm', 'nlme', 'openssl', 'pbdZMQ', 'pheatmap', 'pillar',\n",
      "  'plogr', 'plotly', 'plotrix', 'prodlim', 'pryr', 'psych', 'purrr',\n",
      "  'quantmod', 'quantreg', 'randomForest', 'Rcpp', 'RcppArmadillo', 'RcppEigen',\n",
      "  'RcppRoll', 'RCurl', 'readxl', 'recipes', 'repr', 'reprex', 'rJava', 'rlang',\n",
      "  'rmarkdown', 'robustbase', 'rpart', 'rprojroot', 'rrcov', 'RSQLite',\n",
      "  'selectr', 'sfsmisc', 'shiny', 'sourcetools', 'stringi', 'stringr',\n",
      "  'survival', 'TH.data', 'tibble', 'tidyr', 'tidyselect', 'timeDate',\n",
      "  'trimcluster', 'TTR', 'utf8', 'viridis', 'withr', 'xlsx', 'XML', 'xml2',\n",
      "  'xts', 'yaml', 'zoo'\n"
     ]
    }
   ],
   "source": [
    "save(dge, file = \"../results/dge/dge.RData\")\n",
    "save(norm_counts, file=\"../results/dge/norm_counts.RData\")\n",
    "save(metadata, file=\"../results/dge/metadata.RData\")"
   ]
  }
 ],
 "metadata": {
  "hide_input": false,
  "kernelspec": {
   "display_name": "R",
   "language": "R",
   "name": "ir"
  },
  "language_info": {
   "codemirror_mode": "r",
   "file_extension": ".r",
   "mimetype": "text/x-r-source",
   "name": "R",
   "pygments_lexer": "r",
   "version": "3.4.3"
  },
  "toc": {
   "nav_menu": {
    "height": "530px",
    "width": "568px"
   },
   "number_sections": true,
   "sideBar": true,
   "skip_h1_title": false,
   "title_cell": "Table of Contents",
   "title_sidebar": "Contents",
   "toc_cell": false,
   "toc_position": {
    "height": "921px",
    "left": "0px",
    "right": "1708px",
    "top": "111px",
    "width": "255px"
   },
   "toc_section_display": "block",
   "toc_window_display": true
  }
 },
 "nbformat": 4,
 "nbformat_minor": 1
}
