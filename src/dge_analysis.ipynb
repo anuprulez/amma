{
 "cells": [
  {
   "cell_type": "markdown",
   "metadata": {},
   "source": [
    "# Loads libraries and functions"
   ]
  },
  {
   "cell_type": "code",
   "execution_count": 3,
   "metadata": {},
   "outputs": [],
   "source": [
    "options(jupyter.plot_mimetypes = c(\"text/plain\", \"image/png\" ))"
   ]
  },
  {
   "cell_type": "code",
   "execution_count": null,
   "metadata": {},
   "outputs": [],
   "source": [
    "source(\"install_libraries.R\")"
   ]
  },
  {
   "cell_type": "code",
   "execution_count": 1,
   "metadata": {
    "scrolled": true
   },
   "outputs": [
    {
     "name": "stderr",
     "output_type": "stream",
     "text": [
      "Loading required package: S4Vectors\n",
      "Loading required package: stats4\n",
      "Loading required package: BiocGenerics\n",
      "Loading required package: parallel\n",
      "\n",
      "Attaching package: ‘BiocGenerics’\n",
      "\n",
      "The following objects are masked from ‘package:parallel’:\n",
      "\n",
      "    clusterApply, clusterApplyLB, clusterCall, clusterEvalQ,\n",
      "    clusterExport, clusterMap, parApply, parCapply, parLapply,\n",
      "    parLapplyLB, parRapply, parSapply, parSapplyLB\n",
      "\n",
      "The following objects are masked from ‘package:stats’:\n",
      "\n",
      "    IQR, mad, sd, var, xtabs\n",
      "\n",
      "The following objects are masked from ‘package:base’:\n",
      "\n",
      "    anyDuplicated, append, as.data.frame, cbind, colMeans, colnames,\n",
      "    colSums, do.call, duplicated, eval, evalq, Filter, Find, get, grep,\n",
      "    grepl, intersect, is.unsorted, lapply, lengths, Map, mapply, match,\n",
      "    mget, order, paste, pmax, pmax.int, pmin, pmin.int, Position, rank,\n",
      "    rbind, Reduce, rowMeans, rownames, rowSums, sapply, setdiff, sort,\n",
      "    table, tapply, union, unique, unsplit, which, which.max, which.min\n",
      "\n",
      "\n",
      "Attaching package: ‘S4Vectors’\n",
      "\n",
      "The following object is masked from ‘package:base’:\n",
      "\n",
      "    expand.grid\n",
      "\n",
      "Loading required package: IRanges\n",
      "Loading required package: GenomicRanges\n",
      "Loading required package: GenomeInfoDb\n",
      "Loading required package: SummarizedExperiment\n",
      "Loading required package: Biobase\n",
      "Welcome to Bioconductor\n",
      "\n",
      "    Vignettes contain introductory material; view with\n",
      "    'browseVignettes()'. To cite Bioconductor, see\n",
      "    'citation(\"Biobase\")', and for packages 'citation(\"pkgname\")'.\n",
      "\n",
      "Loading required package: DelayedArray\n",
      "Loading required package: matrixStats\n",
      "\n",
      "Attaching package: ‘matrixStats’\n",
      "\n",
      "The following objects are masked from ‘package:Biobase’:\n",
      "\n",
      "    anyMissing, rowMedians\n",
      "\n",
      "\n",
      "Attaching package: ‘DelayedArray’\n",
      "\n",
      "The following objects are masked from ‘package:matrixStats’:\n",
      "\n",
      "    colMaxs, colMins, colRanges, rowMaxs, rowMins, rowRanges\n",
      "\n",
      "The following object is masked from ‘package:base’:\n",
      "\n",
      "    apply\n",
      "\n",
      "\n",
      "Attaching package: ‘gplots’\n",
      "\n",
      "The following object is masked from ‘package:IRanges’:\n",
      "\n",
      "    space\n",
      "\n",
      "The following object is masked from ‘package:S4Vectors’:\n",
      "\n",
      "    space\n",
      "\n",
      "The following object is masked from ‘package:stats’:\n",
      "\n",
      "    lowess\n",
      "\n",
      "\n",
      "Attaching package: ‘plyr’\n",
      "\n",
      "The following object is masked from ‘package:matrixStats’:\n",
      "\n",
      "    count\n",
      "\n",
      "The following object is masked from ‘package:IRanges’:\n",
      "\n",
      "    desc\n",
      "\n",
      "The following object is masked from ‘package:S4Vectors’:\n",
      "\n",
      "    rename\n",
      "\n",
      "Loading required package: viridisLite\n",
      "Loading required package: AnnotationDbi\n",
      "\n",
      "Loading required package: BiasedUrn\n",
      "Loading required package: geneLenDataBase\n",
      "\n"
     ]
    }
   ],
   "source": [
    "source(\"load_libraries.R\")"
   ]
  },
  {
   "cell_type": "code",
   "execution_count": 14,
   "metadata": {},
   "outputs": [],
   "source": [
    "source(\"functions.R\")"
   ]
  },
  {
   "cell_type": "markdown",
   "metadata": {},
   "source": [
    "# Get the data"
   ]
  },
  {
   "cell_type": "code",
   "execution_count": 19,
   "metadata": {},
   "outputs": [],
   "source": [
    "# Load the count table\n",
    "#counts = read.table(system(\"get -i 1184 \", intern=T), sep=\"\\t\", header = 1, row.names=1)\n",
    "counts = read.table(\"../data/counts.tabular\", sep=\"\\t\", header = 1, row.names=1)"
   ]
  },
  {
   "cell_type": "code",
   "execution_count": null,
   "metadata": {},
   "outputs": [],
   "source": [
    "# Map between Entrez Gene Identifiers and Gene Names (and description) \n",
    "eg2name = get_list(org.Mm.egGENENAME)\n",
    "# Map between Gene Symbols and Entrez Gene Identifiers\n",
    "symbol2eg = get_list(org.Mm.egSYMBOL2EG)\n",
    "# Map between RefSeq and Entrez Gene Identifiers\n",
    "refseq2eg = get_list(org.Mm.egREFSEQ2EG)\n",
    "# Map between Gene Symbols and Gene Names (and description)\n",
    "symbol2name = sapply(names(symbol2eg), function(x) return(eg2name[symbol2eg[[x]]]))\n",
    "head(symbol2name)\n",
    "# Map between Entrez Gene Identifiers and KEGG pathways\n",
    "eg2kegg=as.list(org.Mm.egPATH)"
   ]
  },
  {
   "cell_type": "code",
   "execution_count": 20,
   "metadata": {},
   "outputs": [
    {
     "data": {
      "text/html": [
       "582"
      ],
      "text/latex": [
       "582"
      ],
      "text/markdown": [
       "582"
      ],
      "text/plain": [
       "[1] 582"
      ]
     },
     "metadata": {},
     "output_type": "display_data"
    }
   ],
   "source": [
    "# get refseq ids for genes\n",
    "refseq = sapply(rownames(counts), function(x) return(symbol2eg[[x]])) \n",
    "length(refseq[sapply(refseq, is.null)])\n",
    "to_change = names(refseq[sapply(refseq, is.null)])"
   ]
  },
  {
   "cell_type": "code",
   "execution_count": 25,
   "metadata": {},
   "outputs": [
    {
     "data": {
      "text/html": [
       "<ol class=list-inline>\n",
       "\t<li>'0610007P14Rik'</li>\n",
       "\t<li>'0610011F06Rik'</li>\n",
       "\t<li>'1110001J03Rik'</li>\n",
       "\t<li>'1110007C09Rik'</li>\n",
       "\t<li>'1110037F02Rik'</li>\n",
       "\t<li>'1190002F15Rik'</li>\n",
       "</ol>\n"
      ],
      "text/latex": [
       "\\begin{enumerate*}\n",
       "\\item '0610007P14Rik'\n",
       "\\item '0610011F06Rik'\n",
       "\\item '1110001J03Rik'\n",
       "\\item '1110007C09Rik'\n",
       "\\item '1110037F02Rik'\n",
       "\\item '1190002F15Rik'\n",
       "\\end{enumerate*}\n"
      ],
      "text/markdown": [
       "1. '0610007P14Rik'\n",
       "2. '0610011F06Rik'\n",
       "3. '1110001J03Rik'\n",
       "4. '1110007C09Rik'\n",
       "5. '1110037F02Rik'\n",
       "6. '1190002F15Rik'\n",
       "\n",
       "\n"
      ],
      "text/plain": [
       "[1] \"0610007P14Rik\" \"0610011F06Rik\" \"1110001J03Rik\" \"1110007C09Rik\"\n",
       "[5] \"1110037F02Rik\" \"1190002F15Rik\""
      ]
     },
     "metadata": {},
     "output_type": "display_data"
    },
    {
     "data": {
      "text/html": [
       "'Erg28'"
      ],
      "text/latex": [
       "'Erg28'"
      ],
      "text/markdown": [
       "'Erg28'"
      ],
      "text/plain": [
       "[1] \"Erg28\""
      ]
     },
     "metadata": {},
     "output_type": "display_data"
    }
   ],
   "source": [
    "head(to_change)\n",
    "search_name('0610007P14Rik')"
   ]
  },
  {
   "cell_type": "code",
   "execution_count": 30,
   "metadata": {},
   "outputs": [],
   "source": [
    "changes = sapply(to_change, search_name)"
   ]
  },
  {
   "cell_type": "code",
   "execution_count": 31,
   "metadata": {},
   "outputs": [
    {
     "data": {
      "text/html": [
       "17"
      ],
      "text/latex": [
       "17"
      ],
      "text/markdown": [
       "17"
      ],
      "text/plain": [
       "[1] 17"
      ]
     },
     "metadata": {},
     "output_type": "display_data"
    },
    {
     "data": {
      "text/html": [
       "10"
      ],
      "text/latex": [
       "10"
      ],
      "text/markdown": [
       "10"
      ],
      "text/plain": [
       "[1] 10"
      ]
     },
     "metadata": {},
     "output_type": "display_data"
    },
    {
     "data": {
      "text/html": [
       "40"
      ],
      "text/latex": [
       "40"
      ],
      "text/markdown": [
       "40"
      ],
      "text/plain": [
       "[1] 40"
      ]
     },
     "metadata": {},
     "output_type": "display_data"
    },
    {
     "data": {
      "text/html": [
       "515"
      ],
      "text/latex": [
       "515"
      ],
      "text/markdown": [
       "515"
      ],
      "text/plain": [
       "[1] 515"
      ]
     },
     "metadata": {},
     "output_type": "display_data"
    }
   ],
   "source": [
    "doubled = sapply(names(changes), function(x) return(length(changes[[x]])>1))\n",
    "length(changes[doubled])  \n",
    "single = changes[!doubled]\n",
    "duplicated = single %in% rownames(counts)\n",
    "length(single[duplicated])\n",
    "non_duplicated = single[!duplicated]\n",
    "duplicated_2 = duplicated(non_duplicated)\n",
    "sum(duplicated_2)\n",
    "replacements = non_duplicated[!duplicated_2]                 \n",
    "length(replacements)"
   ]
  },
  {
   "cell_type": "code",
   "execution_count": 32,
   "metadata": {
    "scrolled": true
   },
   "outputs": [
    {
     "data": {
      "text/html": [
       "<dl class=dl-horizontal>\n",
       "\t<dt>0610005C13Rik</dt>\n",
       "\t\t<dd>'0610005C13Rik'</dd>\n",
       "\t<dt>0610007P14Rik</dt>\n",
       "\t\t<dd>'Erg28'</dd>\n",
       "\t<dt>0610009B22Rik</dt>\n",
       "\t\t<dd>'0610009B22Rik'</dd>\n",
       "\t<dt>0610009L18Rik</dt>\n",
       "\t\t<dd>'0610009L18Rik'</dd>\n",
       "\t<dt>0610009O20Rik</dt>\n",
       "\t\t<dd>'0610009O20Rik'</dd>\n",
       "\t<dt>0610010B08Rik</dt>\n",
       "\t\t<dd>'0610010B08Rik'</dd>\n",
       "</dl>\n"
      ],
      "text/latex": [
       "\\begin{description*}\n",
       "\\item[0610005C13Rik] '0610005C13Rik'\n",
       "\\item[0610007P14Rik] 'Erg28'\n",
       "\\item[0610009B22Rik] '0610009B22Rik'\n",
       "\\item[0610009L18Rik] '0610009L18Rik'\n",
       "\\item[0610009O20Rik] '0610009O20Rik'\n",
       "\\item[0610010B08Rik] '0610010B08Rik'\n",
       "\\end{description*}\n"
      ],
      "text/markdown": [
       "0610005C13Rik\n",
       ":   '0610005C13Rik'0610007P14Rik\n",
       ":   'Erg28'0610009B22Rik\n",
       ":   '0610009B22Rik'0610009L18Rik\n",
       ":   '0610009L18Rik'0610009O20Rik\n",
       ":   '0610009O20Rik'0610010B08Rik\n",
       ":   '0610010B08Rik'\n",
       "\n"
      ],
      "text/plain": [
       "  0610005C13Rik   0610007P14Rik   0610009B22Rik   0610009L18Rik   0610009O20Rik \n",
       "\"0610005C13Rik\"         \"Erg28\" \"0610009B22Rik\" \"0610009L18Rik\" \"0610009O20Rik\" \n",
       "  0610010B08Rik \n",
       "\"0610010B08Rik\" "
      ]
     },
     "metadata": {},
     "output_type": "display_data"
    }
   ],
   "source": [
    "# Fix name of the some genes (identified if no Entrez id found for them and with new names found)\n",
    "replacements = unlist(replacements)\n",
    "#rownames(counts)[rownames(counts) == \"1700112E06Rik\"] = \"Lrmda\"\n",
    "new_names = rownames(counts)\n",
    "names(new_names) = rownames(counts)\n",
    "new_names[names(replacements)] = replacements\n",
    "head(new_names)\n",
    "rownames(counts) = new_names"
   ]
  },
  {
   "cell_type": "code",
   "execution_count": 33,
   "metadata": {},
   "outputs": [
    {
     "data": {
      "text/html": [
       "68"
      ],
      "text/latex": [
       "68"
      ],
      "text/markdown": [
       "68"
      ],
      "text/plain": [
       "[1] 68"
      ]
     },
     "metadata": {},
     "output_type": "display_data"
    }
   ],
   "source": [
    "refseq_check = sapply(rownames(counts), function(x) return(symbol2eg[[x]])) \n",
    "length(refseq[sapply(refseq_check, is.null)])"
   ]
  },
  {
   "cell_type": "code",
   "execution_count": 34,
   "metadata": {},
   "outputs": [],
   "source": [
    "# Remove the columns with spurious data\n",
    "to_remove = c(\"SPF_8w_F_2_2\")\n",
    "counts = counts[,!names(counts) %in% to_remove]"
   ]
  },
  {
   "cell_type": "code",
   "execution_count": 35,
   "metadata": {},
   "outputs": [
    {
     "data": {
      "text/html": [
       "<table>\n",
       "<thead><tr><th></th><th scope=col>type</th><th scope=col>age</th><th scope=col>gender</th><th scope=col>replicate</th></tr></thead>\n",
       "<tbody>\n",
       "\t<tr><th scope=row>GF_104w_F_1_2</th><td>GF  </td><td>104w</td><td>F   </td><td>1   </td></tr>\n",
       "\t<tr><th scope=row>GF_104w_F_2_2</th><td>GF  </td><td>104w</td><td>F   </td><td>2   </td></tr>\n",
       "\t<tr><th scope=row>GF_104w_F_3_2</th><td>GF  </td><td>104w</td><td>F   </td><td>3   </td></tr>\n",
       "\t<tr><th scope=row>GF_104w_M_1_2</th><td>GF  </td><td>104w</td><td>M   </td><td>1   </td></tr>\n",
       "\t<tr><th scope=row>GF_104w_M_2_2</th><td>GF  </td><td>104w</td><td>M   </td><td>2   </td></tr>\n",
       "\t<tr><th scope=row>GF_52w_M_1_2</th><td>GF  </td><td>52w </td><td>M   </td><td>1   </td></tr>\n",
       "\t<tr><th scope=row>GF_52w_M_2_2</th><td>GF  </td><td>52w </td><td>M   </td><td>2   </td></tr>\n",
       "\t<tr><th scope=row>GF_52w_M_3_2</th><td>GF  </td><td>52w </td><td>M   </td><td>3   </td></tr>\n",
       "\t<tr><th scope=row>GF_52w_M_4_2</th><td>GF  </td><td>52w </td><td>M   </td><td>4   </td></tr>\n",
       "\t<tr><th scope=row>GF_8w_M_1_2</th><td>GF  </td><td>8w  </td><td>M   </td><td>1   </td></tr>\n",
       "\t<tr><th scope=row>GF_8w_M_2_2</th><td>GF  </td><td>8w  </td><td>M   </td><td>2   </td></tr>\n",
       "\t<tr><th scope=row>GF_8w_M_3_2</th><td>GF  </td><td>8w  </td><td>M   </td><td>3   </td></tr>\n",
       "\t<tr><th scope=row>GF_8w_M_4_2</th><td>GF  </td><td>8w  </td><td>M   </td><td>4   </td></tr>\n",
       "\t<tr><th scope=row>SPF_104w_F_1_2</th><td>SPF </td><td>104w</td><td>F   </td><td>1   </td></tr>\n",
       "\t<tr><th scope=row>SPF_104w_F_2_2</th><td>SPF </td><td>104w</td><td>F   </td><td>2   </td></tr>\n",
       "\t<tr><th scope=row>SPF_104w_F_3_2</th><td>SPF </td><td>104w</td><td>F   </td><td>3   </td></tr>\n",
       "\t<tr><th scope=row>SPF_104w_M_1_2</th><td>SPF </td><td>104w</td><td>M   </td><td>1   </td></tr>\n",
       "\t<tr><th scope=row>SPF_104w_M_2_2</th><td>SPF </td><td>104w</td><td>M   </td><td>2   </td></tr>\n",
       "\t<tr><th scope=row>SPF_104w_M_3_2</th><td>SPF </td><td>104w</td><td>M   </td><td>3   </td></tr>\n",
       "\t<tr><th scope=row>SPF_104w_M_4_2</th><td>SPF </td><td>104w</td><td>M   </td><td>4   </td></tr>\n",
       "\t<tr><th scope=row>SPF_52w_M_1_2</th><td>SPF </td><td>52w </td><td>M   </td><td>1   </td></tr>\n",
       "\t<tr><th scope=row>SPF_52w_M_2_2</th><td>SPF </td><td>52w </td><td>M   </td><td>2   </td></tr>\n",
       "\t<tr><th scope=row>SPF_52w_M_3_2</th><td>SPF </td><td>52w </td><td>M   </td><td>3   </td></tr>\n",
       "\t<tr><th scope=row>SPF_52w_M_4_2</th><td>SPF </td><td>52w </td><td>M   </td><td>4   </td></tr>\n",
       "\t<tr><th scope=row>SPF_52w_M_5_2</th><td>SPF </td><td>52w </td><td>M   </td><td>5   </td></tr>\n",
       "\t<tr><th scope=row>SPF_8w_M_1_2</th><td>SPF </td><td>8w  </td><td>M   </td><td>1   </td></tr>\n",
       "\t<tr><th scope=row>SPF_8w_M_2_2</th><td>SPF </td><td>8w  </td><td>M   </td><td>2   </td></tr>\n",
       "\t<tr><th scope=row>SPF_8w_M_3_2</th><td>SPF </td><td>8w  </td><td>M   </td><td>3   </td></tr>\n",
       "\t<tr><th scope=row>SPF_8w_M_4_2</th><td>SPF </td><td>8w  </td><td>M   </td><td>4   </td></tr>\n",
       "\t<tr><th scope=row>GF_52w_F_1_2</th><td>GF  </td><td>52w </td><td>F   </td><td>1   </td></tr>\n",
       "\t<tr><th scope=row>GF_52w_F_2_2</th><td>GF  </td><td>52w </td><td>F   </td><td>2   </td></tr>\n",
       "\t<tr><th scope=row>GF_52w_F_3_2</th><td>GF  </td><td>52w </td><td>F   </td><td>3   </td></tr>\n",
       "\t<tr><th scope=row>GF_52w_F_4_2</th><td>GF  </td><td>52w </td><td>F   </td><td>4   </td></tr>\n",
       "\t<tr><th scope=row>GF_52w_F_5_2</th><td>GF  </td><td>52w </td><td>F   </td><td>5   </td></tr>\n",
       "\t<tr><th scope=row>GF_52w_F_6_2</th><td>GF  </td><td>52w </td><td>F   </td><td>6   </td></tr>\n",
       "\t<tr><th scope=row>SPF_52w_F_1_2</th><td>SPF </td><td>52w </td><td>F   </td><td>1   </td></tr>\n",
       "\t<tr><th scope=row>SPF_52w_F_2_2</th><td>SPF </td><td>52w </td><td>F   </td><td>2   </td></tr>\n",
       "\t<tr><th scope=row>SPF_52w_F_3_2</th><td>SPF </td><td>52w </td><td>F   </td><td>3   </td></tr>\n",
       "\t<tr><th scope=row>SPF_52w_F_4_2</th><td>SPF </td><td>52w </td><td>F   </td><td>4   </td></tr>\n",
       "\t<tr><th scope=row>SPF_52w_F_5_2</th><td>SPF </td><td>52w </td><td>F   </td><td>5   </td></tr>\n",
       "\t<tr><th scope=row>SPF_52w_F_6_2</th><td>SPF </td><td>52w </td><td>F   </td><td>6   </td></tr>\n",
       "\t<tr><th scope=row>SPF_104w_M_5_2</th><td>SPF </td><td>104w</td><td>M   </td><td>5   </td></tr>\n",
       "\t<tr><th scope=row>SPF_104w_M_6_2</th><td>SPF </td><td>104w</td><td>M   </td><td>6   </td></tr>\n",
       "\t<tr><th scope=row>SPF_104w_M_7_2</th><td>SPF </td><td>104w</td><td>M   </td><td>7   </td></tr>\n",
       "\t<tr><th scope=row>SPF_104w_M_8_2</th><td>SPF </td><td>104w</td><td>M   </td><td>8   </td></tr>\n",
       "\t<tr><th scope=row>SPF_104w_M_9_2</th><td>SPF </td><td>104w</td><td>M   </td><td>9   </td></tr>\n",
       "\t<tr><th scope=row>SPF_104w_M_10_2</th><td>SPF </td><td>104w</td><td>M   </td><td>10  </td></tr>\n",
       "\t<tr><th scope=row>SPF_104w_M_11_2</th><td>SPF </td><td>104w</td><td>M   </td><td>11  </td></tr>\n",
       "\t<tr><th scope=row>SPF_104w_M_12_2</th><td>SPF </td><td>104w</td><td>M   </td><td>12  </td></tr>\n",
       "\t<tr><th scope=row>SPF_104w_M_13_2</th><td>SPF </td><td>104w</td><td>M   </td><td>13  </td></tr>\n",
       "\t<tr><th scope=row>SPF_104w_M_14_2</th><td>SPF </td><td>104w</td><td>M   </td><td>14  </td></tr>\n",
       "\t<tr><th scope=row>SPF_8w_F_1_2</th><td>SPF </td><td>8w  </td><td>F   </td><td>1   </td></tr>\n",
       "\t<tr><th scope=row>SPF_8w_F_3_2</th><td>SPF </td><td>8w  </td><td>F   </td><td>3   </td></tr>\n",
       "\t<tr><th scope=row>SPF_8w_F_4_2</th><td>SPF </td><td>8w  </td><td>F   </td><td>4   </td></tr>\n",
       "\t<tr><th scope=row>SPF_8w_F_5_2</th><td>SPF </td><td>8w  </td><td>F   </td><td>5   </td></tr>\n",
       "\t<tr><th scope=row>GF_8w_F_1_2</th><td>GF  </td><td>8w  </td><td>F   </td><td>1   </td></tr>\n",
       "\t<tr><th scope=row>GF_8w_F_2_2</th><td>GF  </td><td>8w  </td><td>F   </td><td>2   </td></tr>\n",
       "\t<tr><th scope=row>GF_8w_F_3_2</th><td>GF  </td><td>8w  </td><td>F   </td><td>3   </td></tr>\n",
       "\t<tr><th scope=row>GF_8w_F_4_2</th><td>GF  </td><td>8w  </td><td>F   </td><td>4   </td></tr>\n",
       "\t<tr><th scope=row>GF_8w_F_5_2</th><td>GF  </td><td>8w  </td><td>F   </td><td>5   </td></tr>\n",
       "</tbody>\n",
       "</table>\n"
      ],
      "text/latex": [
       "\\begin{tabular}{r|llll}\n",
       "  & type & age & gender & replicate\\\\\n",
       "\\hline\n",
       "\tGF\\_104w\\_F\\_1\\_2 & GF   & 104w & F    & 1   \\\\\n",
       "\tGF\\_104w\\_F\\_2\\_2 & GF   & 104w & F    & 2   \\\\\n",
       "\tGF\\_104w\\_F\\_3\\_2 & GF   & 104w & F    & 3   \\\\\n",
       "\tGF\\_104w\\_M\\_1\\_2 & GF   & 104w & M    & 1   \\\\\n",
       "\tGF\\_104w\\_M\\_2\\_2 & GF   & 104w & M    & 2   \\\\\n",
       "\tGF\\_52w\\_M\\_1\\_2 & GF   & 52w  & M    & 1   \\\\\n",
       "\tGF\\_52w\\_M\\_2\\_2 & GF   & 52w  & M    & 2   \\\\\n",
       "\tGF\\_52w\\_M\\_3\\_2 & GF   & 52w  & M    & 3   \\\\\n",
       "\tGF\\_52w\\_M\\_4\\_2 & GF   & 52w  & M    & 4   \\\\\n",
       "\tGF\\_8w\\_M\\_1\\_2 & GF   & 8w   & M    & 1   \\\\\n",
       "\tGF\\_8w\\_M\\_2\\_2 & GF   & 8w   & M    & 2   \\\\\n",
       "\tGF\\_8w\\_M\\_3\\_2 & GF   & 8w   & M    & 3   \\\\\n",
       "\tGF\\_8w\\_M\\_4\\_2 & GF   & 8w   & M    & 4   \\\\\n",
       "\tSPF\\_104w\\_F\\_1\\_2 & SPF  & 104w & F    & 1   \\\\\n",
       "\tSPF\\_104w\\_F\\_2\\_2 & SPF  & 104w & F    & 2   \\\\\n",
       "\tSPF\\_104w\\_F\\_3\\_2 & SPF  & 104w & F    & 3   \\\\\n",
       "\tSPF\\_104w\\_M\\_1\\_2 & SPF  & 104w & M    & 1   \\\\\n",
       "\tSPF\\_104w\\_M\\_2\\_2 & SPF  & 104w & M    & 2   \\\\\n",
       "\tSPF\\_104w\\_M\\_3\\_2 & SPF  & 104w & M    & 3   \\\\\n",
       "\tSPF\\_104w\\_M\\_4\\_2 & SPF  & 104w & M    & 4   \\\\\n",
       "\tSPF\\_52w\\_M\\_1\\_2 & SPF  & 52w  & M    & 1   \\\\\n",
       "\tSPF\\_52w\\_M\\_2\\_2 & SPF  & 52w  & M    & 2   \\\\\n",
       "\tSPF\\_52w\\_M\\_3\\_2 & SPF  & 52w  & M    & 3   \\\\\n",
       "\tSPF\\_52w\\_M\\_4\\_2 & SPF  & 52w  & M    & 4   \\\\\n",
       "\tSPF\\_52w\\_M\\_5\\_2 & SPF  & 52w  & M    & 5   \\\\\n",
       "\tSPF\\_8w\\_M\\_1\\_2 & SPF  & 8w   & M    & 1   \\\\\n",
       "\tSPF\\_8w\\_M\\_2\\_2 & SPF  & 8w   & M    & 2   \\\\\n",
       "\tSPF\\_8w\\_M\\_3\\_2 & SPF  & 8w   & M    & 3   \\\\\n",
       "\tSPF\\_8w\\_M\\_4\\_2 & SPF  & 8w   & M    & 4   \\\\\n",
       "\tGF\\_52w\\_F\\_1\\_2 & GF   & 52w  & F    & 1   \\\\\n",
       "\tGF\\_52w\\_F\\_2\\_2 & GF   & 52w  & F    & 2   \\\\\n",
       "\tGF\\_52w\\_F\\_3\\_2 & GF   & 52w  & F    & 3   \\\\\n",
       "\tGF\\_52w\\_F\\_4\\_2 & GF   & 52w  & F    & 4   \\\\\n",
       "\tGF\\_52w\\_F\\_5\\_2 & GF   & 52w  & F    & 5   \\\\\n",
       "\tGF\\_52w\\_F\\_6\\_2 & GF   & 52w  & F    & 6   \\\\\n",
       "\tSPF\\_52w\\_F\\_1\\_2 & SPF  & 52w  & F    & 1   \\\\\n",
       "\tSPF\\_52w\\_F\\_2\\_2 & SPF  & 52w  & F    & 2   \\\\\n",
       "\tSPF\\_52w\\_F\\_3\\_2 & SPF  & 52w  & F    & 3   \\\\\n",
       "\tSPF\\_52w\\_F\\_4\\_2 & SPF  & 52w  & F    & 4   \\\\\n",
       "\tSPF\\_52w\\_F\\_5\\_2 & SPF  & 52w  & F    & 5   \\\\\n",
       "\tSPF\\_52w\\_F\\_6\\_2 & SPF  & 52w  & F    & 6   \\\\\n",
       "\tSPF\\_104w\\_M\\_5\\_2 & SPF  & 104w & M    & 5   \\\\\n",
       "\tSPF\\_104w\\_M\\_6\\_2 & SPF  & 104w & M    & 6   \\\\\n",
       "\tSPF\\_104w\\_M\\_7\\_2 & SPF  & 104w & M    & 7   \\\\\n",
       "\tSPF\\_104w\\_M\\_8\\_2 & SPF  & 104w & M    & 8   \\\\\n",
       "\tSPF\\_104w\\_M\\_9\\_2 & SPF  & 104w & M    & 9   \\\\\n",
       "\tSPF\\_104w\\_M\\_10\\_2 & SPF  & 104w & M    & 10  \\\\\n",
       "\tSPF\\_104w\\_M\\_11\\_2 & SPF  & 104w & M    & 11  \\\\\n",
       "\tSPF\\_104w\\_M\\_12\\_2 & SPF  & 104w & M    & 12  \\\\\n",
       "\tSPF\\_104w\\_M\\_13\\_2 & SPF  & 104w & M    & 13  \\\\\n",
       "\tSPF\\_104w\\_M\\_14\\_2 & SPF  & 104w & M    & 14  \\\\\n",
       "\tSPF\\_8w\\_F\\_1\\_2 & SPF  & 8w   & F    & 1   \\\\\n",
       "\tSPF\\_8w\\_F\\_3\\_2 & SPF  & 8w   & F    & 3   \\\\\n",
       "\tSPF\\_8w\\_F\\_4\\_2 & SPF  & 8w   & F    & 4   \\\\\n",
       "\tSPF\\_8w\\_F\\_5\\_2 & SPF  & 8w   & F    & 5   \\\\\n",
       "\tGF\\_8w\\_F\\_1\\_2 & GF   & 8w   & F    & 1   \\\\\n",
       "\tGF\\_8w\\_F\\_2\\_2 & GF   & 8w   & F    & 2   \\\\\n",
       "\tGF\\_8w\\_F\\_3\\_2 & GF   & 8w   & F    & 3   \\\\\n",
       "\tGF\\_8w\\_F\\_4\\_2 & GF   & 8w   & F    & 4   \\\\\n",
       "\tGF\\_8w\\_F\\_5\\_2 & GF   & 8w   & F    & 5   \\\\\n",
       "\\end{tabular}\n"
      ],
      "text/markdown": [
       "\n",
       "| <!--/--> | type | age | gender | replicate | \n",
       "|---|---|---|---|---|---|---|---|---|---|---|---|---|---|---|---|---|---|---|---|---|---|---|---|---|---|---|---|---|---|---|---|---|---|---|---|---|---|---|---|---|---|---|---|---|---|---|---|---|---|---|---|---|---|---|---|---|---|---|---|\n",
       "| GF_104w_F_1_2 | GF   | 104w | F    | 1    | \n",
       "| GF_104w_F_2_2 | GF   | 104w | F    | 2    | \n",
       "| GF_104w_F_3_2 | GF   | 104w | F    | 3    | \n",
       "| GF_104w_M_1_2 | GF   | 104w | M    | 1    | \n",
       "| GF_104w_M_2_2 | GF   | 104w | M    | 2    | \n",
       "| GF_52w_M_1_2 | GF   | 52w  | M    | 1    | \n",
       "| GF_52w_M_2_2 | GF   | 52w  | M    | 2    | \n",
       "| GF_52w_M_3_2 | GF   | 52w  | M    | 3    | \n",
       "| GF_52w_M_4_2 | GF   | 52w  | M    | 4    | \n",
       "| GF_8w_M_1_2 | GF   | 8w   | M    | 1    | \n",
       "| GF_8w_M_2_2 | GF   | 8w   | M    | 2    | \n",
       "| GF_8w_M_3_2 | GF   | 8w   | M    | 3    | \n",
       "| GF_8w_M_4_2 | GF   | 8w   | M    | 4    | \n",
       "| SPF_104w_F_1_2 | SPF  | 104w | F    | 1    | \n",
       "| SPF_104w_F_2_2 | SPF  | 104w | F    | 2    | \n",
       "| SPF_104w_F_3_2 | SPF  | 104w | F    | 3    | \n",
       "| SPF_104w_M_1_2 | SPF  | 104w | M    | 1    | \n",
       "| SPF_104w_M_2_2 | SPF  | 104w | M    | 2    | \n",
       "| SPF_104w_M_3_2 | SPF  | 104w | M    | 3    | \n",
       "| SPF_104w_M_4_2 | SPF  | 104w | M    | 4    | \n",
       "| SPF_52w_M_1_2 | SPF  | 52w  | M    | 1    | \n",
       "| SPF_52w_M_2_2 | SPF  | 52w  | M    | 2    | \n",
       "| SPF_52w_M_3_2 | SPF  | 52w  | M    | 3    | \n",
       "| SPF_52w_M_4_2 | SPF  | 52w  | M    | 4    | \n",
       "| SPF_52w_M_5_2 | SPF  | 52w  | M    | 5    | \n",
       "| SPF_8w_M_1_2 | SPF  | 8w   | M    | 1    | \n",
       "| SPF_8w_M_2_2 | SPF  | 8w   | M    | 2    | \n",
       "| SPF_8w_M_3_2 | SPF  | 8w   | M    | 3    | \n",
       "| SPF_8w_M_4_2 | SPF  | 8w   | M    | 4    | \n",
       "| GF_52w_F_1_2 | GF   | 52w  | F    | 1    | \n",
       "| GF_52w_F_2_2 | GF   | 52w  | F    | 2    | \n",
       "| GF_52w_F_3_2 | GF   | 52w  | F    | 3    | \n",
       "| GF_52w_F_4_2 | GF   | 52w  | F    | 4    | \n",
       "| GF_52w_F_5_2 | GF   | 52w  | F    | 5    | \n",
       "| GF_52w_F_6_2 | GF   | 52w  | F    | 6    | \n",
       "| SPF_52w_F_1_2 | SPF  | 52w  | F    | 1    | \n",
       "| SPF_52w_F_2_2 | SPF  | 52w  | F    | 2    | \n",
       "| SPF_52w_F_3_2 | SPF  | 52w  | F    | 3    | \n",
       "| SPF_52w_F_4_2 | SPF  | 52w  | F    | 4    | \n",
       "| SPF_52w_F_5_2 | SPF  | 52w  | F    | 5    | \n",
       "| SPF_52w_F_6_2 | SPF  | 52w  | F    | 6    | \n",
       "| SPF_104w_M_5_2 | SPF  | 104w | M    | 5    | \n",
       "| SPF_104w_M_6_2 | SPF  | 104w | M    | 6    | \n",
       "| SPF_104w_M_7_2 | SPF  | 104w | M    | 7    | \n",
       "| SPF_104w_M_8_2 | SPF  | 104w | M    | 8    | \n",
       "| SPF_104w_M_9_2 | SPF  | 104w | M    | 9    | \n",
       "| SPF_104w_M_10_2 | SPF  | 104w | M    | 10   | \n",
       "| SPF_104w_M_11_2 | SPF  | 104w | M    | 11   | \n",
       "| SPF_104w_M_12_2 | SPF  | 104w | M    | 12   | \n",
       "| SPF_104w_M_13_2 | SPF  | 104w | M    | 13   | \n",
       "| SPF_104w_M_14_2 | SPF  | 104w | M    | 14   | \n",
       "| SPF_8w_F_1_2 | SPF  | 8w   | F    | 1    | \n",
       "| SPF_8w_F_3_2 | SPF  | 8w   | F    | 3    | \n",
       "| SPF_8w_F_4_2 | SPF  | 8w   | F    | 4    | \n",
       "| SPF_8w_F_5_2 | SPF  | 8w   | F    | 5    | \n",
       "| GF_8w_F_1_2 | GF   | 8w   | F    | 1    | \n",
       "| GF_8w_F_2_2 | GF   | 8w   | F    | 2    | \n",
       "| GF_8w_F_3_2 | GF   | 8w   | F    | 3    | \n",
       "| GF_8w_F_4_2 | GF   | 8w   | F    | 4    | \n",
       "| GF_8w_F_5_2 | GF   | 8w   | F    | 5    | \n",
       "\n",
       "\n"
      ],
      "text/plain": [
       "                type age  gender replicate\n",
       "GF_104w_F_1_2   GF   104w F      1        \n",
       "GF_104w_F_2_2   GF   104w F      2        \n",
       "GF_104w_F_3_2   GF   104w F      3        \n",
       "GF_104w_M_1_2   GF   104w M      1        \n",
       "GF_104w_M_2_2   GF   104w M      2        \n",
       "GF_52w_M_1_2    GF   52w  M      1        \n",
       "GF_52w_M_2_2    GF   52w  M      2        \n",
       "GF_52w_M_3_2    GF   52w  M      3        \n",
       "GF_52w_M_4_2    GF   52w  M      4        \n",
       "GF_8w_M_1_2     GF   8w   M      1        \n",
       "GF_8w_M_2_2     GF   8w   M      2        \n",
       "GF_8w_M_3_2     GF   8w   M      3        \n",
       "GF_8w_M_4_2     GF   8w   M      4        \n",
       "SPF_104w_F_1_2  SPF  104w F      1        \n",
       "SPF_104w_F_2_2  SPF  104w F      2        \n",
       "SPF_104w_F_3_2  SPF  104w F      3        \n",
       "SPF_104w_M_1_2  SPF  104w M      1        \n",
       "SPF_104w_M_2_2  SPF  104w M      2        \n",
       "SPF_104w_M_3_2  SPF  104w M      3        \n",
       "SPF_104w_M_4_2  SPF  104w M      4        \n",
       "SPF_52w_M_1_2   SPF  52w  M      1        \n",
       "SPF_52w_M_2_2   SPF  52w  M      2        \n",
       "SPF_52w_M_3_2   SPF  52w  M      3        \n",
       "SPF_52w_M_4_2   SPF  52w  M      4        \n",
       "SPF_52w_M_5_2   SPF  52w  M      5        \n",
       "SPF_8w_M_1_2    SPF  8w   M      1        \n",
       "SPF_8w_M_2_2    SPF  8w   M      2        \n",
       "SPF_8w_M_3_2    SPF  8w   M      3        \n",
       "SPF_8w_M_4_2    SPF  8w   M      4        \n",
       "GF_52w_F_1_2    GF   52w  F      1        \n",
       "GF_52w_F_2_2    GF   52w  F      2        \n",
       "GF_52w_F_3_2    GF   52w  F      3        \n",
       "GF_52w_F_4_2    GF   52w  F      4        \n",
       "GF_52w_F_5_2    GF   52w  F      5        \n",
       "GF_52w_F_6_2    GF   52w  F      6        \n",
       "SPF_52w_F_1_2   SPF  52w  F      1        \n",
       "SPF_52w_F_2_2   SPF  52w  F      2        \n",
       "SPF_52w_F_3_2   SPF  52w  F      3        \n",
       "SPF_52w_F_4_2   SPF  52w  F      4        \n",
       "SPF_52w_F_5_2   SPF  52w  F      5        \n",
       "SPF_52w_F_6_2   SPF  52w  F      6        \n",
       "SPF_104w_M_5_2  SPF  104w M      5        \n",
       "SPF_104w_M_6_2  SPF  104w M      6        \n",
       "SPF_104w_M_7_2  SPF  104w M      7        \n",
       "SPF_104w_M_8_2  SPF  104w M      8        \n",
       "SPF_104w_M_9_2  SPF  104w M      9        \n",
       "SPF_104w_M_10_2 SPF  104w M      10       \n",
       "SPF_104w_M_11_2 SPF  104w M      11       \n",
       "SPF_104w_M_12_2 SPF  104w M      12       \n",
       "SPF_104w_M_13_2 SPF  104w M      13       \n",
       "SPF_104w_M_14_2 SPF  104w M      14       \n",
       "SPF_8w_F_1_2    SPF  8w   F      1        \n",
       "SPF_8w_F_3_2    SPF  8w   F      3        \n",
       "SPF_8w_F_4_2    SPF  8w   F      4        \n",
       "SPF_8w_F_5_2    SPF  8w   F      5        \n",
       "GF_8w_F_1_2     GF   8w   F      1        \n",
       "GF_8w_F_2_2     GF   8w   F      2        \n",
       "GF_8w_F_3_2     GF   8w   F      3        \n",
       "GF_8w_F_4_2     GF   8w   F      4        \n",
       "GF_8w_F_5_2     GF   8w   F      5        "
      ]
     },
     "metadata": {},
     "output_type": "display_data"
    }
   ],
   "source": [
    "# Extract the metadata\n",
    "metadata = t(sapply(sapply(colnames(counts), strsplit, split = \"_\"), unlist))\n",
    "metadata = metadata[,-5]\n",
    "colnames(metadata) = c(\"type\", \"age\", \"gender\", \"replicate\")\n",
    "metadata"
   ]
  },
  {
   "cell_type": "markdown",
   "metadata": {},
   "source": [
    "# DGE analysis construction\n",
    "\n",
    "## Testing how the complexification of the model explain the data"
   ]
  },
  {
   "cell_type": "code",
   "execution_count": 60,
   "metadata": {
    "collapsed": true
   },
   "outputs": [],
   "source": [
    "complexif_stats = data.frame(matrix(0, nrow=0, ncol=4))\n",
    "colnames(complexif_stats) = c(\"Design\", \"Reduced\", \"Tested\", \"Genes with LRT padj < 0.05\")"
   ]
  },
  {
   "cell_type": "code",
   "execution_count": 61,
   "metadata": {
    "scrolled": true
   },
   "outputs": [
    {
     "name": "stderr",
     "output_type": "stream",
     "text": [
      "estimating size factors\n",
      "estimating dispersions\n",
      "gene-wise dispersion estimates\n",
      "mean-dispersion relationship\n",
      "final dispersion estimates\n",
      "fitting model and testing\n",
      "-- replacing outliers and refitting for 714 genes\n",
      "-- DESeq argument 'minReplicatesForReplace' = 7 \n",
      "-- original counts are preserved in counts(dds)\n",
      "estimating dispersions\n",
      "fitting model and testing\n"
     ]
    }
   ],
   "source": [
    "# Design: gender\n",
    "dds = DESeqDataSetFromMatrix(\n",
    "        countData = counts,\n",
    "        colData = metadata,\n",
    "        design = ~ gender)\n",
    "dge = DESeq(dds, test=\"LRT\", reduced = ~ 1)\n",
    "LRT_res = results(dge, alpha=0.05)\n",
    "complexif_stats[nrow(complexif_stats) + 1,] = c(\"gender\", \"1\", \"gender\", get_sign_padj(LRT_res))"
   ]
  },
  {
   "cell_type": "code",
   "execution_count": 62,
   "metadata": {},
   "outputs": [
    {
     "name": "stderr",
     "output_type": "stream",
     "text": [
      "estimating size factors\n",
      "estimating dispersions\n",
      "gene-wise dispersion estimates\n",
      "mean-dispersion relationship\n",
      "final dispersion estimates\n",
      "fitting model and testing\n",
      "-- replacing outliers and refitting for 724 genes\n",
      "-- DESeq argument 'minReplicatesForReplace' = 7 \n",
      "-- original counts are preserved in counts(dds)\n",
      "estimating dispersions\n",
      "fitting model and testing\n"
     ]
    }
   ],
   "source": [
    "# Design: type\n",
    "dds = DESeqDataSetFromMatrix(\n",
    "        countData = counts,\n",
    "        colData = metadata,\n",
    "        design = ~ type)\n",
    "dge = DESeq(dds, test=\"LRT\", reduced = ~ 1)\n",
    "LRT_res = results(dge, alpha=0.05)\n",
    "complexif_stats[nrow(complexif_stats) + 1,] = c(\"type\", \"1\", \"type\", get_sign_padj(LRT_res))"
   ]
  },
  {
   "cell_type": "code",
   "execution_count": 63,
   "metadata": {},
   "outputs": [
    {
     "name": "stderr",
     "output_type": "stream",
     "text": [
      "estimating size factors\n",
      "estimating dispersions\n",
      "gene-wise dispersion estimates\n",
      "mean-dispersion relationship\n",
      "final dispersion estimates\n",
      "fitting model and testing\n",
      "-- replacing outliers and refitting for 761 genes\n",
      "-- DESeq argument 'minReplicatesForReplace' = 7 \n",
      "-- original counts are preserved in counts(dds)\n",
      "estimating dispersions\n",
      "fitting model and testing\n"
     ]
    }
   ],
   "source": [
    "# Design: age\n",
    "dds = DESeqDataSetFromMatrix(\n",
    "        countData = counts,\n",
    "        colData = metadata,\n",
    "        design = ~ age)\n",
    "dge = DESeq(dds, test=\"LRT\", reduced = ~ 1)\n",
    "LRT_res = results(dge, alpha=0.05)\n",
    "complexif_stats[nrow(complexif_stats) + 1,] = c(\"age\", \"1\", \"age\", get_sign_padj(LRT_res))"
   ]
  },
  {
   "cell_type": "code",
   "execution_count": 64,
   "metadata": {},
   "outputs": [
    {
     "name": "stderr",
     "output_type": "stream",
     "text": [
      "estimating size factors\n",
      "estimating dispersions\n",
      "gene-wise dispersion estimates\n",
      "mean-dispersion relationship\n",
      "final dispersion estimates\n",
      "fitting model and testing\n",
      "-- replacing outliers and refitting for 744 genes\n",
      "-- DESeq argument 'minReplicatesForReplace' = 7 \n",
      "-- original counts are preserved in counts(dds)\n",
      "estimating dispersions\n",
      "fitting model and testing\n"
     ]
    }
   ],
   "source": [
    "# Design: gender + type\n",
    "dds = DESeqDataSetFromMatrix(\n",
    "        countData = counts,\n",
    "        colData = metadata,\n",
    "        design = ~ gender + type)\n",
    "dge = DESeq(dds, test=\"LRT\", reduced = ~ gender)\n",
    "LRT_res = results(dge, alpha=0.05)\n",
    "complexif_stats[nrow(complexif_stats) + 1,] = c(\"gender + type\", \"gender\", \"type\", get_sign_padj(LRT_res))"
   ]
  },
  {
   "cell_type": "code",
   "execution_count": 65,
   "metadata": {},
   "outputs": [
    {
     "name": "stderr",
     "output_type": "stream",
     "text": [
      "estimating size factors\n",
      "estimating dispersions\n",
      "gene-wise dispersion estimates\n",
      "mean-dispersion relationship\n",
      "final dispersion estimates\n",
      "fitting model and testing\n",
      "-- replacing outliers and refitting for 577 genes\n",
      "-- DESeq argument 'minReplicatesForReplace' = 7 \n",
      "-- original counts are preserved in counts(dds)\n",
      "estimating dispersions\n",
      "fitting model and testing\n"
     ]
    }
   ],
   "source": [
    "# Design: gender + age\n",
    "dds = DESeqDataSetFromMatrix(\n",
    "        countData = counts,\n",
    "        colData = metadata,\n",
    "        design = ~ gender + age)\n",
    "dge = DESeq(dds, test=\"LRT\", reduced = ~ gender)\n",
    "LRT_res = results(dge, alpha=0.05)\n",
    "complexif_stats[nrow(complexif_stats) + 1,] = c(\"gender + age\", \"gender\", \"age\", get_sign_padj(LRT_res))"
   ]
  },
  {
   "cell_type": "code",
   "execution_count": 66,
   "metadata": {},
   "outputs": [
    {
     "name": "stderr",
     "output_type": "stream",
     "text": [
      "estimating size factors\n",
      "estimating dispersions\n",
      "gene-wise dispersion estimates\n",
      "mean-dispersion relationship\n",
      "final dispersion estimates\n",
      "fitting model and testing\n",
      "-- replacing outliers and refitting for 744 genes\n",
      "-- DESeq argument 'minReplicatesForReplace' = 7 \n",
      "-- original counts are preserved in counts(dds)\n",
      "estimating dispersions\n",
      "fitting model and testing\n"
     ]
    }
   ],
   "source": [
    "# Design: type + gender\n",
    "dds = DESeqDataSetFromMatrix(\n",
    "        countData = counts,\n",
    "        colData = metadata,\n",
    "        design = ~ type + gender)\n",
    "dge = DESeq(dds, test=\"LRT\", reduced = ~ type)\n",
    "LRT_res = results(dge, alpha=0.05)\n",
    "complexif_stats[nrow(complexif_stats) + 1,] = c(\"type + gender\", \"type\", \"gender\", get_sign_padj(LRT_res))"
   ]
  },
  {
   "cell_type": "code",
   "execution_count": 67,
   "metadata": {},
   "outputs": [
    {
     "name": "stderr",
     "output_type": "stream",
     "text": [
      "estimating size factors\n",
      "estimating dispersions\n",
      "gene-wise dispersion estimates\n",
      "mean-dispersion relationship\n",
      "final dispersion estimates\n",
      "fitting model and testing\n",
      "-- replacing outliers and refitting for 546 genes\n",
      "-- DESeq argument 'minReplicatesForReplace' = 7 \n",
      "-- original counts are preserved in counts(dds)\n",
      "estimating dispersions\n",
      "fitting model and testing\n"
     ]
    }
   ],
   "source": [
    "# Design: type + age\n",
    "dds = DESeqDataSetFromMatrix(\n",
    "        countData = counts,\n",
    "        colData = metadata,\n",
    "        design = ~ type + age)\n",
    "dge = DESeq(dds, test=\"LRT\", reduced = ~ type)\n",
    "LRT_res = results(dge, alpha=0.05)\n",
    "complexif_stats[nrow(complexif_stats) + 1,] = c(\"type + age\", \"type\", \"age\", get_sign_padj(LRT_res))"
   ]
  },
  {
   "cell_type": "code",
   "execution_count": 68,
   "metadata": {},
   "outputs": [
    {
     "name": "stderr",
     "output_type": "stream",
     "text": [
      "estimating size factors\n",
      "estimating dispersions\n",
      "gene-wise dispersion estimates\n",
      "mean-dispersion relationship\n",
      "final dispersion estimates\n",
      "fitting model and testing\n",
      "-- replacing outliers and refitting for 577 genes\n",
      "-- DESeq argument 'minReplicatesForReplace' = 7 \n",
      "-- original counts are preserved in counts(dds)\n",
      "estimating dispersions\n",
      "fitting model and testing\n"
     ]
    }
   ],
   "source": [
    "# Design: age + gender\n",
    "dds = DESeqDataSetFromMatrix(\n",
    "        countData = counts,\n",
    "        colData = metadata,\n",
    "        design = ~ age + gender)\n",
    "dge = DESeq(dds, test=\"LRT\", reduced = ~ age)\n",
    "LRT_res = results(dge, alpha=0.05)\n",
    "complexif_stats[nrow(complexif_stats) + 1,] = c(\"age + gender\", \"age\", \"gender\", get_sign_padj(LRT_res))"
   ]
  },
  {
   "cell_type": "code",
   "execution_count": 69,
   "metadata": {},
   "outputs": [
    {
     "name": "stderr",
     "output_type": "stream",
     "text": [
      "estimating size factors\n",
      "estimating dispersions\n",
      "gene-wise dispersion estimates\n",
      "mean-dispersion relationship\n",
      "final dispersion estimates\n",
      "fitting model and testing\n",
      "-- replacing outliers and refitting for 546 genes\n",
      "-- DESeq argument 'minReplicatesForReplace' = 7 \n",
      "-- original counts are preserved in counts(dds)\n",
      "estimating dispersions\n",
      "fitting model and testing\n"
     ]
    }
   ],
   "source": [
    "# Design: age + type\n",
    "dds = DESeqDataSetFromMatrix(\n",
    "        countData = counts,\n",
    "        colData = metadata,\n",
    "        design = ~ age + type)\n",
    "dge = DESeq(dds, test=\"LRT\", reduced = ~ age)\n",
    "LRT_res = results(dge, alpha=0.05)\n",
    "complexif_stats[nrow(complexif_stats) + 1,] = c(\"age + type\", \"age\", \"type\", get_sign_padj(LRT_res))"
   ]
  },
  {
   "cell_type": "code",
   "execution_count": 70,
   "metadata": {},
   "outputs": [
    {
     "name": "stderr",
     "output_type": "stream",
     "text": [
      "estimating size factors\n",
      "estimating dispersions\n",
      "gene-wise dispersion estimates\n",
      "mean-dispersion relationship\n",
      "final dispersion estimates\n",
      "fitting model and testing\n",
      "-- replacing outliers and refitting for 558 genes\n",
      "-- DESeq argument 'minReplicatesForReplace' = 7 \n",
      "-- original counts are preserved in counts(dds)\n",
      "estimating dispersions\n",
      "fitting model and testing\n"
     ]
    }
   ],
   "source": [
    "# Design: gender + type + gender:type\n",
    "dds = DESeqDataSetFromMatrix(\n",
    "        countData = counts,\n",
    "        colData = metadata,\n",
    "        design = ~ gender + type + gender:type)\n",
    "dge = DESeq(dds, test=\"LRT\", reduced = ~ gender + type)\n",
    "LRT_res = results(dge, alpha=0.05)\n",
    "complexif_stats[nrow(complexif_stats) + 1,] = c(\"gender + type + gender:type\", \"gender + type\", \"gender:type\", get_sign_padj(LRT_res))"
   ]
  },
  {
   "cell_type": "code",
   "execution_count": 71,
   "metadata": {},
   "outputs": [
    {
     "name": "stderr",
     "output_type": "stream",
     "text": [
      "estimating size factors\n",
      "estimating dispersions\n",
      "gene-wise dispersion estimates\n",
      "mean-dispersion relationship\n",
      "final dispersion estimates\n",
      "fitting model and testing\n",
      "-- replacing outliers and refitting for 330 genes\n",
      "-- DESeq argument 'minReplicatesForReplace' = 7 \n",
      "-- original counts are preserved in counts(dds)\n",
      "estimating dispersions\n",
      "fitting model and testing\n"
     ]
    }
   ],
   "source": [
    "# Design: gender + age + gender:age\n",
    "dds = DESeqDataSetFromMatrix(\n",
    "        countData = counts,\n",
    "        colData = metadata,\n",
    "        design = ~ gender + age + gender:age)\n",
    "dge = DESeq(dds, test=\"LRT\", reduced = ~ gender + age)\n",
    "LRT_res = results(dge, alpha=0.05)\n",
    "complexif_stats[nrow(complexif_stats) + 1,] = c(\"gender + age + gender:age\", \"gender + age\", \"gender:age\", get_sign_padj(LRT_res))"
   ]
  },
  {
   "cell_type": "code",
   "execution_count": 72,
   "metadata": {},
   "outputs": [
    {
     "name": "stderr",
     "output_type": "stream",
     "text": [
      "estimating size factors\n",
      "estimating dispersions\n",
      "gene-wise dispersion estimates\n",
      "mean-dispersion relationship\n",
      "final dispersion estimates\n",
      "fitting model and testing\n",
      "-- replacing outliers and refitting for 323 genes\n",
      "-- DESeq argument 'minReplicatesForReplace' = 7 \n",
      "-- original counts are preserved in counts(dds)\n",
      "estimating dispersions\n",
      "fitting model and testing\n"
     ]
    }
   ],
   "source": [
    "# Design: type + age + type:age\n",
    "dds = DESeqDataSetFromMatrix(\n",
    "        countData = counts,\n",
    "        colData = metadata,\n",
    "        design = ~ type + age + type:age)\n",
    "dge = DESeq(dds, test=\"LRT\", reduced = ~ type + age)\n",
    "LRT_res = results(dge, alpha=0.05)\n",
    "complexif_stats[nrow(complexif_stats) + 1,] = c(\"type + age + type:age\", \"type + age\", \"type:age\", get_sign_padj(LRT_res))"
   ]
  },
  {
   "cell_type": "code",
   "execution_count": 73,
   "metadata": {},
   "outputs": [
    {
     "name": "stderr",
     "output_type": "stream",
     "text": [
      "estimating size factors\n",
      "estimating dispersions\n",
      "gene-wise dispersion estimates\n",
      "mean-dispersion relationship\n",
      "final dispersion estimates\n",
      "fitting model and testing\n",
      "-- replacing outliers and refitting for 357 genes\n",
      "-- DESeq argument 'minReplicatesForReplace' = 7 \n",
      "-- original counts are preserved in counts(dds)\n",
      "estimating dispersions\n",
      "fitting model and testing\n"
     ]
    }
   ],
   "source": [
    "# Design: gender + type + age\n",
    "dds = DESeqDataSetFromMatrix(\n",
    "        countData = counts,\n",
    "        colData = metadata,\n",
    "        design = ~ gender + type + age)\n",
    "dge = DESeq(dds, test=\"LRT\", reduced = ~ gender + type)\n",
    "LRT_res = results(dge, alpha=0.05)\n",
    "complexif_stats[nrow(complexif_stats) + 1,] = c(\"gender + type + age\", \"gender + type\", \"age\", get_sign_padj(LRT_res))"
   ]
  },
  {
   "cell_type": "code",
   "execution_count": 74,
   "metadata": {},
   "outputs": [
    {
     "name": "stderr",
     "output_type": "stream",
     "text": [
      "estimating size factors\n",
      "estimating dispersions\n",
      "gene-wise dispersion estimates\n",
      "mean-dispersion relationship\n",
      "final dispersion estimates\n",
      "fitting model and testing\n",
      "-- replacing outliers and refitting for 357 genes\n",
      "-- DESeq argument 'minReplicatesForReplace' = 7 \n",
      "-- original counts are preserved in counts(dds)\n",
      "estimating dispersions\n",
      "fitting model and testing\n"
     ]
    }
   ],
   "source": [
    "# Design: gender + type + age\n",
    "dds = DESeqDataSetFromMatrix(\n",
    "        countData = counts,\n",
    "        colData = metadata,\n",
    "        design = ~ gender + type + age)\n",
    "dge = DESeq(dds, test=\"LRT\", reduced = ~ gender + age)\n",
    "LRT_res = results(dge, alpha=0.05)\n",
    "complexif_stats[nrow(complexif_stats) + 1,] = c(\"gender + type + age\", \"gender + age\", \"type\", get_sign_padj(LRT_res))"
   ]
  },
  {
   "cell_type": "code",
   "execution_count": 75,
   "metadata": {},
   "outputs": [
    {
     "name": "stderr",
     "output_type": "stream",
     "text": [
      "estimating size factors\n",
      "estimating dispersions\n",
      "gene-wise dispersion estimates\n",
      "mean-dispersion relationship\n",
      "final dispersion estimates\n",
      "fitting model and testing\n",
      "-- replacing outliers and refitting for 357 genes\n",
      "-- DESeq argument 'minReplicatesForReplace' = 7 \n",
      "-- original counts are preserved in counts(dds)\n",
      "estimating dispersions\n",
      "fitting model and testing\n"
     ]
    }
   ],
   "source": [
    "# Design: gender + type + age\n",
    "dds = DESeqDataSetFromMatrix(\n",
    "        countData = counts,\n",
    "        colData = metadata,\n",
    "        design = ~ gender + type + age)\n",
    "dge = DESeq(dds, test=\"LRT\", reduced = ~ type + age)\n",
    "LRT_res = results(dge, alpha=0.05)\n",
    "complexif_stats[nrow(complexif_stats) + 1,] = c(\"gender + type + age\", \"type + age\", \"gender\", get_sign_padj(LRT_res))"
   ]
  },
  {
   "cell_type": "code",
   "execution_count": 76,
   "metadata": {},
   "outputs": [
    {
     "name": "stderr",
     "output_type": "stream",
     "text": [
      "estimating size factors\n",
      "estimating dispersions\n",
      "gene-wise dispersion estimates\n",
      "mean-dispersion relationship\n",
      "final dispersion estimates\n",
      "fitting model and testing\n",
      "-- replacing outliers and refitting for 297 genes\n",
      "-- DESeq argument 'minReplicatesForReplace' = 7 \n",
      "-- original counts are preserved in counts(dds)\n",
      "estimating dispersions\n",
      "fitting model and testing\n"
     ]
    }
   ],
   "source": [
    "# Design: gender + type + age + gender:type\n",
    "dds = DESeqDataSetFromMatrix(\n",
    "        countData = counts,\n",
    "        colData = metadata,\n",
    "        design = ~ gender + type + age + gender:type)\n",
    "dge = DESeq(dds, test=\"LRT\", reduced = ~ gender + type + age)\n",
    "LRT_res = results(dge, alpha=0.05)\n",
    "complexif_stats[nrow(complexif_stats) + 1,] = c(\"gender + type + age + gender:type\", \"gender + type + age\", \"gender:type\", get_sign_padj(LRT_res))"
   ]
  },
  {
   "cell_type": "code",
   "execution_count": 77,
   "metadata": {},
   "outputs": [
    {
     "name": "stderr",
     "output_type": "stream",
     "text": [
      "estimating size factors\n",
      "estimating dispersions\n",
      "gene-wise dispersion estimates\n",
      "mean-dispersion relationship\n",
      "final dispersion estimates\n",
      "fitting model and testing\n",
      "-- replacing outliers and refitting for 219 genes\n",
      "-- DESeq argument 'minReplicatesForReplace' = 7 \n",
      "-- original counts are preserved in counts(dds)\n",
      "estimating dispersions\n",
      "fitting model and testing\n"
     ]
    }
   ],
   "source": [
    "# Design: gender + type + age + gender:age\n",
    "dds = DESeqDataSetFromMatrix(\n",
    "        countData = counts,\n",
    "        colData = metadata,\n",
    "        design = ~ gender + type + age + gender:age)\n",
    "dge = DESeq(dds, test=\"LRT\", reduced = ~ gender + type + age)\n",
    "LRT_res = results(dge, alpha=0.05)\n",
    "complexif_stats[nrow(complexif_stats) + 1,] = c(\"gender + type + age + gender:age\", \"gender + type + age\", \"gender:age\", get_sign_padj(LRT_res))"
   ]
  },
  {
   "cell_type": "code",
   "execution_count": 78,
   "metadata": {},
   "outputs": [
    {
     "name": "stderr",
     "output_type": "stream",
     "text": [
      "estimating size factors\n",
      "estimating dispersions\n",
      "gene-wise dispersion estimates\n",
      "mean-dispersion relationship\n",
      "final dispersion estimates\n",
      "fitting model and testing\n",
      "-- replacing outliers and refitting for 235 genes\n",
      "-- DESeq argument 'minReplicatesForReplace' = 7 \n",
      "-- original counts are preserved in counts(dds)\n",
      "estimating dispersions\n",
      "fitting model and testing\n"
     ]
    }
   ],
   "source": [
    "# Design: gender + type + age + type:age\n",
    "dds = DESeqDataSetFromMatrix(\n",
    "        countData = counts,\n",
    "        colData = metadata,\n",
    "        design = ~ gender + type + age + type:age)\n",
    "dge = DESeq(dds, test=\"LRT\", reduced = ~ gender + type + age)\n",
    "LRT_res = results(dge, alpha=0.05)\n",
    "complexif_stats[nrow(complexif_stats) + 1,] = c(\"gender + type + age + type:age\", \"gender + type + age\", \"type:age\", get_sign_padj(LRT_res))"
   ]
  },
  {
   "cell_type": "code",
   "execution_count": 79,
   "metadata": {},
   "outputs": [
    {
     "name": "stderr",
     "output_type": "stream",
     "text": [
      "estimating size factors\n",
      "estimating dispersions\n",
      "gene-wise dispersion estimates\n",
      "mean-dispersion relationship\n",
      "final dispersion estimates\n",
      "fitting model and testing\n",
      "-- replacing outliers and refitting for 215 genes\n",
      "-- DESeq argument 'minReplicatesForReplace' = 7 \n",
      "-- original counts are preserved in counts(dds)\n",
      "estimating dispersions\n",
      "fitting model and testing\n"
     ]
    }
   ],
   "source": [
    "# Design: gender + type + age + gender:type + gender:age\n",
    "dds = DESeqDataSetFromMatrix(\n",
    "        countData = counts,\n",
    "        colData = metadata,\n",
    "        design = ~ gender + type + age + gender:type + gender:age)\n",
    "dge = DESeq(dds, test=\"LRT\", reduced = ~ gender + type + age + gender:type)\n",
    "LRT_res = results(dge, alpha=0.05)\n",
    "complexif_stats[nrow(complexif_stats) + 1,] = c(\"gender + type + age + gender:type + gender:age\", \"gender + type + age + gender:type\", \"gender:age\", get_sign_padj(LRT_res))"
   ]
  },
  {
   "cell_type": "code",
   "execution_count": 80,
   "metadata": {},
   "outputs": [
    {
     "name": "stderr",
     "output_type": "stream",
     "text": [
      "estimating size factors\n",
      "estimating dispersions\n",
      "gene-wise dispersion estimates\n",
      "mean-dispersion relationship\n",
      "final dispersion estimates\n",
      "fitting model and testing\n",
      "-- replacing outliers and refitting for 215 genes\n",
      "-- DESeq argument 'minReplicatesForReplace' = 7 \n",
      "-- original counts are preserved in counts(dds)\n",
      "estimating dispersions\n",
      "fitting model and testing\n"
     ]
    }
   ],
   "source": [
    "# Design: gender + type + age + gender:type + gender:age\n",
    "dds = DESeqDataSetFromMatrix(\n",
    "        countData = counts,\n",
    "        colData = metadata,\n",
    "        design = ~ gender + type + age + gender:type + gender:age)\n",
    "dge = DESeq(dds, test=\"LRT\", reduced = ~ gender + type + age + gender:age)\n",
    "LRT_res = results(dge, alpha=0.05)\n",
    "complexif_stats[nrow(complexif_stats) + 1,] = c(\"gender + type + age + gender:type + gender:age\", \"gender + type + age + gender:age\", \"gender:type\", get_sign_padj(LRT_res))"
   ]
  },
  {
   "cell_type": "code",
   "execution_count": 81,
   "metadata": {},
   "outputs": [
    {
     "name": "stderr",
     "output_type": "stream",
     "text": [
      "estimating size factors\n",
      "estimating dispersions\n",
      "gene-wise dispersion estimates\n",
      "mean-dispersion relationship\n",
      "final dispersion estimates\n",
      "fitting model and testing\n",
      "-- replacing outliers and refitting for 227 genes\n",
      "-- DESeq argument 'minReplicatesForReplace' = 7 \n",
      "-- original counts are preserved in counts(dds)\n",
      "estimating dispersions\n",
      "fitting model and testing\n"
     ]
    }
   ],
   "source": [
    "# Design: gender + type + age + gender:type + type:age\n",
    "dds = DESeqDataSetFromMatrix(\n",
    "        countData = counts,\n",
    "        colData = metadata,\n",
    "        design = ~ gender + type + age + gender:type + type:age)\n",
    "dge = DESeq(dds, test=\"LRT\", reduced = ~ gender + type + age + gender:type)\n",
    "LRT_res = results(dge, alpha=0.05)\n",
    "complexif_stats[nrow(complexif_stats) + 1,] = c(\"gender + type + age + gender:type + type:age\", \"gender + type + age + gender:type\", \"type:age\", get_sign_padj(LRT_res))"
   ]
  },
  {
   "cell_type": "code",
   "execution_count": 83,
   "metadata": {},
   "outputs": [
    {
     "name": "stderr",
     "output_type": "stream",
     "text": [
      "estimating size factors\n",
      "estimating dispersions\n",
      "gene-wise dispersion estimates\n",
      "mean-dispersion relationship\n",
      "final dispersion estimates\n",
      "fitting model and testing\n",
      "-- replacing outliers and refitting for 227 genes\n",
      "-- DESeq argument 'minReplicatesForReplace' = 7 \n",
      "-- original counts are preserved in counts(dds)\n",
      "estimating dispersions\n",
      "fitting model and testing\n"
     ]
    }
   ],
   "source": [
    "# Design: gender + type + age + gender:type + type:age\n",
    "dds = DESeqDataSetFromMatrix(\n",
    "        countData = counts,\n",
    "        colData = metadata,\n",
    "        design = ~ gender + type + age + gender:type + type:age)\n",
    "dge = DESeq(dds, test=\"LRT\", reduced = ~ gender + type + age + type:age)\n",
    "LRT_res = results(dge, alpha=0.05)\n",
    "complexif_stats[nrow(complexif_stats) + 1,] = c(\"gender + type + age + gender:type + type:age\", \"gender + type + age + type:age\", \"gender:type\", get_sign_padj(LRT_res))"
   ]
  },
  {
   "cell_type": "code",
   "execution_count": 84,
   "metadata": {},
   "outputs": [
    {
     "name": "stderr",
     "output_type": "stream",
     "text": [
      "estimating size factors\n",
      "estimating dispersions\n",
      "gene-wise dispersion estimates\n",
      "mean-dispersion relationship\n",
      "final dispersion estimates\n",
      "fitting model and testing\n",
      "2 rows did not converge in beta, labelled in mcols(object)$fullBetaConv. Use larger maxit argument with nbinomLRT\n",
      "-- replacing outliers and refitting for 213 genes\n",
      "-- DESeq argument 'minReplicatesForReplace' = 7 \n",
      "-- original counts are preserved in counts(dds)\n",
      "estimating dispersions\n",
      "fitting model and testing\n"
     ]
    }
   ],
   "source": [
    "# Design: gender + type + age + gender:age + type:age\n",
    "dds = DESeqDataSetFromMatrix(\n",
    "        countData = counts,\n",
    "        colData = metadata,\n",
    "        design = ~ gender + type + age + gender:age + type:age)\n",
    "dge = DESeq(dds, test=\"LRT\", reduced = ~ gender + type + age + gender:age)\n",
    "LRT_res = results(dge, alpha=0.05)\n",
    "complexif_stats[nrow(complexif_stats) + 1,] = c(\"gender + type + age + gender:age + type:age\", \"gender + type + age + gender:age\", \"type:age\", get_sign_padj(LRT_res))"
   ]
  },
  {
   "cell_type": "code",
   "execution_count": 85,
   "metadata": {},
   "outputs": [
    {
     "name": "stderr",
     "output_type": "stream",
     "text": [
      "estimating size factors\n",
      "estimating dispersions\n",
      "gene-wise dispersion estimates\n",
      "mean-dispersion relationship\n",
      "final dispersion estimates\n",
      "fitting model and testing\n",
      "2 rows did not converge in beta, labelled in mcols(object)$fullBetaConv. Use larger maxit argument with nbinomLRT\n",
      "-- replacing outliers and refitting for 213 genes\n",
      "-- DESeq argument 'minReplicatesForReplace' = 7 \n",
      "-- original counts are preserved in counts(dds)\n",
      "estimating dispersions\n",
      "fitting model and testing\n"
     ]
    }
   ],
   "source": [
    "# Design: gender + type + age + gender:age + type:age\n",
    "dds = DESeqDataSetFromMatrix(\n",
    "        countData = counts,\n",
    "        colData = metadata,\n",
    "        design = ~ gender + type + age + gender:age + type:age)\n",
    "dge = DESeq(dds, test=\"LRT\", reduced = ~ gender + type + age + type:age)\n",
    "LRT_res = results(dge, alpha=0.05)\n",
    "complexif_stats[nrow(complexif_stats) + 1,] = c(\"gender + type + age + gender:age + type:age\", \"gender + type + age + type:age\", \"gender:age\", get_sign_padj(LRT_res))"
   ]
  },
  {
   "cell_type": "code",
   "execution_count": 86,
   "metadata": {},
   "outputs": [
    {
     "name": "stderr",
     "output_type": "stream",
     "text": [
      "estimating size factors\n",
      "estimating dispersions\n",
      "gene-wise dispersion estimates\n",
      "mean-dispersion relationship\n",
      "final dispersion estimates\n",
      "fitting model and testing\n",
      "12 rows did not converge in beta, labelled in mcols(object)$fullBetaConv. Use larger maxit argument with nbinomLRT\n",
      "-- replacing outliers and refitting for 168 genes\n",
      "-- DESeq argument 'minReplicatesForReplace' = 7 \n",
      "-- original counts are preserved in counts(dds)\n",
      "estimating dispersions\n",
      "fitting model and testing\n",
      "1 rows did not converge in beta, labelled in mcols(object)$fullBetaConv. Use larger maxit argument with nbinomLRT\n"
     ]
    }
   ],
   "source": [
    "# Design: gender + type + age + gender:type + gender:age + type:age\n",
    "dds = DESeqDataSetFromMatrix(\n",
    "        countData = counts,\n",
    "        colData = metadata,\n",
    "        design = ~ gender + type + age + gender:type + gender:age + type:age)\n",
    "dge = DESeq(dds, test=\"LRT\", reduced = ~ gender + type + age + gender:type + gender:age)\n",
    "LRT_res = results(dge, alpha=0.05)\n",
    "complexif_stats[nrow(complexif_stats) + 1,] = c(\"gender + type + age + gender:type + gender:age + type:age\", \"gender + type + age + gender:type + gender:age\", \"type:age\", get_sign_padj(LRT_res))"
   ]
  },
  {
   "cell_type": "code",
   "execution_count": 87,
   "metadata": {},
   "outputs": [
    {
     "name": "stderr",
     "output_type": "stream",
     "text": [
      "estimating size factors\n",
      "estimating dispersions\n",
      "gene-wise dispersion estimates\n",
      "mean-dispersion relationship\n",
      "final dispersion estimates\n",
      "fitting model and testing\n",
      "12 rows did not converge in beta, labelled in mcols(object)$fullBetaConv. Use larger maxit argument with nbinomLRT\n",
      "-- replacing outliers and refitting for 168 genes\n",
      "-- DESeq argument 'minReplicatesForReplace' = 7 \n",
      "-- original counts are preserved in counts(dds)\n",
      "estimating dispersions\n",
      "fitting model and testing\n",
      "1 rows did not converge in beta, labelled in mcols(object)$fullBetaConv. Use larger maxit argument with nbinomLRT\n"
     ]
    }
   ],
   "source": [
    "# Design: gender + type + age + gender:type + gender:age + type:age\n",
    "dds = DESeqDataSetFromMatrix(\n",
    "        countData = counts,\n",
    "        colData = metadata,\n",
    "        design = ~ gender + type + age + gender:type + gender:age + type:age)\n",
    "dge = DESeq(dds, test=\"LRT\", reduced = ~ gender + type + age + gender:type + type:age)\n",
    "LRT_res = results(dge, alpha=0.05)\n",
    "complexif_stats[nrow(complexif_stats) + 1,] = c(\"gender + type + age + gender:type + gender:age + type:age\", \"gender + type + age + gender:type + type:age\", \"gender:age\", get_sign_padj(LRT_res))"
   ]
  },
  {
   "cell_type": "code",
   "execution_count": 88,
   "metadata": {},
   "outputs": [
    {
     "name": "stderr",
     "output_type": "stream",
     "text": [
      "estimating size factors\n",
      "estimating dispersions\n",
      "gene-wise dispersion estimates\n",
      "mean-dispersion relationship\n",
      "final dispersion estimates\n",
      "fitting model and testing\n",
      "12 rows did not converge in beta, labelled in mcols(object)$fullBetaConv. Use larger maxit argument with nbinomLRT\n",
      "-- replacing outliers and refitting for 168 genes\n",
      "-- DESeq argument 'minReplicatesForReplace' = 7 \n",
      "-- original counts are preserved in counts(dds)\n",
      "estimating dispersions\n",
      "fitting model and testing\n",
      "1 rows did not converge in beta, labelled in mcols(object)$fullBetaConv. Use larger maxit argument with nbinomLRT\n"
     ]
    }
   ],
   "source": [
    "# Design: gender + type + age + gender:type + gender:age + type:age\n",
    "dds = DESeqDataSetFromMatrix(\n",
    "        countData = counts,\n",
    "        colData = metadata,\n",
    "        design = ~ gender + type + age + gender:type + gender:age + type:age)\n",
    "dge = DESeq(dds, test=\"LRT\", reduced = ~ gender + type + age + gender:age + type:age)\n",
    "LRT_res = results(dge, alpha=0.05)\n",
    "complexif_stats[nrow(complexif_stats) + 1,] = c(\"gender + type + age + gender:type + gender:age + type:age\", \"gender + type + age + gender:age + type:age\", \"gender:type\", get_sign_padj(LRT_res))"
   ]
  },
  {
   "cell_type": "code",
   "execution_count": 89,
   "metadata": {},
   "outputs": [
    {
     "data": {
      "text/html": [
       "<table>\n",
       "<thead><tr><th scope=col>Design</th><th scope=col>Reduced</th><th scope=col>Tested</th><th scope=col>Genes with LRT padj &lt; 0.05</th></tr></thead>\n",
       "<tbody>\n",
       "\t<tr><td>gender                                                   </td><td>1                                                        </td><td>gender                                                   </td><td>18.35                                                    </td></tr>\n",
       "\t<tr><td>type                                                     </td><td>1                                                        </td><td>type                                                     </td><td>9.5                                                      </td></tr>\n",
       "\t<tr><td>age                                                      </td><td>1                                                        </td><td>age                                                      </td><td>17.92                                                    </td></tr>\n",
       "\t<tr><td>gender + type                                            </td><td>gender                                                   </td><td>type                                                     </td><td>8.9                                                      </td></tr>\n",
       "\t<tr><td>gender + age                                             </td><td>gender                                                   </td><td>age                                                      </td><td>22.68                                                    </td></tr>\n",
       "\t<tr><td>type + gender                                            </td><td>type                                                     </td><td>gender                                                   </td><td>17.37                                                    </td></tr>\n",
       "\t<tr><td>type + age                                               </td><td>type                                                     </td><td>age                                                      </td><td>18.03                                                    </td></tr>\n",
       "\t<tr><td>age + gender                                             </td><td>age                                                      </td><td>gender                                                   </td><td>21.83                                                    </td></tr>\n",
       "\t<tr><td>age + type                                               </td><td>age                                                      </td><td>type                                                     </td><td>9.34                                                     </td></tr>\n",
       "\t<tr><td>gender + type + gender:type                              </td><td>gender + type                                            </td><td>gender:type                                              </td><td>0.38                                                     </td></tr>\n",
       "\t<tr><td>gender + age + gender:age                                </td><td>gender + age                                             </td><td>gender:age                                               </td><td>11.43                                                    </td></tr>\n",
       "\t<tr><td>type + age + type:age                                    </td><td>type + age                                               </td><td>type:age                                                 </td><td>3.59                                                     </td></tr>\n",
       "\t<tr><td>gender + type + age                                      </td><td>gender + type                                            </td><td>age                                                      </td><td>23.13                                                    </td></tr>\n",
       "\t<tr><td>gender + type + age                                      </td><td>gender + age                                             </td><td>type                                                     </td><td>9.1                                                      </td></tr>\n",
       "\t<tr><td>gender + type + age                                      </td><td>type + age                                               </td><td>gender                                                   </td><td>21.52                                                    </td></tr>\n",
       "\t<tr><td>gender + type + age + gender:type                        </td><td>gender + type + age                                      </td><td>gender:type                                              </td><td>0.11                                                     </td></tr>\n",
       "\t<tr><td>gender + type + age + gender:age                         </td><td>gender + type + age                                      </td><td>gender:age                                               </td><td>12.29                                                    </td></tr>\n",
       "\t<tr><td>gender + type + age + type:age                           </td><td>gender + type + age                                      </td><td>type:age                                                 </td><td>4.22                                                     </td></tr>\n",
       "\t<tr><td>gender + type + age + gender:type + gender:age           </td><td>gender + type + age + gender:type                        </td><td>gender:age                                               </td><td>11.36                                                    </td></tr>\n",
       "\t<tr><td>gender + type + age + gender:type + gender:age           </td><td>gender + type + age + gender:age                         </td><td>gender:type                                              </td><td>0.09                                                     </td></tr>\n",
       "\t<tr><td>gender + type + age + gender:type + type:age             </td><td>gender + type + age + gender:type                        </td><td>type:age                                                 </td><td>3.89                                                     </td></tr>\n",
       "\t<tr><td>gender + type + age + gender:type + type:age             </td><td>gender + type + age + type:age                           </td><td>gender:type                                              </td><td>0.07                                                     </td></tr>\n",
       "\t<tr><td>gender + type + age + gender:age + type:age              </td><td>gender + type + age + gender:age                         </td><td>type:age                                                 </td><td>4.23                                                     </td></tr>\n",
       "\t<tr><td>gender + type + age + gender:age + type:age              </td><td>gender + type + age + type:age                           </td><td>gender:age                                               </td><td>12.45                                                    </td></tr>\n",
       "\t<tr><td>gender + type + age + gender:type + gender:age + type:age</td><td>gender + type + age + gender:type + gender:age           </td><td>type:age                                                 </td><td>4.31                                                     </td></tr>\n",
       "\t<tr><td>gender + type + age + gender:type + gender:age + type:age</td><td>gender + type + age + gender:type + type:age             </td><td>gender:age                                               </td><td>11.99                                                    </td></tr>\n",
       "\t<tr><td>gender + type + age + gender:type + gender:age + type:age</td><td>gender + type + age + gender:age + type:age              </td><td>gender:type                                              </td><td>0.09                                                     </td></tr>\n",
       "</tbody>\n",
       "</table>\n"
      ],
      "text/latex": [
       "\\begin{tabular}{r|llll}\n",
       " Design & Reduced & Tested & Genes with LRT padj < 0.05\\\\\n",
       "\\hline\n",
       "\t gender                                                    & 1                                                         & gender                                                    & 18.35                                                    \\\\\n",
       "\t type                                                      & 1                                                         & type                                                      & 9.5                                                      \\\\\n",
       "\t age                                                       & 1                                                         & age                                                       & 17.92                                                    \\\\\n",
       "\t gender + type                                             & gender                                                    & type                                                      & 8.9                                                      \\\\\n",
       "\t gender + age                                              & gender                                                    & age                                                       & 22.68                                                    \\\\\n",
       "\t type + gender                                             & type                                                      & gender                                                    & 17.37                                                    \\\\\n",
       "\t type + age                                                & type                                                      & age                                                       & 18.03                                                    \\\\\n",
       "\t age + gender                                              & age                                                       & gender                                                    & 21.83                                                    \\\\\n",
       "\t age + type                                                & age                                                       & type                                                      & 9.34                                                     \\\\\n",
       "\t gender + type + gender:type                               & gender + type                                             & gender:type                                               & 0.38                                                     \\\\\n",
       "\t gender + age + gender:age                                 & gender + age                                              & gender:age                                                & 11.43                                                    \\\\\n",
       "\t type + age + type:age                                     & type + age                                                & type:age                                                  & 3.59                                                     \\\\\n",
       "\t gender + type + age                                       & gender + type                                             & age                                                       & 23.13                                                    \\\\\n",
       "\t gender + type + age                                       & gender + age                                              & type                                                      & 9.1                                                      \\\\\n",
       "\t gender + type + age                                       & type + age                                                & gender                                                    & 21.52                                                    \\\\\n",
       "\t gender + type + age + gender:type                         & gender + type + age                                       & gender:type                                               & 0.11                                                     \\\\\n",
       "\t gender + type + age + gender:age                          & gender + type + age                                       & gender:age                                                & 12.29                                                    \\\\\n",
       "\t gender + type + age + type:age                            & gender + type + age                                       & type:age                                                  & 4.22                                                     \\\\\n",
       "\t gender + type + age + gender:type + gender:age            & gender + type + age + gender:type                         & gender:age                                                & 11.36                                                    \\\\\n",
       "\t gender + type + age + gender:type + gender:age            & gender + type + age + gender:age                          & gender:type                                               & 0.09                                                     \\\\\n",
       "\t gender + type + age + gender:type + type:age              & gender + type + age + gender:type                         & type:age                                                  & 3.89                                                     \\\\\n",
       "\t gender + type + age + gender:type + type:age              & gender + type + age + type:age                            & gender:type                                               & 0.07                                                     \\\\\n",
       "\t gender + type + age + gender:age + type:age               & gender + type + age + gender:age                          & type:age                                                  & 4.23                                                     \\\\\n",
       "\t gender + type + age + gender:age + type:age               & gender + type + age + type:age                            & gender:age                                                & 12.45                                                    \\\\\n",
       "\t gender + type + age + gender:type + gender:age + type:age & gender + type + age + gender:type + gender:age            & type:age                                                  & 4.31                                                     \\\\\n",
       "\t gender + type + age + gender:type + gender:age + type:age & gender + type + age + gender:type + type:age              & gender:age                                                & 11.99                                                    \\\\\n",
       "\t gender + type + age + gender:type + gender:age + type:age & gender + type + age + gender:age + type:age               & gender:type                                               & 0.09                                                     \\\\\n",
       "\\end{tabular}\n"
      ],
      "text/markdown": [
       "\n",
       "Design | Reduced | Tested | Genes with LRT padj < 0.05 | \n",
       "|---|---|---|---|---|---|---|---|---|---|---|---|---|---|---|---|---|---|---|---|---|---|---|---|---|---|---|\n",
       "| gender                                                    | 1                                                         | gender                                                    | 18.35                                                     | \n",
       "| type                                                      | 1                                                         | type                                                      | 9.5                                                       | \n",
       "| age                                                       | 1                                                         | age                                                       | 17.92                                                     | \n",
       "| gender + type                                             | gender                                                    | type                                                      | 8.9                                                       | \n",
       "| gender + age                                              | gender                                                    | age                                                       | 22.68                                                     | \n",
       "| type + gender                                             | type                                                      | gender                                                    | 17.37                                                     | \n",
       "| type + age                                                | type                                                      | age                                                       | 18.03                                                     | \n",
       "| age + gender                                              | age                                                       | gender                                                    | 21.83                                                     | \n",
       "| age + type                                                | age                                                       | type                                                      | 9.34                                                      | \n",
       "| gender + type + gender:type                               | gender + type                                             | gender:type                                               | 0.38                                                      | \n",
       "| gender + age + gender:age                                 | gender + age                                              | gender:age                                                | 11.43                                                     | \n",
       "| type + age + type:age                                     | type + age                                                | type:age                                                  | 3.59                                                      | \n",
       "| gender + type + age                                       | gender + type                                             | age                                                       | 23.13                                                     | \n",
       "| gender + type + age                                       | gender + age                                              | type                                                      | 9.1                                                       | \n",
       "| gender + type + age                                       | type + age                                                | gender                                                    | 21.52                                                     | \n",
       "| gender + type + age + gender:type                         | gender + type + age                                       | gender:type                                               | 0.11                                                      | \n",
       "| gender + type + age + gender:age                          | gender + type + age                                       | gender:age                                                | 12.29                                                     | \n",
       "| gender + type + age + type:age                            | gender + type + age                                       | type:age                                                  | 4.22                                                      | \n",
       "| gender + type + age + gender:type + gender:age            | gender + type + age + gender:type                         | gender:age                                                | 11.36                                                     | \n",
       "| gender + type + age + gender:type + gender:age            | gender + type + age + gender:age                          | gender:type                                               | 0.09                                                      | \n",
       "| gender + type + age + gender:type + type:age              | gender + type + age + gender:type                         | type:age                                                  | 3.89                                                      | \n",
       "| gender + type + age + gender:type + type:age              | gender + type + age + type:age                            | gender:type                                               | 0.07                                                      | \n",
       "| gender + type + age + gender:age + type:age               | gender + type + age + gender:age                          | type:age                                                  | 4.23                                                      | \n",
       "| gender + type + age + gender:age + type:age               | gender + type + age + type:age                            | gender:age                                                | 12.45                                                     | \n",
       "| gender + type + age + gender:type + gender:age + type:age | gender + type + age + gender:type + gender:age            | type:age                                                  | 4.31                                                      | \n",
       "| gender + type + age + gender:type + gender:age + type:age | gender + type + age + gender:type + type:age              | gender:age                                                | 11.99                                                     | \n",
       "| gender + type + age + gender:type + gender:age + type:age | gender + type + age + gender:age + type:age               | gender:type                                               | 0.09                                                      | \n",
       "\n",
       "\n"
      ],
      "text/plain": [
       "   Design                                                   \n",
       "1  gender                                                   \n",
       "2  type                                                     \n",
       "3  age                                                      \n",
       "4  gender + type                                            \n",
       "5  gender + age                                             \n",
       "6  type + gender                                            \n",
       "7  type + age                                               \n",
       "8  age + gender                                             \n",
       "9  age + type                                               \n",
       "10 gender + type + gender:type                              \n",
       "11 gender + age + gender:age                                \n",
       "12 type + age + type:age                                    \n",
       "13 gender + type + age                                      \n",
       "14 gender + type + age                                      \n",
       "15 gender + type + age                                      \n",
       "16 gender + type + age + gender:type                        \n",
       "17 gender + type + age + gender:age                         \n",
       "18 gender + type + age + type:age                           \n",
       "19 gender + type + age + gender:type + gender:age           \n",
       "20 gender + type + age + gender:type + gender:age           \n",
       "21 gender + type + age + gender:type + type:age             \n",
       "22 gender + type + age + gender:type + type:age             \n",
       "23 gender + type + age + gender:age + type:age              \n",
       "24 gender + type + age + gender:age + type:age              \n",
       "25 gender + type + age + gender:type + gender:age + type:age\n",
       "26 gender + type + age + gender:type + gender:age + type:age\n",
       "27 gender + type + age + gender:type + gender:age + type:age\n",
       "   Reduced                                        Tested     \n",
       "1  1                                              gender     \n",
       "2  1                                              type       \n",
       "3  1                                              age        \n",
       "4  gender                                         type       \n",
       "5  gender                                         age        \n",
       "6  type                                           gender     \n",
       "7  type                                           age        \n",
       "8  age                                            gender     \n",
       "9  age                                            type       \n",
       "10 gender + type                                  gender:type\n",
       "11 gender + age                                   gender:age \n",
       "12 type + age                                     type:age   \n",
       "13 gender + type                                  age        \n",
       "14 gender + age                                   type       \n",
       "15 type + age                                     gender     \n",
       "16 gender + type + age                            gender:type\n",
       "17 gender + type + age                            gender:age \n",
       "18 gender + type + age                            type:age   \n",
       "19 gender + type + age + gender:type              gender:age \n",
       "20 gender + type + age + gender:age               gender:type\n",
       "21 gender + type + age + gender:type              type:age   \n",
       "22 gender + type + age + type:age                 gender:type\n",
       "23 gender + type + age + gender:age               type:age   \n",
       "24 gender + type + age + type:age                 gender:age \n",
       "25 gender + type + age + gender:type + gender:age type:age   \n",
       "26 gender + type + age + gender:type + type:age   gender:age \n",
       "27 gender + type + age + gender:age + type:age    gender:type\n",
       "   Genes with LRT padj < 0.05\n",
       "1  18.35                     \n",
       "2  9.5                       \n",
       "3  17.92                     \n",
       "4  8.9                       \n",
       "5  22.68                     \n",
       "6  17.37                     \n",
       "7  18.03                     \n",
       "8  21.83                     \n",
       "9  9.34                      \n",
       "10 0.38                      \n",
       "11 11.43                     \n",
       "12 3.59                      \n",
       "13 23.13                     \n",
       "14 9.1                       \n",
       "15 21.52                     \n",
       "16 0.11                      \n",
       "17 12.29                     \n",
       "18 4.22                      \n",
       "19 11.36                     \n",
       "20 0.09                      \n",
       "21 3.89                      \n",
       "22 0.07                      \n",
       "23 4.23                      \n",
       "24 12.45                     \n",
       "25 4.31                      \n",
       "26 11.99                     \n",
       "27 0.09                      "
      ]
     },
     "metadata": {},
     "output_type": "display_data"
    }
   ],
   "source": [
    "complexif_stats"
   ]
  },
  {
   "cell_type": "markdown",
   "metadata": {},
   "source": [
    "Factor | Explanation (Percentage of genes with LRT padj < 0.05)\n",
    "--- | --- | ---\n",
    "gender | 17.37% - 21.83%\n",
    "type | 8.9% - 9.5%\n",
    "age | 17.92% - 23.13%\n",
    "gender:type | 0.07% - 0.38%\n",
    "gender:age | 11.36% - 12.43%\n",
    "type:age | 3.59% - 4.31%"
   ]
  },
  {
   "cell_type": "markdown",
   "metadata": {},
   "source": [
    "## Construct the full model"
   ]
  },
  {
   "cell_type": "code",
   "execution_count": 36,
   "metadata": {},
   "outputs": [
    {
     "name": "stderr",
     "output_type": "stream",
     "text": [
      "estimating size factors\n",
      "estimating dispersions\n",
      "gene-wise dispersion estimates\n",
      "mean-dispersion relationship\n",
      "final dispersion estimates\n",
      "fitting model and testing\n",
      "17 rows did not converge in beta, labelled in mcols(object)$betaConv. Use larger maxit argument with nbinomWaldTest\n",
      "-- replacing outliers and refitting for 167 genes\n",
      "-- DESeq argument 'minReplicatesForReplace' = 7 \n",
      "-- original counts are preserved in counts(dds)\n",
      "estimating dispersions\n",
      "fitting model and testing\n"
     ]
    }
   ],
   "source": [
    "# Construct DESeqDataSet\n",
    "dds = DESeqDataSetFromMatrix(\n",
    "        countData = counts,\n",
    "        colData = metadata,\n",
    "        design = ~ gender + type + age + gender:age + gender:type + type:age)\n",
    "# Organize levels of the factors (8w being the reference)\n",
    "dds$age = relevel(dds$age, ref=\"8w\")\n",
    "dds$type = relevel(dds$type, ref=\"SPF\")\n",
    "dds$gender = relevel(dds$gender, ref=\"F\")\n",
    "# Differential expression analysis\n",
    "dge = DESeq(dds)"
   ]
  },
  {
   "cell_type": "code",
   "execution_count": 37,
   "metadata": {},
   "outputs": [
    {
     "data": {
      "text/html": [
       "<ol class=list-inline>\n",
       "\t<li>'Intercept'</li>\n",
       "\t<li>'gender_M_vs_F'</li>\n",
       "\t<li>'type_GF_vs_SPF'</li>\n",
       "\t<li>'age_104w_vs_8w'</li>\n",
       "\t<li>'age_52w_vs_8w'</li>\n",
       "\t<li>'genderM.age104w'</li>\n",
       "\t<li>'genderM.age52w'</li>\n",
       "\t<li>'genderM.typeGF'</li>\n",
       "\t<li>'typeGF.age104w'</li>\n",
       "\t<li>'typeGF.age52w'</li>\n",
       "</ol>\n"
      ],
      "text/latex": [
       "\\begin{enumerate*}\n",
       "\\item 'Intercept'\n",
       "\\item 'gender\\_M\\_vs\\_F'\n",
       "\\item 'type\\_GF\\_vs\\_SPF'\n",
       "\\item 'age\\_104w\\_vs\\_8w'\n",
       "\\item 'age\\_52w\\_vs\\_8w'\n",
       "\\item 'genderM.age104w'\n",
       "\\item 'genderM.age52w'\n",
       "\\item 'genderM.typeGF'\n",
       "\\item 'typeGF.age104w'\n",
       "\\item 'typeGF.age52w'\n",
       "\\end{enumerate*}\n"
      ],
      "text/markdown": [
       "1. 'Intercept'\n",
       "2. 'gender_M_vs_F'\n",
       "3. 'type_GF_vs_SPF'\n",
       "4. 'age_104w_vs_8w'\n",
       "5. 'age_52w_vs_8w'\n",
       "6. 'genderM.age104w'\n",
       "7. 'genderM.age52w'\n",
       "8. 'genderM.typeGF'\n",
       "9. 'typeGF.age104w'\n",
       "10. 'typeGF.age52w'\n",
       "\n",
       "\n"
      ],
      "text/plain": [
       " [1] \"Intercept\"       \"gender_M_vs_F\"   \"type_GF_vs_SPF\"  \"age_104w_vs_8w\" \n",
       " [5] \"age_52w_vs_8w\"   \"genderM.age104w\" \"genderM.age52w\"  \"genderM.typeGF\" \n",
       " [9] \"typeGF.age104w\"  \"typeGF.age52w\"  "
      ]
     },
     "metadata": {},
     "output_type": "display_data"
    }
   ],
   "source": [
    "resultsNames(dge)"
   ]
  },
  {
   "cell_type": "markdown",
   "metadata": {},
   "source": [
    "Info | M/F | GF/SPF | 104w/8w | 52w/8w | M.104w | M.52w | M.GF | GF.104w | GF.52w\n",
    "--- | --- | --- | --- | --- | --- | --- | --- | --- | ---\n",
    "M vs F (SPF, 8w) | 1 | | | | | | | |\n",
    "M vs F (GF, 8w) | 1 | | | | | | 1 | |\n",
    "M vs F (SPF, 52w) | 1 | | | | | 1 | | |\n",
    "M vs F (GF, 52w) | 1 | | | | | 1 | 1 | | 1?\n",
    "M vs F (SPF, 104w) | 1 | | | | 1 | | | |\n",
    "M vs F (GF, 104w) | 1 | | | | 1 | | 1 | 1? |\n",
    "M vs F (SPF) | 1 | | | | 1/3 | 1/3 | | |\n",
    "M vs F (GF) | 1 | | | | 1/3 | 1/3 | | 1/3? | 1/3?\n",
    "M vs F (8w) | 1 | | | | | | 1/2 | |\n",
    "M vs F (52w) | 1 | | | | | 1 | 1/2 | | 1/2?\n",
    "M vs F (104w) | 1 | | | | 1 | | 1/2 | 1/2? |\n",
    "M vs F | 1 | | | | 1/3 | 1/3 | 1/2 | 1/3? | 1/3?\n",
    "GF vs SPF (F, 8w) | | 1 | | | | | | |\n",
    "GF vs SPF (M, 8w) | | 1 | | | | | 1 | |\n",
    "GF vs SPF (F, 52w) | | 1 | | | | | | | 1\n",
    "GF vs SPF (M, 52w) | | 1 | | | | 1? | 1 | | 1\n",
    "GF vs SPF (F, 104w) | | 1 | | | | | | 1 |\n",
    "GF vs SPF (M, 104w) | | 1 | | | 1? | | 1 | 1 |\n",
    "GF vs SPF (F) | | 1 | | | | | | 1/3 | 1/3\n",
    "GF vs SPF (M) | | 1 | | | 1/3? | 1/3? | 1 | 1/3 | 1/3\n",
    "GF vs SPF (8w) | | 1 | | | | | 1/2 | |\n",
    "GF vs SPF (52w) | | 1 | | | | 1/2? | 1/2 | | 1\n",
    "GF vs SPF (104w) | | 1 | | | 1/2? | | 1/2 | 1 |\n",
    "GF vs SPF | | 1 | | | 1/3? | 1/3? | 1/2 | 1/3 | 1/3\n",
    "52w vs 8w (F, SPF) | | | | 1 | | | | |\n",
    "52w vs 8w (F, GF) | | | | 1 | | | | | 1\n",
    "52w vs 8w (M, SPF) | | | | 1 | | 1 | | |\n",
    "52w vs 8w (M, GF) | | | | 1 | | 1 | 1? | | 1\n",
    "52w vs 8w (F) | | | | 1 | | | | | 1/2\n",
    "52w vs 8w (M) | | | | 1 | | 1 | 1/2? | | 1/2\n",
    "52w vs 8w (SPF) | | | | 1 | | 1/2 | | |\n",
    "52w vs 8w (GF) | | | | 1 | | 1/2 | 1/2? | | 1\n",
    "52w vs 8w | | | | 1 | | 1/2 | 1/2? | | 1/2\n",
    "104w vs 8w (F, SPF) | | | 1 | | | | | |\n",
    "104w vs 8w (F, GF) | | | 1 | | | | | 1 |\n",
    "104w vs 8w (M, SPF) | | | 1 | | 1 | | | |\n",
    "104w vs 8w (M, GF) | | | 1 | | 1 | | 1? | 1 |\n",
    "104w vs 8w (F) | | | 1 | | | | | 1/2 |\n",
    "104w vs 8w (M) | | | 1 | | 1 | | 1/2? | 1/2 |\n",
    "104w vs 8w (SPF) | | | 1 | | 1/2 | | | |\n",
    "104w vs 8w (GF) | | | 1 | | 1/2 | | 1/2? | 1 |\n",
    "104w vs 8w | | | 1 | | 1/2 | | 1/2? | 1/2 |\n",
    "104w vs 52w (F, SPF) | | | 1 | -1 | | | | |\n",
    "104w vs 52w (F, GF) | | | 1 | -1 | | | | 1 | -1\n",
    "104w vs 52w (M, SPF) | | | 1 | -1 | 1 | -1 | | |\n",
    "104w vs 52w (M, GF) | | | 1 | -1 | 1 | -1 | | 1 | -1\n",
    "104w vs 52w (F) | | | 1 | -1 | | | | 1/2 | -1/2\n",
    "104w vs 52w (M) | | | 1 | -1 | 1 | -1 | | 1/2 | -1/2\n",
    "104w vs 52w (SPF) | | | 1 | -1 | 1/2 | -1/2 | | |\n",
    "104w vs 52w (GF) | | | 1 | -1 | 1/2 | -1/2 | | |\n",
    "104w vs 52w | | | 1 | -1 | 1/2 | -1/2 | | 1/2 | -1/2"
   ]
  },
  {
   "cell_type": "code",
   "execution_count": null,
   "metadata": {},
   "outputs": [],
   "source": [
    "norm_counts = counts(dge,normalized=TRUE)"
   ]
  },
  {
   "cell_type": "code",
   "execution_count": 143,
   "metadata": {},
   "outputs": [],
   "source": [
    "save(dge, file = \"../results/dge/dge.RData\")\n",
    "save(norm_counts, file=\"../results/dge/norm_counts.RData\")"
   ]
  },
  {
   "cell_type": "markdown",
   "metadata": {},
   "source": [
    "# Saving (for Galaxy)"
   ]
  },
  {
   "cell_type": "code",
   "execution_count": null,
   "metadata": {
    "scrolled": true
   },
   "outputs": [],
   "source": [
    "# Save the notebook into the history\n",
    "system(\"put -p dge_analysis.ipynb -t ipynb\", intern=T)"
   ]
  }
 ],
 "metadata": {
  "kernelspec": {
   "display_name": "R",
   "language": "R",
   "name": "ir"
  },
  "language_info": {
   "codemirror_mode": "r",
   "file_extension": ".r",
   "mimetype": "text/x-r-source",
   "name": "R",
   "pygments_lexer": "r",
   "version": "3.4.2"
  },
  "toc": {
   "nav_menu": {
    "height": "530px",
    "width": "568px"
   },
   "number_sections": true,
   "sideBar": true,
   "skip_h1_title": false,
   "toc_cell": false,
   "toc_position": {
    "height": "921px",
    "left": "0px",
    "right": "1708px",
    "top": "111px",
    "width": "255px"
   },
   "toc_section_display": "block",
   "toc_window_display": true
  }
 },
 "nbformat": 4,
 "nbformat_minor": 1
}
