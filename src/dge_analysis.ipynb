{
 "cells": [
  {
   "cell_type": "markdown",
   "metadata": {},
   "source": [
    "# Loads libraries and functions"
   ]
  },
  {
   "cell_type": "code",
   "execution_count": 3,
   "metadata": {},
   "outputs": [],
   "source": [
    "options(jupyter.plot_mimetypes = c(\"text/plain\", \"image/png\" ))"
   ]
  },
  {
   "cell_type": "code",
   "execution_count": 1,
   "metadata": {
    "scrolled": true
   },
   "outputs": [
    {
     "name": "stderr",
     "output_type": "stream",
     "text": [
      "Warning message in is.na(x[[i]]):\n",
      "“is.na() applied to non-(list or vector) of type 'environment'”Warning message in rsqlite_fetch(res@ptr, n = n):\n",
      "“Don't need to call dbFetch() for statements, only for queries”"
     ]
    },
    {
     "name": "stdout",
     "output_type": "stream",
     "text": [
      "==========================================================================\n",
      "*\n",
      "*  Package WGCNA 1.63 loaded.\n",
      "*\n",
      "*    Important note: It appears that your system supports multi-threading,\n",
      "*    but it is not enabled within WGCNA in R. \n",
      "*    To allow multi-threading within WGCNA with all available cores, use \n",
      "*\n",
      "*          allowWGCNAThreads()\n",
      "*\n",
      "*    within R. Use disableWGCNAThreads() to disable threading if necessary.\n",
      "*    Alternatively, set the following environment variable on your system:\n",
      "*\n",
      "*          ALLOW_WGCNA_THREADS=<number_of_processors>\n",
      "*\n",
      "*    for example \n",
      "*\n",
      "*          ALLOW_WGCNA_THREADS=4\n",
      "*\n",
      "*    To set the environment variable in linux bash shell, type \n",
      "*\n",
      "*           export ALLOW_WGCNA_THREADS=4\n",
      "*\n",
      "*     before running R. Other operating systems or shells will\n",
      "*     have a similar command to achieve the same aim.\n",
      "*\n",
      "==========================================================================\n",
      "\n",
      "\n",
      "Allowing multi-threading with up to 4 threads.\n",
      "[1] \"preparing gene to GO mapping data...\"\n",
      "[1] \"preparing IC data...\"\n",
      "[1] \"preparing gene to GO mapping data...\"\n",
      "[1] \"preparing IC data...\"\n",
      "[1] \"preparing gene to GO mapping data...\"\n",
      "[1] \"preparing IC data...\"\n"
     ]
    }
   ],
   "source": [
    "source(\"load_libraries.R\")"
   ]
  },
  {
   "cell_type": "code",
   "execution_count": 2,
   "metadata": {},
   "outputs": [],
   "source": [
    "source(\"functions.R\")"
   ]
  },
  {
   "cell_type": "markdown",
   "metadata": {},
   "source": [
    "# Get the data"
   ]
  },
  {
   "cell_type": "code",
   "execution_count": 36,
   "metadata": {},
   "outputs": [],
   "source": [
    "# Load the count table\n",
    "#counts = read.table(system(\"get -i 1184 \", intern=T), sep=\"\\t\", header = 1, row.names=1)\n",
    "counts = read.table(\"../data/counts.tabular\", sep=\"\\t\", header = 1, row.names=1)\n",
    "gene_length = read.table(\"../data/gene_length.tabular\", h = F, row.names = 1)\n",
    "gene_length = gene_length[rownames(counts),]\n",
    "names(gene_length) = rownames(counts)"
   ]
  },
  {
   "cell_type": "code",
   "execution_count": 4,
   "metadata": {},
   "outputs": [
    {
     "data": {
      "text/html": [
       "<dl>\n",
       "\t<dt>$Pzp</dt>\n",
       "\t\t<dd><strong>$`11287`</strong> = 'pregnancy zone protein'</dd>\n",
       "\t<dt>$Aanat</dt>\n",
       "\t\t<dd><strong>$`11298`</strong> = 'arylalkylamine N-acetyltransferase'</dd>\n",
       "\t<dt>$Aatk</dt>\n",
       "\t\t<dd><strong>$`11302`</strong> = 'apoptosis-associated tyrosine kinase'</dd>\n",
       "\t<dt>$Abca1</dt>\n",
       "\t\t<dd><strong>$`11303`</strong> = 'ATP-binding cassette, sub-family A (ABC1), member 1'</dd>\n",
       "\t<dt>$Abca4</dt>\n",
       "\t\t<dd><strong>$`11304`</strong> = 'ATP-binding cassette, sub-family A (ABC1), member 4'</dd>\n",
       "\t<dt>$Abca2</dt>\n",
       "\t\t<dd><strong>$`11305`</strong> = 'ATP-binding cassette, sub-family A (ABC1), member 2'</dd>\n",
       "</dl>\n"
      ],
      "text/latex": [
       "\\begin{description}\n",
       "\\item[\\$Pzp] \\textbf{\\$`11287`} = 'pregnancy zone protein'\n",
       "\\item[\\$Aanat] \\textbf{\\$`11298`} = 'arylalkylamine N-acetyltransferase'\n",
       "\\item[\\$Aatk] \\textbf{\\$`11302`} = 'apoptosis-associated tyrosine kinase'\n",
       "\\item[\\$Abca1] \\textbf{\\$`11303`} = 'ATP-binding cassette, sub-family A (ABC1), member 1'\n",
       "\\item[\\$Abca4] \\textbf{\\$`11304`} = 'ATP-binding cassette, sub-family A (ABC1), member 4'\n",
       "\\item[\\$Abca2] \\textbf{\\$`11305`} = 'ATP-binding cassette, sub-family A (ABC1), member 2'\n",
       "\\end{description}\n"
      ],
      "text/markdown": [
       "$Pzp\n",
       ":   **$`11287`** = 'pregnancy zone protein'\n",
       "$Aanat\n",
       ":   **$`11298`** = 'arylalkylamine N-acetyltransferase'\n",
       "$Aatk\n",
       ":   **$`11302`** = 'apoptosis-associated tyrosine kinase'\n",
       "$Abca1\n",
       ":   **$`11303`** = 'ATP-binding cassette, sub-family A (ABC1), member 1'\n",
       "$Abca4\n",
       ":   **$`11304`** = 'ATP-binding cassette, sub-family A (ABC1), member 4'\n",
       "$Abca2\n",
       ":   **$`11305`** = 'ATP-binding cassette, sub-family A (ABC1), member 2'\n",
       "\n",
       "\n"
      ],
      "text/plain": [
       "$Pzp\n",
       "$Pzp$`11287`\n",
       "[1] \"pregnancy zone protein\"\n",
       "\n",
       "\n",
       "$Aanat\n",
       "$Aanat$`11298`\n",
       "[1] \"arylalkylamine N-acetyltransferase\"\n",
       "\n",
       "\n",
       "$Aatk\n",
       "$Aatk$`11302`\n",
       "[1] \"apoptosis-associated tyrosine kinase\"\n",
       "\n",
       "\n",
       "$Abca1\n",
       "$Abca1$`11303`\n",
       "[1] \"ATP-binding cassette, sub-family A (ABC1), member 1\"\n",
       "\n",
       "\n",
       "$Abca4\n",
       "$Abca4$`11304`\n",
       "[1] \"ATP-binding cassette, sub-family A (ABC1), member 4\"\n",
       "\n",
       "\n",
       "$Abca2\n",
       "$Abca2$`11305`\n",
       "[1] \"ATP-binding cassette, sub-family A (ABC1), member 2\"\n",
       "\n"
      ]
     },
     "metadata": {},
     "output_type": "display_data"
    }
   ],
   "source": [
    "# Map between Entrez Gene Identifiers and Gene Names (and description) \n",
    "eg2name = get_list(org.Mm.egGENENAME)\n",
    "# Map between Gene Symbols and Entrez Gene Identifiers\n",
    "symbol2eg = get_list(org.Mm.egSYMBOL2EG)\n",
    "# Map between RefSeq and Entrez Gene Identifiers\n",
    "refseq2eg = get_list(org.Mm.egREFSEQ2EG)\n",
    "# Map between Gene Symbols and Gene Names (and description)\n",
    "symbol2name = sapply(names(symbol2eg), function(x) return(eg2name[symbol2eg[[x]]]))\n",
    "head(symbol2name)\n",
    "# Map between Entrez Gene Identifiers and KEGG pathways\n",
    "eg2kegg=as.list(org.Mm.egPATH)"
   ]
  },
  {
   "cell_type": "code",
   "execution_count": 5,
   "metadata": {},
   "outputs": [
    {
     "data": {
      "text/html": [
       "312"
      ],
      "text/latex": [
       "312"
      ],
      "text/markdown": [
       "312"
      ],
      "text/plain": [
       "[1] 312"
      ]
     },
     "metadata": {},
     "output_type": "display_data"
    }
   ],
   "source": [
    "# get refseq ids for genes\n",
    "refseq = sapply(rownames(counts), function(x) return(symbol2eg[[x]])) \n",
    "length(refseq[sapply(refseq, is.null)])\n",
    "to_change = names(refseq[sapply(refseq, is.null)])"
   ]
  },
  {
   "cell_type": "code",
   "execution_count": 8,
   "metadata": {},
   "outputs": [],
   "source": [
    "changes = sapply(to_change, search_name)"
   ]
  },
  {
   "cell_type": "code",
   "execution_count": 52,
   "metadata": {},
   "outputs": [
    {
     "data": {
      "text/html": [
       "'ttttttt'"
      ],
      "text/latex": [
       "'ttttttt'"
      ],
      "text/markdown": [
       "'ttttttt'"
      ],
      "text/plain": [
       "[1] \"ttttttt\""
      ]
     },
     "metadata": {},
     "output_type": "display_data"
    }
   ],
   "source": [
    "gsub(\"[(),]\",\"\",\"t,tt(tt)tt\")"
   ]
  },
  {
   "cell_type": "code",
   "execution_count": 21,
   "metadata": {},
   "outputs": [
    {
     "data": {
      "text/html": [
       "277"
      ],
      "text/latex": [
       "277"
      ],
      "text/markdown": [
       "277"
      ],
      "text/plain": [
       "[1] 277"
      ]
     },
     "metadata": {},
     "output_type": "display_data"
    }
   ],
   "source": [
    "doubled = sapply(names(changes), function(x) return(length(changes[[x]])>1))\n",
    "single = changes[!doubled]\n",
    "duplicated = single %in% rownames(counts)\n",
    "non_duplicated = single[!duplicated]\n",
    "duplicated_2 = duplicated(non_duplicated)\n",
    "replacements = non_duplicated[!duplicated_2]"
   ]
  },
  {
   "cell_type": "code",
   "execution_count": 24,
   "metadata": {
    "scrolled": true
   },
   "outputs": [
    {
     "data": {
      "text/html": [
       "<dl class=dl-horizontal>\n",
       "\t<dt>0610005C13Rik</dt>\n",
       "\t\t<dd>'0610005C13Rik'</dd>\n",
       "\t<dt>0610007P14Rik</dt>\n",
       "\t\t<dd>'0610007P14Rik'</dd>\n",
       "\t<dt>0610009B22Rik</dt>\n",
       "\t\t<dd>'0610009B22Rik'</dd>\n",
       "\t<dt>0610009L18Rik</dt>\n",
       "\t\t<dd>'0610009L18Rik'</dd>\n",
       "\t<dt>0610009O20Rik</dt>\n",
       "\t\t<dd>'0610009O20Rik'</dd>\n",
       "\t<dt>0610010B08Rik</dt>\n",
       "\t\t<dd>'0610010B08Rik'</dd>\n",
       "</dl>\n"
      ],
      "text/latex": [
       "\\begin{description*}\n",
       "\\item[0610005C13Rik] '0610005C13Rik'\n",
       "\\item[0610007P14Rik] '0610007P14Rik'\n",
       "\\item[0610009B22Rik] '0610009B22Rik'\n",
       "\\item[0610009L18Rik] '0610009L18Rik'\n",
       "\\item[0610009O20Rik] '0610009O20Rik'\n",
       "\\item[0610010B08Rik] '0610010B08Rik'\n",
       "\\end{description*}\n"
      ],
      "text/markdown": [
       "0610005C13Rik\n",
       ":   '0610005C13Rik'0610007P14Rik\n",
       ":   '0610007P14Rik'0610009B22Rik\n",
       ":   '0610009B22Rik'0610009L18Rik\n",
       ":   '0610009L18Rik'0610009O20Rik\n",
       ":   '0610009O20Rik'0610010B08Rik\n",
       ":   '0610010B08Rik'\n",
       "\n"
      ],
      "text/plain": [
       "  0610005C13Rik   0610007P14Rik   0610009B22Rik   0610009L18Rik   0610009O20Rik \n",
       "\"0610005C13Rik\" \"0610007P14Rik\" \"0610009B22Rik\" \"0610009L18Rik\" \"0610009O20Rik\" \n",
       "  0610010B08Rik \n",
       "\"0610010B08Rik\" "
      ]
     },
     "metadata": {},
     "output_type": "display_data"
    }
   ],
   "source": [
    "# Fix name of the some genes (identified if no Entrez id found for them and with new names found)\n",
    "replacements = unlist(replacements)\n",
    "#rownames(counts)[rownames(counts) == \"1700112E06Rik\"] = \"Lrmda\"\n",
    "new_names = rownames(counts)\n",
    "names(new_names) = rownames(counts)\n",
    "new_names[names(replacements)] = replacements\n",
    "head(new_names)"
   ]
  },
  {
   "cell_type": "code",
   "execution_count": 39,
   "metadata": {},
   "outputs": [
    {
     "data": {
      "text/html": [
       "<table>\n",
       "<thead><tr><th></th><th scope=col>GF_104w_F_1_2</th><th scope=col>GF_104w_F_2_2</th><th scope=col>GF_104w_F_3_2</th><th scope=col>GF_104w_M_1_2</th><th scope=col>GF_104w_M_2_2</th><th scope=col>GF_52w_M_1_2</th><th scope=col>GF_52w_M_2_2</th><th scope=col>GF_52w_M_3_2</th><th scope=col>GF_52w_M_4_2</th><th scope=col>GF_8w_M_1_2</th><th scope=col>⋯</th><th scope=col>SPF_8w_F_1_2</th><th scope=col>SPF_8w_F_2_2</th><th scope=col>SPF_8w_F_3_2</th><th scope=col>SPF_8w_F_4_2</th><th scope=col>SPF_8w_F_5_2</th><th scope=col>GF_8w_F_1_2</th><th scope=col>GF_8w_F_2_2</th><th scope=col>GF_8w_F_3_2</th><th scope=col>GF_8w_F_4_2</th><th scope=col>GF_8w_F_5_2</th></tr></thead>\n",
       "<tbody>\n",
       "\t<tr><th scope=row>0610005C13Rik</th><td>   0</td><td>   0</td><td>   0</td><td>   2</td><td>   2</td><td>   1</td><td>  5 </td><td>  5 </td><td>  10</td><td>  7 </td><td>⋯   </td><td>   3</td><td>  3 </td><td>   2</td><td>  2 </td><td>   0</td><td> 17 </td><td>  0 </td><td>   2</td><td>  5 </td><td>  0 </td></tr>\n",
       "\t<tr><th scope=row>0610007P14Rik</th><td> 954</td><td> 704</td><td> 999</td><td>1002</td><td>1577</td><td> 604</td><td>537 </td><td>459 </td><td>1021</td><td>499 </td><td>⋯   </td><td> 654</td><td>152 </td><td> 705</td><td>698 </td><td> 891</td><td>837 </td><td>627 </td><td> 605</td><td>563 </td><td>631 </td></tr>\n",
       "\t<tr><th scope=row>0610009B22Rik</th><td>1122</td><td>1098</td><td>1296</td><td>1385</td><td>2475</td><td>1234</td><td>887 </td><td>907 </td><td>1214</td><td>784 </td><td>⋯   </td><td>1087</td><td>436 </td><td>1103</td><td>996 </td><td>1346</td><td>969 </td><td>938 </td><td>1128</td><td>911 </td><td>853 </td></tr>\n",
       "\t<tr><th scope=row>0610009L18Rik</th><td>  31</td><td>  34</td><td>  20</td><td>  23</td><td>  61</td><td>  38</td><td> 27 </td><td> 20 </td><td>   6</td><td> 51 </td><td>⋯   </td><td>  36</td><td> 22 </td><td>  43</td><td> 79 </td><td>  67</td><td> 45 </td><td> 18 </td><td>  11</td><td> 43 </td><td> 19 </td></tr>\n",
       "\t<tr><th scope=row>0610009O20Rik</th><td> 239</td><td> 262</td><td> 292</td><td> 256</td><td> 432</td><td> 356</td><td>354 </td><td>353 </td><td> 428</td><td>298 </td><td>⋯   </td><td> 235</td><td>204 </td><td> 239</td><td>175 </td><td> 172</td><td>216 </td><td>146 </td><td> 268</td><td>289 </td><td>210 </td></tr>\n",
       "\t<tr><th scope=row>0610010B08Rik</th><td>   0</td><td>   0</td><td>   0</td><td>   0</td><td>   0</td><td>   0</td><td>  0 </td><td>  0 </td><td>   0</td><td>  0 </td><td>⋯   </td><td>   0</td><td>  0 </td><td>   0</td><td>  0 </td><td>   0</td><td>  0 </td><td>  0 </td><td>   0</td><td>  0 </td><td>  0 </td></tr>\n",
       "</tbody>\n",
       "</table>\n"
      ],
      "text/latex": [
       "\\begin{tabular}{r|lllllllllllllllllllllllllllllllllllllllllllllllllllllllllllll}\n",
       "  & GF\\_104w\\_F\\_1\\_2 & GF\\_104w\\_F\\_2\\_2 & GF\\_104w\\_F\\_3\\_2 & GF\\_104w\\_M\\_1\\_2 & GF\\_104w\\_M\\_2\\_2 & GF\\_52w\\_M\\_1\\_2 & GF\\_52w\\_M\\_2\\_2 & GF\\_52w\\_M\\_3\\_2 & GF\\_52w\\_M\\_4\\_2 & GF\\_8w\\_M\\_1\\_2 & ⋯ & SPF\\_8w\\_F\\_1\\_2 & SPF\\_8w\\_F\\_2\\_2 & SPF\\_8w\\_F\\_3\\_2 & SPF\\_8w\\_F\\_4\\_2 & SPF\\_8w\\_F\\_5\\_2 & GF\\_8w\\_F\\_1\\_2 & GF\\_8w\\_F\\_2\\_2 & GF\\_8w\\_F\\_3\\_2 & GF\\_8w\\_F\\_4\\_2 & GF\\_8w\\_F\\_5\\_2\\\\\n",
       "\\hline\n",
       "\t0610005C13Rik &    0 &    0 &    0 &    2 &    2 &    1 &   5  &   5  &   10 &   7  & ⋯    &    3 &   3  &    2 &   2  &    0 &  17  &   0  &    2 &   5  &   0 \\\\\n",
       "\t0610007P14Rik &  954 &  704 &  999 & 1002 & 1577 &  604 & 537  & 459  & 1021 & 499  & ⋯    &  654 & 152  &  705 & 698  &  891 & 837  & 627  &  605 & 563  & 631 \\\\\n",
       "\t0610009B22Rik & 1122 & 1098 & 1296 & 1385 & 2475 & 1234 & 887  & 907  & 1214 & 784  & ⋯    & 1087 & 436  & 1103 & 996  & 1346 & 969  & 938  & 1128 & 911  & 853 \\\\\n",
       "\t0610009L18Rik &   31 &   34 &   20 &   23 &   61 &   38 &  27  &  20  &    6 &  51  & ⋯    &   36 &  22  &   43 &  79  &   67 &  45  &  18  &   11 &  43  &  19 \\\\\n",
       "\t0610009O20Rik &  239 &  262 &  292 &  256 &  432 &  356 & 354  & 353  &  428 & 298  & ⋯    &  235 & 204  &  239 & 175  &  172 & 216  & 146  &  268 & 289  & 210 \\\\\n",
       "\t0610010B08Rik &    0 &    0 &    0 &    0 &    0 &    0 &   0  &   0  &    0 &   0  & ⋯    &    0 &   0  &    0 &   0  &    0 &   0  &   0  &    0 &   0  &   0 \\\\\n",
       "\\end{tabular}\n"
      ],
      "text/markdown": [
       "\n",
       "| <!--/--> | GF_104w_F_1_2 | GF_104w_F_2_2 | GF_104w_F_3_2 | GF_104w_M_1_2 | GF_104w_M_2_2 | GF_52w_M_1_2 | GF_52w_M_2_2 | GF_52w_M_3_2 | GF_52w_M_4_2 | GF_8w_M_1_2 | ⋯ | SPF_8w_F_1_2 | SPF_8w_F_2_2 | SPF_8w_F_3_2 | SPF_8w_F_4_2 | SPF_8w_F_5_2 | GF_8w_F_1_2 | GF_8w_F_2_2 | GF_8w_F_3_2 | GF_8w_F_4_2 | GF_8w_F_5_2 | \n",
       "|---|---|---|---|---|---|\n",
       "| 0610005C13Rik |    0 |    0 |    0 |    2 |    2 |    1 |   5  |   5  |   10 |   7  | ⋯    |    3 |   3  |    2 |   2  |    0 |  17  |   0  |    2 |   5  |   0  | \n",
       "| 0610007P14Rik |  954 |  704 |  999 | 1002 | 1577 |  604 | 537  | 459  | 1021 | 499  | ⋯    |  654 | 152  |  705 | 698  |  891 | 837  | 627  |  605 | 563  | 631  | \n",
       "| 0610009B22Rik | 1122 | 1098 | 1296 | 1385 | 2475 | 1234 | 887  | 907  | 1214 | 784  | ⋯    | 1087 | 436  | 1103 | 996  | 1346 | 969  | 938  | 1128 | 911  | 853  | \n",
       "| 0610009L18Rik |   31 |   34 |   20 |   23 |   61 |   38 |  27  |  20  |    6 |  51  | ⋯    |   36 |  22  |   43 |  79  |   67 |  45  |  18  |   11 |  43  |  19  | \n",
       "| 0610009O20Rik |  239 |  262 |  292 |  256 |  432 |  356 | 354  | 353  |  428 | 298  | ⋯    |  235 | 204  |  239 | 175  |  172 | 216  | 146  |  268 | 289  | 210  | \n",
       "| 0610010B08Rik |    0 |    0 |    0 |    0 |    0 |    0 |   0  |   0  |    0 |   0  | ⋯    |    0 |   0  |    0 |   0  |    0 |   0  |   0  |    0 |   0  |   0  | \n",
       "\n",
       "\n"
      ],
      "text/plain": [
       "              GF_104w_F_1_2 GF_104w_F_2_2 GF_104w_F_3_2 GF_104w_M_1_2\n",
       "0610005C13Rik    0             0             0             2         \n",
       "0610007P14Rik  954           704           999          1002         \n",
       "0610009B22Rik 1122          1098          1296          1385         \n",
       "0610009L18Rik   31            34            20            23         \n",
       "0610009O20Rik  239           262           292           256         \n",
       "0610010B08Rik    0             0             0             0         \n",
       "              GF_104w_M_2_2 GF_52w_M_1_2 GF_52w_M_2_2 GF_52w_M_3_2 GF_52w_M_4_2\n",
       "0610005C13Rik    2             1           5            5            10        \n",
       "0610007P14Rik 1577           604         537          459          1021        \n",
       "0610009B22Rik 2475          1234         887          907          1214        \n",
       "0610009L18Rik   61            38          27           20             6        \n",
       "0610009O20Rik  432           356         354          353           428        \n",
       "0610010B08Rik    0             0           0            0             0        \n",
       "              GF_8w_M_1_2 ⋯ SPF_8w_F_1_2 SPF_8w_F_2_2 SPF_8w_F_3_2 SPF_8w_F_4_2\n",
       "0610005C13Rik   7         ⋯    3           3             2           2         \n",
       "0610007P14Rik 499         ⋯  654         152           705         698         \n",
       "0610009B22Rik 784         ⋯ 1087         436          1103         996         \n",
       "0610009L18Rik  51         ⋯   36          22            43          79         \n",
       "0610009O20Rik 298         ⋯  235         204           239         175         \n",
       "0610010B08Rik   0         ⋯    0           0             0           0         \n",
       "              SPF_8w_F_5_2 GF_8w_F_1_2 GF_8w_F_2_2 GF_8w_F_3_2 GF_8w_F_4_2\n",
       "0610005C13Rik    0          17           0            2          5        \n",
       "0610007P14Rik  891         837         627          605        563        \n",
       "0610009B22Rik 1346         969         938         1128        911        \n",
       "0610009L18Rik   67          45          18           11         43        \n",
       "0610009O20Rik  172         216         146          268        289        \n",
       "0610010B08Rik    0           0           0            0          0        \n",
       "              GF_8w_F_5_2\n",
       "0610005C13Rik   0        \n",
       "0610007P14Rik 631        \n",
       "0610009B22Rik 853        \n",
       "0610009L18Rik  19        \n",
       "0610009O20Rik 210        \n",
       "0610010B08Rik   0        "
      ]
     },
     "metadata": {},
     "output_type": "display_data"
    },
    {
     "data": {
      "text/html": [
       "<dl class=dl-horizontal>\n",
       "\t<dt>0610005C13Rik</dt>\n",
       "\t\t<dd>1122</dd>\n",
       "\t<dt>0610007P14Rik</dt>\n",
       "\t\t<dd>1185</dd>\n",
       "\t<dt>0610009B22Rik</dt>\n",
       "\t\t<dd>795</dd>\n",
       "\t<dt>0610009L18Rik</dt>\n",
       "\t\t<dd>619</dd>\n",
       "\t<dt>0610009O20Rik</dt>\n",
       "\t\t<dd>2404</dd>\n",
       "\t<dt>0610010B08Rik</dt>\n",
       "\t\t<dd>27229</dd>\n",
       "</dl>\n"
      ],
      "text/latex": [
       "\\begin{description*}\n",
       "\\item[0610005C13Rik] 1122\n",
       "\\item[0610007P14Rik] 1185\n",
       "\\item[0610009B22Rik] 795\n",
       "\\item[0610009L18Rik] 619\n",
       "\\item[0610009O20Rik] 2404\n",
       "\\item[0610010B08Rik] 27229\n",
       "\\end{description*}\n"
      ],
      "text/markdown": [
       "0610005C13Rik\n",
       ":   11220610007P14Rik\n",
       ":   11850610009B22Rik\n",
       ":   7950610009L18Rik\n",
       ":   6190610009O20Rik\n",
       ":   24040610010B08Rik\n",
       ":   27229\n",
       "\n"
      ],
      "text/plain": [
       "0610005C13Rik 0610007P14Rik 0610009B22Rik 0610009L18Rik 0610009O20Rik \n",
       "         1122          1185           795           619          2404 \n",
       "0610010B08Rik \n",
       "        27229 "
      ]
     },
     "metadata": {},
     "output_type": "display_data"
    }
   ],
   "source": [
    "rownames(counts) = new_names\n",
    "names(gene_length) = new_names\n",
    "head(counts)\n",
    "head(gene_length)"
   ]
  },
  {
   "cell_type": "code",
   "execution_count": 40,
   "metadata": {},
   "outputs": [
    {
     "data": {
      "text/html": [
       "37"
      ],
      "text/latex": [
       "37"
      ],
      "text/markdown": [
       "37"
      ],
      "text/plain": [
       "[1] 37"
      ]
     },
     "metadata": {},
     "output_type": "display_data"
    }
   ],
   "source": [
    "refseq_check = sapply(rownames(counts), function(x) return(symbol2eg[[x]])) \n",
    "length(refseq[sapply(refseq_check, is.null)])"
   ]
  },
  {
   "cell_type": "code",
   "execution_count": 41,
   "metadata": {},
   "outputs": [],
   "source": [
    "# Remove the columns with spurious data\n",
    "to_remove = c(\"SPF_8w_F_2_2\")\n",
    "counts = counts[,!names(counts) %in% to_remove]"
   ]
  },
  {
   "cell_type": "code",
   "execution_count": 42,
   "metadata": {},
   "outputs": [
    {
     "data": {
      "text/html": [
       "<table>\n",
       "<thead><tr><th></th><th scope=col>type</th><th scope=col>age</th><th scope=col>gender</th><th scope=col>replicate</th></tr></thead>\n",
       "<tbody>\n",
       "\t<tr><th scope=row>GF_104w_F_1_2</th><td>GF  </td><td>104w</td><td>F   </td><td>1   </td></tr>\n",
       "\t<tr><th scope=row>GF_104w_F_2_2</th><td>GF  </td><td>104w</td><td>F   </td><td>2   </td></tr>\n",
       "\t<tr><th scope=row>GF_104w_F_3_2</th><td>GF  </td><td>104w</td><td>F   </td><td>3   </td></tr>\n",
       "\t<tr><th scope=row>GF_104w_M_1_2</th><td>GF  </td><td>104w</td><td>M   </td><td>1   </td></tr>\n",
       "\t<tr><th scope=row>GF_104w_M_2_2</th><td>GF  </td><td>104w</td><td>M   </td><td>2   </td></tr>\n",
       "\t<tr><th scope=row>GF_52w_M_1_2</th><td>GF  </td><td>52w </td><td>M   </td><td>1   </td></tr>\n",
       "\t<tr><th scope=row>GF_52w_M_2_2</th><td>GF  </td><td>52w </td><td>M   </td><td>2   </td></tr>\n",
       "\t<tr><th scope=row>GF_52w_M_3_2</th><td>GF  </td><td>52w </td><td>M   </td><td>3   </td></tr>\n",
       "\t<tr><th scope=row>GF_52w_M_4_2</th><td>GF  </td><td>52w </td><td>M   </td><td>4   </td></tr>\n",
       "\t<tr><th scope=row>GF_8w_M_1_2</th><td>GF  </td><td>8w  </td><td>M   </td><td>1   </td></tr>\n",
       "\t<tr><th scope=row>GF_8w_M_2_2</th><td>GF  </td><td>8w  </td><td>M   </td><td>2   </td></tr>\n",
       "\t<tr><th scope=row>GF_8w_M_3_2</th><td>GF  </td><td>8w  </td><td>M   </td><td>3   </td></tr>\n",
       "\t<tr><th scope=row>GF_8w_M_4_2</th><td>GF  </td><td>8w  </td><td>M   </td><td>4   </td></tr>\n",
       "\t<tr><th scope=row>SPF_104w_F_1_2</th><td>SPF </td><td>104w</td><td>F   </td><td>1   </td></tr>\n",
       "\t<tr><th scope=row>SPF_104w_F_2_2</th><td>SPF </td><td>104w</td><td>F   </td><td>2   </td></tr>\n",
       "\t<tr><th scope=row>SPF_104w_F_3_2</th><td>SPF </td><td>104w</td><td>F   </td><td>3   </td></tr>\n",
       "\t<tr><th scope=row>SPF_104w_M_1_2</th><td>SPF </td><td>104w</td><td>M   </td><td>1   </td></tr>\n",
       "\t<tr><th scope=row>SPF_104w_M_2_2</th><td>SPF </td><td>104w</td><td>M   </td><td>2   </td></tr>\n",
       "\t<tr><th scope=row>SPF_104w_M_3_2</th><td>SPF </td><td>104w</td><td>M   </td><td>3   </td></tr>\n",
       "\t<tr><th scope=row>SPF_104w_M_4_2</th><td>SPF </td><td>104w</td><td>M   </td><td>4   </td></tr>\n",
       "\t<tr><th scope=row>SPF_52w_M_1_2</th><td>SPF </td><td>52w </td><td>M   </td><td>1   </td></tr>\n",
       "\t<tr><th scope=row>SPF_52w_M_2_2</th><td>SPF </td><td>52w </td><td>M   </td><td>2   </td></tr>\n",
       "\t<tr><th scope=row>SPF_52w_M_3_2</th><td>SPF </td><td>52w </td><td>M   </td><td>3   </td></tr>\n",
       "\t<tr><th scope=row>SPF_52w_M_4_2</th><td>SPF </td><td>52w </td><td>M   </td><td>4   </td></tr>\n",
       "\t<tr><th scope=row>SPF_52w_M_5_2</th><td>SPF </td><td>52w </td><td>M   </td><td>5   </td></tr>\n",
       "\t<tr><th scope=row>SPF_8w_M_1_2</th><td>SPF </td><td>8w  </td><td>M   </td><td>1   </td></tr>\n",
       "\t<tr><th scope=row>SPF_8w_M_2_2</th><td>SPF </td><td>8w  </td><td>M   </td><td>2   </td></tr>\n",
       "\t<tr><th scope=row>SPF_8w_M_3_2</th><td>SPF </td><td>8w  </td><td>M   </td><td>3   </td></tr>\n",
       "\t<tr><th scope=row>SPF_8w_M_4_2</th><td>SPF </td><td>8w  </td><td>M   </td><td>4   </td></tr>\n",
       "\t<tr><th scope=row>GF_52w_F_1_2</th><td>GF  </td><td>52w </td><td>F   </td><td>1   </td></tr>\n",
       "\t<tr><th scope=row>GF_52w_F_2_2</th><td>GF  </td><td>52w </td><td>F   </td><td>2   </td></tr>\n",
       "\t<tr><th scope=row>GF_52w_F_3_2</th><td>GF  </td><td>52w </td><td>F   </td><td>3   </td></tr>\n",
       "\t<tr><th scope=row>GF_52w_F_4_2</th><td>GF  </td><td>52w </td><td>F   </td><td>4   </td></tr>\n",
       "\t<tr><th scope=row>GF_52w_F_5_2</th><td>GF  </td><td>52w </td><td>F   </td><td>5   </td></tr>\n",
       "\t<tr><th scope=row>GF_52w_F_6_2</th><td>GF  </td><td>52w </td><td>F   </td><td>6   </td></tr>\n",
       "\t<tr><th scope=row>SPF_52w_F_1_2</th><td>SPF </td><td>52w </td><td>F   </td><td>1   </td></tr>\n",
       "\t<tr><th scope=row>SPF_52w_F_2_2</th><td>SPF </td><td>52w </td><td>F   </td><td>2   </td></tr>\n",
       "\t<tr><th scope=row>SPF_52w_F_3_2</th><td>SPF </td><td>52w </td><td>F   </td><td>3   </td></tr>\n",
       "\t<tr><th scope=row>SPF_52w_F_4_2</th><td>SPF </td><td>52w </td><td>F   </td><td>4   </td></tr>\n",
       "\t<tr><th scope=row>SPF_52w_F_5_2</th><td>SPF </td><td>52w </td><td>F   </td><td>5   </td></tr>\n",
       "\t<tr><th scope=row>SPF_52w_F_6_2</th><td>SPF </td><td>52w </td><td>F   </td><td>6   </td></tr>\n",
       "\t<tr><th scope=row>SPF_104w_M_5_2</th><td>SPF </td><td>104w</td><td>M   </td><td>5   </td></tr>\n",
       "\t<tr><th scope=row>SPF_104w_M_6_2</th><td>SPF </td><td>104w</td><td>M   </td><td>6   </td></tr>\n",
       "\t<tr><th scope=row>SPF_104w_M_7_2</th><td>SPF </td><td>104w</td><td>M   </td><td>7   </td></tr>\n",
       "\t<tr><th scope=row>SPF_104w_M_8_2</th><td>SPF </td><td>104w</td><td>M   </td><td>8   </td></tr>\n",
       "\t<tr><th scope=row>SPF_104w_M_9_2</th><td>SPF </td><td>104w</td><td>M   </td><td>9   </td></tr>\n",
       "\t<tr><th scope=row>SPF_104w_M_10_2</th><td>SPF </td><td>104w</td><td>M   </td><td>10  </td></tr>\n",
       "\t<tr><th scope=row>SPF_104w_M_11_2</th><td>SPF </td><td>104w</td><td>M   </td><td>11  </td></tr>\n",
       "\t<tr><th scope=row>SPF_104w_M_12_2</th><td>SPF </td><td>104w</td><td>M   </td><td>12  </td></tr>\n",
       "\t<tr><th scope=row>SPF_104w_M_13_2</th><td>SPF </td><td>104w</td><td>M   </td><td>13  </td></tr>\n",
       "\t<tr><th scope=row>SPF_104w_M_14_2</th><td>SPF </td><td>104w</td><td>M   </td><td>14  </td></tr>\n",
       "\t<tr><th scope=row>SPF_8w_F_1_2</th><td>SPF </td><td>8w  </td><td>F   </td><td>1   </td></tr>\n",
       "\t<tr><th scope=row>SPF_8w_F_3_2</th><td>SPF </td><td>8w  </td><td>F   </td><td>3   </td></tr>\n",
       "\t<tr><th scope=row>SPF_8w_F_4_2</th><td>SPF </td><td>8w  </td><td>F   </td><td>4   </td></tr>\n",
       "\t<tr><th scope=row>SPF_8w_F_5_2</th><td>SPF </td><td>8w  </td><td>F   </td><td>5   </td></tr>\n",
       "\t<tr><th scope=row>GF_8w_F_1_2</th><td>GF  </td><td>8w  </td><td>F   </td><td>1   </td></tr>\n",
       "\t<tr><th scope=row>GF_8w_F_2_2</th><td>GF  </td><td>8w  </td><td>F   </td><td>2   </td></tr>\n",
       "\t<tr><th scope=row>GF_8w_F_3_2</th><td>GF  </td><td>8w  </td><td>F   </td><td>3   </td></tr>\n",
       "\t<tr><th scope=row>GF_8w_F_4_2</th><td>GF  </td><td>8w  </td><td>F   </td><td>4   </td></tr>\n",
       "\t<tr><th scope=row>GF_8w_F_5_2</th><td>GF  </td><td>8w  </td><td>F   </td><td>5   </td></tr>\n",
       "</tbody>\n",
       "</table>\n"
      ],
      "text/latex": [
       "\\begin{tabular}{r|llll}\n",
       "  & type & age & gender & replicate\\\\\n",
       "\\hline\n",
       "\tGF\\_104w\\_F\\_1\\_2 & GF   & 104w & F    & 1   \\\\\n",
       "\tGF\\_104w\\_F\\_2\\_2 & GF   & 104w & F    & 2   \\\\\n",
       "\tGF\\_104w\\_F\\_3\\_2 & GF   & 104w & F    & 3   \\\\\n",
       "\tGF\\_104w\\_M\\_1\\_2 & GF   & 104w & M    & 1   \\\\\n",
       "\tGF\\_104w\\_M\\_2\\_2 & GF   & 104w & M    & 2   \\\\\n",
       "\tGF\\_52w\\_M\\_1\\_2 & GF   & 52w  & M    & 1   \\\\\n",
       "\tGF\\_52w\\_M\\_2\\_2 & GF   & 52w  & M    & 2   \\\\\n",
       "\tGF\\_52w\\_M\\_3\\_2 & GF   & 52w  & M    & 3   \\\\\n",
       "\tGF\\_52w\\_M\\_4\\_2 & GF   & 52w  & M    & 4   \\\\\n",
       "\tGF\\_8w\\_M\\_1\\_2 & GF   & 8w   & M    & 1   \\\\\n",
       "\tGF\\_8w\\_M\\_2\\_2 & GF   & 8w   & M    & 2   \\\\\n",
       "\tGF\\_8w\\_M\\_3\\_2 & GF   & 8w   & M    & 3   \\\\\n",
       "\tGF\\_8w\\_M\\_4\\_2 & GF   & 8w   & M    & 4   \\\\\n",
       "\tSPF\\_104w\\_F\\_1\\_2 & SPF  & 104w & F    & 1   \\\\\n",
       "\tSPF\\_104w\\_F\\_2\\_2 & SPF  & 104w & F    & 2   \\\\\n",
       "\tSPF\\_104w\\_F\\_3\\_2 & SPF  & 104w & F    & 3   \\\\\n",
       "\tSPF\\_104w\\_M\\_1\\_2 & SPF  & 104w & M    & 1   \\\\\n",
       "\tSPF\\_104w\\_M\\_2\\_2 & SPF  & 104w & M    & 2   \\\\\n",
       "\tSPF\\_104w\\_M\\_3\\_2 & SPF  & 104w & M    & 3   \\\\\n",
       "\tSPF\\_104w\\_M\\_4\\_2 & SPF  & 104w & M    & 4   \\\\\n",
       "\tSPF\\_52w\\_M\\_1\\_2 & SPF  & 52w  & M    & 1   \\\\\n",
       "\tSPF\\_52w\\_M\\_2\\_2 & SPF  & 52w  & M    & 2   \\\\\n",
       "\tSPF\\_52w\\_M\\_3\\_2 & SPF  & 52w  & M    & 3   \\\\\n",
       "\tSPF\\_52w\\_M\\_4\\_2 & SPF  & 52w  & M    & 4   \\\\\n",
       "\tSPF\\_52w\\_M\\_5\\_2 & SPF  & 52w  & M    & 5   \\\\\n",
       "\tSPF\\_8w\\_M\\_1\\_2 & SPF  & 8w   & M    & 1   \\\\\n",
       "\tSPF\\_8w\\_M\\_2\\_2 & SPF  & 8w   & M    & 2   \\\\\n",
       "\tSPF\\_8w\\_M\\_3\\_2 & SPF  & 8w   & M    & 3   \\\\\n",
       "\tSPF\\_8w\\_M\\_4\\_2 & SPF  & 8w   & M    & 4   \\\\\n",
       "\tGF\\_52w\\_F\\_1\\_2 & GF   & 52w  & F    & 1   \\\\\n",
       "\tGF\\_52w\\_F\\_2\\_2 & GF   & 52w  & F    & 2   \\\\\n",
       "\tGF\\_52w\\_F\\_3\\_2 & GF   & 52w  & F    & 3   \\\\\n",
       "\tGF\\_52w\\_F\\_4\\_2 & GF   & 52w  & F    & 4   \\\\\n",
       "\tGF\\_52w\\_F\\_5\\_2 & GF   & 52w  & F    & 5   \\\\\n",
       "\tGF\\_52w\\_F\\_6\\_2 & GF   & 52w  & F    & 6   \\\\\n",
       "\tSPF\\_52w\\_F\\_1\\_2 & SPF  & 52w  & F    & 1   \\\\\n",
       "\tSPF\\_52w\\_F\\_2\\_2 & SPF  & 52w  & F    & 2   \\\\\n",
       "\tSPF\\_52w\\_F\\_3\\_2 & SPF  & 52w  & F    & 3   \\\\\n",
       "\tSPF\\_52w\\_F\\_4\\_2 & SPF  & 52w  & F    & 4   \\\\\n",
       "\tSPF\\_52w\\_F\\_5\\_2 & SPF  & 52w  & F    & 5   \\\\\n",
       "\tSPF\\_52w\\_F\\_6\\_2 & SPF  & 52w  & F    & 6   \\\\\n",
       "\tSPF\\_104w\\_M\\_5\\_2 & SPF  & 104w & M    & 5   \\\\\n",
       "\tSPF\\_104w\\_M\\_6\\_2 & SPF  & 104w & M    & 6   \\\\\n",
       "\tSPF\\_104w\\_M\\_7\\_2 & SPF  & 104w & M    & 7   \\\\\n",
       "\tSPF\\_104w\\_M\\_8\\_2 & SPF  & 104w & M    & 8   \\\\\n",
       "\tSPF\\_104w\\_M\\_9\\_2 & SPF  & 104w & M    & 9   \\\\\n",
       "\tSPF\\_104w\\_M\\_10\\_2 & SPF  & 104w & M    & 10  \\\\\n",
       "\tSPF\\_104w\\_M\\_11\\_2 & SPF  & 104w & M    & 11  \\\\\n",
       "\tSPF\\_104w\\_M\\_12\\_2 & SPF  & 104w & M    & 12  \\\\\n",
       "\tSPF\\_104w\\_M\\_13\\_2 & SPF  & 104w & M    & 13  \\\\\n",
       "\tSPF\\_104w\\_M\\_14\\_2 & SPF  & 104w & M    & 14  \\\\\n",
       "\tSPF\\_8w\\_F\\_1\\_2 & SPF  & 8w   & F    & 1   \\\\\n",
       "\tSPF\\_8w\\_F\\_3\\_2 & SPF  & 8w   & F    & 3   \\\\\n",
       "\tSPF\\_8w\\_F\\_4\\_2 & SPF  & 8w   & F    & 4   \\\\\n",
       "\tSPF\\_8w\\_F\\_5\\_2 & SPF  & 8w   & F    & 5   \\\\\n",
       "\tGF\\_8w\\_F\\_1\\_2 & GF   & 8w   & F    & 1   \\\\\n",
       "\tGF\\_8w\\_F\\_2\\_2 & GF   & 8w   & F    & 2   \\\\\n",
       "\tGF\\_8w\\_F\\_3\\_2 & GF   & 8w   & F    & 3   \\\\\n",
       "\tGF\\_8w\\_F\\_4\\_2 & GF   & 8w   & F    & 4   \\\\\n",
       "\tGF\\_8w\\_F\\_5\\_2 & GF   & 8w   & F    & 5   \\\\\n",
       "\\end{tabular}\n"
      ],
      "text/markdown": [
       "\n",
       "| <!--/--> | type | age | gender | replicate | \n",
       "|---|---|---|---|---|---|---|---|---|---|---|---|---|---|---|---|---|---|---|---|---|---|---|---|---|---|---|---|---|---|---|---|---|---|---|---|---|---|---|---|---|---|---|---|---|---|---|---|---|---|---|---|---|---|---|---|---|---|---|---|\n",
       "| GF_104w_F_1_2 | GF   | 104w | F    | 1    | \n",
       "| GF_104w_F_2_2 | GF   | 104w | F    | 2    | \n",
       "| GF_104w_F_3_2 | GF   | 104w | F    | 3    | \n",
       "| GF_104w_M_1_2 | GF   | 104w | M    | 1    | \n",
       "| GF_104w_M_2_2 | GF   | 104w | M    | 2    | \n",
       "| GF_52w_M_1_2 | GF   | 52w  | M    | 1    | \n",
       "| GF_52w_M_2_2 | GF   | 52w  | M    | 2    | \n",
       "| GF_52w_M_3_2 | GF   | 52w  | M    | 3    | \n",
       "| GF_52w_M_4_2 | GF   | 52w  | M    | 4    | \n",
       "| GF_8w_M_1_2 | GF   | 8w   | M    | 1    | \n",
       "| GF_8w_M_2_2 | GF   | 8w   | M    | 2    | \n",
       "| GF_8w_M_3_2 | GF   | 8w   | M    | 3    | \n",
       "| GF_8w_M_4_2 | GF   | 8w   | M    | 4    | \n",
       "| SPF_104w_F_1_2 | SPF  | 104w | F    | 1    | \n",
       "| SPF_104w_F_2_2 | SPF  | 104w | F    | 2    | \n",
       "| SPF_104w_F_3_2 | SPF  | 104w | F    | 3    | \n",
       "| SPF_104w_M_1_2 | SPF  | 104w | M    | 1    | \n",
       "| SPF_104w_M_2_2 | SPF  | 104w | M    | 2    | \n",
       "| SPF_104w_M_3_2 | SPF  | 104w | M    | 3    | \n",
       "| SPF_104w_M_4_2 | SPF  | 104w | M    | 4    | \n",
       "| SPF_52w_M_1_2 | SPF  | 52w  | M    | 1    | \n",
       "| SPF_52w_M_2_2 | SPF  | 52w  | M    | 2    | \n",
       "| SPF_52w_M_3_2 | SPF  | 52w  | M    | 3    | \n",
       "| SPF_52w_M_4_2 | SPF  | 52w  | M    | 4    | \n",
       "| SPF_52w_M_5_2 | SPF  | 52w  | M    | 5    | \n",
       "| SPF_8w_M_1_2 | SPF  | 8w   | M    | 1    | \n",
       "| SPF_8w_M_2_2 | SPF  | 8w   | M    | 2    | \n",
       "| SPF_8w_M_3_2 | SPF  | 8w   | M    | 3    | \n",
       "| SPF_8w_M_4_2 | SPF  | 8w   | M    | 4    | \n",
       "| GF_52w_F_1_2 | GF   | 52w  | F    | 1    | \n",
       "| GF_52w_F_2_2 | GF   | 52w  | F    | 2    | \n",
       "| GF_52w_F_3_2 | GF   | 52w  | F    | 3    | \n",
       "| GF_52w_F_4_2 | GF   | 52w  | F    | 4    | \n",
       "| GF_52w_F_5_2 | GF   | 52w  | F    | 5    | \n",
       "| GF_52w_F_6_2 | GF   | 52w  | F    | 6    | \n",
       "| SPF_52w_F_1_2 | SPF  | 52w  | F    | 1    | \n",
       "| SPF_52w_F_2_2 | SPF  | 52w  | F    | 2    | \n",
       "| SPF_52w_F_3_2 | SPF  | 52w  | F    | 3    | \n",
       "| SPF_52w_F_4_2 | SPF  | 52w  | F    | 4    | \n",
       "| SPF_52w_F_5_2 | SPF  | 52w  | F    | 5    | \n",
       "| SPF_52w_F_6_2 | SPF  | 52w  | F    | 6    | \n",
       "| SPF_104w_M_5_2 | SPF  | 104w | M    | 5    | \n",
       "| SPF_104w_M_6_2 | SPF  | 104w | M    | 6    | \n",
       "| SPF_104w_M_7_2 | SPF  | 104w | M    | 7    | \n",
       "| SPF_104w_M_8_2 | SPF  | 104w | M    | 8    | \n",
       "| SPF_104w_M_9_2 | SPF  | 104w | M    | 9    | \n",
       "| SPF_104w_M_10_2 | SPF  | 104w | M    | 10   | \n",
       "| SPF_104w_M_11_2 | SPF  | 104w | M    | 11   | \n",
       "| SPF_104w_M_12_2 | SPF  | 104w | M    | 12   | \n",
       "| SPF_104w_M_13_2 | SPF  | 104w | M    | 13   | \n",
       "| SPF_104w_M_14_2 | SPF  | 104w | M    | 14   | \n",
       "| SPF_8w_F_1_2 | SPF  | 8w   | F    | 1    | \n",
       "| SPF_8w_F_3_2 | SPF  | 8w   | F    | 3    | \n",
       "| SPF_8w_F_4_2 | SPF  | 8w   | F    | 4    | \n",
       "| SPF_8w_F_5_2 | SPF  | 8w   | F    | 5    | \n",
       "| GF_8w_F_1_2 | GF   | 8w   | F    | 1    | \n",
       "| GF_8w_F_2_2 | GF   | 8w   | F    | 2    | \n",
       "| GF_8w_F_3_2 | GF   | 8w   | F    | 3    | \n",
       "| GF_8w_F_4_2 | GF   | 8w   | F    | 4    | \n",
       "| GF_8w_F_5_2 | GF   | 8w   | F    | 5    | \n",
       "\n",
       "\n"
      ],
      "text/plain": [
       "                type age  gender replicate\n",
       "GF_104w_F_1_2   GF   104w F      1        \n",
       "GF_104w_F_2_2   GF   104w F      2        \n",
       "GF_104w_F_3_2   GF   104w F      3        \n",
       "GF_104w_M_1_2   GF   104w M      1        \n",
       "GF_104w_M_2_2   GF   104w M      2        \n",
       "GF_52w_M_1_2    GF   52w  M      1        \n",
       "GF_52w_M_2_2    GF   52w  M      2        \n",
       "GF_52w_M_3_2    GF   52w  M      3        \n",
       "GF_52w_M_4_2    GF   52w  M      4        \n",
       "GF_8w_M_1_2     GF   8w   M      1        \n",
       "GF_8w_M_2_2     GF   8w   M      2        \n",
       "GF_8w_M_3_2     GF   8w   M      3        \n",
       "GF_8w_M_4_2     GF   8w   M      4        \n",
       "SPF_104w_F_1_2  SPF  104w F      1        \n",
       "SPF_104w_F_2_2  SPF  104w F      2        \n",
       "SPF_104w_F_3_2  SPF  104w F      3        \n",
       "SPF_104w_M_1_2  SPF  104w M      1        \n",
       "SPF_104w_M_2_2  SPF  104w M      2        \n",
       "SPF_104w_M_3_2  SPF  104w M      3        \n",
       "SPF_104w_M_4_2  SPF  104w M      4        \n",
       "SPF_52w_M_1_2   SPF  52w  M      1        \n",
       "SPF_52w_M_2_2   SPF  52w  M      2        \n",
       "SPF_52w_M_3_2   SPF  52w  M      3        \n",
       "SPF_52w_M_4_2   SPF  52w  M      4        \n",
       "SPF_52w_M_5_2   SPF  52w  M      5        \n",
       "SPF_8w_M_1_2    SPF  8w   M      1        \n",
       "SPF_8w_M_2_2    SPF  8w   M      2        \n",
       "SPF_8w_M_3_2    SPF  8w   M      3        \n",
       "SPF_8w_M_4_2    SPF  8w   M      4        \n",
       "GF_52w_F_1_2    GF   52w  F      1        \n",
       "GF_52w_F_2_2    GF   52w  F      2        \n",
       "GF_52w_F_3_2    GF   52w  F      3        \n",
       "GF_52w_F_4_2    GF   52w  F      4        \n",
       "GF_52w_F_5_2    GF   52w  F      5        \n",
       "GF_52w_F_6_2    GF   52w  F      6        \n",
       "SPF_52w_F_1_2   SPF  52w  F      1        \n",
       "SPF_52w_F_2_2   SPF  52w  F      2        \n",
       "SPF_52w_F_3_2   SPF  52w  F      3        \n",
       "SPF_52w_F_4_2   SPF  52w  F      4        \n",
       "SPF_52w_F_5_2   SPF  52w  F      5        \n",
       "SPF_52w_F_6_2   SPF  52w  F      6        \n",
       "SPF_104w_M_5_2  SPF  104w M      5        \n",
       "SPF_104w_M_6_2  SPF  104w M      6        \n",
       "SPF_104w_M_7_2  SPF  104w M      7        \n",
       "SPF_104w_M_8_2  SPF  104w M      8        \n",
       "SPF_104w_M_9_2  SPF  104w M      9        \n",
       "SPF_104w_M_10_2 SPF  104w M      10       \n",
       "SPF_104w_M_11_2 SPF  104w M      11       \n",
       "SPF_104w_M_12_2 SPF  104w M      12       \n",
       "SPF_104w_M_13_2 SPF  104w M      13       \n",
       "SPF_104w_M_14_2 SPF  104w M      14       \n",
       "SPF_8w_F_1_2    SPF  8w   F      1        \n",
       "SPF_8w_F_3_2    SPF  8w   F      3        \n",
       "SPF_8w_F_4_2    SPF  8w   F      4        \n",
       "SPF_8w_F_5_2    SPF  8w   F      5        \n",
       "GF_8w_F_1_2     GF   8w   F      1        \n",
       "GF_8w_F_2_2     GF   8w   F      2        \n",
       "GF_8w_F_3_2     GF   8w   F      3        \n",
       "GF_8w_F_4_2     GF   8w   F      4        \n",
       "GF_8w_F_5_2     GF   8w   F      5        "
      ]
     },
     "metadata": {},
     "output_type": "display_data"
    }
   ],
   "source": [
    "# Extract the metadata\n",
    "metadata = t(sapply(sapply(colnames(counts), strsplit, split = \"_\"), unlist))\n",
    "metadata = metadata[,-5]\n",
    "colnames(metadata) = c(\"type\", \"age\", \"gender\", \"replicate\")\n",
    "metadata"
   ]
  },
  {
   "cell_type": "code",
   "execution_count": 43,
   "metadata": {},
   "outputs": [],
   "source": [
    "save(gene_length, file=\"../results/dge/gene_length.RData\")"
   ]
  },
  {
   "cell_type": "markdown",
   "metadata": {},
   "source": [
    "# DGE analysis construction\n",
    "\n",
    "## Testing how the complexification of the model explain the data"
   ]
  },
  {
   "cell_type": "code",
   "execution_count": 60,
   "metadata": {
    "collapsed": true
   },
   "outputs": [],
   "source": [
    "complexif_stats = data.frame(matrix(0, nrow=0, ncol=4))\n",
    "colnames(complexif_stats) = c(\"Design\", \"Reduced\", \"Tested\", \"Genes with LRT padj < 0.05\")"
   ]
  },
  {
   "cell_type": "code",
   "execution_count": 61,
   "metadata": {
    "scrolled": true
   },
   "outputs": [
    {
     "name": "stderr",
     "output_type": "stream",
     "text": [
      "estimating size factors\n",
      "estimating dispersions\n",
      "gene-wise dispersion estimates\n",
      "mean-dispersion relationship\n",
      "final dispersion estimates\n",
      "fitting model and testing\n",
      "-- replacing outliers and refitting for 714 genes\n",
      "-- DESeq argument 'minReplicatesForReplace' = 7 \n",
      "-- original counts are preserved in counts(dds)\n",
      "estimating dispersions\n",
      "fitting model and testing\n"
     ]
    }
   ],
   "source": [
    "# Design: gender\n",
    "dds = DESeqDataSetFromMatrix(\n",
    "        countData = counts,\n",
    "        colData = metadata,\n",
    "        design = ~ gender)\n",
    "dge = DESeq(dds, test=\"LRT\", reduced = ~ 1)\n",
    "LRT_res = results(dge, alpha=0.05)\n",
    "complexif_stats[nrow(complexif_stats) + 1,] = c(\"gender\", \"1\", \"gender\", get_sign_padj(LRT_res))"
   ]
  },
  {
   "cell_type": "code",
   "execution_count": 62,
   "metadata": {},
   "outputs": [
    {
     "name": "stderr",
     "output_type": "stream",
     "text": [
      "estimating size factors\n",
      "estimating dispersions\n",
      "gene-wise dispersion estimates\n",
      "mean-dispersion relationship\n",
      "final dispersion estimates\n",
      "fitting model and testing\n",
      "-- replacing outliers and refitting for 724 genes\n",
      "-- DESeq argument 'minReplicatesForReplace' = 7 \n",
      "-- original counts are preserved in counts(dds)\n",
      "estimating dispersions\n",
      "fitting model and testing\n"
     ]
    }
   ],
   "source": [
    "# Design: type\n",
    "dds = DESeqDataSetFromMatrix(\n",
    "        countData = counts,\n",
    "        colData = metadata,\n",
    "        design = ~ type)\n",
    "dge = DESeq(dds, test=\"LRT\", reduced = ~ 1)\n",
    "LRT_res = results(dge, alpha=0.05)\n",
    "complexif_stats[nrow(complexif_stats) + 1,] = c(\"type\", \"1\", \"type\", get_sign_padj(LRT_res))"
   ]
  },
  {
   "cell_type": "code",
   "execution_count": 63,
   "metadata": {},
   "outputs": [
    {
     "name": "stderr",
     "output_type": "stream",
     "text": [
      "estimating size factors\n",
      "estimating dispersions\n",
      "gene-wise dispersion estimates\n",
      "mean-dispersion relationship\n",
      "final dispersion estimates\n",
      "fitting model and testing\n",
      "-- replacing outliers and refitting for 761 genes\n",
      "-- DESeq argument 'minReplicatesForReplace' = 7 \n",
      "-- original counts are preserved in counts(dds)\n",
      "estimating dispersions\n",
      "fitting model and testing\n"
     ]
    }
   ],
   "source": [
    "# Design: age\n",
    "dds = DESeqDataSetFromMatrix(\n",
    "        countData = counts,\n",
    "        colData = metadata,\n",
    "        design = ~ age)\n",
    "dge = DESeq(dds, test=\"LRT\", reduced = ~ 1)\n",
    "LRT_res = results(dge, alpha=0.05)\n",
    "complexif_stats[nrow(complexif_stats) + 1,] = c(\"age\", \"1\", \"age\", get_sign_padj(LRT_res))"
   ]
  },
  {
   "cell_type": "code",
   "execution_count": 64,
   "metadata": {},
   "outputs": [
    {
     "name": "stderr",
     "output_type": "stream",
     "text": [
      "estimating size factors\n",
      "estimating dispersions\n",
      "gene-wise dispersion estimates\n",
      "mean-dispersion relationship\n",
      "final dispersion estimates\n",
      "fitting model and testing\n",
      "-- replacing outliers and refitting for 744 genes\n",
      "-- DESeq argument 'minReplicatesForReplace' = 7 \n",
      "-- original counts are preserved in counts(dds)\n",
      "estimating dispersions\n",
      "fitting model and testing\n"
     ]
    }
   ],
   "source": [
    "# Design: gender + type\n",
    "dds = DESeqDataSetFromMatrix(\n",
    "        countData = counts,\n",
    "        colData = metadata,\n",
    "        design = ~ gender + type)\n",
    "dge = DESeq(dds, test=\"LRT\", reduced = ~ gender)\n",
    "LRT_res = results(dge, alpha=0.05)\n",
    "complexif_stats[nrow(complexif_stats) + 1,] = c(\"gender + type\", \"gender\", \"type\", get_sign_padj(LRT_res))"
   ]
  },
  {
   "cell_type": "code",
   "execution_count": 65,
   "metadata": {},
   "outputs": [
    {
     "name": "stderr",
     "output_type": "stream",
     "text": [
      "estimating size factors\n",
      "estimating dispersions\n",
      "gene-wise dispersion estimates\n",
      "mean-dispersion relationship\n",
      "final dispersion estimates\n",
      "fitting model and testing\n",
      "-- replacing outliers and refitting for 577 genes\n",
      "-- DESeq argument 'minReplicatesForReplace' = 7 \n",
      "-- original counts are preserved in counts(dds)\n",
      "estimating dispersions\n",
      "fitting model and testing\n"
     ]
    }
   ],
   "source": [
    "# Design: gender + age\n",
    "dds = DESeqDataSetFromMatrix(\n",
    "        countData = counts,\n",
    "        colData = metadata,\n",
    "        design = ~ gender + age)\n",
    "dge = DESeq(dds, test=\"LRT\", reduced = ~ gender)\n",
    "LRT_res = results(dge, alpha=0.05)\n",
    "complexif_stats[nrow(complexif_stats) + 1,] = c(\"gender + age\", \"gender\", \"age\", get_sign_padj(LRT_res))"
   ]
  },
  {
   "cell_type": "code",
   "execution_count": 66,
   "metadata": {},
   "outputs": [
    {
     "name": "stderr",
     "output_type": "stream",
     "text": [
      "estimating size factors\n",
      "estimating dispersions\n",
      "gene-wise dispersion estimates\n",
      "mean-dispersion relationship\n",
      "final dispersion estimates\n",
      "fitting model and testing\n",
      "-- replacing outliers and refitting for 744 genes\n",
      "-- DESeq argument 'minReplicatesForReplace' = 7 \n",
      "-- original counts are preserved in counts(dds)\n",
      "estimating dispersions\n",
      "fitting model and testing\n"
     ]
    }
   ],
   "source": [
    "# Design: type + gender\n",
    "dds = DESeqDataSetFromMatrix(\n",
    "        countData = counts,\n",
    "        colData = metadata,\n",
    "        design = ~ type + gender)\n",
    "dge = DESeq(dds, test=\"LRT\", reduced = ~ type)\n",
    "LRT_res = results(dge, alpha=0.05)\n",
    "complexif_stats[nrow(complexif_stats) + 1,] = c(\"type + gender\", \"type\", \"gender\", get_sign_padj(LRT_res))"
   ]
  },
  {
   "cell_type": "code",
   "execution_count": 67,
   "metadata": {},
   "outputs": [
    {
     "name": "stderr",
     "output_type": "stream",
     "text": [
      "estimating size factors\n",
      "estimating dispersions\n",
      "gene-wise dispersion estimates\n",
      "mean-dispersion relationship\n",
      "final dispersion estimates\n",
      "fitting model and testing\n",
      "-- replacing outliers and refitting for 546 genes\n",
      "-- DESeq argument 'minReplicatesForReplace' = 7 \n",
      "-- original counts are preserved in counts(dds)\n",
      "estimating dispersions\n",
      "fitting model and testing\n"
     ]
    }
   ],
   "source": [
    "# Design: type + age\n",
    "dds = DESeqDataSetFromMatrix(\n",
    "        countData = counts,\n",
    "        colData = metadata,\n",
    "        design = ~ type + age)\n",
    "dge = DESeq(dds, test=\"LRT\", reduced = ~ type)\n",
    "LRT_res = results(dge, alpha=0.05)\n",
    "complexif_stats[nrow(complexif_stats) + 1,] = c(\"type + age\", \"type\", \"age\", get_sign_padj(LRT_res))"
   ]
  },
  {
   "cell_type": "code",
   "execution_count": 68,
   "metadata": {},
   "outputs": [
    {
     "name": "stderr",
     "output_type": "stream",
     "text": [
      "estimating size factors\n",
      "estimating dispersions\n",
      "gene-wise dispersion estimates\n",
      "mean-dispersion relationship\n",
      "final dispersion estimates\n",
      "fitting model and testing\n",
      "-- replacing outliers and refitting for 577 genes\n",
      "-- DESeq argument 'minReplicatesForReplace' = 7 \n",
      "-- original counts are preserved in counts(dds)\n",
      "estimating dispersions\n",
      "fitting model and testing\n"
     ]
    }
   ],
   "source": [
    "# Design: age + gender\n",
    "dds = DESeqDataSetFromMatrix(\n",
    "        countData = counts,\n",
    "        colData = metadata,\n",
    "        design = ~ age + gender)\n",
    "dge = DESeq(dds, test=\"LRT\", reduced = ~ age)\n",
    "LRT_res = results(dge, alpha=0.05)\n",
    "complexif_stats[nrow(complexif_stats) + 1,] = c(\"age + gender\", \"age\", \"gender\", get_sign_padj(LRT_res))"
   ]
  },
  {
   "cell_type": "code",
   "execution_count": 69,
   "metadata": {},
   "outputs": [
    {
     "name": "stderr",
     "output_type": "stream",
     "text": [
      "estimating size factors\n",
      "estimating dispersions\n",
      "gene-wise dispersion estimates\n",
      "mean-dispersion relationship\n",
      "final dispersion estimates\n",
      "fitting model and testing\n",
      "-- replacing outliers and refitting for 546 genes\n",
      "-- DESeq argument 'minReplicatesForReplace' = 7 \n",
      "-- original counts are preserved in counts(dds)\n",
      "estimating dispersions\n",
      "fitting model and testing\n"
     ]
    }
   ],
   "source": [
    "# Design: age + type\n",
    "dds = DESeqDataSetFromMatrix(\n",
    "        countData = counts,\n",
    "        colData = metadata,\n",
    "        design = ~ age + type)\n",
    "dge = DESeq(dds, test=\"LRT\", reduced = ~ age)\n",
    "LRT_res = results(dge, alpha=0.05)\n",
    "complexif_stats[nrow(complexif_stats) + 1,] = c(\"age + type\", \"age\", \"type\", get_sign_padj(LRT_res))"
   ]
  },
  {
   "cell_type": "code",
   "execution_count": 70,
   "metadata": {},
   "outputs": [
    {
     "name": "stderr",
     "output_type": "stream",
     "text": [
      "estimating size factors\n",
      "estimating dispersions\n",
      "gene-wise dispersion estimates\n",
      "mean-dispersion relationship\n",
      "final dispersion estimates\n",
      "fitting model and testing\n",
      "-- replacing outliers and refitting for 558 genes\n",
      "-- DESeq argument 'minReplicatesForReplace' = 7 \n",
      "-- original counts are preserved in counts(dds)\n",
      "estimating dispersions\n",
      "fitting model and testing\n"
     ]
    }
   ],
   "source": [
    "# Design: gender + type + gender:type\n",
    "dds = DESeqDataSetFromMatrix(\n",
    "        countData = counts,\n",
    "        colData = metadata,\n",
    "        design = ~ gender + type + gender:type)\n",
    "dge = DESeq(dds, test=\"LRT\", reduced = ~ gender + type)\n",
    "LRT_res = results(dge, alpha=0.05)\n",
    "complexif_stats[nrow(complexif_stats) + 1,] = c(\"gender + type + gender:type\", \"gender + type\", \"gender:type\", get_sign_padj(LRT_res))"
   ]
  },
  {
   "cell_type": "code",
   "execution_count": 71,
   "metadata": {},
   "outputs": [
    {
     "name": "stderr",
     "output_type": "stream",
     "text": [
      "estimating size factors\n",
      "estimating dispersions\n",
      "gene-wise dispersion estimates\n",
      "mean-dispersion relationship\n",
      "final dispersion estimates\n",
      "fitting model and testing\n",
      "-- replacing outliers and refitting for 330 genes\n",
      "-- DESeq argument 'minReplicatesForReplace' = 7 \n",
      "-- original counts are preserved in counts(dds)\n",
      "estimating dispersions\n",
      "fitting model and testing\n"
     ]
    }
   ],
   "source": [
    "# Design: gender + age + gender:age\n",
    "dds = DESeqDataSetFromMatrix(\n",
    "        countData = counts,\n",
    "        colData = metadata,\n",
    "        design = ~ gender + age + gender:age)\n",
    "dge = DESeq(dds, test=\"LRT\", reduced = ~ gender + age)\n",
    "LRT_res = results(dge, alpha=0.05)\n",
    "complexif_stats[nrow(complexif_stats) + 1,] = c(\"gender + age + gender:age\", \"gender + age\", \"gender:age\", get_sign_padj(LRT_res))"
   ]
  },
  {
   "cell_type": "code",
   "execution_count": 72,
   "metadata": {},
   "outputs": [
    {
     "name": "stderr",
     "output_type": "stream",
     "text": [
      "estimating size factors\n",
      "estimating dispersions\n",
      "gene-wise dispersion estimates\n",
      "mean-dispersion relationship\n",
      "final dispersion estimates\n",
      "fitting model and testing\n",
      "-- replacing outliers and refitting for 323 genes\n",
      "-- DESeq argument 'minReplicatesForReplace' = 7 \n",
      "-- original counts are preserved in counts(dds)\n",
      "estimating dispersions\n",
      "fitting model and testing\n"
     ]
    }
   ],
   "source": [
    "# Design: type + age + type:age\n",
    "dds = DESeqDataSetFromMatrix(\n",
    "        countData = counts,\n",
    "        colData = metadata,\n",
    "        design = ~ type + age + type:age)\n",
    "dge = DESeq(dds, test=\"LRT\", reduced = ~ type + age)\n",
    "LRT_res = results(dge, alpha=0.05)\n",
    "complexif_stats[nrow(complexif_stats) + 1,] = c(\"type + age + type:age\", \"type + age\", \"type:age\", get_sign_padj(LRT_res))"
   ]
  },
  {
   "cell_type": "code",
   "execution_count": 73,
   "metadata": {},
   "outputs": [
    {
     "name": "stderr",
     "output_type": "stream",
     "text": [
      "estimating size factors\n",
      "estimating dispersions\n",
      "gene-wise dispersion estimates\n",
      "mean-dispersion relationship\n",
      "final dispersion estimates\n",
      "fitting model and testing\n",
      "-- replacing outliers and refitting for 357 genes\n",
      "-- DESeq argument 'minReplicatesForReplace' = 7 \n",
      "-- original counts are preserved in counts(dds)\n",
      "estimating dispersions\n",
      "fitting model and testing\n"
     ]
    }
   ],
   "source": [
    "# Design: gender + type + age\n",
    "dds = DESeqDataSetFromMatrix(\n",
    "        countData = counts,\n",
    "        colData = metadata,\n",
    "        design = ~ gender + type + age)\n",
    "dge = DESeq(dds, test=\"LRT\", reduced = ~ gender + type)\n",
    "LRT_res = results(dge, alpha=0.05)\n",
    "complexif_stats[nrow(complexif_stats) + 1,] = c(\"gender + type + age\", \"gender + type\", \"age\", get_sign_padj(LRT_res))"
   ]
  },
  {
   "cell_type": "code",
   "execution_count": 74,
   "metadata": {},
   "outputs": [
    {
     "name": "stderr",
     "output_type": "stream",
     "text": [
      "estimating size factors\n",
      "estimating dispersions\n",
      "gene-wise dispersion estimates\n",
      "mean-dispersion relationship\n",
      "final dispersion estimates\n",
      "fitting model and testing\n",
      "-- replacing outliers and refitting for 357 genes\n",
      "-- DESeq argument 'minReplicatesForReplace' = 7 \n",
      "-- original counts are preserved in counts(dds)\n",
      "estimating dispersions\n",
      "fitting model and testing\n"
     ]
    }
   ],
   "source": [
    "# Design: gender + type + age\n",
    "dds = DESeqDataSetFromMatrix(\n",
    "        countData = counts,\n",
    "        colData = metadata,\n",
    "        design = ~ gender + type + age)\n",
    "dge = DESeq(dds, test=\"LRT\", reduced = ~ gender + age)\n",
    "LRT_res = results(dge, alpha=0.05)\n",
    "complexif_stats[nrow(complexif_stats) + 1,] = c(\"gender + type + age\", \"gender + age\", \"type\", get_sign_padj(LRT_res))"
   ]
  },
  {
   "cell_type": "code",
   "execution_count": 75,
   "metadata": {},
   "outputs": [
    {
     "name": "stderr",
     "output_type": "stream",
     "text": [
      "estimating size factors\n",
      "estimating dispersions\n",
      "gene-wise dispersion estimates\n",
      "mean-dispersion relationship\n",
      "final dispersion estimates\n",
      "fitting model and testing\n",
      "-- replacing outliers and refitting for 357 genes\n",
      "-- DESeq argument 'minReplicatesForReplace' = 7 \n",
      "-- original counts are preserved in counts(dds)\n",
      "estimating dispersions\n",
      "fitting model and testing\n"
     ]
    }
   ],
   "source": [
    "# Design: gender + type + age\n",
    "dds = DESeqDataSetFromMatrix(\n",
    "        countData = counts,\n",
    "        colData = metadata,\n",
    "        design = ~ gender + type + age)\n",
    "dge = DESeq(dds, test=\"LRT\", reduced = ~ type + age)\n",
    "LRT_res = results(dge, alpha=0.05)\n",
    "complexif_stats[nrow(complexif_stats) + 1,] = c(\"gender + type + age\", \"type + age\", \"gender\", get_sign_padj(LRT_res))"
   ]
  },
  {
   "cell_type": "code",
   "execution_count": 76,
   "metadata": {},
   "outputs": [
    {
     "name": "stderr",
     "output_type": "stream",
     "text": [
      "estimating size factors\n",
      "estimating dispersions\n",
      "gene-wise dispersion estimates\n",
      "mean-dispersion relationship\n",
      "final dispersion estimates\n",
      "fitting model and testing\n",
      "-- replacing outliers and refitting for 297 genes\n",
      "-- DESeq argument 'minReplicatesForReplace' = 7 \n",
      "-- original counts are preserved in counts(dds)\n",
      "estimating dispersions\n",
      "fitting model and testing\n"
     ]
    }
   ],
   "source": [
    "# Design: gender + type + age + gender:type\n",
    "dds = DESeqDataSetFromMatrix(\n",
    "        countData = counts,\n",
    "        colData = metadata,\n",
    "        design = ~ gender + type + age + gender:type)\n",
    "dge = DESeq(dds, test=\"LRT\", reduced = ~ gender + type + age)\n",
    "LRT_res = results(dge, alpha=0.05)\n",
    "complexif_stats[nrow(complexif_stats) + 1,] = c(\"gender + type + age + gender:type\", \"gender + type + age\", \"gender:type\", get_sign_padj(LRT_res))"
   ]
  },
  {
   "cell_type": "code",
   "execution_count": 77,
   "metadata": {},
   "outputs": [
    {
     "name": "stderr",
     "output_type": "stream",
     "text": [
      "estimating size factors\n",
      "estimating dispersions\n",
      "gene-wise dispersion estimates\n",
      "mean-dispersion relationship\n",
      "final dispersion estimates\n",
      "fitting model and testing\n",
      "-- replacing outliers and refitting for 219 genes\n",
      "-- DESeq argument 'minReplicatesForReplace' = 7 \n",
      "-- original counts are preserved in counts(dds)\n",
      "estimating dispersions\n",
      "fitting model and testing\n"
     ]
    }
   ],
   "source": [
    "# Design: gender + type + age + gender:age\n",
    "dds = DESeqDataSetFromMatrix(\n",
    "        countData = counts,\n",
    "        colData = metadata,\n",
    "        design = ~ gender + type + age + gender:age)\n",
    "dge = DESeq(dds, test=\"LRT\", reduced = ~ gender + type + age)\n",
    "LRT_res = results(dge, alpha=0.05)\n",
    "complexif_stats[nrow(complexif_stats) + 1,] = c(\"gender + type + age + gender:age\", \"gender + type + age\", \"gender:age\", get_sign_padj(LRT_res))"
   ]
  },
  {
   "cell_type": "code",
   "execution_count": 78,
   "metadata": {},
   "outputs": [
    {
     "name": "stderr",
     "output_type": "stream",
     "text": [
      "estimating size factors\n",
      "estimating dispersions\n",
      "gene-wise dispersion estimates\n",
      "mean-dispersion relationship\n",
      "final dispersion estimates\n",
      "fitting model and testing\n",
      "-- replacing outliers and refitting for 235 genes\n",
      "-- DESeq argument 'minReplicatesForReplace' = 7 \n",
      "-- original counts are preserved in counts(dds)\n",
      "estimating dispersions\n",
      "fitting model and testing\n"
     ]
    }
   ],
   "source": [
    "# Design: gender + type + age + type:age\n",
    "dds = DESeqDataSetFromMatrix(\n",
    "        countData = counts,\n",
    "        colData = metadata,\n",
    "        design = ~ gender + type + age + type:age)\n",
    "dge = DESeq(dds, test=\"LRT\", reduced = ~ gender + type + age)\n",
    "LRT_res = results(dge, alpha=0.05)\n",
    "complexif_stats[nrow(complexif_stats) + 1,] = c(\"gender + type + age + type:age\", \"gender + type + age\", \"type:age\", get_sign_padj(LRT_res))"
   ]
  },
  {
   "cell_type": "code",
   "execution_count": 79,
   "metadata": {},
   "outputs": [
    {
     "name": "stderr",
     "output_type": "stream",
     "text": [
      "estimating size factors\n",
      "estimating dispersions\n",
      "gene-wise dispersion estimates\n",
      "mean-dispersion relationship\n",
      "final dispersion estimates\n",
      "fitting model and testing\n",
      "-- replacing outliers and refitting for 215 genes\n",
      "-- DESeq argument 'minReplicatesForReplace' = 7 \n",
      "-- original counts are preserved in counts(dds)\n",
      "estimating dispersions\n",
      "fitting model and testing\n"
     ]
    }
   ],
   "source": [
    "# Design: gender + type + age + gender:type + gender:age\n",
    "dds = DESeqDataSetFromMatrix(\n",
    "        countData = counts,\n",
    "        colData = metadata,\n",
    "        design = ~ gender + type + age + gender:type + gender:age)\n",
    "dge = DESeq(dds, test=\"LRT\", reduced = ~ gender + type + age + gender:type)\n",
    "LRT_res = results(dge, alpha=0.05)\n",
    "complexif_stats[nrow(complexif_stats) + 1,] = c(\"gender + type + age + gender:type + gender:age\", \"gender + type + age + gender:type\", \"gender:age\", get_sign_padj(LRT_res))"
   ]
  },
  {
   "cell_type": "code",
   "execution_count": 80,
   "metadata": {},
   "outputs": [
    {
     "name": "stderr",
     "output_type": "stream",
     "text": [
      "estimating size factors\n",
      "estimating dispersions\n",
      "gene-wise dispersion estimates\n",
      "mean-dispersion relationship\n",
      "final dispersion estimates\n",
      "fitting model and testing\n",
      "-- replacing outliers and refitting for 215 genes\n",
      "-- DESeq argument 'minReplicatesForReplace' = 7 \n",
      "-- original counts are preserved in counts(dds)\n",
      "estimating dispersions\n",
      "fitting model and testing\n"
     ]
    }
   ],
   "source": [
    "# Design: gender + type + age + gender:type + gender:age\n",
    "dds = DESeqDataSetFromMatrix(\n",
    "        countData = counts,\n",
    "        colData = metadata,\n",
    "        design = ~ gender + type + age + gender:type + gender:age)\n",
    "dge = DESeq(dds, test=\"LRT\", reduced = ~ gender + type + age + gender:age)\n",
    "LRT_res = results(dge, alpha=0.05)\n",
    "complexif_stats[nrow(complexif_stats) + 1,] = c(\"gender + type + age + gender:type + gender:age\", \"gender + type + age + gender:age\", \"gender:type\", get_sign_padj(LRT_res))"
   ]
  },
  {
   "cell_type": "code",
   "execution_count": 81,
   "metadata": {},
   "outputs": [
    {
     "name": "stderr",
     "output_type": "stream",
     "text": [
      "estimating size factors\n",
      "estimating dispersions\n",
      "gene-wise dispersion estimates\n",
      "mean-dispersion relationship\n",
      "final dispersion estimates\n",
      "fitting model and testing\n",
      "-- replacing outliers and refitting for 227 genes\n",
      "-- DESeq argument 'minReplicatesForReplace' = 7 \n",
      "-- original counts are preserved in counts(dds)\n",
      "estimating dispersions\n",
      "fitting model and testing\n"
     ]
    }
   ],
   "source": [
    "# Design: gender + type + age + gender:type + type:age\n",
    "dds = DESeqDataSetFromMatrix(\n",
    "        countData = counts,\n",
    "        colData = metadata,\n",
    "        design = ~ gender + type + age + gender:type + type:age)\n",
    "dge = DESeq(dds, test=\"LRT\", reduced = ~ gender + type + age + gender:type)\n",
    "LRT_res = results(dge, alpha=0.05)\n",
    "complexif_stats[nrow(complexif_stats) + 1,] = c(\"gender + type + age + gender:type + type:age\", \"gender + type + age + gender:type\", \"type:age\", get_sign_padj(LRT_res))"
   ]
  },
  {
   "cell_type": "code",
   "execution_count": 83,
   "metadata": {},
   "outputs": [
    {
     "name": "stderr",
     "output_type": "stream",
     "text": [
      "estimating size factors\n",
      "estimating dispersions\n",
      "gene-wise dispersion estimates\n",
      "mean-dispersion relationship\n",
      "final dispersion estimates\n",
      "fitting model and testing\n",
      "-- replacing outliers and refitting for 227 genes\n",
      "-- DESeq argument 'minReplicatesForReplace' = 7 \n",
      "-- original counts are preserved in counts(dds)\n",
      "estimating dispersions\n",
      "fitting model and testing\n"
     ]
    }
   ],
   "source": [
    "# Design: gender + type + age + gender:type + type:age\n",
    "dds = DESeqDataSetFromMatrix(\n",
    "        countData = counts,\n",
    "        colData = metadata,\n",
    "        design = ~ gender + type + age + gender:type + type:age)\n",
    "dge = DESeq(dds, test=\"LRT\", reduced = ~ gender + type + age + type:age)\n",
    "LRT_res = results(dge, alpha=0.05)\n",
    "complexif_stats[nrow(complexif_stats) + 1,] = c(\"gender + type + age + gender:type + type:age\", \"gender + type + age + type:age\", \"gender:type\", get_sign_padj(LRT_res))"
   ]
  },
  {
   "cell_type": "code",
   "execution_count": 84,
   "metadata": {},
   "outputs": [
    {
     "name": "stderr",
     "output_type": "stream",
     "text": [
      "estimating size factors\n",
      "estimating dispersions\n",
      "gene-wise dispersion estimates\n",
      "mean-dispersion relationship\n",
      "final dispersion estimates\n",
      "fitting model and testing\n",
      "2 rows did not converge in beta, labelled in mcols(object)$fullBetaConv. Use larger maxit argument with nbinomLRT\n",
      "-- replacing outliers and refitting for 213 genes\n",
      "-- DESeq argument 'minReplicatesForReplace' = 7 \n",
      "-- original counts are preserved in counts(dds)\n",
      "estimating dispersions\n",
      "fitting model and testing\n"
     ]
    }
   ],
   "source": [
    "# Design: gender + type + age + gender:age + type:age\n",
    "dds = DESeqDataSetFromMatrix(\n",
    "        countData = counts,\n",
    "        colData = metadata,\n",
    "        design = ~ gender + type + age + gender:age + type:age)\n",
    "dge = DESeq(dds, test=\"LRT\", reduced = ~ gender + type + age + gender:age)\n",
    "LRT_res = results(dge, alpha=0.05)\n",
    "complexif_stats[nrow(complexif_stats) + 1,] = c(\"gender + type + age + gender:age + type:age\", \"gender + type + age + gender:age\", \"type:age\", get_sign_padj(LRT_res))"
   ]
  },
  {
   "cell_type": "code",
   "execution_count": 85,
   "metadata": {},
   "outputs": [
    {
     "name": "stderr",
     "output_type": "stream",
     "text": [
      "estimating size factors\n",
      "estimating dispersions\n",
      "gene-wise dispersion estimates\n",
      "mean-dispersion relationship\n",
      "final dispersion estimates\n",
      "fitting model and testing\n",
      "2 rows did not converge in beta, labelled in mcols(object)$fullBetaConv. Use larger maxit argument with nbinomLRT\n",
      "-- replacing outliers and refitting for 213 genes\n",
      "-- DESeq argument 'minReplicatesForReplace' = 7 \n",
      "-- original counts are preserved in counts(dds)\n",
      "estimating dispersions\n",
      "fitting model and testing\n"
     ]
    }
   ],
   "source": [
    "# Design: gender + type + age + gender:age + type:age\n",
    "dds = DESeqDataSetFromMatrix(\n",
    "        countData = counts,\n",
    "        colData = metadata,\n",
    "        design = ~ gender + type + age + gender:age + type:age)\n",
    "dge = DESeq(dds, test=\"LRT\", reduced = ~ gender + type + age + type:age)\n",
    "LRT_res = results(dge, alpha=0.05)\n",
    "complexif_stats[nrow(complexif_stats) + 1,] = c(\"gender + type + age + gender:age + type:age\", \"gender + type + age + type:age\", \"gender:age\", get_sign_padj(LRT_res))"
   ]
  },
  {
   "cell_type": "code",
   "execution_count": 86,
   "metadata": {},
   "outputs": [
    {
     "name": "stderr",
     "output_type": "stream",
     "text": [
      "estimating size factors\n",
      "estimating dispersions\n",
      "gene-wise dispersion estimates\n",
      "mean-dispersion relationship\n",
      "final dispersion estimates\n",
      "fitting model and testing\n",
      "12 rows did not converge in beta, labelled in mcols(object)$fullBetaConv. Use larger maxit argument with nbinomLRT\n",
      "-- replacing outliers and refitting for 168 genes\n",
      "-- DESeq argument 'minReplicatesForReplace' = 7 \n",
      "-- original counts are preserved in counts(dds)\n",
      "estimating dispersions\n",
      "fitting model and testing\n",
      "1 rows did not converge in beta, labelled in mcols(object)$fullBetaConv. Use larger maxit argument with nbinomLRT\n"
     ]
    }
   ],
   "source": [
    "# Design: gender + type + age + gender:type + gender:age + type:age\n",
    "dds = DESeqDataSetFromMatrix(\n",
    "        countData = counts,\n",
    "        colData = metadata,\n",
    "        design = ~ gender + type + age + gender:type + gender:age + type:age)\n",
    "dge = DESeq(dds, test=\"LRT\", reduced = ~ gender + type + age + gender:type + gender:age)\n",
    "LRT_res = results(dge, alpha=0.05)\n",
    "complexif_stats[nrow(complexif_stats) + 1,] = c(\"gender + type + age + gender:type + gender:age + type:age\", \"gender + type + age + gender:type + gender:age\", \"type:age\", get_sign_padj(LRT_res))"
   ]
  },
  {
   "cell_type": "code",
   "execution_count": 87,
   "metadata": {},
   "outputs": [
    {
     "name": "stderr",
     "output_type": "stream",
     "text": [
      "estimating size factors\n",
      "estimating dispersions\n",
      "gene-wise dispersion estimates\n",
      "mean-dispersion relationship\n",
      "final dispersion estimates\n",
      "fitting model and testing\n",
      "12 rows did not converge in beta, labelled in mcols(object)$fullBetaConv. Use larger maxit argument with nbinomLRT\n",
      "-- replacing outliers and refitting for 168 genes\n",
      "-- DESeq argument 'minReplicatesForReplace' = 7 \n",
      "-- original counts are preserved in counts(dds)\n",
      "estimating dispersions\n",
      "fitting model and testing\n",
      "1 rows did not converge in beta, labelled in mcols(object)$fullBetaConv. Use larger maxit argument with nbinomLRT\n"
     ]
    }
   ],
   "source": [
    "# Design: gender + type + age + gender:type + gender:age + type:age\n",
    "dds = DESeqDataSetFromMatrix(\n",
    "        countData = counts,\n",
    "        colData = metadata,\n",
    "        design = ~ gender + type + age + gender:type + gender:age + type:age)\n",
    "dge = DESeq(dds, test=\"LRT\", reduced = ~ gender + type + age + gender:type + type:age)\n",
    "LRT_res = results(dge, alpha=0.05)\n",
    "complexif_stats[nrow(complexif_stats) + 1,] = c(\"gender + type + age + gender:type + gender:age + type:age\", \"gender + type + age + gender:type + type:age\", \"gender:age\", get_sign_padj(LRT_res))"
   ]
  },
  {
   "cell_type": "code",
   "execution_count": 88,
   "metadata": {},
   "outputs": [
    {
     "name": "stderr",
     "output_type": "stream",
     "text": [
      "estimating size factors\n",
      "estimating dispersions\n",
      "gene-wise dispersion estimates\n",
      "mean-dispersion relationship\n",
      "final dispersion estimates\n",
      "fitting model and testing\n",
      "12 rows did not converge in beta, labelled in mcols(object)$fullBetaConv. Use larger maxit argument with nbinomLRT\n",
      "-- replacing outliers and refitting for 168 genes\n",
      "-- DESeq argument 'minReplicatesForReplace' = 7 \n",
      "-- original counts are preserved in counts(dds)\n",
      "estimating dispersions\n",
      "fitting model and testing\n",
      "1 rows did not converge in beta, labelled in mcols(object)$fullBetaConv. Use larger maxit argument with nbinomLRT\n"
     ]
    }
   ],
   "source": [
    "# Design: gender + type + age + gender:type + gender:age + type:age\n",
    "dds = DESeqDataSetFromMatrix(\n",
    "        countData = counts,\n",
    "        colData = metadata,\n",
    "        design = ~ gender + type + age + gender:type + gender:age + type:age)\n",
    "dge = DESeq(dds, test=\"LRT\", reduced = ~ gender + type + age + gender:age + type:age)\n",
    "LRT_res = results(dge, alpha=0.05)\n",
    "complexif_stats[nrow(complexif_stats) + 1,] = c(\"gender + type + age + gender:type + gender:age + type:age\", \"gender + type + age + gender:age + type:age\", \"gender:type\", get_sign_padj(LRT_res))"
   ]
  },
  {
   "cell_type": "code",
   "execution_count": 89,
   "metadata": {},
   "outputs": [
    {
     "data": {
      "text/html": [
       "<table>\n",
       "<thead><tr><th scope=col>Design</th><th scope=col>Reduced</th><th scope=col>Tested</th><th scope=col>Genes with LRT padj &lt; 0.05</th></tr></thead>\n",
       "<tbody>\n",
       "\t<tr><td>gender                                                   </td><td>1                                                        </td><td>gender                                                   </td><td>18.35                                                    </td></tr>\n",
       "\t<tr><td>type                                                     </td><td>1                                                        </td><td>type                                                     </td><td>9.5                                                      </td></tr>\n",
       "\t<tr><td>age                                                      </td><td>1                                                        </td><td>age                                                      </td><td>17.92                                                    </td></tr>\n",
       "\t<tr><td>gender + type                                            </td><td>gender                                                   </td><td>type                                                     </td><td>8.9                                                      </td></tr>\n",
       "\t<tr><td>gender + age                                             </td><td>gender                                                   </td><td>age                                                      </td><td>22.68                                                    </td></tr>\n",
       "\t<tr><td>type + gender                                            </td><td>type                                                     </td><td>gender                                                   </td><td>17.37                                                    </td></tr>\n",
       "\t<tr><td>type + age                                               </td><td>type                                                     </td><td>age                                                      </td><td>18.03                                                    </td></tr>\n",
       "\t<tr><td>age + gender                                             </td><td>age                                                      </td><td>gender                                                   </td><td>21.83                                                    </td></tr>\n",
       "\t<tr><td>age + type                                               </td><td>age                                                      </td><td>type                                                     </td><td>9.34                                                     </td></tr>\n",
       "\t<tr><td>gender + type + gender:type                              </td><td>gender + type                                            </td><td>gender:type                                              </td><td>0.38                                                     </td></tr>\n",
       "\t<tr><td>gender + age + gender:age                                </td><td>gender + age                                             </td><td>gender:age                                               </td><td>11.43                                                    </td></tr>\n",
       "\t<tr><td>type + age + type:age                                    </td><td>type + age                                               </td><td>type:age                                                 </td><td>3.59                                                     </td></tr>\n",
       "\t<tr><td>gender + type + age                                      </td><td>gender + type                                            </td><td>age                                                      </td><td>23.13                                                    </td></tr>\n",
       "\t<tr><td>gender + type + age                                      </td><td>gender + age                                             </td><td>type                                                     </td><td>9.1                                                      </td></tr>\n",
       "\t<tr><td>gender + type + age                                      </td><td>type + age                                               </td><td>gender                                                   </td><td>21.52                                                    </td></tr>\n",
       "\t<tr><td>gender + type + age + gender:type                        </td><td>gender + type + age                                      </td><td>gender:type                                              </td><td>0.11                                                     </td></tr>\n",
       "\t<tr><td>gender + type + age + gender:age                         </td><td>gender + type + age                                      </td><td>gender:age                                               </td><td>12.29                                                    </td></tr>\n",
       "\t<tr><td>gender + type + age + type:age                           </td><td>gender + type + age                                      </td><td>type:age                                                 </td><td>4.22                                                     </td></tr>\n",
       "\t<tr><td>gender + type + age + gender:type + gender:age           </td><td>gender + type + age + gender:type                        </td><td>gender:age                                               </td><td>11.36                                                    </td></tr>\n",
       "\t<tr><td>gender + type + age + gender:type + gender:age           </td><td>gender + type + age + gender:age                         </td><td>gender:type                                              </td><td>0.09                                                     </td></tr>\n",
       "\t<tr><td>gender + type + age + gender:type + type:age             </td><td>gender + type + age + gender:type                        </td><td>type:age                                                 </td><td>3.89                                                     </td></tr>\n",
       "\t<tr><td>gender + type + age + gender:type + type:age             </td><td>gender + type + age + type:age                           </td><td>gender:type                                              </td><td>0.07                                                     </td></tr>\n",
       "\t<tr><td>gender + type + age + gender:age + type:age              </td><td>gender + type + age + gender:age                         </td><td>type:age                                                 </td><td>4.23                                                     </td></tr>\n",
       "\t<tr><td>gender + type + age + gender:age + type:age              </td><td>gender + type + age + type:age                           </td><td>gender:age                                               </td><td>12.45                                                    </td></tr>\n",
       "\t<tr><td>gender + type + age + gender:type + gender:age + type:age</td><td>gender + type + age + gender:type + gender:age           </td><td>type:age                                                 </td><td>4.31                                                     </td></tr>\n",
       "\t<tr><td>gender + type + age + gender:type + gender:age + type:age</td><td>gender + type + age + gender:type + type:age             </td><td>gender:age                                               </td><td>11.99                                                    </td></tr>\n",
       "\t<tr><td>gender + type + age + gender:type + gender:age + type:age</td><td>gender + type + age + gender:age + type:age              </td><td>gender:type                                              </td><td>0.09                                                     </td></tr>\n",
       "</tbody>\n",
       "</table>\n"
      ],
      "text/latex": [
       "\\begin{tabular}{r|llll}\n",
       " Design & Reduced & Tested & Genes with LRT padj < 0.05\\\\\n",
       "\\hline\n",
       "\t gender                                                    & 1                                                         & gender                                                    & 18.35                                                    \\\\\n",
       "\t type                                                      & 1                                                         & type                                                      & 9.5                                                      \\\\\n",
       "\t age                                                       & 1                                                         & age                                                       & 17.92                                                    \\\\\n",
       "\t gender + type                                             & gender                                                    & type                                                      & 8.9                                                      \\\\\n",
       "\t gender + age                                              & gender                                                    & age                                                       & 22.68                                                    \\\\\n",
       "\t type + gender                                             & type                                                      & gender                                                    & 17.37                                                    \\\\\n",
       "\t type + age                                                & type                                                      & age                                                       & 18.03                                                    \\\\\n",
       "\t age + gender                                              & age                                                       & gender                                                    & 21.83                                                    \\\\\n",
       "\t age + type                                                & age                                                       & type                                                      & 9.34                                                     \\\\\n",
       "\t gender + type + gender:type                               & gender + type                                             & gender:type                                               & 0.38                                                     \\\\\n",
       "\t gender + age + gender:age                                 & gender + age                                              & gender:age                                                & 11.43                                                    \\\\\n",
       "\t type + age + type:age                                     & type + age                                                & type:age                                                  & 3.59                                                     \\\\\n",
       "\t gender + type + age                                       & gender + type                                             & age                                                       & 23.13                                                    \\\\\n",
       "\t gender + type + age                                       & gender + age                                              & type                                                      & 9.1                                                      \\\\\n",
       "\t gender + type + age                                       & type + age                                                & gender                                                    & 21.52                                                    \\\\\n",
       "\t gender + type + age + gender:type                         & gender + type + age                                       & gender:type                                               & 0.11                                                     \\\\\n",
       "\t gender + type + age + gender:age                          & gender + type + age                                       & gender:age                                                & 12.29                                                    \\\\\n",
       "\t gender + type + age + type:age                            & gender + type + age                                       & type:age                                                  & 4.22                                                     \\\\\n",
       "\t gender + type + age + gender:type + gender:age            & gender + type + age + gender:type                         & gender:age                                                & 11.36                                                    \\\\\n",
       "\t gender + type + age + gender:type + gender:age            & gender + type + age + gender:age                          & gender:type                                               & 0.09                                                     \\\\\n",
       "\t gender + type + age + gender:type + type:age              & gender + type + age + gender:type                         & type:age                                                  & 3.89                                                     \\\\\n",
       "\t gender + type + age + gender:type + type:age              & gender + type + age + type:age                            & gender:type                                               & 0.07                                                     \\\\\n",
       "\t gender + type + age + gender:age + type:age               & gender + type + age + gender:age                          & type:age                                                  & 4.23                                                     \\\\\n",
       "\t gender + type + age + gender:age + type:age               & gender + type + age + type:age                            & gender:age                                                & 12.45                                                    \\\\\n",
       "\t gender + type + age + gender:type + gender:age + type:age & gender + type + age + gender:type + gender:age            & type:age                                                  & 4.31                                                     \\\\\n",
       "\t gender + type + age + gender:type + gender:age + type:age & gender + type + age + gender:type + type:age              & gender:age                                                & 11.99                                                    \\\\\n",
       "\t gender + type + age + gender:type + gender:age + type:age & gender + type + age + gender:age + type:age               & gender:type                                               & 0.09                                                     \\\\\n",
       "\\end{tabular}\n"
      ],
      "text/markdown": [
       "\n",
       "Design | Reduced | Tested | Genes with LRT padj < 0.05 | \n",
       "|---|---|---|---|---|---|---|---|---|---|---|---|---|---|---|---|---|---|---|---|---|---|---|---|---|---|---|\n",
       "| gender                                                    | 1                                                         | gender                                                    | 18.35                                                     | \n",
       "| type                                                      | 1                                                         | type                                                      | 9.5                                                       | \n",
       "| age                                                       | 1                                                         | age                                                       | 17.92                                                     | \n",
       "| gender + type                                             | gender                                                    | type                                                      | 8.9                                                       | \n",
       "| gender + age                                              | gender                                                    | age                                                       | 22.68                                                     | \n",
       "| type + gender                                             | type                                                      | gender                                                    | 17.37                                                     | \n",
       "| type + age                                                | type                                                      | age                                                       | 18.03                                                     | \n",
       "| age + gender                                              | age                                                       | gender                                                    | 21.83                                                     | \n",
       "| age + type                                                | age                                                       | type                                                      | 9.34                                                      | \n",
       "| gender + type + gender:type                               | gender + type                                             | gender:type                                               | 0.38                                                      | \n",
       "| gender + age + gender:age                                 | gender + age                                              | gender:age                                                | 11.43                                                     | \n",
       "| type + age + type:age                                     | type + age                                                | type:age                                                  | 3.59                                                      | \n",
       "| gender + type + age                                       | gender + type                                             | age                                                       | 23.13                                                     | \n",
       "| gender + type + age                                       | gender + age                                              | type                                                      | 9.1                                                       | \n",
       "| gender + type + age                                       | type + age                                                | gender                                                    | 21.52                                                     | \n",
       "| gender + type + age + gender:type                         | gender + type + age                                       | gender:type                                               | 0.11                                                      | \n",
       "| gender + type + age + gender:age                          | gender + type + age                                       | gender:age                                                | 12.29                                                     | \n",
       "| gender + type + age + type:age                            | gender + type + age                                       | type:age                                                  | 4.22                                                      | \n",
       "| gender + type + age + gender:type + gender:age            | gender + type + age + gender:type                         | gender:age                                                | 11.36                                                     | \n",
       "| gender + type + age + gender:type + gender:age            | gender + type + age + gender:age                          | gender:type                                               | 0.09                                                      | \n",
       "| gender + type + age + gender:type + type:age              | gender + type + age + gender:type                         | type:age                                                  | 3.89                                                      | \n",
       "| gender + type + age + gender:type + type:age              | gender + type + age + type:age                            | gender:type                                               | 0.07                                                      | \n",
       "| gender + type + age + gender:age + type:age               | gender + type + age + gender:age                          | type:age                                                  | 4.23                                                      | \n",
       "| gender + type + age + gender:age + type:age               | gender + type + age + type:age                            | gender:age                                                | 12.45                                                     | \n",
       "| gender + type + age + gender:type + gender:age + type:age | gender + type + age + gender:type + gender:age            | type:age                                                  | 4.31                                                      | \n",
       "| gender + type + age + gender:type + gender:age + type:age | gender + type + age + gender:type + type:age              | gender:age                                                | 11.99                                                     | \n",
       "| gender + type + age + gender:type + gender:age + type:age | gender + type + age + gender:age + type:age               | gender:type                                               | 0.09                                                      | \n",
       "\n",
       "\n"
      ],
      "text/plain": [
       "   Design                                                   \n",
       "1  gender                                                   \n",
       "2  type                                                     \n",
       "3  age                                                      \n",
       "4  gender + type                                            \n",
       "5  gender + age                                             \n",
       "6  type + gender                                            \n",
       "7  type + age                                               \n",
       "8  age + gender                                             \n",
       "9  age + type                                               \n",
       "10 gender + type + gender:type                              \n",
       "11 gender + age + gender:age                                \n",
       "12 type + age + type:age                                    \n",
       "13 gender + type + age                                      \n",
       "14 gender + type + age                                      \n",
       "15 gender + type + age                                      \n",
       "16 gender + type + age + gender:type                        \n",
       "17 gender + type + age + gender:age                         \n",
       "18 gender + type + age + type:age                           \n",
       "19 gender + type + age + gender:type + gender:age           \n",
       "20 gender + type + age + gender:type + gender:age           \n",
       "21 gender + type + age + gender:type + type:age             \n",
       "22 gender + type + age + gender:type + type:age             \n",
       "23 gender + type + age + gender:age + type:age              \n",
       "24 gender + type + age + gender:age + type:age              \n",
       "25 gender + type + age + gender:type + gender:age + type:age\n",
       "26 gender + type + age + gender:type + gender:age + type:age\n",
       "27 gender + type + age + gender:type + gender:age + type:age\n",
       "   Reduced                                        Tested     \n",
       "1  1                                              gender     \n",
       "2  1                                              type       \n",
       "3  1                                              age        \n",
       "4  gender                                         type       \n",
       "5  gender                                         age        \n",
       "6  type                                           gender     \n",
       "7  type                                           age        \n",
       "8  age                                            gender     \n",
       "9  age                                            type       \n",
       "10 gender + type                                  gender:type\n",
       "11 gender + age                                   gender:age \n",
       "12 type + age                                     type:age   \n",
       "13 gender + type                                  age        \n",
       "14 gender + age                                   type       \n",
       "15 type + age                                     gender     \n",
       "16 gender + type + age                            gender:type\n",
       "17 gender + type + age                            gender:age \n",
       "18 gender + type + age                            type:age   \n",
       "19 gender + type + age + gender:type              gender:age \n",
       "20 gender + type + age + gender:age               gender:type\n",
       "21 gender + type + age + gender:type              type:age   \n",
       "22 gender + type + age + type:age                 gender:type\n",
       "23 gender + type + age + gender:age               type:age   \n",
       "24 gender + type + age + type:age                 gender:age \n",
       "25 gender + type + age + gender:type + gender:age type:age   \n",
       "26 gender + type + age + gender:type + type:age   gender:age \n",
       "27 gender + type + age + gender:age + type:age    gender:type\n",
       "   Genes with LRT padj < 0.05\n",
       "1  18.35                     \n",
       "2  9.5                       \n",
       "3  17.92                     \n",
       "4  8.9                       \n",
       "5  22.68                     \n",
       "6  17.37                     \n",
       "7  18.03                     \n",
       "8  21.83                     \n",
       "9  9.34                      \n",
       "10 0.38                      \n",
       "11 11.43                     \n",
       "12 3.59                      \n",
       "13 23.13                     \n",
       "14 9.1                       \n",
       "15 21.52                     \n",
       "16 0.11                      \n",
       "17 12.29                     \n",
       "18 4.22                      \n",
       "19 11.36                     \n",
       "20 0.09                      \n",
       "21 3.89                      \n",
       "22 0.07                      \n",
       "23 4.23                      \n",
       "24 12.45                     \n",
       "25 4.31                      \n",
       "26 11.99                     \n",
       "27 0.09                      "
      ]
     },
     "metadata": {},
     "output_type": "display_data"
    }
   ],
   "source": [
    "complexif_stats"
   ]
  },
  {
   "cell_type": "markdown",
   "metadata": {},
   "source": [
    "Factor | Explanation (Percentage of genes with LRT padj < 0.05)\n",
    "--- | --- | ---\n",
    "gender | 17.37% - 21.83%\n",
    "type | 8.9% - 9.5%\n",
    "age | 17.92% - 23.13%\n",
    "gender:type | 0.07% - 0.38%\n",
    "gender:age | 11.36% - 12.43%\n",
    "type:age | 3.59% - 4.31%"
   ]
  },
  {
   "cell_type": "markdown",
   "metadata": {},
   "source": [
    "## Construct the full model"
   ]
  },
  {
   "cell_type": "code",
   "execution_count": 44,
   "metadata": {},
   "outputs": [
    {
     "name": "stderr",
     "output_type": "stream",
     "text": [
      "Warning message in DESeqDataSet(se, design = design, ignoreRank):\n",
      "“some variables in design formula are characters, converting to factors”estimating size factors\n",
      "estimating dispersions\n",
      "gene-wise dispersion estimates\n",
      "mean-dispersion relationship\n",
      "final dispersion estimates\n",
      "fitting model and testing\n",
      "17 rows did not converge in beta, labelled in mcols(object)$betaConv. Use larger maxit argument with nbinomWaldTest\n",
      "-- replacing outliers and refitting for 167 genes\n",
      "-- DESeq argument 'minReplicatesForReplace' = 7 \n",
      "-- original counts are preserved in counts(dds)\n",
      "estimating dispersions\n",
      "fitting model and testing\n"
     ]
    }
   ],
   "source": [
    "# Construct DESeqDataSet\n",
    "dds = DESeqDataSetFromMatrix(\n",
    "        countData = counts,\n",
    "        colData = metadata,\n",
    "        design = ~ gender + type + age + gender:age + gender:type + type:age)\n",
    "# Organize levels of the factors (8w being the reference)\n",
    "dds$age = relevel(dds$age, ref=\"8w\")\n",
    "dds$type = relevel(dds$type, ref=\"SPF\")\n",
    "dds$gender = relevel(dds$gender, ref=\"F\")\n",
    "# Differential expression analysis\n",
    "dge = DESeq(dds)"
   ]
  },
  {
   "cell_type": "code",
   "execution_count": 45,
   "metadata": {},
   "outputs": [
    {
     "data": {
      "text/html": [
       "<ol class=list-inline>\n",
       "\t<li>'Intercept'</li>\n",
       "\t<li>'gender_M_vs_F'</li>\n",
       "\t<li>'type_GF_vs_SPF'</li>\n",
       "\t<li>'age_104w_vs_8w'</li>\n",
       "\t<li>'age_52w_vs_8w'</li>\n",
       "\t<li>'genderM.age104w'</li>\n",
       "\t<li>'genderM.age52w'</li>\n",
       "\t<li>'genderM.typeGF'</li>\n",
       "\t<li>'typeGF.age104w'</li>\n",
       "\t<li>'typeGF.age52w'</li>\n",
       "</ol>\n"
      ],
      "text/latex": [
       "\\begin{enumerate*}\n",
       "\\item 'Intercept'\n",
       "\\item 'gender\\_M\\_vs\\_F'\n",
       "\\item 'type\\_GF\\_vs\\_SPF'\n",
       "\\item 'age\\_104w\\_vs\\_8w'\n",
       "\\item 'age\\_52w\\_vs\\_8w'\n",
       "\\item 'genderM.age104w'\n",
       "\\item 'genderM.age52w'\n",
       "\\item 'genderM.typeGF'\n",
       "\\item 'typeGF.age104w'\n",
       "\\item 'typeGF.age52w'\n",
       "\\end{enumerate*}\n"
      ],
      "text/markdown": [
       "1. 'Intercept'\n",
       "2. 'gender_M_vs_F'\n",
       "3. 'type_GF_vs_SPF'\n",
       "4. 'age_104w_vs_8w'\n",
       "5. 'age_52w_vs_8w'\n",
       "6. 'genderM.age104w'\n",
       "7. 'genderM.age52w'\n",
       "8. 'genderM.typeGF'\n",
       "9. 'typeGF.age104w'\n",
       "10. 'typeGF.age52w'\n",
       "\n",
       "\n"
      ],
      "text/plain": [
       " [1] \"Intercept\"       \"gender_M_vs_F\"   \"type_GF_vs_SPF\"  \"age_104w_vs_8w\" \n",
       " [5] \"age_52w_vs_8w\"   \"genderM.age104w\" \"genderM.age52w\"  \"genderM.typeGF\" \n",
       " [9] \"typeGF.age104w\"  \"typeGF.age52w\"  "
      ]
     },
     "metadata": {},
     "output_type": "display_data"
    }
   ],
   "source": [
    "resultsNames(dge)"
   ]
  },
  {
   "cell_type": "markdown",
   "metadata": {},
   "source": [
    "Info | M/F | GF/SPF | 104w/8w | 52w/8w | M.104w | M.52w | M.GF | GF.104w | GF.52w\n",
    "--- | --- | --- | --- | --- | --- | --- | --- | --- | ---\n",
    "M vs F (SPF, 8w) | 1 | | | | | | | |\n",
    "M vs F (GF, 8w) | 1 | | | | | | 1 | |\n",
    "M vs F (SPF, 52w) | 1 | | | | | 1 | | |\n",
    "M vs F (GF, 52w) | 1 | | | | | 1 | 1 | | 1?\n",
    "M vs F (SPF, 104w) | 1 | | | | 1 | | | |\n",
    "M vs F (GF, 104w) | 1 | | | | 1 | | 1 | 1? |\n",
    "M vs F (SPF) | 1 | | | | 1/3 | 1/3 | | |\n",
    "M vs F (GF) | 1 | | | | 1/3 | 1/3 | | 1/3? | 1/3?\n",
    "M vs F (8w) | 1 | | | | | | 1/2 | |\n",
    "M vs F (52w) | 1 | | | | | 1 | 1/2 | | 1/2?\n",
    "M vs F (104w) | 1 | | | | 1 | | 1/2 | 1/2? |\n",
    "M vs F | 1 | | | | 1/3 | 1/3 | 1/2 | 1/3? | 1/3?\n",
    "GF vs SPF (F, 8w) | | 1 | | | | | | |\n",
    "GF vs SPF (M, 8w) | | 1 | | | | | 1 | |\n",
    "GF vs SPF (F, 52w) | | 1 | | | | | | | 1\n",
    "GF vs SPF (M, 52w) | | 1 | | | | 1? | 1 | | 1\n",
    "GF vs SPF (F, 104w) | | 1 | | | | | | 1 |\n",
    "GF vs SPF (M, 104w) | | 1 | | | 1? | | 1 | 1 |\n",
    "GF vs SPF (F) | | 1 | | | | | | 1/3 | 1/3\n",
    "GF vs SPF (M) | | 1 | | | 1/3? | 1/3? | 1 | 1/3 | 1/3\n",
    "GF vs SPF (8w) | | 1 | | | | | 1/2 | |\n",
    "GF vs SPF (52w) | | 1 | | | | 1/2? | 1/2 | | 1\n",
    "GF vs SPF (104w) | | 1 | | | 1/2? | | 1/2 | 1 |\n",
    "GF vs SPF | | 1 | | | 1/3? | 1/3? | 1/2 | 1/3 | 1/3\n",
    "52w vs 8w (F, SPF) | | | | 1 | | | | |\n",
    "52w vs 8w (F, GF) | | | | 1 | | | | | 1\n",
    "52w vs 8w (M, SPF) | | | | 1 | | 1 | | |\n",
    "52w vs 8w (M, GF) | | | | 1 | | 1 | 1? | | 1\n",
    "52w vs 8w (F) | | | | 1 | | | | | 1/2\n",
    "52w vs 8w (M) | | | | 1 | | 1 | 1/2? | | 1/2\n",
    "52w vs 8w (SPF) | | | | 1 | | 1/2 | | |\n",
    "52w vs 8w (GF) | | | | 1 | | 1/2 | 1/2? | | 1\n",
    "52w vs 8w | | | | 1 | | 1/2 | 1/2? | | 1/2\n",
    "104w vs 8w (F, SPF) | | | 1 | | | | | |\n",
    "104w vs 8w (F, GF) | | | 1 | | | | | 1 |\n",
    "104w vs 8w (M, SPF) | | | 1 | | 1 | | | |\n",
    "104w vs 8w (M, GF) | | | 1 | | 1 | | 1? | 1 |\n",
    "104w vs 8w (F) | | | 1 | | | | | 1/2 |\n",
    "104w vs 8w (M) | | | 1 | | 1 | | 1/2? | 1/2 |\n",
    "104w vs 8w (SPF) | | | 1 | | 1/2 | | | |\n",
    "104w vs 8w (GF) | | | 1 | | 1/2 | | 1/2? | 1 |\n",
    "104w vs 8w | | | 1 | | 1/2 | | 1/2? | 1/2 |\n",
    "104w vs 52w (F, SPF) | | | 1 | -1 | | | | |\n",
    "104w vs 52w (F, GF) | | | 1 | -1 | | | | 1 | -1\n",
    "104w vs 52w (M, SPF) | | | 1 | -1 | 1 | -1 | | |\n",
    "104w vs 52w (M, GF) | | | 1 | -1 | 1 | -1 | | 1 | -1\n",
    "104w vs 52w (F) | | | 1 | -1 | | | | 1/2 | -1/2\n",
    "104w vs 52w (M) | | | 1 | -1 | 1 | -1 | | 1/2 | -1/2\n",
    "104w vs 52w (SPF) | | | 1 | -1 | 1/2 | -1/2 | | |\n",
    "104w vs 52w (GF) | | | 1 | -1 | 1/2 | -1/2 | | |\n",
    "104w vs 52w | | | 1 | -1 | 1/2 | -1/2 | | 1/2 | -1/2"
   ]
  },
  {
   "cell_type": "code",
   "execution_count": 46,
   "metadata": {},
   "outputs": [
    {
     "data": {
      "text/html": [
       "<table>\n",
       "<thead><tr><th></th><th scope=col>GF_104w_F_1_2</th><th scope=col>GF_104w_F_2_2</th><th scope=col>GF_104w_F_3_2</th><th scope=col>GF_104w_M_1_2</th><th scope=col>GF_104w_M_2_2</th><th scope=col>GF_52w_M_1_2</th><th scope=col>GF_52w_M_2_2</th><th scope=col>GF_52w_M_3_2</th><th scope=col>GF_52w_M_4_2</th><th scope=col>GF_8w_M_1_2</th><th scope=col>⋯</th><th scope=col>SPF_104w_M_14_2</th><th scope=col>SPF_8w_F_1_2</th><th scope=col>SPF_8w_F_3_2</th><th scope=col>SPF_8w_F_4_2</th><th scope=col>SPF_8w_F_5_2</th><th scope=col>GF_8w_F_1_2</th><th scope=col>GF_8w_F_2_2</th><th scope=col>GF_8w_F_3_2</th><th scope=col>GF_8w_F_4_2</th><th scope=col>GF_8w_F_5_2</th></tr></thead>\n",
       "<tbody>\n",
       "\t<tr><th scope=row>0610005C13Rik</th><td>   0.0000   </td><td>   0.00000  </td><td>   0.0000   </td><td>   1.768593 </td><td>   1.259244 </td><td>   0.8418979</td><td>  4.942785  </td><td>   5.603216 </td><td>  7.231584  </td><td>  8.47277   </td><td>⋯           </td><td>   5.28524  </td><td>   3.500355 </td><td>   2.112002 </td><td>   2.602398 </td><td>   0.00000  </td><td>  18.24998  </td><td>   0.00000  </td><td>   2.025447 </td><td>  5.268672  </td><td>   0.00000  </td></tr>\n",
       "\t<tr><th scope=row>0610007P14Rik</th><td> 868.4015   </td><td> 749.64927  </td><td> 910.3535   </td><td> 886.064952 </td><td> 992.913601 </td><td> 508.5063502</td><td>530.855142  </td><td> 514.375197 </td><td>738.344705  </td><td>603.98749   </td><td>⋯           </td><td> 692.36648  </td><td> 763.077332 </td><td> 744.480801 </td><td> 908.237050 </td><td> 957.79030  </td><td> 898.54336  </td><td> 682.26034  </td><td> 612.697796 </td><td>593.252445  </td><td> 809.27852  </td></tr>\n",
       "\t<tr><th scope=row>0610009B22Rik</th><td>1021.3276   </td><td>1169.19730  </td><td>1180.9991   </td><td>1224.750457 </td><td>1558.313990 </td><td>1038.9020466</td><td>876.850113  </td><td>1016.423320 </td><td>877.914273  </td><td>948.95029   </td><td>⋯           </td><td>1206.79653  </td><td>1268.295198 </td><td>1164.769254 </td><td>1295.994415 </td><td>1446.89758  </td><td>1040.24912  </td><td>1020.67017  </td><td>1142.352254 </td><td>959.952003  </td><td>1094.00091  </td></tr>\n",
       "\t<tr><th scope=row>0610009L18Rik</th><td>  28.2185   </td><td>  36.20465  </td><td>  18.2253   </td><td>  20.338816 </td><td>  38.406931 </td><td>  31.9921214</td><td> 26.691041  </td><td>  22.412863 </td><td>  4.338950  </td><td> 61.73018   </td><td>⋯           </td><td>  45.80542  </td><td>  42.004257 </td><td>  45.408049 </td><td> 102.794738 </td><td>  72.02239  </td><td>  48.30878  </td><td>  19.58642  </td><td>  11.139960 </td><td> 45.310578  </td><td>  24.36813  </td></tr>\n",
       "\t<tr><th scope=row>0610009O20Rik</th><td> 217.5555   </td><td> 278.98879  </td><td> 266.0893   </td><td> 226.379868 </td><td> 271.996624 </td><td> 299.7156634</td><td>349.949200  </td><td> 395.587025 </td><td>309.511786  </td><td>360.69794   </td><td>⋯           </td><td> 178.81730  </td><td> 274.194454 </td><td> 252.384272 </td><td> 227.709862 </td><td> 184.89330  </td><td> 231.88216  </td><td> 158.86764  </td><td> 271.409933 </td><td>304.529230  </td><td> 269.33199  </td></tr>\n",
       "\t<tr><th scope=row>0610010B08Rik</th><td>   0.0000   </td><td>   0.00000  </td><td>   0.0000   </td><td>   0.000000 </td><td>   0.000000 </td><td>   0.0000000</td><td>  0.000000  </td><td>   0.000000 </td><td>  0.000000  </td><td>  0.00000   </td><td>⋯           </td><td>   0.00000  </td><td>   0.000000 </td><td>   0.000000 </td><td>   0.000000 </td><td>   0.00000  </td><td>   0.00000  </td><td>   0.00000  </td><td>   0.000000 </td><td>  0.000000  </td><td>   0.00000  </td></tr>\n",
       "</tbody>\n",
       "</table>\n"
      ],
      "text/latex": [
       "\\begin{tabular}{r|llllllllllllllllllllllllllllllllllllllllllllllllllllllllllll}\n",
       "  & GF\\_104w\\_F\\_1\\_2 & GF\\_104w\\_F\\_2\\_2 & GF\\_104w\\_F\\_3\\_2 & GF\\_104w\\_M\\_1\\_2 & GF\\_104w\\_M\\_2\\_2 & GF\\_52w\\_M\\_1\\_2 & GF\\_52w\\_M\\_2\\_2 & GF\\_52w\\_M\\_3\\_2 & GF\\_52w\\_M\\_4\\_2 & GF\\_8w\\_M\\_1\\_2 & ⋯ & SPF\\_104w\\_M\\_14\\_2 & SPF\\_8w\\_F\\_1\\_2 & SPF\\_8w\\_F\\_3\\_2 & SPF\\_8w\\_F\\_4\\_2 & SPF\\_8w\\_F\\_5\\_2 & GF\\_8w\\_F\\_1\\_2 & GF\\_8w\\_F\\_2\\_2 & GF\\_8w\\_F\\_3\\_2 & GF\\_8w\\_F\\_4\\_2 & GF\\_8w\\_F\\_5\\_2\\\\\n",
       "\\hline\n",
       "\t0610005C13Rik &    0.0000    &    0.00000   &    0.0000    &    1.768593  &    1.259244  &    0.8418979 &   4.942785   &    5.603216  &   7.231584   &   8.47277    & ⋯            &    5.28524   &    3.500355  &    2.112002  &    2.602398  &    0.00000   &   18.24998   &    0.00000   &    2.025447  &   5.268672   &    0.00000  \\\\\n",
       "\t0610007P14Rik &  868.4015    &  749.64927   &  910.3535    &  886.064952  &  992.913601  &  508.5063502 & 530.855142   &  514.375197  & 738.344705   & 603.98749    & ⋯            &  692.36648   &  763.077332  &  744.480801  &  908.237050  &  957.79030   &  898.54336   &  682.26034   &  612.697796  & 593.252445   &  809.27852  \\\\\n",
       "\t0610009B22Rik & 1021.3276    & 1169.19730   & 1180.9991    & 1224.750457  & 1558.313990  & 1038.9020466 & 876.850113   & 1016.423320  & 877.914273   & 948.95029    & ⋯            & 1206.79653   & 1268.295198  & 1164.769254  & 1295.994415  & 1446.89758   & 1040.24912   & 1020.67017   & 1142.352254  & 959.952003   & 1094.00091  \\\\\n",
       "\t0610009L18Rik &   28.2185    &   36.20465   &   18.2253    &   20.338816  &   38.406931  &   31.9921214 &  26.691041   &   22.412863  &   4.338950   &  61.73018    & ⋯            &   45.80542   &   42.004257  &   45.408049  &  102.794738  &   72.02239   &   48.30878   &   19.58642   &   11.139960  &  45.310578   &   24.36813  \\\\\n",
       "\t0610009O20Rik &  217.5555    &  278.98879   &  266.0893    &  226.379868  &  271.996624  &  299.7156634 & 349.949200   &  395.587025  & 309.511786   & 360.69794    & ⋯            &  178.81730   &  274.194454  &  252.384272  &  227.709862  &  184.89330   &  231.88216   &  158.86764   &  271.409933  & 304.529230   &  269.33199  \\\\\n",
       "\t0610010B08Rik &    0.0000    &    0.00000   &    0.0000    &    0.000000  &    0.000000  &    0.0000000 &   0.000000   &    0.000000  &   0.000000   &   0.00000    & ⋯            &    0.00000   &    0.000000  &    0.000000  &    0.000000  &    0.00000   &    0.00000   &    0.00000   &    0.000000  &   0.000000   &    0.00000  \\\\\n",
       "\\end{tabular}\n"
      ],
      "text/markdown": [
       "\n",
       "| <!--/--> | GF_104w_F_1_2 | GF_104w_F_2_2 | GF_104w_F_3_2 | GF_104w_M_1_2 | GF_104w_M_2_2 | GF_52w_M_1_2 | GF_52w_M_2_2 | GF_52w_M_3_2 | GF_52w_M_4_2 | GF_8w_M_1_2 | ⋯ | SPF_104w_M_14_2 | SPF_8w_F_1_2 | SPF_8w_F_3_2 | SPF_8w_F_4_2 | SPF_8w_F_5_2 | GF_8w_F_1_2 | GF_8w_F_2_2 | GF_8w_F_3_2 | GF_8w_F_4_2 | GF_8w_F_5_2 | \n",
       "|---|---|---|---|---|---|\n",
       "| 0610005C13Rik |    0.0000    |    0.00000   |    0.0000    |    1.768593  |    1.259244  |    0.8418979 |   4.942785   |    5.603216  |   7.231584   |   8.47277    | ⋯            |    5.28524   |    3.500355  |    2.112002  |    2.602398  |    0.00000   |   18.24998   |    0.00000   |    2.025447  |   5.268672   |    0.00000   | \n",
       "| 0610007P14Rik |  868.4015    |  749.64927   |  910.3535    |  886.064952  |  992.913601  |  508.5063502 | 530.855142   |  514.375197  | 738.344705   | 603.98749    | ⋯            |  692.36648   |  763.077332  |  744.480801  |  908.237050  |  957.79030   |  898.54336   |  682.26034   |  612.697796  | 593.252445   |  809.27852   | \n",
       "| 0610009B22Rik | 1021.3276    | 1169.19730   | 1180.9991    | 1224.750457  | 1558.313990  | 1038.9020466 | 876.850113   | 1016.423320  | 877.914273   | 948.95029    | ⋯            | 1206.79653   | 1268.295198  | 1164.769254  | 1295.994415  | 1446.89758   | 1040.24912   | 1020.67017   | 1142.352254  | 959.952003   | 1094.00091   | \n",
       "| 0610009L18Rik |   28.2185    |   36.20465   |   18.2253    |   20.338816  |   38.406931  |   31.9921214 |  26.691041   |   22.412863  |   4.338950   |  61.73018    | ⋯            |   45.80542   |   42.004257  |   45.408049  |  102.794738  |   72.02239   |   48.30878   |   19.58642   |   11.139960  |  45.310578   |   24.36813   | \n",
       "| 0610009O20Rik |  217.5555    |  278.98879   |  266.0893    |  226.379868  |  271.996624  |  299.7156634 | 349.949200   |  395.587025  | 309.511786   | 360.69794    | ⋯            |  178.81730   |  274.194454  |  252.384272  |  227.709862  |  184.89330   |  231.88216   |  158.86764   |  271.409933  | 304.529230   |  269.33199   | \n",
       "| 0610010B08Rik |    0.0000    |    0.00000   |    0.0000    |    0.000000  |    0.000000  |    0.0000000 |   0.000000   |    0.000000  |   0.000000   |   0.00000    | ⋯            |    0.00000   |    0.000000  |    0.000000  |    0.000000  |    0.00000   |    0.00000   |    0.00000   |    0.000000  |   0.000000   |    0.00000   | \n",
       "\n",
       "\n"
      ],
      "text/plain": [
       "              GF_104w_F_1_2 GF_104w_F_2_2 GF_104w_F_3_2 GF_104w_M_1_2\n",
       "0610005C13Rik    0.0000        0.00000       0.0000        1.768593  \n",
       "0610007P14Rik  868.4015      749.64927     910.3535      886.064952  \n",
       "0610009B22Rik 1021.3276     1169.19730    1180.9991     1224.750457  \n",
       "0610009L18Rik   28.2185       36.20465      18.2253       20.338816  \n",
       "0610009O20Rik  217.5555      278.98879     266.0893      226.379868  \n",
       "0610010B08Rik    0.0000        0.00000       0.0000        0.000000  \n",
       "              GF_104w_M_2_2 GF_52w_M_1_2 GF_52w_M_2_2 GF_52w_M_3_2 GF_52w_M_4_2\n",
       "0610005C13Rik    1.259244      0.8418979   4.942785      5.603216    7.231584  \n",
       "0610007P14Rik  992.913601    508.5063502 530.855142    514.375197  738.344705  \n",
       "0610009B22Rik 1558.313990   1038.9020466 876.850113   1016.423320  877.914273  \n",
       "0610009L18Rik   38.406931     31.9921214  26.691041     22.412863    4.338950  \n",
       "0610009O20Rik  271.996624    299.7156634 349.949200    395.587025  309.511786  \n",
       "0610010B08Rik    0.000000      0.0000000   0.000000      0.000000    0.000000  \n",
       "              GF_8w_M_1_2 ⋯ SPF_104w_M_14_2 SPF_8w_F_1_2 SPF_8w_F_3_2\n",
       "0610005C13Rik   8.47277   ⋯    5.28524         3.500355     2.112002 \n",
       "0610007P14Rik 603.98749   ⋯  692.36648       763.077332   744.480801 \n",
       "0610009B22Rik 948.95029   ⋯ 1206.79653      1268.295198  1164.769254 \n",
       "0610009L18Rik  61.73018   ⋯   45.80542        42.004257    45.408049 \n",
       "0610009O20Rik 360.69794   ⋯  178.81730       274.194454   252.384272 \n",
       "0610010B08Rik   0.00000   ⋯    0.00000         0.000000     0.000000 \n",
       "              SPF_8w_F_4_2 SPF_8w_F_5_2 GF_8w_F_1_2 GF_8w_F_2_2 GF_8w_F_3_2\n",
       "0610005C13Rik    2.602398     0.00000     18.24998     0.00000     2.025447\n",
       "0610007P14Rik  908.237050   957.79030    898.54336   682.26034   612.697796\n",
       "0610009B22Rik 1295.994415  1446.89758   1040.24912  1020.67017  1142.352254\n",
       "0610009L18Rik  102.794738    72.02239     48.30878    19.58642    11.139960\n",
       "0610009O20Rik  227.709862   184.89330    231.88216   158.86764   271.409933\n",
       "0610010B08Rik    0.000000     0.00000      0.00000     0.00000     0.000000\n",
       "              GF_8w_F_4_2 GF_8w_F_5_2\n",
       "0610005C13Rik   5.268672     0.00000 \n",
       "0610007P14Rik 593.252445   809.27852 \n",
       "0610009B22Rik 959.952003  1094.00091 \n",
       "0610009L18Rik  45.310578    24.36813 \n",
       "0610009O20Rik 304.529230   269.33199 \n",
       "0610010B08Rik   0.000000     0.00000 "
      ]
     },
     "metadata": {},
     "output_type": "display_data"
    }
   ],
   "source": [
    "norm_counts = counts(dge,normalized=TRUE)\n",
    "head(norm_counts)"
   ]
  },
  {
   "cell_type": "code",
   "execution_count": 48,
   "metadata": {},
   "outputs": [],
   "source": [
    "save(dge, file = \"../results/dge/dge.RData\")\n",
    "save(norm_counts, file=\"../results/dge/norm_counts.RData\")\n",
    "save(metadata, file=\"../results/dge/metadata.RData\")"
   ]
  },
  {
   "cell_type": "markdown",
   "metadata": {},
   "source": [
    "# Saving (for Galaxy)"
   ]
  },
  {
   "cell_type": "code",
   "execution_count": null,
   "metadata": {
    "scrolled": true
   },
   "outputs": [],
   "source": [
    "# Save the notebook into the history\n",
    "system(\"put -p dge_analysis.ipynb -t ipynb\", intern=T)"
   ]
  }
 ],
 "metadata": {
  "hide_input": true,
  "kernelspec": {
   "display_name": "R",
   "language": "R",
   "name": "ir"
  },
  "language_info": {
   "codemirror_mode": "r",
   "file_extension": ".r",
   "mimetype": "text/x-r-source",
   "name": "R",
   "pygments_lexer": "r",
   "version": "3.4.3"
  },
  "toc": {
   "nav_menu": {
    "height": "530px",
    "width": "568px"
   },
   "number_sections": true,
   "sideBar": true,
   "skip_h1_title": false,
   "title_cell": "Table of Contents",
   "title_sidebar": "Contents",
   "toc_cell": false,
   "toc_position": {
    "height": "921px",
    "left": "0px",
    "right": "1708px",
    "top": "111px",
    "width": "255px"
   },
   "toc_section_display": "block",
   "toc_window_display": true
  }
 },
 "nbformat": 4,
 "nbformat_minor": 1
}
