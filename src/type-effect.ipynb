{
 "cells": [
  {
   "cell_type": "markdown",
   "metadata": {},
   "source": [
    "Type effect - Questions\n",
    "- What are the differences between the 2 types?\n",
    "- Are they different for the 3 ages?\n",
    "- Are they different for the 2 genders?\n"
   ]
  },
  {
   "cell_type": "markdown",
   "metadata": {},
   "source": [
    "# Loads\n",
    "\n",
    "## Libraries"
   ]
  },
  {
   "cell_type": "code",
   "execution_count": 3,
   "metadata": {},
   "outputs": [],
   "source": [
    "options(jupyter.plot_mimetypes = c(\"text/plain\", \"image/png\" ))"
   ]
  },
  {
   "cell_type": "code",
   "execution_count": 4,
   "metadata": {},
   "outputs": [
    {
     "name": "stderr",
     "output_type": "stream",
     "text": [
      "Bioconductor version 3.6 (BiocInstaller 1.28.0), ?biocLite for help\n",
      "Loading required package: S4Vectors\n",
      "Loading required package: stats4\n",
      "Loading required package: BiocGenerics\n",
      "Loading required package: parallel\n",
      "\n",
      "Attaching package: ‘BiocGenerics’\n",
      "\n",
      "The following objects are masked from ‘package:parallel’:\n",
      "\n",
      "    clusterApply, clusterApplyLB, clusterCall, clusterEvalQ,\n",
      "    clusterExport, clusterMap, parApply, parCapply, parLapply,\n",
      "    parLapplyLB, parRapply, parSapply, parSapplyLB\n",
      "\n",
      "The following objects are masked from ‘package:stats’:\n",
      "\n",
      "    IQR, mad, sd, var, xtabs\n",
      "\n",
      "The following objects are masked from ‘package:base’:\n",
      "\n",
      "    anyDuplicated, append, as.data.frame, cbind, colMeans, colnames,\n",
      "    colSums, do.call, duplicated, eval, evalq, Filter, Find, get, grep,\n",
      "    grepl, intersect, is.unsorted, lapply, lengths, Map, mapply, match,\n",
      "    mget, order, paste, pmax, pmax.int, pmin, pmin.int, Position, rank,\n",
      "    rbind, Reduce, rowMeans, rownames, rowSums, sapply, setdiff, sort,\n",
      "    table, tapply, union, unique, unsplit, which, which.max, which.min\n",
      "\n",
      "\n",
      "Attaching package: ‘S4Vectors’\n",
      "\n",
      "The following object is masked from ‘package:base’:\n",
      "\n",
      "    expand.grid\n",
      "\n",
      "Loading required package: IRanges\n",
      "Loading required package: GenomicRanges\n",
      "Loading required package: GenomeInfoDb\n",
      "Loading required package: SummarizedExperiment\n",
      "Loading required package: Biobase\n",
      "Welcome to Bioconductor\n",
      "\n",
      "    Vignettes contain introductory material; view with\n",
      "    'browseVignettes()'. To cite Bioconductor, see\n",
      "    'citation(\"Biobase\")', and for packages 'citation(\"pkgname\")'.\n",
      "\n",
      "Loading required package: DelayedArray\n",
      "Loading required package: matrixStats\n",
      "\n",
      "Attaching package: ‘matrixStats’\n",
      "\n",
      "The following objects are masked from ‘package:Biobase’:\n",
      "\n",
      "    anyMissing, rowMedians\n",
      "\n",
      "\n",
      "Attaching package: ‘DelayedArray’\n",
      "\n",
      "The following objects are masked from ‘package:matrixStats’:\n",
      "\n",
      "    colMaxs, colMins, colRanges, rowMaxs, rowMins, rowRanges\n",
      "\n",
      "The following object is masked from ‘package:base’:\n",
      "\n",
      "    apply\n",
      "\n"
     ]
    }
   ],
   "source": [
    "source(\"https://bioconductor.org/biocLite.R\")\n",
    "#biocLite(\"DESeq2\")\n",
    "library(\"DESeq2\")"
   ]
  },
  {
   "cell_type": "code",
   "execution_count": 5,
   "metadata": {},
   "outputs": [
    {
     "name": "stderr",
     "output_type": "stream",
     "text": [
      "Updating HTML index of packages in '.Library'\n",
      "Making 'packages.html' ... done\n"
     ]
    }
   ],
   "source": [
    "install.packages(\"pheatmap\")\n",
    "library(\"pheatmap\")"
   ]
  },
  {
   "cell_type": "code",
   "execution_count": 6,
   "metadata": {
    "scrolled": false
   },
   "outputs": [
    {
     "name": "stderr",
     "output_type": "stream",
     "text": [
      "Updating HTML index of packages in '.Library'\n",
      "Making 'packages.html' ... done\n",
      "\n",
      "Attaching package: ‘gplots’\n",
      "\n",
      "The following object is masked from ‘package:IRanges’:\n",
      "\n",
      "    space\n",
      "\n",
      "The following object is masked from ‘package:S4Vectors’:\n",
      "\n",
      "    space\n",
      "\n",
      "The following object is masked from ‘package:stats’:\n",
      "\n",
      "    lowess\n",
      "\n"
     ]
    }
   ],
   "source": [
    "install.packages(\"gplots\")\n",
    "library(gplots)"
   ]
  },
  {
   "cell_type": "code",
   "execution_count": 7,
   "metadata": {},
   "outputs": [
    {
     "name": "stderr",
     "output_type": "stream",
     "text": [
      "Updating HTML index of packages in '.Library'\n",
      "Making 'packages.html' ... done\n",
      "\n",
      "Attaching package: ‘plyr’\n",
      "\n",
      "The following object is masked from ‘package:matrixStats’:\n",
      "\n",
      "    count\n",
      "\n",
      "The following object is masked from ‘package:IRanges’:\n",
      "\n",
      "    desc\n",
      "\n",
      "The following object is masked from ‘package:S4Vectors’:\n",
      "\n",
      "    rename\n",
      "\n"
     ]
    }
   ],
   "source": [
    "install.packages(\"UpSetR\")\n",
    "library(UpSetR)\n",
    "library(ggplot2)\n",
    "library(grid)\n",
    "library(plyr)"
   ]
  },
  {
   "cell_type": "code",
   "execution_count": 8,
   "metadata": {},
   "outputs": [
    {
     "name": "stderr",
     "output_type": "stream",
     "text": [
      "Loading required package: viridisLite\n"
     ]
    }
   ],
   "source": [
    "require(graphics)\n",
    "require(grDevices)\n",
    "library(RColorBrewer)\n",
    "library(viridis)"
   ]
  },
  {
   "cell_type": "code",
   "execution_count": 9,
   "metadata": {
    "scrolled": true
   },
   "outputs": [
    {
     "name": "stderr",
     "output_type": "stream",
     "text": [
      "BioC_mirror: https://bioconductor.org\n",
      "Using Bioconductor 3.6 (BiocInstaller 1.28.0), R 3.4.2 (2017-09-28).\n",
      "Installing package(s) ‘org.Mm.eg.db’\n",
      "Updating HTML index of packages in '.Library'\n",
      "Making 'packages.html' ... done\n",
      "Old packages: 'backports', 'BH', 'biomaRt', 'callr', 'caret', 'curl', 'DBI',\n",
      "  'dbplyr', 'ddalpha', 'digest', 'DRR', 'forcats', 'foreach',\n",
      "  'GenomeInfoDbData', 'GenomicFeatures', 'GenomicRanges', 'haven', 'hexbin',\n",
      "  'Hmisc', 'hms', 'htmlTable', 'htmlwidgets', 'httpuv', 'iterators', 'knitr',\n",
      "  'lava', 'lubridate', 'MASS', 'matrixStats', 'mgcv', 'nlme', 'openssl',\n",
      "  'pbdZMQ', 'pryr', 'quantmod', 'Rcpp', 'RcppArmadillo', 'RCurl', 'recipes',\n",
      "  'rentrez', 'reprex', 'reshape2', 'rlang', 'rmarkdown', 'RMySQL', 'rpart',\n",
      "  'rprojroot', 'rtracklayer', 'stringr', 'SummarizedExperiment', 'tibble',\n",
      "  'tidyr', 'tidyselect', 'timeDate', 'TTR', 'viridis', 'viridisLite', 'withr',\n",
      "  'XML', 'xml2', 'xts', 'yaml', 'zoo'\n",
      "Loading required package: AnnotationDbi\n",
      "\n"
     ]
    }
   ],
   "source": [
    "biocLite(\"org.Mm.eg.db\")\n",
    "library(org.Mm.eg.db)"
   ]
  },
  {
   "cell_type": "code",
   "execution_count": 10,
   "metadata": {
    "scrolled": true
   },
   "outputs": [
    {
     "name": "stderr",
     "output_type": "stream",
     "text": [
      "Updating HTML index of packages in '.Library'\n",
      "Making 'packages.html' ... done\n"
     ]
    }
   ],
   "source": [
    "install.packages(\"rentrez\")\n",
    "library(rentrez)"
   ]
  },
  {
   "cell_type": "code",
   "execution_count": 11,
   "metadata": {},
   "outputs": [
    {
     "name": "stderr",
     "output_type": "stream",
     "text": [
      "Loading required package: BiasedUrn\n",
      "Loading required package: geneLenDataBase\n",
      "\n",
      "BioC_mirror: https://bioconductor.org\n",
      "Using Bioconductor 3.6 (BiocInstaller 1.28.0), R 3.4.2 (2017-09-28).\n",
      "Installing package(s) ‘TxDb.Mmusculus.UCSC.mm10.knownGene’\n",
      "Updating HTML index of packages in '.Library'\n",
      "Making 'packages.html' ... done\n",
      "Old packages: 'backports', 'BH', 'biomaRt', 'callr', 'caret', 'curl', 'DBI',\n",
      "  'dbplyr', 'ddalpha', 'digest', 'DRR', 'forcats', 'foreach',\n",
      "  'GenomeInfoDbData', 'GenomicFeatures', 'GenomicRanges', 'haven', 'hexbin',\n",
      "  'Hmisc', 'hms', 'htmlTable', 'htmlwidgets', 'httpuv', 'iterators', 'knitr',\n",
      "  'lava', 'lubridate', 'MASS', 'matrixStats', 'mgcv', 'nlme', 'openssl',\n",
      "  'pbdZMQ', 'pryr', 'quantmod', 'Rcpp', 'RcppArmadillo', 'RCurl', 'recipes',\n",
      "  'reprex', 'reshape2', 'rlang', 'rmarkdown', 'RMySQL', 'rpart', 'rprojroot',\n",
      "  'rtracklayer', 'stringr', 'SummarizedExperiment', 'tibble', 'tidyr',\n",
      "  'tidyselect', 'timeDate', 'TTR', 'viridis', 'viridisLite', 'withr', 'XML',\n",
      "  'xml2', 'xts', 'yaml', 'zoo'\n"
     ]
    }
   ],
   "source": [
    "library(\"goseq\")\n",
    "biocLite(\"TxDb.Mmusculus.UCSC.mm10.knownGene\")"
   ]
  },
  {
   "cell_type": "markdown",
   "metadata": {},
   "source": [
    "## Functions"
   ]
  },
  {
   "cell_type": "code",
   "execution_count": 12,
   "metadata": {},
   "outputs": [],
   "source": [
    "get_perc = function(v, l){\n",
    "    s = sum(v, na.rm=T)\n",
    "    return(round(s*100/l, digits=2))\n",
    "}\n",
    "get_sign_padj = function(dge_res) {\n",
    "    return(get_perc(dge_res$padj < 0.05, sum(!is.na(dge_res$log2FoldChange))))\n",
    "}\n",
    "get_pos_sign_padj = function(dge_res) {\n",
    "    return(get_perc(dge_res$padj < 0.05 & dge_res$log2FoldChange > 0, sum(!is.na(dge_res$log2FoldChange))))\n",
    "}\n",
    "get_neg_sign_padj = function(dge_res) {\n",
    "    return(get_perc(dge_res$padj < 0.05 & dge_res$log2FoldChange < 0, sum(!is.na(dge_res$log2FoldChange))))\n",
    "}\n",
    "get_stats_padj  = function(dge_res) {\n",
    "    v = c(get_sign_padj(dge_res), get_pos_sign_padj(dge_res), get_neg_sign_padj(dge_res))\n",
    "    names(v) = c(\"Wald padj < 0.05\", \"LFC > 0 (Wald padj < 0.05)\", \"LFC < 0 (Wald padj < 0.05)\")\n",
    "    return(v)\n",
    "}"
   ]
  },
  {
   "cell_type": "code",
   "execution_count": 13,
   "metadata": {},
   "outputs": [],
   "source": [
    "clean_mat = function(mat){\n",
    "    new_mat = mat\n",
    "    new_mat[is.na(new_mat)] = 0\n",
    "    new_mat = new_mat[rowSums(new_mat) > 0,]\n",
    "    return(new_mat)\n",
    "}\n",
    "get_interesting_cat = function(wall, data_type, cat_type){\n",
    "    # extract the categories with a significant p-values (over or under represented pvalue)\n",
    "    enriched_cat = lapply(wall, function(x) x[p.adjust(x[,data_type],method=\"BH\")<.05,])\n",
    "    # extract the category names for the significant categories and merge them for all the comparisons\n",
    "    if(cat_type == \"GO\"){\n",
    "        cat = unique(do.call(rbind,lapply(enriched_cat, function(x) x[,c(\"category\",\"term\",\"ontology\")])))\n",
    "        rownames(cat) = do.call(rbind,strsplit(rownames(cat), split='.', fixed=TRUE))[,2]\n",
    "    }else{\n",
    "        cat = unique(do.call(rbind,lapply(enriched_cat, function(x) cbind(rownames(x),x[,c(\"category\")]))))\n",
    "        names = cat[,1]\n",
    "        cat = matrix(cat[,-1])\n",
    "        rownames(cat) = names\n",
    "    }\n",
    "    # combine the significant categories for all comparisons\n",
    "    full_mat = cbind(cat, sapply(enriched_cat, function(x) x[rownames(cat),data_type]))\n",
    "    return(full_mat)\n",
    "}\n",
    "extract_diff_expr_genes = function(in_l, name){\n",
    "    l = list()\n",
    "    # extract the significant differentially expressed genes (all, upregulated, downregulated)\n",
    "    l$deg = sapply(in_l, function(mat) return(mat$padj < 0.05))*1\n",
    "    rownames(l$deg) = rownames(in_l[[1]])\n",
    "    l$deg = clean_mat(l$deg)\n",
    "    deg_names = rownames(l$deg)\n",
    "    head(l$deg)\n",
    "    # extract the significant differentially more expressed genes\n",
    "    l$pos = sapply(in_l, function(mat) return(mat[deg_names, 'log2FoldChange'] > 0))*1\n",
    "    l$pos[l$deg == 0] = 0\n",
    "    rownames(l$pos) = deg_names\n",
    "    l$pos = clean_mat(l$pos)\n",
    "    # extract the significant differentially less expressed genes\n",
    "    l$neg = sapply(in_l, function(mat) return(mat[deg_names, 'log2FoldChange'] < 0))*1\n",
    "    l$neg[l$deg == 0] = 0\n",
    "    rownames(l$neg) = deg_names\n",
    "    l$neg = clean_mat(l$neg)\n",
    "    # extract the log2FC of the significant differentially expressed genes\n",
    "    l$fc_deg = sapply(in_l, function(mat) return(mat[deg_names, 'log2FoldChange']))\n",
    "    rownames(l$fc_deg) = deg_names\n",
    "    l$fc_deg[l$deg == 0] = NA\n",
    "    write.table(l$fc_deg, name, sep = \"\\t\", quote = FALSE)\n",
    "    #system(paste(\"put -p\", name, \"-t tabular\"), intern=T)\n",
    "    ## GO and KEGG analysis                  \n",
    "    assayed_genes = rownames(in_l[[1]])\n",
    "    assayed_genes\n",
    "    # extract the DE genes (1 in the deg matrix)\n",
    "    de_genes = sapply(colnames(l$deg), function(x) names(which(l$deg[,x]==1)))\n",
    "    # extract in the full list of genes the DE ones                  \n",
    "    gene_vector = sapply(de_genes, function(x) as.integer(assayed_genes%in%x))\n",
    "    rownames(gene_vector) = assayed_genes\n",
    "    # fit the probability weighting function\n",
    "    pwf = lapply(1:dim(gene_vector)[2], function(x) nullp(gene_vector[,x], 'mm10', 'geneSymbol', plot.fit=F))\n",
    "    names(pwf) = colnames(gene_vector)\n",
    "    # calculate the over and under expressed GO categories among the DE genes\n",
    "    GO_wall = lapply(pwf, function(x) goseq(x,'mm10', 'geneSymbol'))\n",
    "    # calculate the over and under expressed KEGG pathways among the DE genes\n",
    "    KEGG_wall = lapply(pwf, function(x) goseq(x,'mm10', 'geneSymbol', test.cats=\"KEGG\"))\n",
    "    # extract interesting pathways/categories and export them\n",
    "    l$over_represented_GO = get_interesting_cat(GO_wall, \"over_represented_pvalue\", \"GO\")\n",
    "    write.table(l$over_represented_GO, paste(name, \"over_represented_GO\"), sep = \"\\t\", quote = FALSE)                \n",
    "    l$under_represented_GO = get_interesting_cat(GO_wall, \"under_represented_pvalue\", \"GO\")\n",
    "    write.table(l$under_represented_GO, paste(name, \"under_represented_GO\"), sep = \"\\t\", quote = FALSE)\n",
    "    l$over_represented_KEGG = get_interesting_cat(KEGG_wall, \"over_represented_pvalue\", \"KEGG\")\n",
    "    write.table(l$over_represented_KEGG, paste(name, \"over_represented_KEGG\"), sep = \"\\t\", quote = FALSE)    \n",
    "    l$under_represented_KEGG = get_interesting_cat(KEGG_wall, \"under_represented_pvalue\", \"KEGG\")\n",
    "    write.table(l$under_represented_KEGG, paste(name, \"under_represented_KEGG\"), sep = \"\\t\", quote = FALSE)                       \n",
    "    return(l)\n",
    "}                       "
   ]
  },
  {
   "cell_type": "code",
   "execution_count": 14,
   "metadata": {},
   "outputs": [],
   "source": [
    "get_number = function(bool_expr) return(sum(bool_expr*1))\n",
    "get_repartition = function(dge_mat) return(cbind(get_number(dge_mat[,1]>0 & dge_mat[,2]>0), get_number(dge_mat[,1]>0 & dge_mat[,2]<0), get_number(dge_mat[,1]<0 & dge_mat[,2]>0), get_number(dge_mat[,1]<0 & dge_mat[,2]<0)))\n",
    "get_repartition_3col = function(dge_mat) return(cbind(\n",
    "    get_number(dge_mat[,1]>0 & dge_mat[,2]>0 & dge_mat[,3]>0),\n",
    "    get_number(dge_mat[,1]>0 & dge_mat[,2]>0 & dge_mat[,3]<0), \n",
    "    get_number(dge_mat[,1]>0 & dge_mat[,2]<0 & dge_mat[,3]>0), \n",
    "    get_number(dge_mat[,1]>0 & dge_mat[,2]<0 & dge_mat[,3]<0), \n",
    "    get_number(dge_mat[,1]<0 & dge_mat[,2]>0 & dge_mat[,3]>0), \n",
    "    get_number(dge_mat[,1]<0 & dge_mat[,2]>0 & dge_mat[,3]<0), \n",
    "    get_number(dge_mat[,1]<0 & dge_mat[,2]<0 & dge_mat[,3]>0), \n",
    "    get_number(dge_mat[,1]<0 & dge_mat[,2]<0 & dge_mat[,3]<0)))"
   ]
  },
  {
   "cell_type": "code",
   "execution_count": 15,
   "metadata": {},
   "outputs": [],
   "source": [
    "quantile_breaks = function(xs, n = 10) {\n",
    "    breaks = quantile(xs, probs = seq(0, 1, length.out = n))\n",
    "    breaks[!duplicated(breaks)]\n",
    "}\n",
    "plot_count_heatmap = function(genes, samples, annot){\n",
    "    data = norm_counts[genes,samples]\n",
    "    breaks = quantile_breaks(data, n = 11)\n",
    "    pheatmap(data, cluster_rows=F, cluster_cols=F, show_rownames=F, show_colnames=F, annotation_col=annot, breaks=breaks, color=inferno(10))  \n",
    "}"
   ]
  },
  {
   "cell_type": "code",
   "execution_count": 16,
   "metadata": {},
   "outputs": [
    {
     "data": {
      "text/html": [
       "<dl>\n",
       "\t<dt>$Pzp</dt>\n",
       "\t\t<dd><strong>$`11287`</strong> = 'PZP, alpha-2-macroglobulin like'</dd>\n",
       "\t<dt>$Aanat</dt>\n",
       "\t\t<dd><strong>$`11298`</strong> = 'arylalkylamine N-acetyltransferase'</dd>\n",
       "\t<dt>$Aatk</dt>\n",
       "\t\t<dd><strong>$`11302`</strong> = 'apoptosis-associated tyrosine kinase'</dd>\n",
       "\t<dt>$Abca1</dt>\n",
       "\t\t<dd><strong>$`11303`</strong> = 'ATP-binding cassette, sub-family A (ABC1), member 1'</dd>\n",
       "\t<dt>$Abca4</dt>\n",
       "\t\t<dd><strong>$`11304`</strong> = 'ATP-binding cassette, sub-family A (ABC1), member 4'</dd>\n",
       "\t<dt>$Abca2</dt>\n",
       "\t\t<dd><strong>$`11305`</strong> = 'ATP-binding cassette, sub-family A (ABC1), member 2'</dd>\n",
       "</dl>\n"
      ],
      "text/latex": [
       "\\begin{description}\n",
       "\\item[\\$Pzp] \\textbf{\\$`11287`} = 'PZP, alpha-2-macroglobulin like'\n",
       "\\item[\\$Aanat] \\textbf{\\$`11298`} = 'arylalkylamine N-acetyltransferase'\n",
       "\\item[\\$Aatk] \\textbf{\\$`11302`} = 'apoptosis-associated tyrosine kinase'\n",
       "\\item[\\$Abca1] \\textbf{\\$`11303`} = 'ATP-binding cassette, sub-family A (ABC1), member 1'\n",
       "\\item[\\$Abca4] \\textbf{\\$`11304`} = 'ATP-binding cassette, sub-family A (ABC1), member 4'\n",
       "\\item[\\$Abca2] \\textbf{\\$`11305`} = 'ATP-binding cassette, sub-family A (ABC1), member 2'\n",
       "\\end{description}\n"
      ],
      "text/markdown": [
       "$Pzp\n",
       ":   **$`11287`** = 'PZP, alpha-2-macroglobulin like'\n",
       "$Aanat\n",
       ":   **$`11298`** = 'arylalkylamine N-acetyltransferase'\n",
       "$Aatk\n",
       ":   **$`11302`** = 'apoptosis-associated tyrosine kinase'\n",
       "$Abca1\n",
       ":   **$`11303`** = 'ATP-binding cassette, sub-family A (ABC1), member 1'\n",
       "$Abca4\n",
       ":   **$`11304`** = 'ATP-binding cassette, sub-family A (ABC1), member 4'\n",
       "$Abca2\n",
       ":   **$`11305`** = 'ATP-binding cassette, sub-family A (ABC1), member 2'\n",
       "\n",
       "\n"
      ],
      "text/plain": [
       "$Pzp\n",
       "$Pzp$`11287`\n",
       "[1] \"PZP, alpha-2-macroglobulin like\"\n",
       "\n",
       "\n",
       "$Aanat\n",
       "$Aanat$`11298`\n",
       "[1] \"arylalkylamine N-acetyltransferase\"\n",
       "\n",
       "\n",
       "$Aatk\n",
       "$Aatk$`11302`\n",
       "[1] \"apoptosis-associated tyrosine kinase\"\n",
       "\n",
       "\n",
       "$Abca1\n",
       "$Abca1$`11303`\n",
       "[1] \"ATP-binding cassette, sub-family A (ABC1), member 1\"\n",
       "\n",
       "\n",
       "$Abca4\n",
       "$Abca4$`11304`\n",
       "[1] \"ATP-binding cassette, sub-family A (ABC1), member 4\"\n",
       "\n",
       "\n",
       "$Abca2\n",
       "$Abca2$`11305`\n",
       "[1] \"ATP-binding cassette, sub-family A (ABC1), member 2\"\n",
       "\n"
      ]
     },
     "metadata": {},
     "output_type": "display_data"
    }
   ],
   "source": [
    "get_list = function(mapping){\n",
    "    mapped_genes = mappedkeys(mapping)\n",
    "    return(as.list(mapping[mapped_genes]))\n",
    "}\n",
    "# Map between Entrez Gene Identifiers and Gene Names (and description) \n",
    "eg2name = get_list(org.Mm.egGENENAME)\n",
    "# Map between Gene Symbols and Entrez Gene Identifiers\n",
    "symbol2eg = get_list(org.Mm.egSYMBOL2EG)\n",
    "# Map between RefSeq and Entrez Gene Identifiers\n",
    "refseq2eg = get_list(org.Mm.egREFSEQ2EG)\n",
    "# Map between Gene Symbols and Gene Names (and description)\n",
    "symbol2name = sapply(names(symbol2eg), function(x) return(eg2name[symbol2eg[[x]]]))\n",
    "head(symbol2name)\n",
    "# Map between Entrez Gene Identifiers and KEGG pathways\n",
    "eg2kegg=as.list(org.Mm.egPATH)"
   ]
  },
  {
   "cell_type": "code",
   "execution_count": 17,
   "metadata": {},
   "outputs": [],
   "source": [
    "# search on Entrez the correct name\n",
    "search_name = function(name){\n",
    "    search = entrez_search(db=\"gene\",term=name)\n",
    "    names = c()\n",
    "    for(id in search$ids){\n",
    "        sum = entrez_summary(db=\"gene\", id=id)\n",
    "        if(sum$organism$scientificname == 'Mus musculus' & grepl(name,sum$otheraliases)){\n",
    "            names = c(names, sum$name)\n",
    "        }\n",
    "    }\n",
    "    return(names)\n",
    "}"
   ]
  },
  {
   "cell_type": "code",
   "execution_count": 18,
   "metadata": {},
   "outputs": [],
   "source": [
    "capFirst = function(s) {\n",
    "    paste(substring(s, 1, 1), tolower(substring(s, 2)), sep = \"\")\n",
    "}"
   ]
  },
  {
   "cell_type": "markdown",
   "metadata": {},
   "source": [
    "## Data"
   ]
  },
  {
   "cell_type": "markdown",
   "metadata": {},
   "source": [
    "# Global stats"
   ]
  },
  {
   "cell_type": "code",
   "execution_count": null,
   "metadata": {
    "scrolled": true
   },
   "outputs": [],
   "source": [
    "# Interactions between genders, types and ages\n",
    "GF_SPF_F_8w = results(dge,contrast= c(0,0,1,0,0,0,0,0,0,0), alpha=0.05, test=\"Wald\")\n",
    "GF_SPF_M_8w = results(dge,contrast= c(0,0,1,0,0,0,0,1,0,0), alpha=0.05, test=\"Wald\")\n",
    "GF_SPF_F_52w = results(dge,contrast= c(0,0,1,0,0,0,0,0,0,1), alpha=0.05, test=\"Wald\")\n",
    "GF_SPF_M_52w = results(dge,contrast= c(0,0,1,0,0,0,0,1,0,1), alpha=0.05, test=\"Wald\")\n",
    "GF_SPF_F_104w = results(dge,contrast= c(0,0,1,0,0,0,0,0,1,0), alpha=0.05, test=\"Wald\")\n",
    "GF_SPF_M_104w = results(dge,contrast= c(0,0,1,0,0,0,0,1,1,0), alpha=0.05, test=\"Wald\")\n",
    "# Stats\n",
    "type_gender_age_stats = matrix(0, nrow=6, ncol=3)\n",
    "rownames(type_gender_age_stats) = c(\"GF VS SPF (F, 8w)\", \"GF VS SPF (M, 8w)\", \"GF VS SPF (F, 52w)\", \"GF VS SPF (M, 52w)\", \"GF VS SPF (F, 104w)\", \"GF VS SPF (M, 104w)\")\n",
    "colnames(type_gender_age_stats) = c(\"Wald padj < 0.05\", \"LFC > 0 (Wald padj < 0.05)\", \"LFC < 0 (Wald padj < 0.05)\")\n",
    "type_gender_age_stats[1,] = get_stats_padj(GF_SPF_F_8w)\n",
    "type_gender_age_stats[2,] = get_stats_padj(GF_SPF_M_8w)\n",
    "type_gender_age_stats[3,] = get_stats_padj(GF_SPF_F_52w)\n",
    "type_gender_age_stats[4,] = get_stats_padj(GF_SPF_M_52w)\n",
    "type_gender_age_stats[5,] = get_stats_padj(GF_SPF_F_104w)\n",
    "type_gender_age_stats[6,] = get_stats_padj(GF_SPF_M_104w)\n",
    "type_gender_age_stats"
   ]
  },
  {
   "cell_type": "markdown",
   "metadata": {},
   "source": [
    "# Comparison between the types for the ages and genders\n",
    "\n",
    "Questions\n",
    "- What are the differences between the type for the different combinations of ages and genders?\n",
    "- Do we observe the same changes as globally?"
   ]
  },
  {
   "cell_type": "code",
   "execution_count": null,
   "metadata": {},
   "outputs": [],
   "source": [
    "type_gender_age_data = list(GF_SPF_F_8w, GF_SPF_M_8w, GF_SPF_F_52w, GF_SPF_M_52w, GF_SPF_F_104w, GF_SPF_M_104w, GF_SPF)\n",
    "names(type_gender_age_data) = c(\"GF VS SPF (F, 8w)\", \"GF VS SPF (M, 8w)\", \"GF VS SPF (F, 52w)\", \"GF VS SPF (M, 52w)\", \"GF VS SPF (F, 104w)\", \"GF VS SPF (M, 104w)\", \"GF VS SPF (global)\")\n",
    "type_gender_age_deg = extract_diff_expr_genes(type_gender_age_data, \"type_gender_age_data\")"
   ]
  },
  {
   "cell_type": "code",
   "execution_count": null,
   "metadata": {
    "scrolled": false
   },
   "outputs": [],
   "source": [
    "# Differentially expressed genes\n",
    "upset(as.data.frame(type_gender_age_deg$deg), nsets = 7)"
   ]
  },
  {
   "cell_type": "markdown",
   "metadata": {},
   "source": [
    "## Checking genes between GF vs SPF at 52w in M, F, Global"
   ]
  },
  {
   "cell_type": "code",
   "execution_count": null,
   "metadata": {},
   "outputs": [],
   "source": [
    "type_gender_52w_data = list(GF_SPF_F_52w, GF_SPF_M_52w, GF_SPF_52w)\n",
    "names(type_gender_52w_data) = c(\"GF VS SPF (F, 52w)\", \"GF VS SPF (M, 52)\", \"GF VS SPF (52w)\")\n",
    "type_gender_52w_deg = extract_diff_expr_genes(type_gender_52w_data, \"type_gender_52w\")"
   ]
  },
  {
   "cell_type": "code",
   "execution_count": null,
   "metadata": {},
   "outputs": [],
   "source": [
    "# Differentially expressed genes\n",
    "upset(as.data.frame(type_gender_52w_deg$deg), nsets = 8)"
   ]
  },
  {
   "cell_type": "code",
   "execution_count": null,
   "metadata": {
    "scrolled": false
   },
   "outputs": [],
   "source": [
    "genes = names(sort(abs(type_gender_52w_deg$fc_deg[!is.na(type_gender_52w_deg$fc_deg[,3]),3]), decreasing = T))[1:100]\n",
    "type_gender_52w_deg$fc_deg[genes,]"
   ]
  },
  {
   "cell_type": "code",
   "execution_count": null,
   "metadata": {
    "scrolled": false
   },
   "outputs": [],
   "source": [
    "samples = c(\n",
    "    'SPF_52w_F_1_2','SPF_52w_F_2_2','SPF_52w_F_3_2','SPF_52w_F_4_2','SPF_52w_F_5_2','SPF_52w_F_6_2','SPF_52w_M_1_2','SPF_52w_M_2_2','SPF_52w_M_3_2','SPF_52w_M_4_2','SPF_52w_M_5_2',\n",
    "    'GF_52w_F_1_2','GF_52w_F_2_2','GF_52w_F_3_2','GF_52w_F_4_2','GF_52w_F_5_2','GF_52w_F_6_2','GF_52w_M_1_2','GF_52w_M_2_2','GF_52w_M_3_2','GF_52w_M_4_2')\n",
    "annot = as.data.frame(colData(dge)[, c(\"type\", \"gender\")])\n",
    "genes = names((sort(type_gender_52w_deg$fc_deg[which(abs(type_gender_52w_deg$fc_deg[,3])>1),3])))\n",
    "plot_count_heatmap(genes,samples, annot)"
   ]
  },
  {
   "cell_type": "markdown",
   "metadata": {},
   "source": [
    "## Checking genes between GF vs SPF at 104w in M, F, Global"
   ]
  },
  {
   "cell_type": "code",
   "execution_count": null,
   "metadata": {},
   "outputs": [],
   "source": [
    "type_gender_104w_data = list(GF_SPF_F_104w, GF_SPF_M_104w, GF_SPF_104w)\n",
    "names(type_gender_104w_data) = c(\"GF VS SPF (F, 104w)\", \"GF VS SPF (M, 104w)\", \"GF VS SPF (104w)\")\n",
    "type_gender_104w_deg = extract_diff_expr_genes(type_gender_104w_data, \"type_gender_104w\")"
   ]
  },
  {
   "cell_type": "code",
   "execution_count": null,
   "metadata": {},
   "outputs": [],
   "source": [
    "# Differentially expressed genes\n",
    "upset(as.data.frame(type_gender_104w_deg$deg), nsets = 8)"
   ]
  },
  {
   "cell_type": "code",
   "execution_count": null,
   "metadata": {},
   "outputs": [],
   "source": [
    "genes = names(sort(abs(type_gender_104w_deg$fc_deg[!is.na(type_gender_104w_deg$fc_deg[,3]),3]), decreasing = T))[1:100]"
   ]
  },
  {
   "cell_type": "code",
   "execution_count": null,
   "metadata": {
    "scrolled": false
   },
   "outputs": [],
   "source": [
    "type_gender_104w_deg$fc_deg[genes,]"
   ]
  },
  {
   "cell_type": "code",
   "execution_count": null,
   "metadata": {},
   "outputs": [],
   "source": [
    "samples = c(\n",
    "    'SPF_104w_F_1_2','SPF_104w_F_2_2','SPF_104w_F_3_2',\n",
    "    'SPF_104w_M_1_2','SPF_104w_M_2_2','SPF_104w_M_3_2','SPF_104w_M_4_2','SPF_104w_M_5_2','SPF_104w_M_6_2','SPF_104w_M_7_2','SPF_104w_M_8_2','SPF_104w_M_9_2','SPF_104w_M_10_2','SPF_104w_M_11_2','SPF_104w_M_12_2','SPF_104w_M_13_2','SPF_104w_M_14_2',\n",
    "    'GF_104w_F_1_2','GF_104w_F_2_2','GF_104w_F_3_2',\n",
    "    'GF_104w_M_1_2','GF_104w_M_2_2')\n",
    "annot = as.data.frame(colData(dge)[, c(\"type\", \"gender\")])\n",
    "genes = names((sort(type_gender_104w_deg$fc_deg[which(abs(type_gender_104w_deg$fc_deg[,3])>1),3])))\n",
    "plot_count_heatmap(genes,samples, annot)"
   ]
  }
 ],
 "metadata": {
  "hide_input": false,
  "kernelspec": {
   "display_name": "R",
   "language": "R",
   "name": "ir"
  },
  "language_info": {
   "codemirror_mode": "r",
   "file_extension": ".r",
   "mimetype": "text/x-r-source",
   "name": "R",
   "pygments_lexer": "r",
   "version": "3.4.2"
  },
  "toc": {
   "nav_menu": {
    "height": "530px",
    "width": "568px"
   },
   "number_sections": true,
   "sideBar": true,
   "skip_h1_title": false,
   "title_cell": "Table of Contents",
   "title_sidebar": "Contents",
   "toc_cell": false,
   "toc_position": {
    "height": "921px",
    "left": "0px",
    "right": "1708px",
    "top": "111px",
    "width": "255px"
   },
   "toc_section_display": "block",
   "toc_window_display": true
  }
 },
 "nbformat": 4,
 "nbformat_minor": 1
}
