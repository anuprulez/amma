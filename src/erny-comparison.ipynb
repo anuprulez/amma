{
 "cells": [
  {
   "cell_type": "markdown",
   "metadata": {},
   "source": [
    "# Comparison with Erny results\n",
    "\n",
    "Protocol: 2 months old female mices (GF vs SPF)"
   ]
  },
  {
   "cell_type": "code",
   "execution_count": null,
   "metadata": {},
   "outputs": [],
   "source": [
    "# our data\n",
    "GF_SPF_F_8w_fc_deg = type_gender_age_deg$fc_deg[,1]\n",
    "GF_SPF_F_8w_fc_deg = GF_SPF_F_8w_fc_deg[!is.na(GF_SPF_F_8w_fc_deg)]"
   ]
  },
  {
   "cell_type": "markdown",
   "metadata": {},
   "source": [
    "## Raw comparison of the results"
   ]
  },
  {
   "cell_type": "code",
   "execution_count": null,
   "metadata": {},
   "outputs": [],
   "source": [
    "# Erny data: transform the gene symbol and use log2(FC)\n",
    "erny_results = read.csv(\"../data/erny_results.csv\")\n",
    "erny_results[,1] = capFirst(as.character(erny_results[,1]))\n",
    "erny_results[,2] = as.character(erny_results[,2])\n",
    "erny_results[,3] = log2(erny_results[,3])\n",
    "erny_results[erny_results[,1] == \"1700001c19rik\",1] = \"1700001C19Rik\"\n",
    "erny_results[erny_results[,1] == \"Fam125a\",1] = \"Mvb12a\"\n",
    "erny_results[erny_results[,1] == \"Sepw1\",1] = \"Selenow\"\n",
    "erny_results[erny_results[,1] == \"Ppapdc3\",1] = \"Plpp7\"\n",
    "erny_results[erny_results[,1] == \"Ccdc101\",1] = \"Sgf29\"\n",
    "erny_results[erny_results[,1] == \"Tcfeb\",1] = \"Tfeb\"\n",
    "erny_results[erny_results[,1] == \"2810408m09rik\",1] = \"Trp53rka\"\n",
    "erny_results[erny_results[,1] == \"2300009a05rik\",1] = \"2300009A05Rik\"\n",
    "erny_results[erny_results[,1] == \"2900010m23rik\",1] = \"Uqcc2\"\n",
    "erny_results[erny_results[,1] == \"Ccdc55\",1] = \"Nsrp1\"\n",
    "erny_results[erny_results[,1] == \"Phf15\",1] = \"Jade2\"\n",
    "erny_results[erny_results[,1] == \"Mobkl2a\",1] = \"Mob3a\"\n",
    "erny_results[erny_results[,1] == \"C030046i01rik\",1] = \"R3hdm4\"\n",
    "erny_results[erny_results[,1] == \"H2-dmb1\",1] = \"H2-DMb1\"\n",
    "erny_results[erny_results[,1] == \"D15ertd621e\",1] = \"Fam91a1\"\n",
    "erny_results[erny_results[,1] == \"Bc030336\",1] = \"BC030336\"\n",
    "erny_results[erny_results[,1] == \"C330007p06rik\",1] = \"C330007P06Rik\"\n",
    "erny_results[erny_results[,1] == \"4931406h21rik\",1] = \"4931406H21Rik\"\n",
    "erny_results[erny_results[,1] == \"Gm13253\",1] = \"Rps15a-ps4\"\n",
    "erny_results[erny_results[,1] == \"Hiatl1\",1] = \"Mfsd14b\"\n",
    "erny_results[erny_results[,1] == \"Bc031353\",1] = \"Fam214a\"\n",
    "erny_results[erny_results[,1] == \"Cep110\",1] = \"Cntrl\"\n",
    "erny_results[erny_results[,1] == \"B130006d01rik\",1] = \"B130006D01Rik\"\n",
    "erny_results[erny_results[,1] == \"D6wsu163e\",1] = \"D6Wsu163e\"\n",
    "erny_results[erny_results[,1] == \"Fam82b\",1] = \"Rmdn1\"\n",
    "erny_results[erny_results[,1] == \"6030458c11rik\",1] = \"6030458C11Rik\"\n",
    "erny_results[erny_results[,1] == \"Smek2\",1] = \"Ppp4r3b\"\n",
    "erny_results[erny_results[,1] == \"9330151l19rik\",1] = \"9330151L19Rik\"\n",
    "erny_results[erny_results[,1] == \"2010015l04rik\",1] = \"Cfap74\"\n",
    "erny_results[erny_results[,1] == \"Ccdc46\",1] = \"Cep112\"\n",
    "erny_results[erny_results[,1] == \"4932438a13rik\",1] = \"4932438A13Rik\"\n",
    "erny_results[erny_results[,1] == \"B930003m22rik\",1] = \"Cahm\"\n",
    "erny_results[erny_results[,1] == \"4933406i18rik\",1] = \"4933406I18Rik\"\n",
    "erny_results[erny_results[,1] == \"4933434e20rik\",1] = \"4933434E20Rik\"\n",
    "erny_results[erny_results[,1] == \"Ccdc90a\",1] = \"Mcur1\"\n",
    "erny_results[erny_results[,1] == \"9930021j03rik\",1] = \"9930021J03Rik\"\n",
    "erny_results[erny_results[,1] == \"E030024n20rik\",1] = \"E030024N20Rik\"\n",
    "erny_results[erny_results[,1] == \"C78339\",1] = \"Fam8a1\"\n",
    "erny_results[erny_results[,1] == \"2700049a03rik\",1] = \"2700049A03Rik\"\n",
    "erny_results[erny_results[,1] == \"9530008l14rik\",1] = \"Adtrp\"\n",
    "erny_results[erny_results[,1] == \"4930578n16rik\",1] = \"Ccdc173\"\n",
    "erny_results[erny_results[,1] == \"Tmem22\",1] = \"Slc35g2\"\n",
    "erny_results[erny_results[,1] == \"Fert2\",1] = \"Fer\"\n",
    "erny_results[erny_results[,1] == \"D830031n03rik\",1] = \"D830031N03Rik\"\n",
    "erny_results[erny_results[,1] == \"A730069n07rik\",1] = \"Dlc1\"\n",
    "erny_results[erny_results[,1] == \"1700020d05rik\",1] = \"1700020D05Rik\"\n",
    "erny_results[erny_results[,1] == \"Nlrp1c\",1] = \"Nlrp1c-ps\"\n",
    "erny_results[erny_results[,1] == \"D3ertd751e\",1] = \"D3Ertd751e\""
   ]
  },
  {
   "cell_type": "code",
   "execution_count": null,
   "metadata": {
    "scrolled": false
   },
   "outputs": [],
   "source": [
    "head(erny_results)\n",
    "head(GF_SPF_F_8w_fc_deg)"
   ]
  },
  {
   "cell_type": "code",
   "execution_count": null,
   "metadata": {
    "scrolled": false
   },
   "outputs": [],
   "source": [
    "# Comparison btw our and Erny data: matrix with 2 columns (log2FC in our and in Erny data for each genes)\n",
    "GF_SPF_F_8w_comp = cbind(erny_results[,3], GF_SPF_F_8w_fc_deg[erny_results[,1]])\n",
    "colnames(GF_SPF_F_8w_comp) = c(\"erny\", \"our\")\n",
    "rownames(GF_SPF_F_8w_comp) = erny_results[,1]\n",
    "'%ni%' = Negate('%in%')\n",
    "non_genes = names(GF_SPF_F_8w_fc_deg) %ni% erny_results[,1]\n",
    "GF_SPF_F_8w_comp = rbind(GF_SPF_F_8w_comp, cbind(rep(NA, sum(non_genes)), sort(GF_SPF_F_8w_fc_deg[non_genes], decreasing = T)))\n",
    "GF_SPF_F_8w_comp[!is.na(GF_SPF_F_8w_comp[,1]) & !is.na(GF_SPF_F_8w_comp[,2]),]"
   ]
  },
  {
   "cell_type": "code",
   "execution_count": null,
   "metadata": {},
   "outputs": [],
   "source": [
    "pheatmap(GF_SPF_F_8w_comp, cluster_rows=F, cluster_cols=F, show_rownames=F, show_colnames=F, color=inferno(10))  "
   ]
  },
  {
   "cell_type": "markdown",
   "metadata": {},
   "source": [
    "## Detailed comparison\n",
    "\n",
    "- Checking the correlation between the counts of Erny and our counts\n",
    "- Re-running a DGE analysis on the Erny's raw counts"
   ]
  },
  {
   "cell_type": "code",
   "execution_count": null,
   "metadata": {},
   "outputs": [],
   "source": [
    "SPF_F_8w_samples = c('SPF_8w_F_1_2','SPF_8w_F_3_2','SPF_8w_F_4_2','SPF_8w_F_5_2')\n",
    "GF_F_8w_samples = c('GF_8w_F_1_2','GF_8w_F_2_2','GF_8w_F_3_2','GF_8w_F_4_2','GF_8w_F_5_2')\n",
    "SPF_8w_counts = counts[,SPF_F_8w_samples]\n",
    "GF_8w_counts = counts[,GF_F_8w_samples]"
   ]
  },
  {
   "cell_type": "code",
   "execution_count": null,
   "metadata": {},
   "outputs": [],
   "source": [
    "# Erny data: counts and try to correlate them with our counts\n",
    "erny_counts = read.csv(\"../data/erny_counts.csv\")\n",
    "erny_counts[,1] = capFirst(as.character(erny_counts[,1]))\n",
    "rownames(erny_counts) = erny_counts[,2]\n",
    "erny_counts = erny_counts[,c(1,4:17)]\n",
    "erny_counts[erny_counts[,1] == \"1700001c19rik\",1] = \"1700001C19Rik\"\n",
    "erny_counts[erny_counts[,1] == \"Fam125a\",1] = \"Mvb12a\"\n",
    "erny_counts[erny_counts[,1] == \"Sepw1\",1] = \"Selenow\"\n",
    "erny_counts[erny_counts[,1] == \"Ppapdc3\",1] = \"Plpp7\"\n",
    "erny_counts[erny_counts[,1] == \"Ccdc101\",1] = \"Sgf29\"\n",
    "erny_counts[erny_counts[,1] == \"Tcfeb\",1] = \"Tfeb\"\n",
    "erny_counts[erny_counts[,1] == \"2810408m09rik\",1] = \"Trp53rka\"\n",
    "erny_counts[erny_counts[,1] == \"2300009a05rik\",1] = \"2300009A05Rik\"\n",
    "erny_counts[erny_counts[,1] == \"2900010m23rik\",1] = \"Uqcc2\"\n",
    "erny_counts[erny_counts[,1] == \"Ccdc55\",1] = \"Nsrp1\"\n",
    "erny_counts[erny_counts[,1] == \"Phf15\",1] = \"Jade2\"\n",
    "erny_counts[erny_counts[,1] == \"Mobkl2a\",1] = \"Mob3a\"\n",
    "erny_counts[erny_counts[,1] == \"C030046i01rik\",1] = \"R3hdm4\"\n",
    "erny_counts[erny_counts[,1] == \"H2-dmb1\",1] = \"H2-DMb1\"\n",
    "erny_counts[erny_counts[,1] == \"D15ertd621e\",1] = \"Fam91a1\"\n",
    "erny_counts[erny_counts[,1] == \"Bc030336\",1] = \"BC030336\"\n",
    "erny_counts[erny_counts[,1] == \"C330007p06rik\",1] = \"C330007P06Rik\"\n",
    "erny_counts[erny_counts[,1] == \"4931406h21rik\",1] = \"4931406H21Rik\"\n",
    "erny_counts[erny_counts[,1] == \"Gm13253\",1] = \"Rps15a-ps4\"\n",
    "erny_counts[erny_counts[,1] == \"Hiatl1\",1] = \"Mfsd14b\"\n",
    "erny_counts[erny_counts[,1] == \"Bc031353\",1] = \"Fam214a\"\n",
    "erny_counts[erny_counts[,1] == \"Cep110\",1] = \"Cntrl\"\n",
    "erny_counts[erny_counts[,1] == \"B130006d01rik\",1] = \"B130006D01Rik\"\n",
    "erny_counts[erny_counts[,1] == \"D6wsu163e\",1] = \"D6Wsu163e\"\n",
    "erny_counts[erny_counts[,1] == \"Fam82b\",1] = \"Rmdn1\"\n",
    "erny_counts[erny_counts[,1] == \"6030458c11rik\",1] = \"6030458C11Rik\"\n",
    "erny_counts[erny_counts[,1] == \"Smek2\",1] = \"Ppp4r3b\"\n",
    "erny_counts[erny_counts[,1] == \"9330151l19rik\",1] = \"9330151L19Rik\"\n",
    "erny_counts[erny_counts[,1] == \"2010015l04rik\",1] = \"Cfap74\"\n",
    "erny_counts[erny_counts[,1] == \"Ccdc46\",1] = \"Cep112\"\n",
    "erny_counts[erny_counts[,1] == \"4932438a13rik\",1] = \"4932438A13Rik\"\n",
    "erny_counts[erny_counts[,1] == \"B930003m22rik\",1] = \"Cahm\"\n",
    "erny_counts[erny_counts[,1] == \"4933406i18rik\",1] = \"4933406I18Rik\"\n",
    "erny_counts[erny_counts[,1] == \"4933434e20rik\",1] = \"4933434E20Rik\"\n",
    "erny_counts[erny_counts[,1] == \"Ccdc90a\",1] = \"Mcur1\"\n",
    "erny_counts[erny_counts[,1] == \"9930021j03rik\",1] = \"9930021J03Rik\"\n",
    "erny_counts[erny_counts[,1] == \"E030024n20rik\",1] = \"E030024N20Rik\"\n",
    "erny_counts[erny_counts[,1] == \"C78339\",1] = \"Fam8a1\"\n",
    "erny_counts[erny_counts[,1] == \"2700049a03rik\",1] = \"2700049A03Rik\"\n",
    "erny_counts[erny_counts[,1] == \"9530008l14rik\",1] = \"Adtrp\"\n",
    "erny_counts[erny_counts[,1] == \"4930578n16rik\",1] = \"Ccdc173\"\n",
    "erny_counts[erny_counts[,1] == \"Tmem22\",1] = \"Slc35g2\"\n",
    "erny_counts[erny_counts[,1] == \"Fert2\",1] = \"Fer\"\n",
    "erny_counts[erny_counts[,1] == \"D830031n03rik\",1] = \"D830031N03Rik\"\n",
    "erny_counts[erny_counts[,1] == \"A730069n07rik\",1] = \"Dlc1\"\n",
    "erny_counts[erny_counts[,1] == \"1700020d05rik\",1] = \"1700020D05Rik\"\n",
    "erny_counts[erny_counts[,1] == \"Nlrp1c\",1] = \"Nlrp1c-ps\"\n",
    "erny_counts[erny_counts[,1] == \"D3ertd751e\",1] = \"D3Ertd751e\""
   ]
  },
  {
   "cell_type": "code",
   "execution_count": null,
   "metadata": {},
   "outputs": [],
   "source": [
    "# Extract counts comparable with our counts\n",
    "comparable = which(erny_counts[,1] %in% rownames(GF_8w_counts))\n",
    "erny_GF_counts = erny_counts[comparable,c(\"Symbols\",paste(\"GF_\", 1:5, sep=\"\"),paste(\"GF_\", 7:8, sep=\"\"))]\n",
    "erny_SPF_counts = erny_counts[comparable,c(\"Symbols\",paste(\"SPF_\", 1:4, sep=\"\"),paste(\"SPF_\", 6:8, sep=\"\"))]\n",
    "# Extract counts comparable with Erny's counts\n",
    "GF_F_8w_counts = GF_8w_counts[erny_GF_counts[,1],]\n",
    "SPF_F_8w_counts = SPF_8w_counts[erny_SPF_counts[,1],]\n",
    "# Check again the genes\n",
    "genes = which(erny_GF_counts[,1] == rownames(GF_F_8w_counts))\n",
    "erny_GF_counts = erny_GF_counts[genes,]\n",
    "erny_SPF_counts = erny_SPF_counts[genes,]\n",
    "GF_F_8w_counts = GF_F_8w_counts[genes,]\n",
    "SPF_F_8w_counts = SPF_F_8w_counts[genes,]\n",
    "sum(erny_SPF_counts[,1] != rownames(SPF_F_8w_counts))\n",
    "sum(erny_SPF_counts[,1] == rownames(SPF_F_8w_counts))\n",
    "# Compute correlation between the counts of Erny and ours\n",
    "sapply(1:dim(SPF_F_8w_counts)[2], function(y) return(sapply(2:dim(erny_SPF_counts)[2], function(x) cor.test(SPF_F_8w_counts[,y],erny_SPF_counts[,x])$estimate)))\n",
    "sapply(1:dim(GF_F_8w_counts)[2], function(y) return(sapply(2:dim(erny_GF_counts)[2], function(x) cor.test(GF_F_8w_counts[,y],erny_GF_counts[,x])$estimate)))\n",
    "sapply(1:dim(GF_F_8w_counts)[2], function(y) return(sapply(2:dim(erny_SPF_counts)[2], function(x) cor.test(GF_F_8w_counts[,y],erny_SPF_counts[,x])$estimate)))\n",
    "sapply(2:dim(erny_GF_counts)[2], function(y) return(sapply(2:dim(erny_SPF_counts)[2], function(x) cor.test(erny_GF_counts[,y],erny_SPF_counts[,x])$estimate)))\n",
    "sapply(1:dim(SPF_F_8w_counts)[2], function(y) return(sapply(2:dim(GF_F_8w_counts)[2], function(x) cor.test(SPF_F_8w_counts[,y],GF_F_8w_counts[,x])$estimate)))"
   ]
  },
  {
   "cell_type": "code",
   "execution_count": null,
   "metadata": {
    "scrolled": false
   },
   "outputs": [],
   "source": [
    "# Run a DGE expression on the Erny counts\n",
    "erny_dge_counts = erny_counts[,c(2:15)]\n",
    "head(erny_dge_counts)\n",
    "erny_metadata = matrix(c(rep(\"GF\",7),rep(\"SPF\",7)))\n",
    "colnames(erny_metadata) = c(\"type\")\n",
    "# Construct DESeqDataSet\n",
    "erny_dds = DESeqDataSetFromMatrix(\n",
    "        countData = erny_dge_counts,\n",
    "        colData = erny_metadata,\n",
    "        design = ~ type)\n",
    "# Organize levels of the factors (8w being the reference)\n",
    "erny_dds$type = relevel(erny_dds$type, ref=\"SPF\")\n",
    "# Differential expression analysis\n",
    "erny_dge = DESeq(erny_dds)"
   ]
  },
  {
   "cell_type": "code",
   "execution_count": null,
   "metadata": {
    "scrolled": false
   },
   "outputs": [],
   "source": [
    "# Extraction of DE genes\n",
    "erny_dge_res = results(erny_dge, alpha=0.05, test=\"Wald\")\n",
    "erny_sign_deg = erny_dge_res[which(erny_dge_res$padj < 0.05),]"
   ]
  },
  {
   "cell_type": "code",
   "execution_count": null,
   "metadata": {
    "scrolled": false
   },
   "outputs": [],
   "source": [
    "# Run a DGE expression on our counts with only the F 8w samples\n",
    "SPF_GF_8w_F_counts = cbind(GF_8w_counts, SPF_8w_counts)\n",
    "SPF_GF_8w_F_metadata = matrix(t(sapply(sapply(colnames(SPF_GF_8w_F_counts), strsplit, split = \"_\"), unlist))[,1])\n",
    "colnames(SPF_GF_8w_F_metadata) = c(\"type\")\n",
    "# Construct DESeqDataSet\n",
    "SPF_GF_8w_F_dds = DESeqDataSetFromMatrix(\n",
    "        countData = SPF_GF_8w_F_counts,\n",
    "        colData = SPF_GF_8w_F_metadata,\n",
    "        design = ~ type)\n",
    "# Organize levels of the factors\n",
    "SPF_GF_8w_F_dds$type = relevel(SPF_GF_8w_F_dds$type, ref=\"SPF\")\n",
    "# Differential expression analysis\n",
    "SPF_GF_8w_F_dge = DESeq(SPF_GF_8w_F_dds)"
   ]
  },
  {
   "cell_type": "code",
   "execution_count": null,
   "metadata": {
    "scrolled": true
   },
   "outputs": [],
   "source": [
    "# Extraction of the DE genes\n",
    "SPF_GF_8w_F_dge_res = results(SPF_GF_8w_F_dge, alpha=0.05, test=\"Wald\")\n",
    "SPF_GF_8w_F_sign_deg = SPF_GF_8w_F_dge_res[which(SPF_GF_8w_F_dge_res$padj < 0.05),]"
   ]
  },
  {
   "cell_type": "code",
   "execution_count": null,
   "metadata": {},
   "outputs": [],
   "source": [
    "SPF_GF_8w_F_comp = matrix(\"\", nrow=4,ncol=4)\n",
    "rownames(SPF_GF_8w_F_comp) = c(\"Original Erny results\", \"DESeq on Erny counts\", \"DESeq with only the 8w F\", \"Full DESeq\")\n",
    "colnames(SPF_GF_8w_F_comp) = rownames(SPF_GF_8w_F_comp)\n",
    "SPF_GF_8w_F_comp[1,1] = dim(erny_results)[1]\n",
    "SPF_GF_8w_F_comp[2,2] = dim(erny_sign_deg)[1]\n",
    "SPF_GF_8w_F_comp[3,3] = dim(SPF_GF_8w_F_sign_deg)[1]\n",
    "SPF_GF_8w_F_comp[4,4] = length(GF_SPF_F_8w_fc_deg)\n",
    "SPF_GF_8w_F_comp[1,2] = sum(rownames(erny_sign_deg) %in% erny_results[,2])\n",
    "SPF_GF_8w_F_comp[1,3] = sum(rownames(SPF_GF_8w_F_sign_deg) %in% erny_results[,1])\n",
    "SPF_GF_8w_F_comp[1,4] = sum(names(GF_SPF_F_8w_fc_deg) %in% erny_results[,1])\n",
    "erny_sign_deg_symbols = erny_counts[rownames(erny_sign_deg),1]\n",
    "SPF_GF_8w_F_comp[2,3] = sum(erny_sign_deg_symbols %in% rownames(SPF_GF_8w_F_sign_deg))\n",
    "SPF_GF_8w_F_comp[2,4] = sum(erny_sign_deg_symbols %in% names(GF_SPF_F_8w_fc_deg))\n",
    "SPF_GF_8w_F_comp[3,4] = sum(rownames(SPF_GF_8w_F_sign_deg) %in% names(GF_SPF_F_8w_fc_deg))\n",
    "SPF_GF_8w_F_comp\n",
    "#\n",
    "t1 = rownames(SPF_GF_8w_F_sign_deg[rownames(SPF_GF_8w_F_sign_deg) %in% erny_results[,1],])\n",
    "t2 = names(GF_SPF_F_8w_fc_deg[names(GF_SPF_F_8w_fc_deg) %in% erny_results[,1]])\n",
    "sum(t1 %in% t2)\n",
    "# \n",
    "t1 = rownames(SPF_GF_8w_F_sign_deg[rownames(SPF_GF_8w_F_sign_deg) %in% erny_sign_deg_symbols,])\n",
    "t2 = names(GF_SPF_F_8w_fc_deg[names(GF_SPF_F_8w_fc_deg) %in% erny_sign_deg_symbols])\n",
    "sum(t1 %in% t2)"
   ]
  },
  {
   "cell_type": "code",
   "execution_count": null,
   "metadata": {},
   "outputs": [],
   "source": []
  }
 ],
 "metadata": {
  "hide_input": false,
  "kernelspec": {
   "display_name": "R",
   "language": "R",
   "name": "ir"
  },
  "language_info": {
   "codemirror_mode": "r",
   "file_extension": ".r",
   "mimetype": "text/x-r-source",
   "name": "R",
   "pygments_lexer": "r",
   "version": "3.4.3"
  },
  "toc": {
   "nav_menu": {},
   "number_sections": true,
   "sideBar": true,
   "skip_h1_title": false,
   "title_cell": "Table of Contents",
   "title_sidebar": "Contents",
   "toc_cell": false,
   "toc_position": {},
   "toc_section_display": true,
   "toc_window_display": false
  }
 },
 "nbformat": 4,
 "nbformat_minor": 2
}
